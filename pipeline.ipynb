{
 "cells": [
  {
   "cell_type": "markdown",
   "metadata": {},
   "source": [
    "# Exome Pipeline"
   ]
  },
  {
   "cell_type": "code",
   "execution_count": 2,
   "metadata": {},
   "outputs": [],
   "source": [
    "import subprocess\n",
    "import os\n",
    "import sys\n",
    "from shlex import split\n",
    "\n",
    "from IPython.display import display, Markdown, Latex\n",
    "\n",
    "import numpy as np \n",
    "\n",
    "from ipywidgets import interact, interactive, fixed, interact_manual\n",
    "import ipywidgets as widgets\n",
    "import functools\n",
    "\n",
    "from interactPlots import *\n",
    "\n",
    "import yaml"
   ]
  },
  {
   "cell_type": "code",
   "execution_count": 3,
   "metadata": {},
   "outputs": [],
   "source": [
    "#Read options file\n",
    "\n",
    "with open(\"options.yaml\", 'r') as stream:\n",
    "    data = yaml.safe_load(stream)"
   ]
  },
  {
   "cell_type": "code",
   "execution_count": 4,
   "metadata": {},
   "outputs": [],
   "source": [
    "#Set environment variables\n",
    "\n",
    "os.environ[\"SENTIEON_INSTALL_DIR\"] = data['SENTIEON_INSTALL_DIR']\n",
    "os.environ[\"SENTIEON_LICENSE\"]= data['SENTIEON_LICENSE']\n",
    "os.environ[\"BCFTOOLS_PLUGINS\"]= data['bcfdir']"
   ]
  },
  {
   "cell_type": "code",
   "execution_count": 5,
   "metadata": {},
   "outputs": [],
   "source": [
    "#Set working directory\n",
    "\n",
    "data['home'] = os.getcwd()+\"/\"\n",
    "#data['workdir'] = \"/home/adefalco/\"+ \"/\" + data['batch'] + \"/\"\n",
    "data['workdir'] = data['home'] + data['batch'] + \"/\"\n",
    "\n",
    "if not os.path.isdir(data['workdir']): \n",
    "    os.mkdir(data['workdir']) \n",
    " \n",
    "data['SENTIEON_TMPDIR'] = data['workdir']+\"/$SAMPLE/tmpdir\""
   ]
  },
  {
   "cell_type": "markdown",
   "metadata": {},
   "source": [
    "## Batch"
   ]
  },
  {
   "cell_type": "code",
   "execution_count": 46,
   "metadata": {},
   "outputs": [
    {
     "data": {
      "text/html": [
       "<table>\n",
       "<thead>\n",
       "<tr><th>Sample      </th><th>Tumor  </th><th>Normal  </th></tr>\n",
       "</thead>\n",
       "<tbody>\n",
       "<tr><td>ABT414_Flank</td><td>A1783  </td><td>control </td></tr>\n",
       "<tr><td>ABT414_Flank</td><td>A9155  </td><td>control </td></tr>\n",
       "<tr><td>ABT414_Flank</td><td>A9878  </td><td>control </td></tr>\n",
       "<tr><td>ABT414_Flank</td><td>AT2550 </td><td>control </td></tr>\n",
       "<tr><td>ABT414_Flank</td><td>AT2822 </td><td>control </td></tr>\n",
       "<tr><td>ABT414_Flank</td><td>AT4415 </td><td>control </td></tr>\n",
       "<tr><td>ABT414_Flank</td><td>AT4808 </td><td>control </td></tr>\n",
       "<tr><td>ABT414_Flank</td><td>C0288  </td><td>control </td></tr>\n",
       "<tr><td>ABT414_Flank</td><td>C0334  </td><td>control </td></tr>\n",
       "<tr><td>ABT414_Flank</td><td>C1572  </td><td>control </td></tr>\n",
       "<tr><td>ABT414_Flank</td><td>C8448  </td><td>control </td></tr>\n",
       "</tbody>\n",
       "</table>"
      ],
      "text/plain": [
       "<IPython.core.display.HTML object>"
      ]
     },
     "execution_count": 46,
     "metadata": {},
     "output_type": "execute_result"
    }
   ],
   "source": [
    "#Read batch\n",
    "from IPython.display import HTML\n",
    "\n",
    "data['samplelist'] = data['home']+data['batch']+\".txt\"\n",
    "\n",
    "batch = []\n",
    "with open (data['samplelist'], 'r') as f:\n",
    "    for row in csv.reader(f,delimiter='\\t'):\n",
    "            batch.append(row)\n",
    "           \n",
    "batchSize = int(np.size(batch)/np.size(batch,1))        \n",
    "HTML(tabulate(batch, headers =[\"Sample\",\"Tumor\", \"Normal\"], tablefmt=\"html\"))"
   ]
  },
  {
   "cell_type": "code",
   "execution_count": 7,
   "metadata": {},
   "outputs": [],
   "source": [
    "%%capture\n",
    "#Dropdown widgets\n",
    "\n",
    "tumors = [row[1] for row in batch]\n",
    "\n",
    "widgTum = widgets.Dropdown(\n",
    "    options= tumors,\n",
    "    disabled=False,\n",
    ")  \n",
    "\n",
    "lists = tumors.copy()\n",
    "lists.append('ALL')\n",
    "\n",
    "widgTumAll = widgets.Dropdown(\n",
    "    options= lists,\n",
    "    value='ALL',\n",
    "    disabled=False,\n",
    ") \n",
    "\n",
    "normals = [row[0] for row in batch]\n",
    "#normals = [batch[0][0]]\n",
    "\n",
    "uniqNorm = np.unique(normals)\n",
    "\n",
    "#lists = normals.copy()\n",
    "#lists.append('ALL')\n",
    "\n",
    "widgNor = widgets.Dropdown(\n",
    "    options= uniqNorm,\n",
    "    #value='ALL',\n",
    "    disabled=False,\n",
    ")  \n"
   ]
  },
  {
   "cell_type": "code",
   "execution_count": 11,
   "metadata": {},
   "outputs": [],
   "source": [
    "os.chdir(data['workdir'])\n",
    "exec_scripts = False #Run shell scripts"
   ]
  },
  {
   "cell_type": "markdown",
   "metadata": {},
   "source": [
    "# 1a. Mapping reads with BWA-MEM, sorting for normal sample\n",
    "The results of this call are dependent on the number of threads used. To have number of threads independent results, add chunk size option -K 10000000"
   ]
  },
  {
   "cell_type": "code",
   "execution_count": 93,
   "metadata": {},
   "outputs": [
    {
     "data": {
      "text/markdown": [
       "### Normal: ABT414_Flank"
      ],
      "text/plain": [
       "<IPython.core.display.Markdown object>"
      ]
     },
     "metadata": {},
     "output_type": "display_data"
    },
    {
     "name": "stdout",
     "output_type": "stream",
     "text": [
      "(/storage/gluster/vol1/SHARED/NGSTOOLS/SENTIEON/sentieon-genomics-201911/bin/sentieon bwa mem -M -R '@RG\\tID:ABT414_FlankN\\tSM:ABT414_FlankN\\tPL:ILLUMINA' -t 80 -K 10000000 /storage/gluster/vol1/bcbio/genomes/Hsapiens/hg19/bwa/hg19.fa /storage/gluster/vol1/data/PUBLIC/SCAMBIO/ABT414/ABT414_G12_control/controlbam/XenomeData/*_human_1.fastq /storage/gluster/vol1/data/PUBLIC/SCAMBIO/ABT414/ABT414_G12_control/controlbam/XenomeData/*_human_2.fastq || echo -n error ) | /storage/gluster/vol1/SHARED/NGSTOOLS/SENTIEON/sentieon-genomics-201911/bin/sentieon util sort -o ABT414_FlankN_sorted.bam -t 80 --sam2bam -i -\n",
      "\n"
     ]
    }
   ],
   "source": [
    "ERROR = \"error\"\n",
    "for i in range(np.size(uniqNorm)):\n",
    "    SAMPLE = uniqNorm[i]\n",
    "    display(Markdown(\"### Normal: \" + SAMPLE))\n",
    "    \n",
    "    command = \"(\" + data['SENTIEON_INSTALL_DIR']+\"/bin/sentieon bwa mem -M -R '@RG\\\\tID:\"+SAMPLE+\"N\\\\tSM:\"+SAMPLE+\"N\\\\tPL:\"+data['platform']+\"' -t \"+str(data['nt'])+\" -K 10000000 \"+data['fasta']+\" \"+data['fastq_folder_NORMAL']+\"/*_\"+data['fastq_1_suffix']+\" \"+data['fastq_folder_NORMAL']+\"/*_\"+data['fastq_2_suffix']+\" || echo -n \"+ ERROR +\" ) | \"+data['SENTIEON_INSTALL_DIR']+\"/bin/sentieon util sort -o \"+SAMPLE+\"N_sorted.bam -t \"+str(data['nt'])+\" --sam2bam -i -\"\n",
    "    print(command+'\\n')\n",
    "    if exec_scripts:\n",
    "        subprocess.check_output(command, shell=True)"
   ]
  },
  {
   "cell_type": "markdown",
   "metadata": {},
   "source": [
    "# 1a. Mapping reads with BWA-MEM, sorting for tumor sample\n",
    "The results of this call are dependent on the number of threads used. To have number of threads independent results, add chunk size option -K 10000000"
   ]
  },
  {
   "cell_type": "code",
   "execution_count": 91,
   "metadata": {},
   "outputs": [
    {
     "data": {
      "text/markdown": [
       "### Tumor: A1783"
      ],
      "text/plain": [
       "<IPython.core.display.Markdown object>"
      ]
     },
     "metadata": {},
     "output_type": "display_data"
    },
    {
     "name": "stdout",
     "output_type": "stream",
     "text": [
      "(/storage/gluster/vol1/SHARED/NGSTOOLS/SENTIEON/sentieon-genomics-201911/bin/sentieon bwa mem -M -R '@RG\\tID:A1783T\\tSM:A1783T\\tPL:ILLUMINA' -t 80 -K 10000000 /storage/gluster/vol1/bcbio/genomes/Hsapiens/hg19/bwa/hg19.fa /storage/gluster/vol1/data/PUBLIC/SCAMBIO/ABT414/ABT414_Flank/WES/RawData/XenomeData/A1783/*_human_1.fastq /storage/gluster/vol1/data/PUBLIC/SCAMBIO/ABT414/ABT414_Flank/WES/RawData/XenomeData/A1783/*_human_2.fastq || echo -n error ) | /storage/gluster/vol1/SHARED/NGSTOOLS/SENTIEON/sentieon-genomics-201911/bin/sentieon util sort -o A1783T_sorted.bam -t 80 --sam2bam -i -\n",
      "\n"
     ]
    },
    {
     "data": {
      "text/markdown": [
       "### Tumor: A9155"
      ],
      "text/plain": [
       "<IPython.core.display.Markdown object>"
      ]
     },
     "metadata": {},
     "output_type": "display_data"
    },
    {
     "name": "stdout",
     "output_type": "stream",
     "text": [
      "(/storage/gluster/vol1/SHARED/NGSTOOLS/SENTIEON/sentieon-genomics-201911/bin/sentieon bwa mem -M -R '@RG\\tID:A9155T\\tSM:A9155T\\tPL:ILLUMINA' -t 80 -K 10000000 /storage/gluster/vol1/bcbio/genomes/Hsapiens/hg19/bwa/hg19.fa /storage/gluster/vol1/data/PUBLIC/SCAMBIO/ABT414/ABT414_Flank/WES/RawData/XenomeData/A9155/*_human_1.fastq /storage/gluster/vol1/data/PUBLIC/SCAMBIO/ABT414/ABT414_Flank/WES/RawData/XenomeData/A9155/*_human_2.fastq || echo -n error ) | /storage/gluster/vol1/SHARED/NGSTOOLS/SENTIEON/sentieon-genomics-201911/bin/sentieon util sort -o A9155T_sorted.bam -t 80 --sam2bam -i -\n",
      "\n"
     ]
    },
    {
     "data": {
      "text/markdown": [
       "### Tumor: A9878"
      ],
      "text/plain": [
       "<IPython.core.display.Markdown object>"
      ]
     },
     "metadata": {},
     "output_type": "display_data"
    },
    {
     "name": "stdout",
     "output_type": "stream",
     "text": [
      "(/storage/gluster/vol1/SHARED/NGSTOOLS/SENTIEON/sentieon-genomics-201911/bin/sentieon bwa mem -M -R '@RG\\tID:A9878T\\tSM:A9878T\\tPL:ILLUMINA' -t 80 -K 10000000 /storage/gluster/vol1/bcbio/genomes/Hsapiens/hg19/bwa/hg19.fa /storage/gluster/vol1/data/PUBLIC/SCAMBIO/ABT414/ABT414_Flank/WES/RawData/XenomeData/A9878/*_human_1.fastq /storage/gluster/vol1/data/PUBLIC/SCAMBIO/ABT414/ABT414_Flank/WES/RawData/XenomeData/A9878/*_human_2.fastq || echo -n error ) | /storage/gluster/vol1/SHARED/NGSTOOLS/SENTIEON/sentieon-genomics-201911/bin/sentieon util sort -o A9878T_sorted.bam -t 80 --sam2bam -i -\n",
      "\n"
     ]
    },
    {
     "data": {
      "text/markdown": [
       "### Tumor: AT2550"
      ],
      "text/plain": [
       "<IPython.core.display.Markdown object>"
      ]
     },
     "metadata": {},
     "output_type": "display_data"
    },
    {
     "name": "stdout",
     "output_type": "stream",
     "text": [
      "(/storage/gluster/vol1/SHARED/NGSTOOLS/SENTIEON/sentieon-genomics-201911/bin/sentieon bwa mem -M -R '@RG\\tID:AT2550T\\tSM:AT2550T\\tPL:ILLUMINA' -t 80 -K 10000000 /storage/gluster/vol1/bcbio/genomes/Hsapiens/hg19/bwa/hg19.fa /storage/gluster/vol1/data/PUBLIC/SCAMBIO/ABT414/ABT414_Flank/WES/RawData/XenomeData/AT2550/*_human_1.fastq /storage/gluster/vol1/data/PUBLIC/SCAMBIO/ABT414/ABT414_Flank/WES/RawData/XenomeData/AT2550/*_human_2.fastq || echo -n error ) | /storage/gluster/vol1/SHARED/NGSTOOLS/SENTIEON/sentieon-genomics-201911/bin/sentieon util sort -o AT2550T_sorted.bam -t 80 --sam2bam -i -\n",
      "\n"
     ]
    },
    {
     "data": {
      "text/markdown": [
       "### Tumor: AT2822"
      ],
      "text/plain": [
       "<IPython.core.display.Markdown object>"
      ]
     },
     "metadata": {},
     "output_type": "display_data"
    },
    {
     "name": "stdout",
     "output_type": "stream",
     "text": [
      "(/storage/gluster/vol1/SHARED/NGSTOOLS/SENTIEON/sentieon-genomics-201911/bin/sentieon bwa mem -M -R '@RG\\tID:AT2822T\\tSM:AT2822T\\tPL:ILLUMINA' -t 80 -K 10000000 /storage/gluster/vol1/bcbio/genomes/Hsapiens/hg19/bwa/hg19.fa /storage/gluster/vol1/data/PUBLIC/SCAMBIO/ABT414/ABT414_Flank/WES/RawData/XenomeData/AT2822/*_human_1.fastq /storage/gluster/vol1/data/PUBLIC/SCAMBIO/ABT414/ABT414_Flank/WES/RawData/XenomeData/AT2822/*_human_2.fastq || echo -n error ) | /storage/gluster/vol1/SHARED/NGSTOOLS/SENTIEON/sentieon-genomics-201911/bin/sentieon util sort -o AT2822T_sorted.bam -t 80 --sam2bam -i -\n",
      "\n"
     ]
    },
    {
     "data": {
      "text/markdown": [
       "### Tumor: AT4415"
      ],
      "text/plain": [
       "<IPython.core.display.Markdown object>"
      ]
     },
     "metadata": {},
     "output_type": "display_data"
    },
    {
     "name": "stdout",
     "output_type": "stream",
     "text": [
      "(/storage/gluster/vol1/SHARED/NGSTOOLS/SENTIEON/sentieon-genomics-201911/bin/sentieon bwa mem -M -R '@RG\\tID:AT4415T\\tSM:AT4415T\\tPL:ILLUMINA' -t 80 -K 10000000 /storage/gluster/vol1/bcbio/genomes/Hsapiens/hg19/bwa/hg19.fa /storage/gluster/vol1/data/PUBLIC/SCAMBIO/ABT414/ABT414_Flank/WES/RawData/XenomeData/AT4415/*_human_1.fastq /storage/gluster/vol1/data/PUBLIC/SCAMBIO/ABT414/ABT414_Flank/WES/RawData/XenomeData/AT4415/*_human_2.fastq || echo -n error ) | /storage/gluster/vol1/SHARED/NGSTOOLS/SENTIEON/sentieon-genomics-201911/bin/sentieon util sort -o AT4415T_sorted.bam -t 80 --sam2bam -i -\n",
      "\n"
     ]
    },
    {
     "data": {
      "text/markdown": [
       "### Tumor: AT4808"
      ],
      "text/plain": [
       "<IPython.core.display.Markdown object>"
      ]
     },
     "metadata": {},
     "output_type": "display_data"
    },
    {
     "name": "stdout",
     "output_type": "stream",
     "text": [
      "(/storage/gluster/vol1/SHARED/NGSTOOLS/SENTIEON/sentieon-genomics-201911/bin/sentieon bwa mem -M -R '@RG\\tID:AT4808T\\tSM:AT4808T\\tPL:ILLUMINA' -t 80 -K 10000000 /storage/gluster/vol1/bcbio/genomes/Hsapiens/hg19/bwa/hg19.fa /storage/gluster/vol1/data/PUBLIC/SCAMBIO/ABT414/ABT414_Flank/WES/RawData/XenomeData/AT4808/*_human_1.fastq /storage/gluster/vol1/data/PUBLIC/SCAMBIO/ABT414/ABT414_Flank/WES/RawData/XenomeData/AT4808/*_human_2.fastq || echo -n error ) | /storage/gluster/vol1/SHARED/NGSTOOLS/SENTIEON/sentieon-genomics-201911/bin/sentieon util sort -o AT4808T_sorted.bam -t 80 --sam2bam -i -\n",
      "\n"
     ]
    },
    {
     "data": {
      "text/markdown": [
       "### Tumor: C0288"
      ],
      "text/plain": [
       "<IPython.core.display.Markdown object>"
      ]
     },
     "metadata": {},
     "output_type": "display_data"
    },
    {
     "name": "stdout",
     "output_type": "stream",
     "text": [
      "(/storage/gluster/vol1/SHARED/NGSTOOLS/SENTIEON/sentieon-genomics-201911/bin/sentieon bwa mem -M -R '@RG\\tID:C0288T\\tSM:C0288T\\tPL:ILLUMINA' -t 80 -K 10000000 /storage/gluster/vol1/bcbio/genomes/Hsapiens/hg19/bwa/hg19.fa /storage/gluster/vol1/data/PUBLIC/SCAMBIO/ABT414/ABT414_Flank/WES/RawData/XenomeData/C0288/*_human_1.fastq /storage/gluster/vol1/data/PUBLIC/SCAMBIO/ABT414/ABT414_Flank/WES/RawData/XenomeData/C0288/*_human_2.fastq || echo -n error ) | /storage/gluster/vol1/SHARED/NGSTOOLS/SENTIEON/sentieon-genomics-201911/bin/sentieon util sort -o C0288T_sorted.bam -t 80 --sam2bam -i -\n",
      "\n"
     ]
    },
    {
     "data": {
      "text/markdown": [
       "### Tumor: C0334"
      ],
      "text/plain": [
       "<IPython.core.display.Markdown object>"
      ]
     },
     "metadata": {},
     "output_type": "display_data"
    },
    {
     "name": "stdout",
     "output_type": "stream",
     "text": [
      "(/storage/gluster/vol1/SHARED/NGSTOOLS/SENTIEON/sentieon-genomics-201911/bin/sentieon bwa mem -M -R '@RG\\tID:C0334T\\tSM:C0334T\\tPL:ILLUMINA' -t 80 -K 10000000 /storage/gluster/vol1/bcbio/genomes/Hsapiens/hg19/bwa/hg19.fa /storage/gluster/vol1/data/PUBLIC/SCAMBIO/ABT414/ABT414_Flank/WES/RawData/XenomeData/C0334/*_human_1.fastq /storage/gluster/vol1/data/PUBLIC/SCAMBIO/ABT414/ABT414_Flank/WES/RawData/XenomeData/C0334/*_human_2.fastq || echo -n error ) | /storage/gluster/vol1/SHARED/NGSTOOLS/SENTIEON/sentieon-genomics-201911/bin/sentieon util sort -o C0334T_sorted.bam -t 80 --sam2bam -i -\n",
      "\n"
     ]
    },
    {
     "data": {
      "text/markdown": [
       "### Tumor: C1572"
      ],
      "text/plain": [
       "<IPython.core.display.Markdown object>"
      ]
     },
     "metadata": {},
     "output_type": "display_data"
    },
    {
     "name": "stdout",
     "output_type": "stream",
     "text": [
      "(/storage/gluster/vol1/SHARED/NGSTOOLS/SENTIEON/sentieon-genomics-201911/bin/sentieon bwa mem -M -R '@RG\\tID:C1572T\\tSM:C1572T\\tPL:ILLUMINA' -t 80 -K 10000000 /storage/gluster/vol1/bcbio/genomes/Hsapiens/hg19/bwa/hg19.fa /storage/gluster/vol1/data/PUBLIC/SCAMBIO/ABT414/ABT414_Flank/WES/RawData/XenomeData/C1572/*_human_1.fastq /storage/gluster/vol1/data/PUBLIC/SCAMBIO/ABT414/ABT414_Flank/WES/RawData/XenomeData/C1572/*_human_2.fastq || echo -n error ) | /storage/gluster/vol1/SHARED/NGSTOOLS/SENTIEON/sentieon-genomics-201911/bin/sentieon util sort -o C1572T_sorted.bam -t 80 --sam2bam -i -\n",
      "\n"
     ]
    },
    {
     "data": {
      "text/markdown": [
       "### Tumor: C8448"
      ],
      "text/plain": [
       "<IPython.core.display.Markdown object>"
      ]
     },
     "metadata": {},
     "output_type": "display_data"
    },
    {
     "name": "stdout",
     "output_type": "stream",
     "text": [
      "(/storage/gluster/vol1/SHARED/NGSTOOLS/SENTIEON/sentieon-genomics-201911/bin/sentieon bwa mem -M -R '@RG\\tID:C8448T\\tSM:C8448T\\tPL:ILLUMINA' -t 80 -K 10000000 /storage/gluster/vol1/bcbio/genomes/Hsapiens/hg19/bwa/hg19.fa /storage/gluster/vol1/data/PUBLIC/SCAMBIO/ABT414/ABT414_Flank/WES/RawData/XenomeData/C8448/*_human_1.fastq /storage/gluster/vol1/data/PUBLIC/SCAMBIO/ABT414/ABT414_Flank/WES/RawData/XenomeData/C8448/*_human_2.fastq || echo -n error ) | /storage/gluster/vol1/SHARED/NGSTOOLS/SENTIEON/sentieon-genomics-201911/bin/sentieon util sort -o C8448T_sorted.bam -t 80 --sam2bam -i -\n",
      "\n"
     ]
    }
   ],
   "source": [
    "for i in range(batchSize):\n",
    "    TUMOR = batch[i][1]\n",
    "    display(Markdown(\"### Tumor: \"+TUMOR))\n",
    "    command = \"(\" + data['SENTIEON_INSTALL_DIR']+\"/bin/sentieon bwa mem -M -R '@RG\\\\tID:\"+TUMOR+\"T\\\\tSM:\"+TUMOR+\"T\\\\tPL:\"+data['platform']+\"' -t \"+str(data['nt'])+\" -K 10000000 \"+data['fasta']+\" \"+data['fastq_folder']+\"/\"+TUMOR+\"/*_\"+data['fastq_1_suffix']+\" \"+data['fastq_folder']+\"/\"+TUMOR+\"/*_\"+data['fastq_2_suffix']+\" || echo -n \"+ ERROR +\" ) | \"+data['SENTIEON_INSTALL_DIR']+\"/bin/sentieon util sort -o \"+TUMOR+\"T_sorted.bam -t \"+str(data['nt'])+\" --sam2bam -i -\"\n",
    "    print(command+'\\n')\n",
    "    if exec_scripts:\n",
    "        subprocess.check_output(command, shell=True)"
   ]
  },
  {
   "cell_type": "markdown",
   "metadata": {},
   "source": [
    "# 2a. Metrics for normal sample"
   ]
  },
  {
   "cell_type": "code",
   "execution_count": 21,
   "metadata": {},
   "outputs": [
    {
     "name": "stdout",
     "output_type": "stream",
     "text": [
      "/storage/gluster/vol1/SHARED/NGSTOOLS/SENTIEON/sentieon-genomics-201911/bin/sentieon driver -r /storage/gluster/vol1/bcbio/genomes/Hsapiens/hg19/bwa/hg19.fa -t 80 -i ABT414_FlankN_sorted.bam --algo MeanQualityByCycle ABT414_FlankN_mq_metrics.txt --algo QualDistribution ABT414_FlankN_qd_metrics.txt --algo GCBias --summary ABT414_FlankN_gc_summary.txt ABT414_FlankN_gc_metrics.txt --algo AlignmentStat --adapter_seq '' ABT414_FlankN_aln_metrics.txt --algo InsertSizeMetricAlgo ABT414_FlankN_is_metrics.txt\n",
      "\n"
     ]
    }
   ],
   "source": [
    "for i in range(np.size(uniqNorm)):\n",
    "    SAMPLE = uniqNorm[i]\n",
    "    display(Markdown(\"### Normal: \" + SAMPLE))\n",
    "    command1 = data['SENTIEON_INSTALL_DIR']+\"/bin/sentieon driver -r \"+data['fasta']+\" -t \"+str(data['nt'])+\" -i \"+SAMPLE+\"N_sorted.bam --algo MeanQualityByCycle \"+SAMPLE+\"N_mq_metrics.txt --algo QualDistribution \"+SAMPLE+\"N_qd_metrics.txt --algo GCBias --summary \"+SAMPLE+\"N_gc_summary.txt \"+SAMPLE+\"N_gc_metrics.txt --algo AlignmentStat --adapter_seq '' \"+SAMPLE+\"N_aln_metrics.txt --algo InsertSizeMetricAlgo \"+SAMPLE+\"N_is_metrics.txt\"\n",
    "    print(command1+'\\n')\n",
    "    if exec_scripts:\n",
    "        subprocess.check_output(command1,shell=True)\n"
   ]
  },
  {
   "cell_type": "code",
   "execution_count": 9,
   "metadata": {},
   "outputs": [],
   "source": [
    "%%capture\n",
    "\"\"\"from __future__ import print_function\n",
    "from ipywidgets import interact, interactive, fixed, interact_manual\n",
    "import ipywidgets as widgets\n",
    "import functools\n",
    "from interactPlots import *\n",
    "\n",
    "inter = interact(tableShow, Sample=widgNor, file=fixed(\"_N_aln_metrics.txt\"), cols = fixed([0,1,2,5,6]), listSample = fixed([]));\n",
    "display(inter)\"\"\""
   ]
  },
  {
   "cell_type": "code",
   "execution_count": 36,
   "metadata": {},
   "outputs": [
    {
     "data": {
      "text/html": [
       "\n",
       "\n",
       "<script type=\"text/Javascript\">\n",
       "\n",
       "function myTable(idd, jsonObj) {\n",
       "\n",
       "  var x = document.getElementById(\"selectSample\"+idd).value;\n",
       "  document.getElementById(\"myText\"+idd).innerHTML = x;\n",
       "  \n",
       "  var table = document.getElementById(\"myTable\"+idd);\n",
       "\n",
       "  while(table.rows[0]) table.deleteRow(0);\n",
       "\n",
       "\n",
       " \n",
       "\n",
       "  i = 0;\n",
       "  \n",
       "  var jsonObj2 = jsonObj[x];\n",
       "  \n",
       "  console.log(jsonObj2)\n",
       "  \n",
       "  Object.keys(jsonObj2).forEach(function(k){\n",
       "  \n",
       "    var row = table.insertRow(i);\n",
       "    i = i+1;\n",
       "    var cell1 = row.insertCell(0);\n",
       "    var cell2 = row.insertCell(1);\n",
       "    var cell3 = row.insertCell(2);\n",
       "    var cell4 = row.insertCell(3);\n",
       "    cell1.innerHTML = k;\n",
       "    cell2.innerHTML = jsonObj2[k].TOTAL_READS;\n",
       "    cell3.innerHTML = jsonObj2[k].PF_READS_ALIGNED;\n",
       "    cell4.innerHTML = jsonObj2[k].PCT_PF_READS_ALIGNED;\n",
       "    \n",
       "  }); \n",
       "  \n",
       "     var header = table.createTHead();\n",
       "    var row = header.insertRow(0);     \n",
       "    var cell1 = row.insertCell(0);\n",
       "    var cell2 = row.insertCell(1);\n",
       "    var cell3 = row.insertCell(2);\n",
       "    var cell4 = row.insertCell(3);\n",
       "    cell1.innerHTML = \"CATEGORY\";\n",
       "    cell2.innerHTML = \"TOTAL_READS\";\n",
       "    cell3.innerHTML = \"PF_READS_ALIGNED\";\n",
       "    cell4.innerHTML = \"PCT_PF_READS_ALIGNED\";\n",
       "}\n",
       "\n",
       "function myDropdown(sel,opts) {\n",
       "    for(var i = 0; i < opts.length; i++) {\n",
       "        var opt = opts[i];\n",
       "        var el = document.createElement(\"option\");\n",
       "        el.textContent = opt;\n",
       "        el.value = opt;\n",
       "        if (i < 1) {\n",
       "            el.selected = \"true\";\n",
       "        }\n",
       "        sel.appendChild(el);\n",
       "    }\n",
       "}\n",
       "\n",
       "function myPlots(type,idd) {\n",
       "  var x = document.getElementById(\"selectSample\"+idd).value;\n",
       "  document.getElementById(\"myText\"+idd).innerHTML = x;\n",
       "  document.getElementById(\"pdf\"+idd).src = x+type;\n",
       "}\n",
       "\n",
       "</script>\n",
       "\n"
      ],
      "text/plain": [
       "<IPython.core.display.HTML object>"
      ]
     },
     "execution_count": 36,
     "metadata": {},
     "output_type": "execute_result"
    }
   ],
   "source": [
    "\n",
    "\n",
    "javascript = \"\"\"\n",
    "\n",
    "<script type=\"text/Javascript\">\n",
    "\n",
    "function myTable(idd, jsonObj) {\n",
    "\n",
    "  var x = document.getElementById(\"selectSample\"+idd).value;\n",
    "  document.getElementById(\"myText\"+idd).innerHTML = x;\n",
    "  \n",
    "  var table = document.getElementById(\"myTable\"+idd);\n",
    "\n",
    "  while(table.rows[0]) table.deleteRow(0);\n",
    "\n",
    "  i = 0;\n",
    "  \n",
    "  var jsonObj2 = jsonObj[x];\n",
    "  \n",
    "  console.log(jsonObj2)\n",
    "  \n",
    "  Object.keys(jsonObj2).forEach(function(k){\n",
    "  \n",
    "    var row = table.insertRow(i);\n",
    "    i = i+1;\n",
    "    var cell1 = row.insertCell(0);\n",
    "    var cell2 = row.insertCell(1);\n",
    "    var cell3 = row.insertCell(2);\n",
    "    var cell4 = row.insertCell(3);\n",
    "    cell1.innerHTML = k;\n",
    "    cell2.innerHTML = jsonObj2[k].TOTAL_READS;\n",
    "    cell3.innerHTML = jsonObj2[k].PF_READS_ALIGNED;\n",
    "    cell4.innerHTML = jsonObj2[k].PCT_PF_READS_ALIGNED;\n",
    "    \n",
    "  }); \n",
    "  \n",
    "     var header = table.createTHead();\n",
    "    var row = header.insertRow(0);     \n",
    "    var cell1 = row.insertCell(0);\n",
    "    var cell2 = row.insertCell(1);\n",
    "    var cell3 = row.insertCell(2);\n",
    "    var cell4 = row.insertCell(3);\n",
    "    cell1.innerHTML = \"CATEGORY\";\n",
    "    cell2.innerHTML = \"TOTAL_READS\";\n",
    "    cell3.innerHTML = \"PF_READS_ALIGNED\";\n",
    "    cell4.innerHTML = \"PCT_PF_READS_ALIGNED\";\n",
    "}\n",
    "\n",
    "function myDropdown(sel,opts) {\n",
    "    for(var i = 0; i < opts.length; i++) {\n",
    "        var opt = opts[i];\n",
    "        var el = document.createElement(\"option\");\n",
    "        el.textContent = opt;\n",
    "        el.value = opt;\n",
    "        if (i < 1) {\n",
    "            el.selected = \"true\";\n",
    "        }\n",
    "        sel.appendChild(el);\n",
    "    }\n",
    "}\n",
    "\n",
    "function myPlots(type,idd) {\n",
    "  var x = document.getElementById(\"selectSample\"+idd).value;\n",
    "  document.getElementById(\"myText\"+idd).innerHTML = x;\n",
    "  document.getElementById(\"pdf\"+idd).src = x+type;\n",
    "}\n",
    "\n",
    "</script>\n",
    "\n",
    "\"\"\"\n",
    "\n",
    "HTML(javascript)"
   ]
  },
  {
   "cell_type": "code",
   "execution_count": 37,
   "metadata": {},
   "outputs": [
    {
     "data": {
      "text/html": [
       "\n",
       "\n",
       "\n",
       "<head>\n",
       "\n",
       "<style>\n",
       "table, td {\n",
       "  border: 1px solid black;\n",
       "  font-size: 18px;\n",
       "}\n",
       "</style>\n",
       "\n",
       "</head>\n",
       "\n",
       "\n",
       "<select id='selectSample1'>  </select>\n",
       "\n",
       "<h1>The sample is:  <span id=\"myText1\"></span></h1>\n",
       "\n",
       "<body>\n",
       "<table id=\"myTable1\"></table>\n",
       "<br>\n",
       "\n",
       "<script type=\"text/Javascript\">\n",
       "\n",
       "var select = document.getElementById(\"selectSample1\");\n",
       "\n",
       "var objNorm = JSON.parse('{\"ABT414_Flank\": {\"FIRST_OF_PAIR\": {\"CATEGORY\": \"FIRST_OF_PAIR\", \"TOTAL_READS\": \"90485396\", \"PF_READS\": \"90485396\", \"PCT_PF_READS\": \"1.000000\", \"PF_NOISE_READS\": \"0\", \"PF_READS_ALIGNED\": \"90475574\", \"PCT_PF_READS_ALIGNED\": \"0.999891\", \"PF_ALIGNED_BASES\": \"9005947576\", \"PF_HQ_ALIGNED_READS\": \"87323523\", \"PF_HQ_ALIGNED_BASES\": \"8697268760\", \"PF_HQ_ALIGNED_Q20_BASES\": \"8564194219\", \"PF_HQ_MEDIAN_MISMATCHES\": \"0.000000\", \"PF_MISMATCH_RATE\": \"0.002097\", \"PF_HQ_ERROR_RATE\": \"0.002011\", \"PF_INDEL_RATE\": \"0.000087\", \"MEAN_READ_LENGTH\": \"100.000000\", \"READS_ALIGNED_IN_PAIRS\": \"90250050\", \"PCT_READS_ALIGNED_IN_PAIRS\": \"0.997507\", \"BAD_CYCLES\": \"0\", \"STRAND_BALANCE\": \"0.360501\", \"PCT_CHIMERAS\": \"0.011836\", \"PCT_ADAPTER\": \"0.000000\", \"\": \"\"}, \"SECOND_OF_PAIR\": {\"CATEGORY\": \"SECOND_OF_PAIR\", \"TOTAL_READS\": \"90485396\", \"PF_READS\": \"90485396\", \"PCT_PF_READS\": \"1.000000\", \"PF_NOISE_READS\": \"0\", \"PF_READS_ALIGNED\": \"90256960\", \"PCT_PF_READS_ALIGNED\": \"0.997475\", \"PF_ALIGNED_BASES\": \"8950182133\", \"PF_HQ_ALIGNED_READS\": \"87034575\", \"PF_HQ_ALIGNED_BASES\": \"8639322477\", \"PF_HQ_ALIGNED_Q20_BASES\": \"8319323186\", \"PF_HQ_MEDIAN_MISMATCHES\": \"0.000000\", \"PF_MISMATCH_RATE\": \"0.004044\", \"PF_HQ_ERROR_RATE\": \"0.003927\", \"PF_INDEL_RATE\": \"0.000081\", \"MEAN_READ_LENGTH\": \"100.000000\", \"READS_ALIGNED_IN_PAIRS\": \"90250050\", \"PCT_READS_ALIGNED_IN_PAIRS\": \"0.999923\", \"BAD_CYCLES\": \"0\", \"STRAND_BALANCE\": \"0.639417\", \"PCT_CHIMERAS\": \"0.012452\", \"PCT_ADAPTER\": \"0.000000\", \"\": \"\"}, \"PAIR\": {\"CATEGORY\": \"PAIR\", \"TOTAL_READS\": \"180970792\", \"PF_READS\": \"180970792\", \"PCT_PF_READS\": \"1.000000\", \"PF_NOISE_READS\": \"0\", \"PF_READS_ALIGNED\": \"180732534\", \"PCT_PF_READS_ALIGNED\": \"0.998683\", \"PF_ALIGNED_BASES\": \"17956129709\", \"PF_HQ_ALIGNED_READS\": \"174358098\", \"PF_HQ_ALIGNED_BASES\": \"17336591237\", \"PF_HQ_ALIGNED_Q20_BASES\": \"16883517405\", \"PF_HQ_MEDIAN_MISMATCHES\": \"0.000000\", \"PF_MISMATCH_RATE\": \"0.003067\", \"PF_HQ_ERROR_RATE\": \"0.002966\", \"PF_INDEL_RATE\": \"0.000084\", \"MEAN_READ_LENGTH\": \"100.000000\", \"READS_ALIGNED_IN_PAIRS\": \"180500100\", \"PCT_READS_ALIGNED_IN_PAIRS\": \"0.998714\", \"BAD_CYCLES\": \"0\", \"STRAND_BALANCE\": \"0.499790\", \"PCT_CHIMERAS\": \"0.012144\", \"PCT_ADAPTER\": \"0.000000\", \"\": \"\"}}}');\n",
       "\n",
       "myDropdown(select,Object.keys(objNorm)) \n",
       "\n",
       "document.getElementById(\"selectSample1\").onchange = function() {myTable(1,objNorm)};\n",
       "\n",
       "myTable(1,objNorm)\n",
       "\n",
       "</script>\n",
       "</body>\n"
      ],
      "text/plain": [
       "<IPython.core.display.HTML object>"
      ]
     },
     "execution_count": 37,
     "metadata": {},
     "output_type": "execute_result"
    }
   ],
   "source": [
    "path = \"/storage/gluster/vol1/data/PUBLIC/SCAMBIO/ABT414_WES_Analysis/ABT414_Flank/ABT414_Flank/\"\n",
    "Sample = normals[0] #\"ABT414_Flank\"\n",
    "file = \"_N_aln_metrics.txt\"\n",
    "\n",
    "alldata = {}\n",
    "\n",
    "for i in range(np.size(uniqNorm)):\n",
    "    csvFilePath = path+uniqNorm[i]+file\n",
    "    jsonfile = make_json(csvFilePath,uniqNorm[i],alldata)\n",
    "\n",
    "#print(jsonfile)\n",
    "\n",
    "id = 0\n",
    "id = id +1\n",
    "\n",
    "javascript = \"\"\"\n",
    "\n",
    "\n",
    "<head>\n",
    "\n",
    "<style>\n",
    "table, td {\n",
    "  border: 1px solid black;\n",
    "  font-size: 18px;\n",
    "}\n",
    "</style>\n",
    "\n",
    "</head>\n",
    "\n",
    "\n",
    "<select id='selectSample\"\"\"+str(id)+\"\"\"'>  </select>\n",
    "\n",
    "<h1>The sample is:  <span id=\"myText\"\"\"+str(id)+\"\"\"\"></span></h1>\n",
    "\n",
    "<body>\n",
    "<table id=\"myTable\"\"\"+str(id)+\"\"\"\"></table>\n",
    "<br>\n",
    "\n",
    "<script type=\"text/Javascript\">\n",
    "\n",
    "var select = document.getElementById(\"selectSample\"\"\"+str(id)+\"\"\"\");\n",
    "\n",
    "var objNorm = JSON.parse('\"\"\"+jsonfile+\"\"\"');\n",
    "\n",
    "myDropdown(select,Object.keys(objNorm)) \n",
    "\n",
    "document.getElementById(\"selectSample\"\"\"+str(id)+\"\"\"\").onchange = function() {myTable(\"\"\"+str(id)+\"\"\",objNorm)};\n",
    "\n",
    "myTable(\"\"\"+str(id)+\"\"\",objNorm)\n",
    "\n",
    "</script>\n",
    "</body>\n",
    "\"\"\"\n",
    "\n",
    "HTML(javascript)"
   ]
  },
  {
   "cell_type": "markdown",
   "metadata": {},
   "source": [
    "- **CATEGORY**: Distinguishes either \n",
    "    - PAIRED: for a fragment run.\n",
    "    - FIRST_OF_PAIR: when metrics are for only the first read in a paired run. \n",
    "    - SECOND_OF_PAIR: when metrics are for only the second read in a paired run.\n",
    "    - PAIR: when metrics are aggregated for both first and second reads in a pair. \n",
    "\n",
    "\n",
    "- **TOTAL_READS**: The total number of reads \n",
    "\n",
    "- **PF_READS_ALIGNED**: The number of reads that aligned to the reference sequence\n",
    "\n",
    "- **PCT_PF_READS_ALIGNED**: The percentage of reads that aligned to the reference sequence"
   ]
  },
  {
   "cell_type": "code",
   "execution_count": 31,
   "metadata": {},
   "outputs": [
    {
     "data": {
      "text/markdown": [
       "___"
      ],
      "text/plain": [
       "<IPython.core.display.Markdown object>"
      ]
     },
     "metadata": {},
     "output_type": "display_data"
    },
    {
     "data": {
      "text/markdown": [
       "### Normal: ABT414_Flank"
      ],
      "text/plain": [
       "<IPython.core.display.Markdown object>"
      ]
     },
     "metadata": {},
     "output_type": "display_data"
    },
    {
     "name": "stdout",
     "output_type": "stream",
     "text": [
      "/storage/gluster/vol1/SHARED/NGSTOOLS/SENTIEON/sentieon-genomics-201911/bin/sentieon plot GCBias -o ABT414_FlankN_gc-report.pdf ABT414_FlankN_gc_metrics.txt\n",
      "\n"
     ]
    },
    {
     "ename": "NameError",
     "evalue": "name 'exec_scripts' is not defined",
     "output_type": "error",
     "traceback": [
      "\u001b[0;31m---------------------------------------------------------------------------\u001b[0m",
      "\u001b[0;31mNameError\u001b[0m                                 Traceback (most recent call last)",
      "\u001b[0;32m<ipython-input-31-f2d96c84ce63>\u001b[0m in \u001b[0;36m<module>\u001b[0;34m\u001b[0m\n\u001b[1;32m      5\u001b[0m     \u001b[0mcommand2\u001b[0m \u001b[0;34m=\u001b[0m \u001b[0mdata\u001b[0m\u001b[0;34m[\u001b[0m\u001b[0;34m'SENTIEON_INSTALL_DIR'\u001b[0m\u001b[0;34m]\u001b[0m\u001b[0;34m+\u001b[0m\u001b[0;34m\"/bin/sentieon plot GCBias -o \"\u001b[0m\u001b[0;34m+\u001b[0m\u001b[0mSAMPLE\u001b[0m\u001b[0;34m+\u001b[0m\u001b[0;34m\"N_gc-report.pdf \"\u001b[0m\u001b[0;34m+\u001b[0m\u001b[0mSAMPLE\u001b[0m\u001b[0;34m+\u001b[0m\u001b[0;34m\"N_gc_metrics.txt\"\u001b[0m\u001b[0;34m\u001b[0m\u001b[0m\n\u001b[1;32m      6\u001b[0m     \u001b[0mprint\u001b[0m\u001b[0;34m(\u001b[0m\u001b[0mcommand2\u001b[0m\u001b[0;34m+\u001b[0m\u001b[0;34m'\\n'\u001b[0m\u001b[0;34m)\u001b[0m\u001b[0;34m\u001b[0m\u001b[0m\n\u001b[0;32m----> 7\u001b[0;31m     \u001b[0;32mif\u001b[0m \u001b[0mexec_scripts\u001b[0m\u001b[0;34m:\u001b[0m\u001b[0;34m\u001b[0m\u001b[0m\n\u001b[0m\u001b[1;32m      8\u001b[0m         \u001b[0msubprocess\u001b[0m\u001b[0;34m.\u001b[0m\u001b[0mcheck_output\u001b[0m\u001b[0;34m(\u001b[0m\u001b[0mcommand2\u001b[0m\u001b[0;34m,\u001b[0m\u001b[0mshell\u001b[0m\u001b[0;34m=\u001b[0m\u001b[0;32mTrue\u001b[0m\u001b[0;34m)\u001b[0m\u001b[0;34m\u001b[0m\u001b[0m\n",
      "\u001b[0;31mNameError\u001b[0m: name 'exec_scripts' is not defined"
     ]
    }
   ],
   "source": [
    "display(Markdown(\"___\"))\n",
    "for i in range(np.size(uniqNorm)):\n",
    "    SAMPLE = uniqNorm[i]\n",
    "    display(Markdown(\"### Normal: \" + SAMPLE))\n",
    "    command2 = data['SENTIEON_INSTALL_DIR']+\"/bin/sentieon plot GCBias -o \"+SAMPLE+\"N_gc-report.pdf \"+SAMPLE+\"N_gc_metrics.txt\"\n",
    "    print(command2+'\\n')\n",
    "    if exec_scripts:        \n",
    "        subprocess.check_output(command2,shell=True)"
   ]
  },
  {
   "cell_type": "code",
   "execution_count": 1,
   "metadata": {},
   "outputs": [
    {
     "ename": "TypeError",
     "evalue": "unsupported operand type(s) for +: 'builtin_function_or_method' and 'int'",
     "output_type": "error",
     "traceback": [
      "\u001b[0;31m---------------------------------------------------------------------------\u001b[0m",
      "\u001b[0;31mTypeError\u001b[0m                                 Traceback (most recent call last)",
      "\u001b[0;32m<ipython-input-1-f93b26c787f3>\u001b[0m in \u001b[0;36m<module>\u001b[0;34m\u001b[0m\n\u001b[1;32m      4\u001b[0m \u001b[0;34m\u001b[0m\u001b[0m\n\u001b[1;32m      5\u001b[0m \u001b[0;34m\u001b[0m\u001b[0m\n\u001b[0;32m----> 6\u001b[0;31m \u001b[0mid\u001b[0m \u001b[0;34m=\u001b[0m \u001b[0mid\u001b[0m \u001b[0;34m+\u001b[0m\u001b[0;36m1\u001b[0m\u001b[0;34m\u001b[0m\u001b[0m\n\u001b[0m\u001b[1;32m      7\u001b[0m \u001b[0;34m\u001b[0m\u001b[0m\n\u001b[1;32m      8\u001b[0m input_form = \"\"\"\n",
      "\u001b[0;31mTypeError\u001b[0m: unsupported operand type(s) for +: 'builtin_function_or_method' and 'int'"
     ]
    }
   ],
   "source": [
    "#interact(plots, Sample=widgNor, file=fixed(\"_N_gc-report.pdf\"), normal=fixed(True), listSample = fixed([]));\n",
    "#embed_minimal_html('export.html', views=test, title='Widgets export')\n",
    "\n",
    "\n",
    "\n",
    "id = id +1\n",
    "\n",
    "input_form = \"\"\"\n",
    "\n",
    "<select id='selectSample\"\"\"+str(id)+\"\"\"'>  </select>\n",
    "\n",
    "<body onload=\"myPlots()\">\n",
    "\n",
    "<h1>The sample is:  <span id=\"myText\"\"\"+str(id)+\"\"\"\"></span></h1>\n",
    "\n",
    "<div>\n",
    "  <iframe id=\"pdf\"\"\"+str(id)+\"\"\"\" src=\"\" style=\"width:100%;height:700px;\"></iframe>\n",
    "</div>\n",
    "\n",
    "\n",
    "</body>\n",
    "\n",
    "\"\"\"\n",
    "\n",
    "javascript = \"\"\"\n",
    "\n",
    "<script type=\"text/Javascript\">\n",
    "\n",
    "var select = document.getElementById(\"selectSample\"\"\"+str(id)+\"\"\"\");\n",
    "\n",
    "myDropdown(select,Object.keys(objNorm)) \n",
    "\n",
    "var type\"\"\"+str(id)+\"\"\" = \"_N_gc-report.pdf\"\n",
    "\n",
    "myPlots(type\"\"\"+str(id)+\"\"\",\"\"\"+str(id)+\"\"\")\n",
    "\n",
    "document.getElementById(\"selectSample\"\"\"+str(id)+\"\"\"\").onchange = function() {myPlots(type\"\"\"+str(id)+\"\"\",\"\"\"+str(id)+\"\"\")};\n",
    "\n",
    "</script>\n",
    "\"\"\"\n",
    "\n",
    "HTML(input_form + javascript)\n"
   ]
  },
  {
   "cell_type": "code",
   "execution_count": 95,
   "metadata": {},
   "outputs": [
    {
     "data": {
      "text/markdown": [
       "___"
      ],
      "text/plain": [
       "<IPython.core.display.Markdown object>"
      ]
     },
     "metadata": {},
     "output_type": "display_data"
    },
    {
     "data": {
      "text/markdown": [
       "### Normal: ABT414_Flank"
      ],
      "text/plain": [
       "<IPython.core.display.Markdown object>"
      ]
     },
     "metadata": {},
     "output_type": "display_data"
    },
    {
     "name": "stdout",
     "output_type": "stream",
     "text": [
      "/storage/gluster/vol1/SHARED/NGSTOOLS/SENTIEON/sentieon-genomics-201911/bin/sentieon plot QualDistribution -o ABT414_FlankN_qd-report.pdf ABT414_FlankN_qd_metrics.txt\n",
      "\n"
     ]
    }
   ],
   "source": [
    "display(Markdown(\"___\"))\n",
    "for i in range(np.size(uniqNorm)):\n",
    "    SAMPLE = uniqNorm[i]\n",
    "    display(Markdown(\"### Normal: \" + SAMPLE))\n",
    "    command3 = data['SENTIEON_INSTALL_DIR']+\"/bin/sentieon plot QualDistribution -o \"+SAMPLE+\"N_qd-report.pdf \"+SAMPLE+\"N_qd_metrics.txt\"\n",
    "    print(command3+'\\n')\n",
    "    if exec_scripts:\n",
    "        subprocess.check_output(command3,shell=True)"
   ]
  },
  {
   "cell_type": "code",
   "execution_count": 92,
   "metadata": {},
   "outputs": [
    {
     "data": {
      "text/html": [
       "\n",
       "\n",
       "<select id='selectSample3'>  </select>\n",
       "\n",
       "<body onload=\"myPlots()\">\n",
       "\n",
       "<h1>The sample is:  <span id=\"myText3\"></span></h1>\n",
       "\n",
       "<div>\n",
       "  <iframe id=\"pdf3\" src=\"\" style=\"width:100%;height:700px;\"></iframe>\n",
       "</div>\n",
       "\n",
       "\n",
       "</body>\n",
       "\n",
       "\n",
       "\n",
       "<script type=\"text/Javascript\">\n",
       "\n",
       "var select = document.getElementById(\"selectSample3\");\n",
       "\n",
       "document.getElementById(\"myText3\").innerHTML = options;\n",
       "\n",
       "var options = [\"ABT414_Flank\"];\n",
       "\n",
       "myDropdown(select,options)\n",
       "\n",
       "var type3 = \"_N_qd-report.pdf\"\n",
       "\n",
       "myPlots(type3,3)\n",
       "\n",
       "document.getElementById(\"selectSample3\").onchange = function() {myPlots(type3,3)};\n",
       "\n",
       "\n",
       "</script>\n"
      ],
      "text/plain": [
       "<IPython.core.display.HTML object>"
      ]
     },
     "execution_count": 92,
     "metadata": {},
     "output_type": "execute_result"
    }
   ],
   "source": [
    "#interact(plots, Sample=widgNor, file=fixed(\"_N_qd-report.pdf\"), normal=fixed(True), listSample = fixed([]));\n",
    "\n",
    "id = id +1\n",
    "\n",
    "input_form = \"\"\"\n",
    "\n",
    "<select id='selectSample\"\"\"+str(id)+\"\"\"'>  </select>\n",
    "\n",
    "<body onload=\"myPlots()\">\n",
    "\n",
    "<h1>The sample is:  <span id=\"myText\"\"\"+str(id)+\"\"\"\"></span></h1>\n",
    "\n",
    "<div>\n",
    "  <iframe id=\"pdf\"\"\"+str(id)+\"\"\"\" src=\"\" style=\"width:100%;height:700px;\"></iframe>\n",
    "</div>\n",
    "\n",
    "\n",
    "</body>\n",
    "\n",
    "\"\"\"\n",
    "\n",
    "javascript = \"\"\"\n",
    "\n",
    "<script type=\"text/Javascript\">\n",
    "\n",
    "var select = document.getElementById(\"selectSample\"\"\"+str(id)+\"\"\"\");\n",
    "\n",
    "myDropdown(select,Object.keys(objNorm)) \n",
    "\n",
    "var type\"\"\"+str(id)+\"\"\" = \"_N_qd-report.pdf\"\n",
    "\n",
    "myPlots(type\"\"\"+str(id)+\"\"\",\"\"\"+str(id)+\"\"\")\n",
    "\n",
    "document.getElementById(\"selectSample\"\"\"+str(id)+\"\"\"\").onchange = function() {myPlots(type\"\"\"+str(id)+\"\"\",\"\"\"+str(id)+\"\"\")};\n",
    "\n",
    "\n",
    "</script>\n",
    "\"\"\"\n",
    "    \n",
    "\n",
    "HTML(input_form + javascript)\n",
    "\n"
   ]
  },
  {
   "cell_type": "code",
   "execution_count": 97,
   "metadata": {},
   "outputs": [
    {
     "data": {
      "text/markdown": [
       "___"
      ],
      "text/plain": [
       "<IPython.core.display.Markdown object>"
      ]
     },
     "metadata": {},
     "output_type": "display_data"
    },
    {
     "data": {
      "text/markdown": [
       "### Normal: ABT414_Flank"
      ],
      "text/plain": [
       "<IPython.core.display.Markdown object>"
      ]
     },
     "metadata": {},
     "output_type": "display_data"
    },
    {
     "name": "stdout",
     "output_type": "stream",
     "text": [
      "/storage/gluster/vol1/SHARED/NGSTOOLS/SENTIEON/sentieon-genomics-201911/bin/sentieon plot MeanQualityByCycle -o ABT414_FlankN_mq-report.pdf ABT414_FlankN_mq_metrics.txt\n",
      "\n"
     ]
    }
   ],
   "source": [
    "display(Markdown(\"___\"))\n",
    "for i in range(np.size(uniqNorm)):\n",
    "    SAMPLE = uniqNorm[i]\n",
    "    display(Markdown(\"### Normal: \" + SAMPLE))\n",
    "    command4 = data['SENTIEON_INSTALL_DIR']+\"/bin/sentieon plot MeanQualityByCycle -o \"+SAMPLE+\"N_mq-report.pdf \"+SAMPLE+\"N_mq_metrics.txt\"\n",
    "    print(command4+'\\n')\n",
    "    if exec_scripts:\n",
    "        subprocess.check_output(command4,shell=True)"
   ]
  },
  {
   "cell_type": "code",
   "execution_count": 94,
   "metadata": {},
   "outputs": [
    {
     "data": {
      "text/html": [
       "\n",
       "\n",
       "<select id='selectSample4'>  </select>\n",
       "\n",
       "<body onload=\"myPlots()\">\n",
       "\n",
       "<h1>The sample is:  <span id=\"myText4\"></span></h1>\n",
       "\n",
       "<div>\n",
       "  <iframe id=\"pdf4\" src=\"\" style=\"width:100%;height:700px;\"></iframe>\n",
       "</div>\n",
       "\n",
       "\n",
       "</body>\n",
       "\n",
       "\n",
       "\n",
       "<script type=\"text/Javascript\">\n",
       "\n",
       "var select = document.getElementById(\"selectSample4\");\n",
       "\n",
       "document.getElementById(\"myText4\").innerHTML = options;\n",
       "\n",
       "var options = [\"ABT414_Flank\"];\n",
       "\n",
       "myDropdown(select,options)\n",
       "\n",
       "var type4 = \"_N_mq-report.pdf\"\n",
       "\n",
       "myPlots(type4,4)\n",
       "\n",
       "document.getElementById(\"selectSample4\").onchange = function() {myPlots(type4,4)};\n",
       "\n",
       "\n",
       "</script>\n"
      ],
      "text/plain": [
       "<IPython.core.display.HTML object>"
      ]
     },
     "execution_count": 94,
     "metadata": {},
     "output_type": "execute_result"
    }
   ],
   "source": [
    "#interact(plots, Sample=widgNor, file=fixed(\"_N_mq-report.pdf\"), normal=fixed(True), listSample = fixed([]));\n",
    "\n",
    "id = id +1\n",
    "\n",
    "input_form = \"\"\"\n",
    "\n",
    "<select id='selectSample\"\"\"+str(id)+\"\"\"'>  </select>\n",
    "\n",
    "<body onload=\"myPlots()\">\n",
    "\n",
    "<h1>The sample is:  <span id=\"myText\"\"\"+str(id)+\"\"\"\"></span></h1>\n",
    "\n",
    "<div>\n",
    "  <iframe id=\"pdf\"\"\"+str(id)+\"\"\"\" src=\"\" style=\"width:100%;height:700px;\"></iframe>\n",
    "</div>\n",
    "\n",
    "\n",
    "</body>\n",
    "\n",
    "\"\"\"\n",
    "\n",
    "javascript = \"\"\"\n",
    "\n",
    "<script type=\"text/Javascript\">\n",
    "\n",
    "var select = document.getElementById(\"selectSample\"\"\"+str(id)+\"\"\"\");\n",
    "\n",
    "myDropdown(select,Object.keys(objNorm)) \n",
    "\n",
    "var type\"\"\"+str(id)+\"\"\" = \"_N_mq-report.pdf\"\n",
    "\n",
    "myPlots(type\"\"\"+str(id)+\"\"\",\"\"\"+str(id)+\"\"\")\n",
    "\n",
    "document.getElementById(\"selectSample\"\"\"+str(id)+\"\"\"\").onchange = function() {myPlots(type\"\"\"+str(id)+\"\"\",\"\"\"+str(id)+\"\"\")};\n",
    "\n",
    "\n",
    "</script>\n",
    "\"\"\"\n",
    "    \n",
    "\n",
    "HTML(input_form + javascript)\n",
    "\n"
   ]
  },
  {
   "cell_type": "code",
   "execution_count": 98,
   "metadata": {},
   "outputs": [
    {
     "data": {
      "text/markdown": [
       "___"
      ],
      "text/plain": [
       "<IPython.core.display.Markdown object>"
      ]
     },
     "metadata": {},
     "output_type": "display_data"
    },
    {
     "data": {
      "text/markdown": [
       "### Normal: ABT414_Flank"
      ],
      "text/plain": [
       "<IPython.core.display.Markdown object>"
      ]
     },
     "metadata": {},
     "output_type": "display_data"
    },
    {
     "name": "stdout",
     "output_type": "stream",
     "text": [
      "/storage/gluster/vol1/SHARED/NGSTOOLS/SENTIEON/sentieon-genomics-201911/bin/sentieon plot InsertSizeMetricAlgo -o ABT414_FlankN_is-report.pdf ABT414_FlankN_is_metrics.txt\n",
      "\n"
     ]
    }
   ],
   "source": [
    "display(Markdown(\"___\"))\n",
    "for i in range(np.size(uniqNorm)):\n",
    "    SAMPLE = uniqNorm[i]\n",
    "    display(Markdown(\"### Normal: \" + SAMPLE))\n",
    "    command5 = data['SENTIEON_INSTALL_DIR']+\"/bin/sentieon plot InsertSizeMetricAlgo -o \"+SAMPLE+\"N_is-report.pdf \"+SAMPLE+\"N_is_metrics.txt\"\n",
    "    print(command5+'\\n')\n",
    "    if exec_scripts:\n",
    "        subprocess.check_output(command5,shell=True)"
   ]
  },
  {
   "cell_type": "code",
   "execution_count": 96,
   "metadata": {},
   "outputs": [
    {
     "data": {
      "text/html": [
       "\n",
       "\n",
       "<select id='selectSample5'>  </select>\n",
       "\n",
       "<body onload=\"myPlots()\">\n",
       "\n",
       "<h1>The sample is:  <span id=\"myText5\"></span></h1>\n",
       "\n",
       "<div>\n",
       "  <iframe id=\"pdf5\" src=\"\" style=\"width:100%;height:700px;\"></iframe>\n",
       "</div>\n",
       "\n",
       "\n",
       "</body>\n",
       "\n",
       "\n",
       "\n",
       "<script type=\"text/Javascript\">\n",
       "\n",
       "var select = document.getElementById(\"selectSample5\");\n",
       "\n",
       "document.getElementById(\"myText5\").innerHTML = options;\n",
       "\n",
       "var options = [\"ABT414_Flank\"];\n",
       "\n",
       "myDropdown(select,options)\n",
       "\n",
       "var type5 = \"_N_is-report.pdf\"\n",
       "\n",
       "myPlots(type5,5)\n",
       "\n",
       "document.getElementById(\"selectSample5\").onchange = function() {myPlots(type5,5)};\n",
       "\n",
       "\n",
       "</script>\n"
      ],
      "text/plain": [
       "<IPython.core.display.HTML object>"
      ]
     },
     "execution_count": 96,
     "metadata": {},
     "output_type": "execute_result"
    }
   ],
   "source": [
    "#interact(plots, Sample=widgNor, file=fixed(\"_N_is-report.pdf\"), normal=fixed(True), listSample = fixed([]));\n",
    "\n",
    "id = id +1\n",
    "\n",
    "input_form = \"\"\"\n",
    "\n",
    "<select id='selectSample\"\"\"+str(id)+\"\"\"'>  </select>\n",
    "\n",
    "<body onload=\"myPlots()\">\n",
    "\n",
    "<h1>The sample is:  <span id=\"myText\"\"\"+str(id)+\"\"\"\"></span></h1>\n",
    "\n",
    "<div>\n",
    "  <iframe id=\"pdf\"\"\"+str(id)+\"\"\"\" src=\"\" style=\"width:100%;height:700px;\"></iframe>\n",
    "</div>\n",
    "\n",
    "\n",
    "</body>\n",
    "\n",
    "\"\"\"\n",
    "\n",
    "javascript = \"\"\"\n",
    "\n",
    "<script type=\"text/Javascript\">\n",
    "\n",
    "var select = document.getElementById(\"selectSample\"\"\"+str(id)+\"\"\"\");\n",
    "\n",
    "myDropdown(select,Object.keys(objNorm)) \n",
    "\n",
    "var type\"\"\"+str(id)+\"\"\" = \"_N_is-report.pdf\"\n",
    "\n",
    "myPlots(type\"\"\"+str(id)+\"\"\",\"\"\"+str(id)+\"\"\")\n",
    "\n",
    "document.getElementById(\"selectSample\"\"\"+str(id)+\"\"\"\").onchange = function() {myPlots(type\"\"\"+str(id)+\"\"\",\"\"\"+str(id)+\"\"\")};\n",
    "\n",
    "\n",
    "</script>\n",
    "\"\"\"\n",
    "    \n",
    "\n",
    "HTML(input_form + javascript)\n",
    "\n"
   ]
  },
  {
   "cell_type": "markdown",
   "metadata": {},
   "source": [
    "# 2a. Metrics for tumor sample"
   ]
  },
  {
   "cell_type": "code",
   "execution_count": 87,
   "metadata": {},
   "outputs": [
    {
     "data": {
      "text/markdown": [
       "### Tumor: A1783"
      ],
      "text/plain": [
       "<IPython.core.display.Markdown object>"
      ]
     },
     "metadata": {},
     "output_type": "display_data"
    },
    {
     "name": "stdout",
     "output_type": "stream",
     "text": [
      "/storage/gluster/vol1/SHARED/NGSTOOLS/SENTIEON/sentieon-genomics-201911/bin/sentieon driver -r /storage/gluster/vol1/bcbio/genomes/Hsapiens/hg19/bwa/hg19.fa -t 80 -i A1783T_sorted.bam --algo MeanQualityByCycle A1783T_mq_metrics.txt --algo QualDistribution A1783T_qd_metrics.txt --algo GCBias --summary A1783T_gc_summary.txt A1783T_gc_metrics.txt --algo AlignmentStat --adapter_seq '' A1783T_aln_metrics.txt --algo InsertSizeMetricAlgo A1783T_is_metrics.txt\n",
      "\n"
     ]
    },
    {
     "data": {
      "text/markdown": [
       "### Tumor: A9155"
      ],
      "text/plain": [
       "<IPython.core.display.Markdown object>"
      ]
     },
     "metadata": {},
     "output_type": "display_data"
    },
    {
     "name": "stdout",
     "output_type": "stream",
     "text": [
      "/storage/gluster/vol1/SHARED/NGSTOOLS/SENTIEON/sentieon-genomics-201911/bin/sentieon driver -r /storage/gluster/vol1/bcbio/genomes/Hsapiens/hg19/bwa/hg19.fa -t 80 -i A9155T_sorted.bam --algo MeanQualityByCycle A9155T_mq_metrics.txt --algo QualDistribution A9155T_qd_metrics.txt --algo GCBias --summary A9155T_gc_summary.txt A9155T_gc_metrics.txt --algo AlignmentStat --adapter_seq '' A9155T_aln_metrics.txt --algo InsertSizeMetricAlgo A9155T_is_metrics.txt\n",
      "\n"
     ]
    },
    {
     "data": {
      "text/markdown": [
       "### Tumor: A9878"
      ],
      "text/plain": [
       "<IPython.core.display.Markdown object>"
      ]
     },
     "metadata": {},
     "output_type": "display_data"
    },
    {
     "name": "stdout",
     "output_type": "stream",
     "text": [
      "/storage/gluster/vol1/SHARED/NGSTOOLS/SENTIEON/sentieon-genomics-201911/bin/sentieon driver -r /storage/gluster/vol1/bcbio/genomes/Hsapiens/hg19/bwa/hg19.fa -t 80 -i A9878T_sorted.bam --algo MeanQualityByCycle A9878T_mq_metrics.txt --algo QualDistribution A9878T_qd_metrics.txt --algo GCBias --summary A9878T_gc_summary.txt A9878T_gc_metrics.txt --algo AlignmentStat --adapter_seq '' A9878T_aln_metrics.txt --algo InsertSizeMetricAlgo A9878T_is_metrics.txt\n",
      "\n"
     ]
    },
    {
     "data": {
      "text/markdown": [
       "### Tumor: AT2550"
      ],
      "text/plain": [
       "<IPython.core.display.Markdown object>"
      ]
     },
     "metadata": {},
     "output_type": "display_data"
    },
    {
     "name": "stdout",
     "output_type": "stream",
     "text": [
      "/storage/gluster/vol1/SHARED/NGSTOOLS/SENTIEON/sentieon-genomics-201911/bin/sentieon driver -r /storage/gluster/vol1/bcbio/genomes/Hsapiens/hg19/bwa/hg19.fa -t 80 -i AT2550T_sorted.bam --algo MeanQualityByCycle AT2550T_mq_metrics.txt --algo QualDistribution AT2550T_qd_metrics.txt --algo GCBias --summary AT2550T_gc_summary.txt AT2550T_gc_metrics.txt --algo AlignmentStat --adapter_seq '' AT2550T_aln_metrics.txt --algo InsertSizeMetricAlgo AT2550T_is_metrics.txt\n",
      "\n"
     ]
    },
    {
     "data": {
      "text/markdown": [
       "### Tumor: AT2822"
      ],
      "text/plain": [
       "<IPython.core.display.Markdown object>"
      ]
     },
     "metadata": {},
     "output_type": "display_data"
    },
    {
     "name": "stdout",
     "output_type": "stream",
     "text": [
      "/storage/gluster/vol1/SHARED/NGSTOOLS/SENTIEON/sentieon-genomics-201911/bin/sentieon driver -r /storage/gluster/vol1/bcbio/genomes/Hsapiens/hg19/bwa/hg19.fa -t 80 -i AT2822T_sorted.bam --algo MeanQualityByCycle AT2822T_mq_metrics.txt --algo QualDistribution AT2822T_qd_metrics.txt --algo GCBias --summary AT2822T_gc_summary.txt AT2822T_gc_metrics.txt --algo AlignmentStat --adapter_seq '' AT2822T_aln_metrics.txt --algo InsertSizeMetricAlgo AT2822T_is_metrics.txt\n",
      "\n"
     ]
    },
    {
     "data": {
      "text/markdown": [
       "### Tumor: AT4415"
      ],
      "text/plain": [
       "<IPython.core.display.Markdown object>"
      ]
     },
     "metadata": {},
     "output_type": "display_data"
    },
    {
     "name": "stdout",
     "output_type": "stream",
     "text": [
      "/storage/gluster/vol1/SHARED/NGSTOOLS/SENTIEON/sentieon-genomics-201911/bin/sentieon driver -r /storage/gluster/vol1/bcbio/genomes/Hsapiens/hg19/bwa/hg19.fa -t 80 -i AT4415T_sorted.bam --algo MeanQualityByCycle AT4415T_mq_metrics.txt --algo QualDistribution AT4415T_qd_metrics.txt --algo GCBias --summary AT4415T_gc_summary.txt AT4415T_gc_metrics.txt --algo AlignmentStat --adapter_seq '' AT4415T_aln_metrics.txt --algo InsertSizeMetricAlgo AT4415T_is_metrics.txt\n",
      "\n"
     ]
    },
    {
     "data": {
      "text/markdown": [
       "### Tumor: AT4808"
      ],
      "text/plain": [
       "<IPython.core.display.Markdown object>"
      ]
     },
     "metadata": {},
     "output_type": "display_data"
    },
    {
     "name": "stdout",
     "output_type": "stream",
     "text": [
      "/storage/gluster/vol1/SHARED/NGSTOOLS/SENTIEON/sentieon-genomics-201911/bin/sentieon driver -r /storage/gluster/vol1/bcbio/genomes/Hsapiens/hg19/bwa/hg19.fa -t 80 -i AT4808T_sorted.bam --algo MeanQualityByCycle AT4808T_mq_metrics.txt --algo QualDistribution AT4808T_qd_metrics.txt --algo GCBias --summary AT4808T_gc_summary.txt AT4808T_gc_metrics.txt --algo AlignmentStat --adapter_seq '' AT4808T_aln_metrics.txt --algo InsertSizeMetricAlgo AT4808T_is_metrics.txt\n",
      "\n"
     ]
    },
    {
     "data": {
      "text/markdown": [
       "### Tumor: C0288"
      ],
      "text/plain": [
       "<IPython.core.display.Markdown object>"
      ]
     },
     "metadata": {},
     "output_type": "display_data"
    },
    {
     "name": "stdout",
     "output_type": "stream",
     "text": [
      "/storage/gluster/vol1/SHARED/NGSTOOLS/SENTIEON/sentieon-genomics-201911/bin/sentieon driver -r /storage/gluster/vol1/bcbio/genomes/Hsapiens/hg19/bwa/hg19.fa -t 80 -i C0288T_sorted.bam --algo MeanQualityByCycle C0288T_mq_metrics.txt --algo QualDistribution C0288T_qd_metrics.txt --algo GCBias --summary C0288T_gc_summary.txt C0288T_gc_metrics.txt --algo AlignmentStat --adapter_seq '' C0288T_aln_metrics.txt --algo InsertSizeMetricAlgo C0288T_is_metrics.txt\n",
      "\n"
     ]
    },
    {
     "data": {
      "text/markdown": [
       "### Tumor: C0334"
      ],
      "text/plain": [
       "<IPython.core.display.Markdown object>"
      ]
     },
     "metadata": {},
     "output_type": "display_data"
    },
    {
     "name": "stdout",
     "output_type": "stream",
     "text": [
      "/storage/gluster/vol1/SHARED/NGSTOOLS/SENTIEON/sentieon-genomics-201911/bin/sentieon driver -r /storage/gluster/vol1/bcbio/genomes/Hsapiens/hg19/bwa/hg19.fa -t 80 -i C0334T_sorted.bam --algo MeanQualityByCycle C0334T_mq_metrics.txt --algo QualDistribution C0334T_qd_metrics.txt --algo GCBias --summary C0334T_gc_summary.txt C0334T_gc_metrics.txt --algo AlignmentStat --adapter_seq '' C0334T_aln_metrics.txt --algo InsertSizeMetricAlgo C0334T_is_metrics.txt\n",
      "\n"
     ]
    },
    {
     "data": {
      "text/markdown": [
       "### Tumor: C1572"
      ],
      "text/plain": [
       "<IPython.core.display.Markdown object>"
      ]
     },
     "metadata": {},
     "output_type": "display_data"
    },
    {
     "name": "stdout",
     "output_type": "stream",
     "text": [
      "/storage/gluster/vol1/SHARED/NGSTOOLS/SENTIEON/sentieon-genomics-201911/bin/sentieon driver -r /storage/gluster/vol1/bcbio/genomes/Hsapiens/hg19/bwa/hg19.fa -t 80 -i C1572T_sorted.bam --algo MeanQualityByCycle C1572T_mq_metrics.txt --algo QualDistribution C1572T_qd_metrics.txt --algo GCBias --summary C1572T_gc_summary.txt C1572T_gc_metrics.txt --algo AlignmentStat --adapter_seq '' C1572T_aln_metrics.txt --algo InsertSizeMetricAlgo C1572T_is_metrics.txt\n",
      "\n"
     ]
    },
    {
     "data": {
      "text/markdown": [
       "### Tumor: C8448"
      ],
      "text/plain": [
       "<IPython.core.display.Markdown object>"
      ]
     },
     "metadata": {},
     "output_type": "display_data"
    },
    {
     "name": "stdout",
     "output_type": "stream",
     "text": [
      "/storage/gluster/vol1/SHARED/NGSTOOLS/SENTIEON/sentieon-genomics-201911/bin/sentieon driver -r /storage/gluster/vol1/bcbio/genomes/Hsapiens/hg19/bwa/hg19.fa -t 80 -i C8448T_sorted.bam --algo MeanQualityByCycle C8448T_mq_metrics.txt --algo QualDistribution C8448T_qd_metrics.txt --algo GCBias --summary C8448T_gc_summary.txt C8448T_gc_metrics.txt --algo AlignmentStat --adapter_seq '' C8448T_aln_metrics.txt --algo InsertSizeMetricAlgo C8448T_is_metrics.txt\n",
      "\n"
     ]
    }
   ],
   "source": [
    "for i in range(batchSize):\n",
    "    TUMOR = batch[i][1]\n",
    "    display(Markdown(\"### Tumor: \"+TUMOR))\n",
    "    command1 = data['SENTIEON_INSTALL_DIR']+\"/bin/sentieon driver -r \"+data['fasta']+\" -t \"+str(data['nt'])+\" -i \"+TUMOR+\"T_sorted.bam --algo MeanQualityByCycle \"+TUMOR+\"T_mq_metrics.txt --algo QualDistribution \"+TUMOR+\"T_qd_metrics.txt --algo GCBias --summary \"+TUMOR+\"T_gc_summary.txt \"+TUMOR+\"T_gc_metrics.txt --algo AlignmentStat --adapter_seq '' \"+TUMOR+\"T_aln_metrics.txt --algo InsertSizeMetricAlgo \"+TUMOR+\"T_is_metrics.txt\"\n",
    "    print(command1+'\\n')\n",
    "    if exec_scripts:\n",
    "        subprocess.check_output(command1,shell=True)"
   ]
  },
  {
   "cell_type": "markdown",
   "metadata": {},
   "source": [
    "CATEGORY: Distinguishes either PAIRED: for a fragment run, FIRST_OF_PAIR: when metrics are for only the first read in a paired run, SECOND_OF_PAIR: when metrics are for only the second read in a paired run, or PAIR when metrics are aggregated for both first and second reads in a pair. \n",
    "\n",
    "Total Reads: The total number of reads \n",
    "\n",
    "PF_READS_ALIGNED: The number of reads that aligned to the reference sequence\n",
    "\n",
    "PCT_PF_READS_ALIGNED: The percentage of reads that aligned to the reference sequence"
   ]
  },
  {
   "cell_type": "code",
   "execution_count": 98,
   "metadata": {},
   "outputs": [
    {
     "data": {
      "text/plain": [
       "'interact(tableShow, Sample=widgTumAll, file=fixed(\"_T_aln_metrics.txt\"), cols = fixed([0,1,2,5,6]), listSample = fixed(tumors));'"
      ]
     },
     "execution_count": 98,
     "metadata": {},
     "output_type": "execute_result"
    }
   ],
   "source": [
    "%%capture\n",
    "\"\"\"interact(tableShow, Sample=widgTumAll, file=fixed(\"_T_aln_metrics.txt\"), cols = fixed([0,1,2,5,6]), listSample = fixed(tumors));\"\"\""
   ]
  },
  {
   "cell_type": "code",
   "execution_count": 38,
   "metadata": {},
   "outputs": [
    {
     "data": {
      "text/html": [
       "\n",
       "\n",
       "<select id='selectSample2'>  </select>\n",
       "\n",
       "<h1>The sample is:  <span id=\"myText2\"></span></h1>\n",
       "\n",
       "<body>\n",
       "\n",
       "<table id=\"myTable2\"\"></table>\n",
       "<br>\n",
       "\n",
       "<script type=\"text/Javascript\">\n",
       "\n",
       "var select = document.getElementById(\"selectSample2\");\n",
       "\n",
       "var objTum = JSON.parse('{\"A1783\": {\"FIRST_OF_PAIR\": {\"CATEGORY\": \"FIRST_OF_PAIR\", \"TOTAL_READS\": \"29463364\", \"PF_READS\": \"29463364\", \"PCT_PF_READS\": \"1.000000\", \"PF_NOISE_READS\": \"0\", \"PF_READS_ALIGNED\": \"29460733\", \"PCT_PF_READS_ALIGNED\": \"0.999911\", \"PF_ALIGNED_BASES\": \"4401475200\", \"PF_HQ_ALIGNED_READS\": \"28427759\", \"PF_HQ_ALIGNED_BASES\": \"4248445510\", \"PF_HQ_ALIGNED_Q20_BASES\": \"4155949059\", \"PF_HQ_MEDIAN_MISMATCHES\": \"0.000000\", \"PF_MISMATCH_RATE\": \"0.002629\", \"PF_HQ_ERROR_RATE\": \"0.002568\", \"PF_INDEL_RATE\": \"0.000113\", \"MEAN_READ_LENGTH\": \"150.000000\", \"READS_ALIGNED_IN_PAIRS\": \"29424496\", \"PCT_READS_ALIGNED_IN_PAIRS\": \"0.998770\", \"BAD_CYCLES\": \"0\", \"STRAND_BALANCE\": \"0.470762\", \"PCT_CHIMERAS\": \"0.008440\", \"PCT_ADAPTER\": \"0.000000\", \"\": \"\"}, \"SECOND_OF_PAIR\": {\"CATEGORY\": \"SECOND_OF_PAIR\", \"TOTAL_READS\": \"29463364\", \"PF_READS\": \"29463364\", \"PCT_PF_READS\": \"1.000000\", \"PF_NOISE_READS\": \"0\", \"PF_READS_ALIGNED\": \"29427125\", \"PCT_PF_READS_ALIGNED\": \"0.998770\", \"PF_ALIGNED_BASES\": \"4394485825\", \"PF_HQ_ALIGNED_READS\": \"28386554\", \"PF_HQ_ALIGNED_BASES\": \"4241132557\", \"PF_HQ_ALIGNED_Q20_BASES\": \"4152540467\", \"PF_HQ_MEDIAN_MISMATCHES\": \"0.000000\", \"PF_MISMATCH_RATE\": \"0.002648\", \"PF_HQ_ERROR_RATE\": \"0.002579\", \"PF_INDEL_RATE\": \"0.000110\", \"MEAN_READ_LENGTH\": \"150.000000\", \"READS_ALIGNED_IN_PAIRS\": \"29424496\", \"PCT_READS_ALIGNED_IN_PAIRS\": \"0.999911\", \"BAD_CYCLES\": \"0\", \"STRAND_BALANCE\": \"0.529373\", \"PCT_CHIMERAS\": \"0.008481\", \"PCT_ADAPTER\": \"0.000000\", \"\": \"\"}, \"PAIR\": {\"CATEGORY\": \"PAIR\", \"TOTAL_READS\": \"58926728\", \"PF_READS\": \"58926728\", \"PCT_PF_READS\": \"1.000000\", \"PF_NOISE_READS\": \"0\", \"PF_READS_ALIGNED\": \"58887858\", \"PCT_PF_READS_ALIGNED\": \"0.999340\", \"PF_ALIGNED_BASES\": \"8795961025\", \"PF_HQ_ALIGNED_READS\": \"56814313\", \"PF_HQ_ALIGNED_BASES\": \"8489578067\", \"PF_HQ_ALIGNED_Q20_BASES\": \"8308489526\", \"PF_HQ_MEDIAN_MISMATCHES\": \"0.000000\", \"PF_MISMATCH_RATE\": \"0.002638\", \"PF_HQ_ERROR_RATE\": \"0.002574\", \"PF_INDEL_RATE\": \"0.000111\", \"MEAN_READ_LENGTH\": \"150.000000\", \"READS_ALIGNED_IN_PAIRS\": \"58848992\", \"PCT_READS_ALIGNED_IN_PAIRS\": \"0.999340\", \"BAD_CYCLES\": \"0\", \"STRAND_BALANCE\": \"0.500051\", \"PCT_CHIMERAS\": \"0.008460\", \"PCT_ADAPTER\": \"0.000000\", \"\": \"\"}}, \"A9155\": {\"FIRST_OF_PAIR\": {\"CATEGORY\": \"FIRST_OF_PAIR\", \"TOTAL_READS\": \"36708270\", \"PF_READS\": \"36708270\", \"PCT_PF_READS\": \"1.000000\", \"PF_NOISE_READS\": \"0\", \"PF_READS_ALIGNED\": \"36704704\", \"PCT_PF_READS_ALIGNED\": \"0.999903\", \"PF_ALIGNED_BASES\": \"5480286708\", \"PF_HQ_ALIGNED_READS\": \"35415523\", \"PF_HQ_ALIGNED_BASES\": \"5289798162\", \"PF_HQ_ALIGNED_Q20_BASES\": \"5176759846\", \"PF_HQ_MEDIAN_MISMATCHES\": \"0.000000\", \"PF_MISMATCH_RATE\": \"0.002664\", \"PF_HQ_ERROR_RATE\": \"0.002595\", \"PF_INDEL_RATE\": \"0.000114\", \"MEAN_READ_LENGTH\": \"150.000000\", \"READS_ALIGNED_IN_PAIRS\": \"36653774\", \"PCT_READS_ALIGNED_IN_PAIRS\": \"0.998612\", \"BAD_CYCLES\": \"0\", \"STRAND_BALANCE\": \"0.476359\", \"PCT_CHIMERAS\": \"0.009762\", \"PCT_ADAPTER\": \"0.000000\", \"\": \"\"}, \"SECOND_OF_PAIR\": {\"CATEGORY\": \"SECOND_OF_PAIR\", \"TOTAL_READS\": \"36708270\", \"PF_READS\": \"36708270\", \"PCT_PF_READS\": \"1.000000\", \"PF_NOISE_READS\": \"0\", \"PF_READS_ALIGNED\": \"36657337\", \"PCT_PF_READS_ALIGNED\": \"0.998612\", \"PF_ALIGNED_BASES\": \"5469995535\", \"PF_HQ_ALIGNED_READS\": \"35357671\", \"PF_HQ_ALIGNED_BASES\": \"5279094326\", \"PF_HQ_ALIGNED_Q20_BASES\": \"5166514173\", \"PF_HQ_MEDIAN_MISMATCHES\": \"0.000000\", \"PF_MISMATCH_RATE\": \"0.002756\", \"PF_HQ_ERROR_RATE\": \"0.002680\", \"PF_INDEL_RATE\": \"0.000111\", \"MEAN_READ_LENGTH\": \"150.000000\", \"READS_ALIGNED_IN_PAIRS\": \"36653774\", \"PCT_READS_ALIGNED_IN_PAIRS\": \"0.999903\", \"BAD_CYCLES\": \"0\", \"STRAND_BALANCE\": \"0.523765\", \"PCT_CHIMERAS\": \"0.009856\", \"PCT_ADAPTER\": \"0.000000\", \"\": \"\"}, \"PAIR\": {\"CATEGORY\": \"PAIR\", \"TOTAL_READS\": \"73416540\", \"PF_READS\": \"73416540\", \"PCT_PF_READS\": \"1.000000\", \"PF_NOISE_READS\": \"0\", \"PF_READS_ALIGNED\": \"73362041\", \"PCT_PF_READS_ALIGNED\": \"0.999258\", \"PF_ALIGNED_BASES\": \"10950282243\", \"PF_HQ_ALIGNED_READS\": \"70773194\", \"PF_HQ_ALIGNED_BASES\": \"10568892488\", \"PF_HQ_ALIGNED_Q20_BASES\": \"10343274019\", \"PF_HQ_MEDIAN_MISMATCHES\": \"0.000000\", \"PF_MISMATCH_RATE\": \"0.002710\", \"PF_HQ_ERROR_RATE\": \"0.002637\", \"PF_INDEL_RATE\": \"0.000113\", \"MEAN_READ_LENGTH\": \"150.000000\", \"READS_ALIGNED_IN_PAIRS\": \"73307548\", \"PCT_READS_ALIGNED_IN_PAIRS\": \"0.999257\", \"BAD_CYCLES\": \"0\", \"STRAND_BALANCE\": \"0.500047\", \"PCT_CHIMERAS\": \"0.009809\", \"PCT_ADAPTER\": \"0.000000\", \"\": \"\"}}, \"A9878\": {\"FIRST_OF_PAIR\": {\"CATEGORY\": \"FIRST_OF_PAIR\", \"TOTAL_READS\": \"44315513\", \"PF_READS\": \"44315513\", \"PCT_PF_READS\": \"1.000000\", \"PF_NOISE_READS\": \"0\", \"PF_READS_ALIGNED\": \"44310835\", \"PCT_PF_READS_ALIGNED\": \"0.999894\", \"PF_ALIGNED_BASES\": \"6619944298\", \"PF_HQ_ALIGNED_READS\": \"42817496\", \"PF_HQ_ALIGNED_BASES\": \"6398977197\", \"PF_HQ_ALIGNED_Q20_BASES\": \"6258571825\", \"PF_HQ_MEDIAN_MISMATCHES\": \"0.000000\", \"PF_MISMATCH_RATE\": \"0.002731\", \"PF_HQ_ERROR_RATE\": \"0.002665\", \"PF_INDEL_RATE\": \"0.000112\", \"MEAN_READ_LENGTH\": \"150.000000\", \"READS_ALIGNED_IN_PAIRS\": \"44224986\", \"PCT_READS_ALIGNED_IN_PAIRS\": \"0.998063\", \"BAD_CYCLES\": \"0\", \"STRAND_BALANCE\": \"0.478937\", \"PCT_CHIMERAS\": \"0.010210\", \"PCT_ADAPTER\": \"0.000000\", \"\": \"\"}, \"SECOND_OF_PAIR\": {\"CATEGORY\": \"SECOND_OF_PAIR\", \"TOTAL_READS\": \"44315513\", \"PF_READS\": \"44315513\", \"PCT_PF_READS\": \"1.000000\", \"PF_NOISE_READS\": \"0\", \"PF_READS_ALIGNED\": \"44229662\", \"PCT_PF_READS_ALIGNED\": \"0.998063\", \"PF_ALIGNED_BASES\": \"6601057371\", \"PF_HQ_ALIGNED_READS\": \"42715957\", \"PF_HQ_ALIGNED_BASES\": \"6378858701\", \"PF_HQ_ALIGNED_Q20_BASES\": \"6209308147\", \"PF_HQ_MEDIAN_MISMATCHES\": \"0.000000\", \"PF_MISMATCH_RATE\": \"0.003387\", \"PF_HQ_ERROR_RATE\": \"0.003304\", \"PF_INDEL_RATE\": \"0.000108\", \"MEAN_READ_LENGTH\": \"150.000000\", \"READS_ALIGNED_IN_PAIRS\": \"44224986\", \"PCT_READS_ALIGNED_IN_PAIRS\": \"0.999894\", \"BAD_CYCLES\": \"0\", \"STRAND_BALANCE\": \"0.521239\", \"PCT_CHIMERAS\": \"0.010263\", \"PCT_ADAPTER\": \"0.000000\", \"\": \"\"}, \"PAIR\": {\"CATEGORY\": \"PAIR\", \"TOTAL_READS\": \"88631026\", \"PF_READS\": \"88631026\", \"PCT_PF_READS\": \"1.000000\", \"PF_NOISE_READS\": \"0\", \"PF_READS_ALIGNED\": \"88540497\", \"PCT_PF_READS_ALIGNED\": \"0.998979\", \"PF_ALIGNED_BASES\": \"13221001669\", \"PF_HQ_ALIGNED_READS\": \"85533453\", \"PF_HQ_ALIGNED_BASES\": \"12777835898\", \"PF_HQ_ALIGNED_Q20_BASES\": \"12467879972\", \"PF_HQ_MEDIAN_MISMATCHES\": \"0.000000\", \"PF_MISMATCH_RATE\": \"0.003058\", \"PF_HQ_ERROR_RATE\": \"0.002984\", \"PF_INDEL_RATE\": \"0.000110\", \"MEAN_READ_LENGTH\": \"150.000000\", \"READS_ALIGNED_IN_PAIRS\": \"88449972\", \"PCT_READS_ALIGNED_IN_PAIRS\": \"0.998978\", \"BAD_CYCLES\": \"0\", \"STRAND_BALANCE\": \"0.500069\", \"PCT_CHIMERAS\": \"0.010236\", \"PCT_ADAPTER\": \"0.000000\", \"\": \"\"}}, \"AT2550\": {\"FIRST_OF_PAIR\": {\"CATEGORY\": \"FIRST_OF_PAIR\", \"TOTAL_READS\": \"37279483\", \"PF_READS\": \"37279483\", \"PCT_PF_READS\": \"1.000000\", \"PF_NOISE_READS\": \"0\", \"PF_READS_ALIGNED\": \"37275821\", \"PCT_PF_READS_ALIGNED\": \"0.999902\", \"PF_ALIGNED_BASES\": \"5568167355\", \"PF_HQ_ALIGNED_READS\": \"35849735\", \"PF_HQ_ALIGNED_BASES\": \"5357178918\", \"PF_HQ_ALIGNED_Q20_BASES\": \"5233498712\", \"PF_HQ_MEDIAN_MISMATCHES\": \"0.000000\", \"PF_MISMATCH_RATE\": \"0.002828\", \"PF_HQ_ERROR_RATE\": \"0.002748\", \"PF_INDEL_RATE\": \"0.000097\", \"MEAN_READ_LENGTH\": \"150.000000\", \"READS_ALIGNED_IN_PAIRS\": \"37213507\", \"PCT_READS_ALIGNED_IN_PAIRS\": \"0.998328\", \"BAD_CYCLES\": \"0\", \"STRAND_BALANCE\": \"0.470204\", \"PCT_CHIMERAS\": \"0.011476\", \"PCT_ADAPTER\": \"0.000000\", \"\": \"\"}, \"SECOND_OF_PAIR\": {\"CATEGORY\": \"SECOND_OF_PAIR\", \"TOTAL_READS\": \"37279483\", \"PF_READS\": \"37279483\", \"PCT_PF_READS\": \"1.000000\", \"PF_NOISE_READS\": \"0\", \"PF_READS_ALIGNED\": \"37217167\", \"PCT_PF_READS_ALIGNED\": \"0.998328\", \"PF_ALIGNED_BASES\": \"5555780026\", \"PF_HQ_ALIGNED_READS\": \"35779602\", \"PF_HQ_ALIGNED_BASES\": \"5344420874\", \"PF_HQ_ALIGNED_Q20_BASES\": \"5206643206\", \"PF_HQ_MEDIAN_MISMATCHES\": \"0.000000\", \"PF_MISMATCH_RATE\": \"0.003279\", \"PF_HQ_ERROR_RATE\": \"0.003190\", \"PF_INDEL_RATE\": \"0.000093\", \"MEAN_READ_LENGTH\": \"150.000000\", \"READS_ALIGNED_IN_PAIRS\": \"37213507\", \"PCT_READS_ALIGNED_IN_PAIRS\": \"0.999902\", \"BAD_CYCLES\": \"0\", \"STRAND_BALANCE\": \"0.529978\", \"PCT_CHIMERAS\": \"0.011469\", \"PCT_ADAPTER\": \"0.000000\", \"\": \"\"}, \"PAIR\": {\"CATEGORY\": \"PAIR\", \"TOTAL_READS\": \"74558966\", \"PF_READS\": \"74558966\", \"PCT_PF_READS\": \"1.000000\", \"PF_NOISE_READS\": \"0\", \"PF_READS_ALIGNED\": \"74492988\", \"PCT_PF_READS_ALIGNED\": \"0.999115\", \"PF_ALIGNED_BASES\": \"11123947381\", \"PF_HQ_ALIGNED_READS\": \"71629337\", \"PF_HQ_ALIGNED_BASES\": \"10701599792\", \"PF_HQ_ALIGNED_Q20_BASES\": \"10440141918\", \"PF_HQ_MEDIAN_MISMATCHES\": \"0.000000\", \"PF_MISMATCH_RATE\": \"0.003053\", \"PF_HQ_ERROR_RATE\": \"0.002969\", \"PF_INDEL_RATE\": \"0.000095\", \"MEAN_READ_LENGTH\": \"150.000000\", \"READS_ALIGNED_IN_PAIRS\": \"74427014\", \"PCT_READS_ALIGNED_IN_PAIRS\": \"0.999114\", \"BAD_CYCLES\": \"0\", \"STRAND_BALANCE\": \"0.500067\", \"PCT_CHIMERAS\": \"0.011472\", \"PCT_ADAPTER\": \"0.000000\", \"\": \"\"}}, \"AT2822\": {\"FIRST_OF_PAIR\": {\"CATEGORY\": \"FIRST_OF_PAIR\", \"TOTAL_READS\": \"33436901\", \"PF_READS\": \"33436901\", \"PCT_PF_READS\": \"1.000000\", \"PF_NOISE_READS\": \"0\", \"PF_READS_ALIGNED\": \"33434165\", \"PCT_PF_READS_ALIGNED\": \"0.999918\", \"PF_ALIGNED_BASES\": \"4994813178\", \"PF_HQ_ALIGNED_READS\": \"32161367\", \"PF_HQ_ALIGNED_BASES\": \"4806933289\", \"PF_HQ_ALIGNED_Q20_BASES\": \"4700710616\", \"PF_HQ_MEDIAN_MISMATCHES\": \"0.000000\", \"PF_MISMATCH_RATE\": \"0.002704\", \"PF_HQ_ERROR_RATE\": \"0.002621\", \"PF_INDEL_RATE\": \"0.000090\", \"MEAN_READ_LENGTH\": \"150.000000\", \"READS_ALIGNED_IN_PAIRS\": \"33375980\", \"PCT_READS_ALIGNED_IN_PAIRS\": \"0.998260\", \"BAD_CYCLES\": \"0\", \"STRAND_BALANCE\": \"0.468255\", \"PCT_CHIMERAS\": \"0.009529\", \"PCT_ADAPTER\": \"0.000000\", \"\": \"\"}, \"SECOND_OF_PAIR\": {\"CATEGORY\": \"SECOND_OF_PAIR\", \"TOTAL_READS\": \"33436901\", \"PF_READS\": \"33436901\", \"PCT_PF_READS\": \"1.000000\", \"PF_NOISE_READS\": \"0\", \"PF_READS_ALIGNED\": \"33378714\", \"PCT_PF_READS_ALIGNED\": \"0.998260\", \"PF_ALIGNED_BASES\": \"4982512694\", \"PF_HQ_ALIGNED_READS\": \"32095495\", \"PF_HQ_ALIGNED_BASES\": \"4794479053\", \"PF_HQ_ALIGNED_Q20_BASES\": \"4670299788\", \"PF_HQ_MEDIAN_MISMATCHES\": \"0.000000\", \"PF_MISMATCH_RATE\": \"0.003285\", \"PF_HQ_ERROR_RATE\": \"0.003189\", \"PF_INDEL_RATE\": \"0.000085\", \"MEAN_READ_LENGTH\": \"150.000000\", \"READS_ALIGNED_IN_PAIRS\": \"33375980\", \"PCT_READS_ALIGNED_IN_PAIRS\": \"0.999918\", \"BAD_CYCLES\": \"0\", \"STRAND_BALANCE\": \"0.531919\", \"PCT_CHIMERAS\": \"0.009514\", \"PCT_ADAPTER\": \"0.000000\", \"\": \"\"}, \"PAIR\": {\"CATEGORY\": \"PAIR\", \"TOTAL_READS\": \"66873802\", \"PF_READS\": \"66873802\", \"PCT_PF_READS\": \"1.000000\", \"PF_NOISE_READS\": \"0\", \"PF_READS_ALIGNED\": \"66812879\", \"PCT_PF_READS_ALIGNED\": \"0.999089\", \"PF_ALIGNED_BASES\": \"9977325872\", \"PF_HQ_ALIGNED_READS\": \"64256862\", \"PF_HQ_ALIGNED_BASES\": \"9601412342\", \"PF_HQ_ALIGNED_Q20_BASES\": \"9371010404\", \"PF_HQ_MEDIAN_MISMATCHES\": \"0.000000\", \"PF_MISMATCH_RATE\": \"0.002994\", \"PF_HQ_ERROR_RATE\": \"0.002905\", \"PF_INDEL_RATE\": \"0.000088\", \"MEAN_READ_LENGTH\": \"150.000000\", \"READS_ALIGNED_IN_PAIRS\": \"66751960\", \"PCT_READS_ALIGNED_IN_PAIRS\": \"0.999088\", \"BAD_CYCLES\": \"0\", \"STRAND_BALANCE\": \"0.500061\", \"PCT_CHIMERAS\": \"0.009521\", \"PCT_ADAPTER\": \"0.000000\", \"\": \"\"}}, \"AT4415\": {\"FIRST_OF_PAIR\": {\"CATEGORY\": \"FIRST_OF_PAIR\", \"TOTAL_READS\": \"18542200\", \"PF_READS\": \"18542200\", \"PCT_PF_READS\": \"1.000000\", \"PF_NOISE_READS\": \"0\", \"PF_READS_ALIGNED\": \"18540244\", \"PCT_PF_READS_ALIGNED\": \"0.999895\", \"PF_ALIGNED_BASES\": \"2770060626\", \"PF_HQ_ALIGNED_READS\": \"17804835\", \"PF_HQ_ALIGNED_BASES\": \"2661252461\", \"PF_HQ_ALIGNED_Q20_BASES\": \"2602388572\", \"PF_HQ_MEDIAN_MISMATCHES\": \"0.000000\", \"PF_MISMATCH_RATE\": \"0.002693\", \"PF_HQ_ERROR_RATE\": \"0.002618\", \"PF_INDEL_RATE\": \"0.000088\", \"MEAN_READ_LENGTH\": \"150.000000\", \"READS_ALIGNED_IN_PAIRS\": \"18513609\", \"PCT_READS_ALIGNED_IN_PAIRS\": \"0.998563\", \"BAD_CYCLES\": \"0\", \"STRAND_BALANCE\": \"0.464490\", \"PCT_CHIMERAS\": \"0.008487\", \"PCT_ADAPTER\": \"0.000000\", \"\": \"\"}, \"SECOND_OF_PAIR\": {\"CATEGORY\": \"SECOND_OF_PAIR\", \"TOTAL_READS\": \"18542200\", \"PF_READS\": \"18542200\", \"PCT_PF_READS\": \"1.000000\", \"PF_NOISE_READS\": \"0\", \"PF_READS_ALIGNED\": \"18515561\", \"PCT_PF_READS_ALIGNED\": \"0.998563\", \"PF_ALIGNED_BASES\": \"2765054324\", \"PF_HQ_ALIGNED_READS\": \"17775946\", \"PF_HQ_ALIGNED_BASES\": \"2656205379\", \"PF_HQ_ALIGNED_Q20_BASES\": \"2596360274\", \"PF_HQ_MEDIAN_MISMATCHES\": \"0.000000\", \"PF_MISMATCH_RATE\": \"0.002855\", \"PF_HQ_ERROR_RATE\": \"0.002772\", \"PF_INDEL_RATE\": \"0.000085\", \"MEAN_READ_LENGTH\": \"150.000000\", \"READS_ALIGNED_IN_PAIRS\": \"18513609\", \"PCT_READS_ALIGNED_IN_PAIRS\": \"0.999895\", \"BAD_CYCLES\": \"0\", \"STRAND_BALANCE\": \"0.535653\", \"PCT_CHIMERAS\": \"0.008469\", \"PCT_ADAPTER\": \"0.000000\", \"\": \"\"}, \"PAIR\": {\"CATEGORY\": \"PAIR\", \"TOTAL_READS\": \"37084400\", \"PF_READS\": \"37084400\", \"PCT_PF_READS\": \"1.000000\", \"PF_NOISE_READS\": \"0\", \"PF_READS_ALIGNED\": \"37055805\", \"PCT_PF_READS_ALIGNED\": \"0.999229\", \"PF_ALIGNED_BASES\": \"5535114950\", \"PF_HQ_ALIGNED_READS\": \"35580781\", \"PF_HQ_ALIGNED_BASES\": \"5317457840\", \"PF_HQ_ALIGNED_Q20_BASES\": \"5198748846\", \"PF_HQ_MEDIAN_MISMATCHES\": \"0.000000\", \"PF_MISMATCH_RATE\": \"0.002773\", \"PF_HQ_ERROR_RATE\": \"0.002695\", \"PF_INDEL_RATE\": \"0.000087\", \"MEAN_READ_LENGTH\": \"150.000000\", \"READS_ALIGNED_IN_PAIRS\": \"37027218\", \"PCT_READS_ALIGNED_IN_PAIRS\": \"0.999229\", \"BAD_CYCLES\": \"0\", \"STRAND_BALANCE\": \"0.500048\", \"PCT_CHIMERAS\": \"0.008478\", \"PCT_ADAPTER\": \"0.000000\", \"\": \"\"}}, \"AT4808\": {\"FIRST_OF_PAIR\": {\"CATEGORY\": \"FIRST_OF_PAIR\", \"TOTAL_READS\": \"39740285\", \"PF_READS\": \"39740285\", \"PCT_PF_READS\": \"1.000000\", \"PF_NOISE_READS\": \"0\", \"PF_READS_ALIGNED\": \"39735708\", \"PCT_PF_READS_ALIGNED\": \"0.999885\", \"PF_ALIGNED_BASES\": \"5934798804\", \"PF_HQ_ALIGNED_READS\": \"38234212\", \"PF_HQ_ALIGNED_BASES\": \"5712967592\", \"PF_HQ_ALIGNED_Q20_BASES\": \"5582605144\", \"PF_HQ_MEDIAN_MISMATCHES\": \"0.000000\", \"PF_MISMATCH_RATE\": \"0.002834\", \"PF_HQ_ERROR_RATE\": \"0.002750\", \"PF_INDEL_RATE\": \"0.000089\", \"MEAN_READ_LENGTH\": \"150.000000\", \"READS_ALIGNED_IN_PAIRS\": \"39664640\", \"PCT_READS_ALIGNED_IN_PAIRS\": \"0.998211\", \"BAD_CYCLES\": \"0\", \"STRAND_BALANCE\": \"0.475294\", \"PCT_CHIMERAS\": \"0.010767\", \"PCT_ADAPTER\": \"0.000000\", \"\": \"\"}, \"SECOND_OF_PAIR\": {\"CATEGORY\": \"SECOND_OF_PAIR\", \"TOTAL_READS\": \"39740285\", \"PF_READS\": \"39740285\", \"PCT_PF_READS\": \"1.000000\", \"PF_NOISE_READS\": \"0\", \"PF_READS_ALIGNED\": \"39669206\", \"PCT_PF_READS_ALIGNED\": \"0.998211\", \"PF_ALIGNED_BASES\": \"5922676006\", \"PF_HQ_ALIGNED_READS\": \"38154240\", \"PF_HQ_ALIGNED_BASES\": \"5700078357\", \"PF_HQ_ALIGNED_Q20_BASES\": \"5563159741\", \"PF_HQ_MEDIAN_MISMATCHES\": \"0.000000\", \"PF_MISMATCH_RATE\": \"0.003032\", \"PF_HQ_ERROR_RATE\": \"0.002940\", \"PF_INDEL_RATE\": \"0.000085\", \"MEAN_READ_LENGTH\": \"150.000000\", \"READS_ALIGNED_IN_PAIRS\": \"39664640\", \"PCT_READS_ALIGNED_IN_PAIRS\": \"0.999885\", \"BAD_CYCLES\": \"0\", \"STRAND_BALANCE\": \"0.524903\", \"PCT_CHIMERAS\": \"0.010777\", \"PCT_ADAPTER\": \"0.000000\", \"\": \"\"}, \"PAIR\": {\"CATEGORY\": \"PAIR\", \"TOTAL_READS\": \"79480570\", \"PF_READS\": \"79480570\", \"PCT_PF_READS\": \"1.000000\", \"PF_NOISE_READS\": \"0\", \"PF_READS_ALIGNED\": \"79404914\", \"PCT_PF_READS_ALIGNED\": \"0.999048\", \"PF_ALIGNED_BASES\": \"11857474810\", \"PF_HQ_ALIGNED_READS\": \"76388452\", \"PF_HQ_ALIGNED_BASES\": \"11413045949\", \"PF_HQ_ALIGNED_Q20_BASES\": \"11145764885\", \"PF_HQ_MEDIAN_MISMATCHES\": \"0.000000\", \"PF_MISMATCH_RATE\": \"0.002933\", \"PF_HQ_ERROR_RATE\": \"0.002845\", \"PF_INDEL_RATE\": \"0.000087\", \"MEAN_READ_LENGTH\": \"150.000000\", \"READS_ALIGNED_IN_PAIRS\": \"79329280\", \"PCT_READS_ALIGNED_IN_PAIRS\": \"0.999047\", \"BAD_CYCLES\": \"0\", \"STRAND_BALANCE\": \"0.500078\", \"PCT_CHIMERAS\": \"0.010772\", \"PCT_ADAPTER\": \"0.000000\", \"\": \"\"}}, \"C0288\": {\"FIRST_OF_PAIR\": {\"CATEGORY\": \"FIRST_OF_PAIR\", \"TOTAL_READS\": \"43436721\", \"PF_READS\": \"43436721\", \"PCT_PF_READS\": \"1.000000\", \"PF_NOISE_READS\": \"0\", \"PF_READS_ALIGNED\": \"43432996\", \"PCT_PF_READS_ALIGNED\": \"0.999914\", \"PF_ALIGNED_BASES\": \"6490286929\", \"PF_HQ_ALIGNED_READS\": \"42041567\", \"PF_HQ_ALIGNED_BASES\": \"6284309207\", \"PF_HQ_ALIGNED_Q20_BASES\": \"6147121346\", \"PF_HQ_MEDIAN_MISMATCHES\": \"0.000000\", \"PF_MISMATCH_RATE\": \"0.002701\", \"PF_HQ_ERROR_RATE\": \"0.002638\", \"PF_INDEL_RATE\": \"0.000134\", \"MEAN_READ_LENGTH\": \"150.000000\", \"READS_ALIGNED_IN_PAIRS\": \"43366762\", \"PCT_READS_ALIGNED_IN_PAIRS\": \"0.998475\", \"BAD_CYCLES\": \"0\", \"STRAND_BALANCE\": \"0.484089\", \"PCT_CHIMERAS\": \"0.009321\", \"PCT_ADAPTER\": \"0.000000\", \"\": \"\"}, \"SECOND_OF_PAIR\": {\"CATEGORY\": \"SECOND_OF_PAIR\", \"TOTAL_READS\": \"43436721\", \"PF_READS\": \"43436721\", \"PCT_PF_READS\": \"1.000000\", \"PF_NOISE_READS\": \"0\", \"PF_READS_ALIGNED\": \"43370485\", \"PCT_PF_READS_ALIGNED\": \"0.998475\", \"PF_ALIGNED_BASES\": \"6474034338\", \"PF_HQ_ALIGNED_READS\": \"41962818\", \"PF_HQ_ALIGNED_BASES\": \"6267335890\", \"PF_HQ_ALIGNED_Q20_BASES\": \"6107874455\", \"PF_HQ_MEDIAN_MISMATCHES\": \"0.000000\", \"PF_MISMATCH_RATE\": \"0.003267\", \"PF_HQ_ERROR_RATE\": \"0.003191\", \"PF_INDEL_RATE\": \"0.000131\", \"MEAN_READ_LENGTH\": \"150.000000\", \"READS_ALIGNED_IN_PAIRS\": \"43366762\", \"PCT_READS_ALIGNED_IN_PAIRS\": \"0.999914\", \"BAD_CYCLES\": \"0\", \"STRAND_BALANCE\": \"0.516094\", \"PCT_CHIMERAS\": \"0.009361\", \"PCT_ADAPTER\": \"0.000000\", \"\": \"\"}, \"PAIR\": {\"CATEGORY\": \"PAIR\", \"TOTAL_READS\": \"86873442\", \"PF_READS\": \"86873442\", \"PCT_PF_READS\": \"1.000000\", \"PF_NOISE_READS\": \"0\", \"PF_READS_ALIGNED\": \"86803481\", \"PCT_PF_READS_ALIGNED\": \"0.999195\", \"PF_ALIGNED_BASES\": \"12964321267\", \"PF_HQ_ALIGNED_READS\": \"84004385\", \"PF_HQ_ALIGNED_BASES\": \"12551645097\", \"PF_HQ_ALIGNED_Q20_BASES\": \"12254995801\", \"PF_HQ_MEDIAN_MISMATCHES\": \"0.000000\", \"PF_MISMATCH_RATE\": \"0.002984\", \"PF_HQ_ERROR_RATE\": \"0.002914\", \"PF_INDEL_RATE\": \"0.000132\", \"MEAN_READ_LENGTH\": \"150.000000\", \"READS_ALIGNED_IN_PAIRS\": \"86733524\", \"PCT_READS_ALIGNED_IN_PAIRS\": \"0.999194\", \"BAD_CYCLES\": \"0\", \"STRAND_BALANCE\": \"0.500080\", \"PCT_CHIMERAS\": \"0.009341\", \"PCT_ADAPTER\": \"0.000000\", \"\": \"\"}}, \"C0334\": {\"FIRST_OF_PAIR\": {\"CATEGORY\": \"FIRST_OF_PAIR\", \"TOTAL_READS\": \"40976448\", \"PF_READS\": \"40976448\", \"PCT_PF_READS\": \"1.000000\", \"PF_NOISE_READS\": \"0\", \"PF_READS_ALIGNED\": \"40972734\", \"PCT_PF_READS_ALIGNED\": \"0.999909\", \"PF_ALIGNED_BASES\": \"6108810358\", \"PF_HQ_ALIGNED_READS\": \"39582311\", \"PF_HQ_ALIGNED_BASES\": \"5903856606\", \"PF_HQ_ALIGNED_Q20_BASES\": \"5777599621\", \"PF_HQ_MEDIAN_MISMATCHES\": \"0.000000\", \"PF_MISMATCH_RATE\": \"0.002687\", \"PF_HQ_ERROR_RATE\": \"0.002619\", \"PF_INDEL_RATE\": \"0.000137\", \"MEAN_READ_LENGTH\": \"150.000000\", \"READS_ALIGNED_IN_PAIRS\": \"40907370\", \"PCT_READS_ALIGNED_IN_PAIRS\": \"0.998405\", \"BAD_CYCLES\": \"0\", \"STRAND_BALANCE\": \"0.476068\", \"PCT_CHIMERAS\": \"0.011308\", \"PCT_ADAPTER\": \"0.000000\", \"\": \"\"}, \"SECOND_OF_PAIR\": {\"CATEGORY\": \"SECOND_OF_PAIR\", \"TOTAL_READS\": \"40976448\", \"PF_READS\": \"40976448\", \"PCT_PF_READS\": \"1.000000\", \"PF_NOISE_READS\": \"0\", \"PF_READS_ALIGNED\": \"40911081\", \"PCT_PF_READS_ALIGNED\": \"0.998405\", \"PF_ALIGNED_BASES\": \"6092065720\", \"PF_HQ_ALIGNED_READS\": \"39505827\", \"PF_HQ_ALIGNED_BASES\": \"5886647137\", \"PF_HQ_ALIGNED_Q20_BASES\": \"5733402068\", \"PF_HQ_MEDIAN_MISMATCHES\": \"0.000000\", \"PF_MISMATCH_RATE\": \"0.003354\", \"PF_HQ_ERROR_RATE\": \"0.003273\", \"PF_INDEL_RATE\": \"0.000133\", \"MEAN_READ_LENGTH\": \"150.000000\", \"READS_ALIGNED_IN_PAIRS\": \"40907370\", \"PCT_READS_ALIGNED_IN_PAIRS\": \"0.999909\", \"BAD_CYCLES\": \"0\", \"STRAND_BALANCE\": \"0.524070\", \"PCT_CHIMERAS\": \"0.011514\", \"PCT_ADAPTER\": \"0.000000\", \"\": \"\"}, \"PAIR\": {\"CATEGORY\": \"PAIR\", \"TOTAL_READS\": \"81952896\", \"PF_READS\": \"81952896\", \"PCT_PF_READS\": \"1.000000\", \"PF_NOISE_READS\": \"0\", \"PF_READS_ALIGNED\": \"81883815\", \"PCT_PF_READS_ALIGNED\": \"0.999157\", \"PF_ALIGNED_BASES\": \"12200876078\", \"PF_HQ_ALIGNED_READS\": \"79088138\", \"PF_HQ_ALIGNED_BASES\": \"11790503743\", \"PF_HQ_ALIGNED_Q20_BASES\": \"11511001689\", \"PF_HQ_MEDIAN_MISMATCHES\": \"0.000000\", \"PF_MISMATCH_RATE\": \"0.003020\", \"PF_HQ_ERROR_RATE\": \"0.002945\", \"PF_INDEL_RATE\": \"0.000135\", \"MEAN_READ_LENGTH\": \"150.000000\", \"READS_ALIGNED_IN_PAIRS\": \"81814740\", \"PCT_READS_ALIGNED_IN_PAIRS\": \"0.999156\", \"BAD_CYCLES\": \"0\", \"STRAND_BALANCE\": \"0.500051\", \"PCT_CHIMERAS\": \"0.011411\", \"PCT_ADAPTER\": \"0.000000\", \"\": \"\"}}, \"C1572\": {\"FIRST_OF_PAIR\": {\"CATEGORY\": \"FIRST_OF_PAIR\", \"TOTAL_READS\": \"43693556\", \"PF_READS\": \"43693556\", \"PCT_PF_READS\": \"1.000000\", \"PF_NOISE_READS\": \"0\", \"PF_READS_ALIGNED\": \"43689199\", \"PCT_PF_READS_ALIGNED\": \"0.999900\", \"PF_ALIGNED_BASES\": \"6527586652\", \"PF_HQ_ALIGNED_READS\": \"42220189\", \"PF_HQ_ALIGNED_BASES\": \"6310065130\", \"PF_HQ_ALIGNED_Q20_BASES\": \"6175033433\", \"PF_HQ_MEDIAN_MISMATCHES\": \"0.000000\", \"PF_MISMATCH_RATE\": \"0.002651\", \"PF_HQ_ERROR_RATE\": \"0.002588\", \"PF_INDEL_RATE\": \"0.000109\", \"MEAN_READ_LENGTH\": \"150.000000\", \"READS_ALIGNED_IN_PAIRS\": \"43620824\", \"PCT_READS_ALIGNED_IN_PAIRS\": \"0.998435\", \"BAD_CYCLES\": \"0\", \"STRAND_BALANCE\": \"0.487341\", \"PCT_CHIMERAS\": \"0.011313\", \"PCT_ADAPTER\": \"0.000000\", \"\": \"\"}, \"SECOND_OF_PAIR\": {\"CATEGORY\": \"SECOND_OF_PAIR\", \"TOTAL_READS\": \"43693556\", \"PF_READS\": \"43693556\", \"PCT_PF_READS\": \"1.000000\", \"PF_NOISE_READS\": \"0\", \"PF_READS_ALIGNED\": \"43625177\", \"PCT_PF_READS_ALIGNED\": \"0.998435\", \"PF_ALIGNED_BASES\": \"6514225281\", \"PF_HQ_ALIGNED_READS\": \"42143688\", \"PF_HQ_ALIGNED_BASES\": \"6296113217\", \"PF_HQ_ALIGNED_Q20_BASES\": \"6148399108\", \"PF_HQ_MEDIAN_MISMATCHES\": \"0.000000\", \"PF_MISMATCH_RATE\": \"0.002974\", \"PF_HQ_ERROR_RATE\": \"0.002903\", \"PF_INDEL_RATE\": \"0.000106\", \"MEAN_READ_LENGTH\": \"150.000000\", \"READS_ALIGNED_IN_PAIRS\": \"43620824\", \"PCT_READS_ALIGNED_IN_PAIRS\": \"0.999900\", \"BAD_CYCLES\": \"0\", \"STRAND_BALANCE\": \"0.512814\", \"PCT_CHIMERAS\": \"0.011346\", \"PCT_ADAPTER\": \"0.000000\", \"\": \"\"}, \"PAIR\": {\"CATEGORY\": \"PAIR\", \"TOTAL_READS\": \"87387112\", \"PF_READS\": \"87387112\", \"PCT_PF_READS\": \"1.000000\", \"PF_NOISE_READS\": \"0\", \"PF_READS_ALIGNED\": \"87314376\", \"PCT_PF_READS_ALIGNED\": \"0.999168\", \"PF_ALIGNED_BASES\": \"13041811933\", \"PF_HQ_ALIGNED_READS\": \"84363877\", \"PF_HQ_ALIGNED_BASES\": \"12606178347\", \"PF_HQ_ALIGNED_Q20_BASES\": \"12323432541\", \"PF_HQ_MEDIAN_MISMATCHES\": \"0.000000\", \"PF_MISMATCH_RATE\": \"0.002813\", \"PF_HQ_ERROR_RATE\": \"0.002745\", \"PF_INDEL_RATE\": \"0.000108\", \"MEAN_READ_LENGTH\": \"150.000000\", \"READS_ALIGNED_IN_PAIRS\": \"87241648\", \"PCT_READS_ALIGNED_IN_PAIRS\": \"0.999167\", \"BAD_CYCLES\": \"0\", \"STRAND_BALANCE\": \"0.500068\", \"PCT_CHIMERAS\": \"0.011330\", \"PCT_ADAPTER\": \"0.000000\", \"\": \"\"}}, \"C8448\": {\"FIRST_OF_PAIR\": {\"CATEGORY\": \"FIRST_OF_PAIR\", \"TOTAL_READS\": \"41219059\", \"PF_READS\": \"41219059\", \"PCT_PF_READS\": \"1.000000\", \"PF_NOISE_READS\": \"0\", \"PF_READS_ALIGNED\": \"41215560\", \"PCT_PF_READS_ALIGNED\": \"0.999915\", \"PF_ALIGNED_BASES\": \"6157313671\", \"PF_HQ_ALIGNED_READS\": \"39851777\", \"PF_HQ_ALIGNED_BASES\": \"5955430701\", \"PF_HQ_ALIGNED_Q20_BASES\": \"5823925410\", \"PF_HQ_MEDIAN_MISMATCHES\": \"0.000000\", \"PF_MISMATCH_RATE\": \"0.002723\", \"PF_HQ_ERROR_RATE\": \"0.002659\", \"PF_INDEL_RATE\": \"0.000128\", \"MEAN_READ_LENGTH\": \"150.000000\", \"READS_ALIGNED_IN_PAIRS\": \"41164250\", \"PCT_READS_ALIGNED_IN_PAIRS\": \"0.998755\", \"BAD_CYCLES\": \"0\", \"STRAND_BALANCE\": \"0.483227\", \"PCT_CHIMERAS\": \"0.010346\", \"PCT_ADAPTER\": \"0.000000\", \"\": \"\"}, \"SECOND_OF_PAIR\": {\"CATEGORY\": \"SECOND_OF_PAIR\", \"TOTAL_READS\": \"41219059\", \"PF_READS\": \"41219059\", \"PCT_PF_READS\": \"1.000000\", \"PF_NOISE_READS\": \"0\", \"PF_READS_ALIGNED\": \"41167747\", \"PCT_PF_READS_ALIGNED\": \"0.998755\", \"PF_ALIGNED_BASES\": \"6146148873\", \"PF_HQ_ALIGNED_READS\": \"39790998\", \"PF_HQ_ALIGNED_BASES\": \"5943639646\", \"PF_HQ_ALIGNED_Q20_BASES\": \"5816408533\", \"PF_HQ_MEDIAN_MISMATCHES\": \"0.000000\", \"PF_MISMATCH_RATE\": \"0.002771\", \"PF_HQ_ERROR_RATE\": \"0.002700\", \"PF_INDEL_RATE\": \"0.000125\", \"MEAN_READ_LENGTH\": \"150.000000\", \"READS_ALIGNED_IN_PAIRS\": \"41164250\", \"PCT_READS_ALIGNED_IN_PAIRS\": \"0.999915\", \"BAD_CYCLES\": \"0\", \"STRAND_BALANCE\": \"0.516890\", \"PCT_CHIMERAS\": \"0.010447\", \"PCT_ADAPTER\": \"0.000000\", \"\": \"\"}, \"PAIR\": {\"CATEGORY\": \"PAIR\", \"TOTAL_READS\": \"82438118\", \"PF_READS\": \"82438118\", \"PCT_PF_READS\": \"1.000000\", \"PF_NOISE_READS\": \"0\", \"PF_READS_ALIGNED\": \"82383307\", \"PCT_PF_READS_ALIGNED\": \"0.999335\", \"PF_ALIGNED_BASES\": \"12303462544\", \"PF_HQ_ALIGNED_READS\": \"79642775\", \"PF_HQ_ALIGNED_BASES\": \"11899070347\", \"PF_HQ_ALIGNED_Q20_BASES\": \"11640333943\", \"PF_HQ_MEDIAN_MISMATCHES\": \"0.000000\", \"PF_MISMATCH_RATE\": \"0.002747\", \"PF_HQ_ERROR_RATE\": \"0.002680\", \"PF_INDEL_RATE\": \"0.000126\", \"MEAN_READ_LENGTH\": \"150.000000\", \"READS_ALIGNED_IN_PAIRS\": \"82328500\", \"PCT_READS_ALIGNED_IN_PAIRS\": \"0.999335\", \"BAD_CYCLES\": \"0\", \"STRAND_BALANCE\": \"0.500049\", \"PCT_CHIMERAS\": \"0.010396\", \"PCT_ADAPTER\": \"0.000000\", \"\": \"\"}}}');\n",
       "\n",
       "myDropdown(select,Object.keys(objTum)) \n",
       "\n",
       "document.getElementById(\"selectSample2\").onchange = function() {myTable(2,objTum)};\n",
       "\n",
       "myTable(2,objTum)\n",
       "\n",
       "</script>\n",
       "</body>\n"
      ],
      "text/plain": [
       "<IPython.core.display.HTML object>"
      ]
     },
     "execution_count": 38,
     "metadata": {},
     "output_type": "execute_result"
    }
   ],
   "source": [
    "path = \"/storage/gluster/vol1/data/PUBLIC/SCAMBIO/ABT414_WES_Analysis/ABT414_Flank/ABT414_Flank/\"\n",
    "#Sample = tumors[1]\n",
    "file = \"_T_aln_metrics.txt\"    \n",
    "\n",
    "alldata = {}\n",
    "\n",
    "for i in range(batchSize):\n",
    "    csvFilePath = path+tumors[i]+file\n",
    "    jsonfile = make_json(csvFilePath,tumors[i],alldata)\n",
    "    \n",
    "id = id +1\n",
    "\n",
    "javascript = \"\"\"\n",
    "\n",
    "<select id='selectSample\"\"\"+str(id)+\"\"\"'>  </select>\n",
    "\n",
    "<h1>The sample is:  <span id=\"myText\"\"\"+str(id)+\"\"\"\"></span></h1>\n",
    "\n",
    "<body>\n",
    "\n",
    "<table id=\"myTable\"\"\"+str(id)+\"\"\"\"\"></table>\n",
    "<br>\n",
    "\n",
    "<script type=\"text/Javascript\">\n",
    "\n",
    "var select = document.getElementById(\"selectSample\"\"\"+str(id)+\"\"\"\");\n",
    "\n",
    "var objTum = JSON.parse('\"\"\"+jsonfile+\"\"\"');\n",
    "\n",
    "myDropdown(select,Object.keys(objTum)) \n",
    "\n",
    "document.getElementById(\"selectSample\"\"\"+str(id)+\"\"\"\").onchange = function() {myTable(\"\"\"+str(id)+\"\"\",objTum)};\n",
    "\n",
    "myTable(\"\"\"+str(id)+\"\"\",objTum)\n",
    "\n",
    "</script>\n",
    "</body>\n",
    "\"\"\"\n",
    "\n",
    "HTML(javascript)"
   ]
  },
  {
   "cell_type": "markdown",
   "metadata": {},
   "source": [
    "- **CATEGORY**: Distinguishes either \n",
    "    - PAIRED: for a fragment run.\n",
    "    - FIRST_OF_PAIR: when metrics are for only the first read in a paired run. \n",
    "    - SECOND_OF_PAIR: when metrics are for only the second read in a paired run.\n",
    "    - PAIR: when metrics are aggregated for both first and second reads in a pair. \n",
    "\n",
    "\n",
    "- **TOTAL_READS**: The total number of reads \n",
    "\n",
    "- **PF_READS_ALIGNED**: The number of reads that aligned to the reference sequence\n",
    "\n",
    "- **PCT_PF_READS_ALIGNED**: The percentage of reads that aligned to the reference sequence"
   ]
  },
  {
   "cell_type": "code",
   "execution_count": 99,
   "metadata": {},
   "outputs": [
    {
     "data": {
      "text/markdown": [
       "___"
      ],
      "text/plain": [
       "<IPython.core.display.Markdown object>"
      ]
     },
     "metadata": {},
     "output_type": "display_data"
    },
    {
     "data": {
      "text/markdown": [
       "### Tumor: A1783"
      ],
      "text/plain": [
       "<IPython.core.display.Markdown object>"
      ]
     },
     "metadata": {},
     "output_type": "display_data"
    },
    {
     "name": "stdout",
     "output_type": "stream",
     "text": [
      "/storage/gluster/vol1/SHARED/NGSTOOLS/SENTIEON/sentieon-genomics-201911/bin/sentieon plot GCBias -o A1783T_gc-report.pdf A1783T_gc_metrics.txt\n",
      "\n"
     ]
    },
    {
     "data": {
      "text/markdown": [
       "### Tumor: A9155"
      ],
      "text/plain": [
       "<IPython.core.display.Markdown object>"
      ]
     },
     "metadata": {},
     "output_type": "display_data"
    },
    {
     "name": "stdout",
     "output_type": "stream",
     "text": [
      "/storage/gluster/vol1/SHARED/NGSTOOLS/SENTIEON/sentieon-genomics-201911/bin/sentieon plot GCBias -o A9155T_gc-report.pdf A9155T_gc_metrics.txt\n",
      "\n"
     ]
    },
    {
     "data": {
      "text/markdown": [
       "### Tumor: A9878"
      ],
      "text/plain": [
       "<IPython.core.display.Markdown object>"
      ]
     },
     "metadata": {},
     "output_type": "display_data"
    },
    {
     "name": "stdout",
     "output_type": "stream",
     "text": [
      "/storage/gluster/vol1/SHARED/NGSTOOLS/SENTIEON/sentieon-genomics-201911/bin/sentieon plot GCBias -o A9878T_gc-report.pdf A9878T_gc_metrics.txt\n",
      "\n"
     ]
    },
    {
     "data": {
      "text/markdown": [
       "### Tumor: AT2550"
      ],
      "text/plain": [
       "<IPython.core.display.Markdown object>"
      ]
     },
     "metadata": {},
     "output_type": "display_data"
    },
    {
     "name": "stdout",
     "output_type": "stream",
     "text": [
      "/storage/gluster/vol1/SHARED/NGSTOOLS/SENTIEON/sentieon-genomics-201911/bin/sentieon plot GCBias -o AT2550T_gc-report.pdf AT2550T_gc_metrics.txt\n",
      "\n"
     ]
    },
    {
     "data": {
      "text/markdown": [
       "### Tumor: AT2822"
      ],
      "text/plain": [
       "<IPython.core.display.Markdown object>"
      ]
     },
     "metadata": {},
     "output_type": "display_data"
    },
    {
     "name": "stdout",
     "output_type": "stream",
     "text": [
      "/storage/gluster/vol1/SHARED/NGSTOOLS/SENTIEON/sentieon-genomics-201911/bin/sentieon plot GCBias -o AT2822T_gc-report.pdf AT2822T_gc_metrics.txt\n",
      "\n"
     ]
    },
    {
     "data": {
      "text/markdown": [
       "### Tumor: AT4415"
      ],
      "text/plain": [
       "<IPython.core.display.Markdown object>"
      ]
     },
     "metadata": {},
     "output_type": "display_data"
    },
    {
     "name": "stdout",
     "output_type": "stream",
     "text": [
      "/storage/gluster/vol1/SHARED/NGSTOOLS/SENTIEON/sentieon-genomics-201911/bin/sentieon plot GCBias -o AT4415T_gc-report.pdf AT4415T_gc_metrics.txt\n",
      "\n"
     ]
    },
    {
     "data": {
      "text/markdown": [
       "### Tumor: AT4808"
      ],
      "text/plain": [
       "<IPython.core.display.Markdown object>"
      ]
     },
     "metadata": {},
     "output_type": "display_data"
    },
    {
     "name": "stdout",
     "output_type": "stream",
     "text": [
      "/storage/gluster/vol1/SHARED/NGSTOOLS/SENTIEON/sentieon-genomics-201911/bin/sentieon plot GCBias -o AT4808T_gc-report.pdf AT4808T_gc_metrics.txt\n",
      "\n"
     ]
    },
    {
     "data": {
      "text/markdown": [
       "### Tumor: C0288"
      ],
      "text/plain": [
       "<IPython.core.display.Markdown object>"
      ]
     },
     "metadata": {},
     "output_type": "display_data"
    },
    {
     "name": "stdout",
     "output_type": "stream",
     "text": [
      "/storage/gluster/vol1/SHARED/NGSTOOLS/SENTIEON/sentieon-genomics-201911/bin/sentieon plot GCBias -o C0288T_gc-report.pdf C0288T_gc_metrics.txt\n",
      "\n"
     ]
    },
    {
     "data": {
      "text/markdown": [
       "### Tumor: C0334"
      ],
      "text/plain": [
       "<IPython.core.display.Markdown object>"
      ]
     },
     "metadata": {},
     "output_type": "display_data"
    },
    {
     "name": "stdout",
     "output_type": "stream",
     "text": [
      "/storage/gluster/vol1/SHARED/NGSTOOLS/SENTIEON/sentieon-genomics-201911/bin/sentieon plot GCBias -o C0334T_gc-report.pdf C0334T_gc_metrics.txt\n",
      "\n"
     ]
    },
    {
     "data": {
      "text/markdown": [
       "### Tumor: C1572"
      ],
      "text/plain": [
       "<IPython.core.display.Markdown object>"
      ]
     },
     "metadata": {},
     "output_type": "display_data"
    },
    {
     "name": "stdout",
     "output_type": "stream",
     "text": [
      "/storage/gluster/vol1/SHARED/NGSTOOLS/SENTIEON/sentieon-genomics-201911/bin/sentieon plot GCBias -o C1572T_gc-report.pdf C1572T_gc_metrics.txt\n",
      "\n"
     ]
    },
    {
     "data": {
      "text/markdown": [
       "### Tumor: C8448"
      ],
      "text/plain": [
       "<IPython.core.display.Markdown object>"
      ]
     },
     "metadata": {},
     "output_type": "display_data"
    },
    {
     "name": "stdout",
     "output_type": "stream",
     "text": [
      "/storage/gluster/vol1/SHARED/NGSTOOLS/SENTIEON/sentieon-genomics-201911/bin/sentieon plot GCBias -o C8448T_gc-report.pdf C8448T_gc_metrics.txt\n",
      "\n"
     ]
    }
   ],
   "source": [
    "display(Markdown(\"___\"))\n",
    "for i in range(batchSize):\n",
    "    TUMOR = batch[i][1]\n",
    "    display(Markdown(\"### Tumor: \"+TUMOR))\n",
    "    command2 = data['SENTIEON_INSTALL_DIR']+\"/bin/sentieon plot GCBias -o \"+TUMOR+\"T_gc-report.pdf \"+TUMOR+\"T_gc_metrics.txt\"\n",
    "    print(command2+'\\n')\n",
    "    if exec_scripts:\n",
    "        subprocess.check_output(command2,shell=True)"
   ]
  },
  {
   "cell_type": "code",
   "execution_count": 101,
   "metadata": {},
   "outputs": [
    {
     "data": {
      "text/html": [
       "\n",
       "\n",
       "<select id='selectSample7'>  </select>\n",
       "\n",
       "<body onload=\"myPlots()\">\n",
       "\n",
       "<h1>The sample is:  <span id=\"myText7\"></span></h1>\n",
       "\n",
       "<div>\n",
       "  <iframe id=\"pdf7\" src=\"\" style=\"width:100%;height:700px;\"></iframe>\n",
       "</div>\n",
       "\n",
       "\n",
       "</body>\n",
       "\n",
       "\n",
       "\n",
       "<script type=\"text/Javascript\">\n",
       "\n",
       "var select = document.getElementById(\"selectSample7\");\n",
       "\n",
       "document.getElementById(\"myText7\").innerHTML = options;\n",
       "\n",
       "var options = [\"A9155\",\"A9878\",\"AT2550\",\"AT2822\",\"AT4415\",\"AT4808\",\"C0288\",\"C0334\",\"C1572\",\"C8448\"];\n",
       "\n",
       "myDropdown(select,options)\n",
       "\n",
       "var type7 = \"_T_gc-report.pdf\"\n",
       "\n",
       "myPlots(type7,7)\n",
       "\n",
       "document.getElementById(\"selectSample7\").onchange = function() {myPlots(type7,7)};\n",
       "\n",
       "\n",
       "</script>\n"
      ],
      "text/plain": [
       "<IPython.core.display.HTML object>"
      ]
     },
     "execution_count": 101,
     "metadata": {},
     "output_type": "execute_result"
    }
   ],
   "source": [
    "#interact(plots, Sample=widgTumAll, file=fixed(\"_T_gc-report.pdf\"), normal=fixed(False), listSample = fixed(tumors));\n",
    "\n",
    "id = id +1\n",
    "\n",
    "input_form = \"\"\"\n",
    "\n",
    "<select id='selectSample\"\"\"+str(id)+\"\"\"'>  </select>\n",
    "\n",
    "<body onload=\"myPlots()\">\n",
    "\n",
    "<h1>The sample is:  <span id=\"myText\"\"\"+str(id)+\"\"\"\"></span></h1>\n",
    "\n",
    "<div>\n",
    "  <iframe id=\"pdf\"\"\"+str(id)+\"\"\"\" src=\"\" style=\"width:100%;height:700px;\"></iframe>\n",
    "</div>\n",
    "\n",
    "\n",
    "</body>\n",
    "\n",
    "\"\"\"\n",
    "\n",
    "javascript = \"\"\"\n",
    "\n",
    "<script type=\"text/Javascript\">\n",
    "\n",
    "var select = document.getElementById(\"selectSample\"\"\"+str(id)+\"\"\"\");\n",
    "\n",
    "myDropdown(select,Object.keys(objTum)) \n",
    "\n",
    "var type\"\"\"+str(id)+\"\"\" = \"_T_gc-report.pdf\"\n",
    "\n",
    "myPlots(type\"\"\"+str(id)+\"\"\",\"\"\"+str(id)+\"\"\")\n",
    "\n",
    "document.getElementById(\"selectSample\"\"\"+str(id)+\"\"\"\").onchange = function() {myPlots(type\"\"\"+str(id)+\"\"\",\"\"\"+str(id)+\"\"\")};\n",
    "\n",
    "\n",
    "</script>\n",
    "\"\"\"\n",
    "    \n",
    "\n",
    "HTML(input_form + javascript)"
   ]
  },
  {
   "cell_type": "code",
   "execution_count": 100,
   "metadata": {},
   "outputs": [
    {
     "data": {
      "text/markdown": [
       "___"
      ],
      "text/plain": [
       "<IPython.core.display.Markdown object>"
      ]
     },
     "metadata": {},
     "output_type": "display_data"
    },
    {
     "data": {
      "text/markdown": [
       "### Tumor: A1783"
      ],
      "text/plain": [
       "<IPython.core.display.Markdown object>"
      ]
     },
     "metadata": {},
     "output_type": "display_data"
    },
    {
     "name": "stdout",
     "output_type": "stream",
     "text": [
      "/storage/gluster/vol1/SHARED/NGSTOOLS/SENTIEON/sentieon-genomics-201911/bin/sentieon plot QualDistribution -o A1783T_qd-report.pdf A1783T_qd_metrics.txt\n",
      "\n"
     ]
    },
    {
     "data": {
      "text/markdown": [
       "### Tumor: A9155"
      ],
      "text/plain": [
       "<IPython.core.display.Markdown object>"
      ]
     },
     "metadata": {},
     "output_type": "display_data"
    },
    {
     "name": "stdout",
     "output_type": "stream",
     "text": [
      "/storage/gluster/vol1/SHARED/NGSTOOLS/SENTIEON/sentieon-genomics-201911/bin/sentieon plot QualDistribution -o A9155T_qd-report.pdf A9155T_qd_metrics.txt\n",
      "\n"
     ]
    },
    {
     "data": {
      "text/markdown": [
       "### Tumor: A9878"
      ],
      "text/plain": [
       "<IPython.core.display.Markdown object>"
      ]
     },
     "metadata": {},
     "output_type": "display_data"
    },
    {
     "name": "stdout",
     "output_type": "stream",
     "text": [
      "/storage/gluster/vol1/SHARED/NGSTOOLS/SENTIEON/sentieon-genomics-201911/bin/sentieon plot QualDistribution -o A9878T_qd-report.pdf A9878T_qd_metrics.txt\n",
      "\n"
     ]
    },
    {
     "data": {
      "text/markdown": [
       "### Tumor: AT2550"
      ],
      "text/plain": [
       "<IPython.core.display.Markdown object>"
      ]
     },
     "metadata": {},
     "output_type": "display_data"
    },
    {
     "name": "stdout",
     "output_type": "stream",
     "text": [
      "/storage/gluster/vol1/SHARED/NGSTOOLS/SENTIEON/sentieon-genomics-201911/bin/sentieon plot QualDistribution -o AT2550T_qd-report.pdf AT2550T_qd_metrics.txt\n",
      "\n"
     ]
    },
    {
     "data": {
      "text/markdown": [
       "### Tumor: AT2822"
      ],
      "text/plain": [
       "<IPython.core.display.Markdown object>"
      ]
     },
     "metadata": {},
     "output_type": "display_data"
    },
    {
     "name": "stdout",
     "output_type": "stream",
     "text": [
      "/storage/gluster/vol1/SHARED/NGSTOOLS/SENTIEON/sentieon-genomics-201911/bin/sentieon plot QualDistribution -o AT2822T_qd-report.pdf AT2822T_qd_metrics.txt\n",
      "\n"
     ]
    },
    {
     "data": {
      "text/markdown": [
       "### Tumor: AT4415"
      ],
      "text/plain": [
       "<IPython.core.display.Markdown object>"
      ]
     },
     "metadata": {},
     "output_type": "display_data"
    },
    {
     "name": "stdout",
     "output_type": "stream",
     "text": [
      "/storage/gluster/vol1/SHARED/NGSTOOLS/SENTIEON/sentieon-genomics-201911/bin/sentieon plot QualDistribution -o AT4415T_qd-report.pdf AT4415T_qd_metrics.txt\n",
      "\n"
     ]
    },
    {
     "data": {
      "text/markdown": [
       "### Tumor: AT4808"
      ],
      "text/plain": [
       "<IPython.core.display.Markdown object>"
      ]
     },
     "metadata": {},
     "output_type": "display_data"
    },
    {
     "name": "stdout",
     "output_type": "stream",
     "text": [
      "/storage/gluster/vol1/SHARED/NGSTOOLS/SENTIEON/sentieon-genomics-201911/bin/sentieon plot QualDistribution -o AT4808T_qd-report.pdf AT4808T_qd_metrics.txt\n",
      "\n"
     ]
    },
    {
     "data": {
      "text/markdown": [
       "### Tumor: C0288"
      ],
      "text/plain": [
       "<IPython.core.display.Markdown object>"
      ]
     },
     "metadata": {},
     "output_type": "display_data"
    },
    {
     "name": "stdout",
     "output_type": "stream",
     "text": [
      "/storage/gluster/vol1/SHARED/NGSTOOLS/SENTIEON/sentieon-genomics-201911/bin/sentieon plot QualDistribution -o C0288T_qd-report.pdf C0288T_qd_metrics.txt\n",
      "\n"
     ]
    },
    {
     "data": {
      "text/markdown": [
       "### Tumor: C0334"
      ],
      "text/plain": [
       "<IPython.core.display.Markdown object>"
      ]
     },
     "metadata": {},
     "output_type": "display_data"
    },
    {
     "name": "stdout",
     "output_type": "stream",
     "text": [
      "/storage/gluster/vol1/SHARED/NGSTOOLS/SENTIEON/sentieon-genomics-201911/bin/sentieon plot QualDistribution -o C0334T_qd-report.pdf C0334T_qd_metrics.txt\n",
      "\n"
     ]
    },
    {
     "data": {
      "text/markdown": [
       "### Tumor: C1572"
      ],
      "text/plain": [
       "<IPython.core.display.Markdown object>"
      ]
     },
     "metadata": {},
     "output_type": "display_data"
    },
    {
     "name": "stdout",
     "output_type": "stream",
     "text": [
      "/storage/gluster/vol1/SHARED/NGSTOOLS/SENTIEON/sentieon-genomics-201911/bin/sentieon plot QualDistribution -o C1572T_qd-report.pdf C1572T_qd_metrics.txt\n",
      "\n"
     ]
    },
    {
     "data": {
      "text/markdown": [
       "### Tumor: C8448"
      ],
      "text/plain": [
       "<IPython.core.display.Markdown object>"
      ]
     },
     "metadata": {},
     "output_type": "display_data"
    },
    {
     "name": "stdout",
     "output_type": "stream",
     "text": [
      "/storage/gluster/vol1/SHARED/NGSTOOLS/SENTIEON/sentieon-genomics-201911/bin/sentieon plot QualDistribution -o C8448T_qd-report.pdf C8448T_qd_metrics.txt\n",
      "\n"
     ]
    }
   ],
   "source": [
    "display(Markdown(\"___\"))\n",
    "for i in range(batchSize):\n",
    "    TUMOR = batch[i][1]\n",
    "    display(Markdown(\"### Tumor: \"+TUMOR))\n",
    "    command3 = data['SENTIEON_INSTALL_DIR']+\"/bin/sentieon plot QualDistribution -o \"+TUMOR+\"T_qd-report.pdf \"+TUMOR+\"T_qd_metrics.txt\"\n",
    "    print(command3+'\\n')\n",
    "    if exec_scripts:\n",
    "        subprocess.check_output(command3,shell=True)"
   ]
  },
  {
   "cell_type": "code",
   "execution_count": 103,
   "metadata": {},
   "outputs": [
    {
     "data": {
      "text/html": [
       "\n",
       "\n",
       "<select id='selectSample8'>  </select>\n",
       "\n",
       "<body onload=\"myPlots()\">\n",
       "\n",
       "<h1>The sample is:  <span id=\"myText8\"></span></h1>\n",
       "\n",
       "<div>\n",
       "  <iframe id=\"pdf8\" src=\"\" style=\"width:100%;height:700px;\"></iframe>\n",
       "</div>\n",
       "\n",
       "\n",
       "</body>\n",
       "\n",
       "\n",
       "\n",
       "<script type=\"text/Javascript\">\n",
       "\n",
       "var select = document.getElementById(\"selectSample8\");\n",
       "\n",
       "document.getElementById(\"myText8\").innerHTML = options;\n",
       "\n",
       "var options = [\"A9155\",\"A9878\",\"AT2550\",\"AT2822\",\"AT4415\",\"AT4808\",\"C0288\",\"C0334\",\"C1572\",\"C8448\"];\n",
       "\n",
       "myDropdown(select,options)\n",
       "\n",
       "var type8 = \"_T_qd-report.pdf\"\n",
       "\n",
       "myPlots(type8,8)\n",
       "\n",
       "document.getElementById(\"selectSample8\").onchange = function() {myPlots(type8,8)};\n",
       "\n",
       "\n",
       "</script>\n"
      ],
      "text/plain": [
       "<IPython.core.display.HTML object>"
      ]
     },
     "execution_count": 103,
     "metadata": {},
     "output_type": "execute_result"
    }
   ],
   "source": [
    "#interact(plots, Sample=widgTumAll, file=fixed(\"_T_qd-report.pdf\"), normal=fixed(False), listSample = fixed(tumors));\n",
    "\n",
    "id = id +1\n",
    "\n",
    "input_form = \"\"\"\n",
    "\n",
    "<select id='selectSample\"\"\"+str(id)+\"\"\"'>  </select>\n",
    "\n",
    "<body onload=\"myPlots()\">\n",
    "\n",
    "<h1>The sample is:  <span id=\"myText\"\"\"+str(id)+\"\"\"\"></span></h1>\n",
    "\n",
    "<div>\n",
    "  <iframe id=\"pdf\"\"\"+str(id)+\"\"\"\" src=\"\" style=\"width:100%;height:700px;\"></iframe>\n",
    "</div>\n",
    "\n",
    "\n",
    "</body>\n",
    "\n",
    "\"\"\"\n",
    "\n",
    "javascript = \"\"\"\n",
    "\n",
    "<script type=\"text/Javascript\">\n",
    "\n",
    "var select = document.getElementById(\"selectSample\"\"\"+str(id)+\"\"\"\");\n",
    "\n",
    "myDropdown(select,Object.keys(objTum)) \n",
    "\n",
    "var type\"\"\"+str(id)+\"\"\" = \"_T_qd-report.pdf\"\n",
    "\n",
    "myPlots(type\"\"\"+str(id)+\"\"\",\"\"\"+str(id)+\"\"\")\n",
    "\n",
    "document.getElementById(\"selectSample\"\"\"+str(id)+\"\"\"\").onchange = function() {myPlots(type\"\"\"+str(id)+\"\"\",\"\"\"+str(id)+\"\"\")};\n",
    "\n",
    "\n",
    "</script>\n",
    "\"\"\"\n",
    "    \n",
    "\n",
    "HTML(input_form + javascript)"
   ]
  },
  {
   "cell_type": "code",
   "execution_count": 101,
   "metadata": {},
   "outputs": [
    {
     "data": {
      "text/markdown": [
       "___"
      ],
      "text/plain": [
       "<IPython.core.display.Markdown object>"
      ]
     },
     "metadata": {},
     "output_type": "display_data"
    },
    {
     "data": {
      "text/markdown": [
       "### Tumor: A1783"
      ],
      "text/plain": [
       "<IPython.core.display.Markdown object>"
      ]
     },
     "metadata": {},
     "output_type": "display_data"
    },
    {
     "name": "stdout",
     "output_type": "stream",
     "text": [
      "/storage/gluster/vol1/SHARED/NGSTOOLS/SENTIEON/sentieon-genomics-201911/bin/sentieon plot MeanQualityByCycle -o A1783T_mq-report.pdf A1783T_mq_metrics.txt\n",
      "\n"
     ]
    },
    {
     "data": {
      "text/markdown": [
       "### Tumor: A9155"
      ],
      "text/plain": [
       "<IPython.core.display.Markdown object>"
      ]
     },
     "metadata": {},
     "output_type": "display_data"
    },
    {
     "name": "stdout",
     "output_type": "stream",
     "text": [
      "/storage/gluster/vol1/SHARED/NGSTOOLS/SENTIEON/sentieon-genomics-201911/bin/sentieon plot MeanQualityByCycle -o A9155T_mq-report.pdf A9155T_mq_metrics.txt\n",
      "\n"
     ]
    },
    {
     "data": {
      "text/markdown": [
       "### Tumor: A9878"
      ],
      "text/plain": [
       "<IPython.core.display.Markdown object>"
      ]
     },
     "metadata": {},
     "output_type": "display_data"
    },
    {
     "name": "stdout",
     "output_type": "stream",
     "text": [
      "/storage/gluster/vol1/SHARED/NGSTOOLS/SENTIEON/sentieon-genomics-201911/bin/sentieon plot MeanQualityByCycle -o A9878T_mq-report.pdf A9878T_mq_metrics.txt\n",
      "\n"
     ]
    },
    {
     "data": {
      "text/markdown": [
       "### Tumor: AT2550"
      ],
      "text/plain": [
       "<IPython.core.display.Markdown object>"
      ]
     },
     "metadata": {},
     "output_type": "display_data"
    },
    {
     "name": "stdout",
     "output_type": "stream",
     "text": [
      "/storage/gluster/vol1/SHARED/NGSTOOLS/SENTIEON/sentieon-genomics-201911/bin/sentieon plot MeanQualityByCycle -o AT2550T_mq-report.pdf AT2550T_mq_metrics.txt\n",
      "\n"
     ]
    },
    {
     "data": {
      "text/markdown": [
       "### Tumor: AT2822"
      ],
      "text/plain": [
       "<IPython.core.display.Markdown object>"
      ]
     },
     "metadata": {},
     "output_type": "display_data"
    },
    {
     "name": "stdout",
     "output_type": "stream",
     "text": [
      "/storage/gluster/vol1/SHARED/NGSTOOLS/SENTIEON/sentieon-genomics-201911/bin/sentieon plot MeanQualityByCycle -o AT2822T_mq-report.pdf AT2822T_mq_metrics.txt\n",
      "\n"
     ]
    },
    {
     "data": {
      "text/markdown": [
       "### Tumor: AT4415"
      ],
      "text/plain": [
       "<IPython.core.display.Markdown object>"
      ]
     },
     "metadata": {},
     "output_type": "display_data"
    },
    {
     "name": "stdout",
     "output_type": "stream",
     "text": [
      "/storage/gluster/vol1/SHARED/NGSTOOLS/SENTIEON/sentieon-genomics-201911/bin/sentieon plot MeanQualityByCycle -o AT4415T_mq-report.pdf AT4415T_mq_metrics.txt\n",
      "\n"
     ]
    },
    {
     "data": {
      "text/markdown": [
       "### Tumor: AT4808"
      ],
      "text/plain": [
       "<IPython.core.display.Markdown object>"
      ]
     },
     "metadata": {},
     "output_type": "display_data"
    },
    {
     "name": "stdout",
     "output_type": "stream",
     "text": [
      "/storage/gluster/vol1/SHARED/NGSTOOLS/SENTIEON/sentieon-genomics-201911/bin/sentieon plot MeanQualityByCycle -o AT4808T_mq-report.pdf AT4808T_mq_metrics.txt\n",
      "\n"
     ]
    },
    {
     "data": {
      "text/markdown": [
       "### Tumor: C0288"
      ],
      "text/plain": [
       "<IPython.core.display.Markdown object>"
      ]
     },
     "metadata": {},
     "output_type": "display_data"
    },
    {
     "name": "stdout",
     "output_type": "stream",
     "text": [
      "/storage/gluster/vol1/SHARED/NGSTOOLS/SENTIEON/sentieon-genomics-201911/bin/sentieon plot MeanQualityByCycle -o C0288T_mq-report.pdf C0288T_mq_metrics.txt\n",
      "\n"
     ]
    },
    {
     "data": {
      "text/markdown": [
       "### Tumor: C0334"
      ],
      "text/plain": [
       "<IPython.core.display.Markdown object>"
      ]
     },
     "metadata": {},
     "output_type": "display_data"
    },
    {
     "name": "stdout",
     "output_type": "stream",
     "text": [
      "/storage/gluster/vol1/SHARED/NGSTOOLS/SENTIEON/sentieon-genomics-201911/bin/sentieon plot MeanQualityByCycle -o C0334T_mq-report.pdf C0334T_mq_metrics.txt\n",
      "\n"
     ]
    },
    {
     "data": {
      "text/markdown": [
       "### Tumor: C1572"
      ],
      "text/plain": [
       "<IPython.core.display.Markdown object>"
      ]
     },
     "metadata": {},
     "output_type": "display_data"
    },
    {
     "name": "stdout",
     "output_type": "stream",
     "text": [
      "/storage/gluster/vol1/SHARED/NGSTOOLS/SENTIEON/sentieon-genomics-201911/bin/sentieon plot MeanQualityByCycle -o C1572T_mq-report.pdf C1572T_mq_metrics.txt\n",
      "\n"
     ]
    },
    {
     "data": {
      "text/markdown": [
       "### Tumor: C8448"
      ],
      "text/plain": [
       "<IPython.core.display.Markdown object>"
      ]
     },
     "metadata": {},
     "output_type": "display_data"
    },
    {
     "name": "stdout",
     "output_type": "stream",
     "text": [
      "/storage/gluster/vol1/SHARED/NGSTOOLS/SENTIEON/sentieon-genomics-201911/bin/sentieon plot MeanQualityByCycle -o C8448T_mq-report.pdf C8448T_mq_metrics.txt\n",
      "\n"
     ]
    }
   ],
   "source": [
    "display(Markdown(\"___\"))\n",
    "for i in range(batchSize):\n",
    "    TUMOR = batch[i][1]\n",
    "    display(Markdown(\"### Tumor: \"+TUMOR))\n",
    "    command4 = data['SENTIEON_INSTALL_DIR']+\"/bin/sentieon plot MeanQualityByCycle -o \"+TUMOR+\"T_mq-report.pdf \"+TUMOR+\"T_mq_metrics.txt\"\n",
    "    print(command4+'\\n')\n",
    "    if exec_scripts:\n",
    "        subprocess.check_output(command4,shell=True)"
   ]
  },
  {
   "cell_type": "code",
   "execution_count": 105,
   "metadata": {},
   "outputs": [
    {
     "data": {
      "text/html": [
       "\n",
       "\n",
       "<select id='selectSample9'>  </select>\n",
       "\n",
       "<body onload=\"myPlots()\">\n",
       "\n",
       "<h1>The sample is:  <span id=\"myText9\"></span></h1>\n",
       "\n",
       "<div>\n",
       "  <iframe id=\"pdf9\" src=\"\" style=\"width:100%;height:700px;\"></iframe>\n",
       "</div>\n",
       "\n",
       "\n",
       "</body>\n",
       "\n",
       "\n",
       "\n",
       "<script type=\"text/Javascript\">\n",
       "\n",
       "var select = document.getElementById(\"selectSample9\");\n",
       "\n",
       "document.getElementById(\"myText9\").innerHTML = options;\n",
       "\n",
       "var options = [\"A9155\",\"A9878\",\"AT2550\",\"AT2822\",\"AT4415\",\"AT4808\",\"C0288\",\"C0334\",\"C1572\",\"C8448\"];\n",
       "\n",
       "myDropdown(select,options)\n",
       "\n",
       "var type9 = \"_T_mq-report.pdf\"\n",
       "\n",
       "myPlots(type9,9)\n",
       "\n",
       "document.getElementById(\"selectSample9\").onchange = function() {myPlots(type9,9)};\n",
       "\n",
       "\n",
       "</script>\n"
      ],
      "text/plain": [
       "<IPython.core.display.HTML object>"
      ]
     },
     "execution_count": 105,
     "metadata": {},
     "output_type": "execute_result"
    }
   ],
   "source": [
    "#interact(plots, Sample=widgTumAll, file=fixed(\"_T_mq-report.pdf\"), normal=fixed(False), listSample = fixed(tumors));\n",
    "#embed_minimal_html('export.html', views=[widgTumAll], title='Widgets export')\n",
    "\n",
    "id = id +1\n",
    "\n",
    "input_form = \"\"\"\n",
    "\n",
    "<select id='selectSample\"\"\"+str(id)+\"\"\"'>  </select>\n",
    "\n",
    "<body onload=\"myPlots()\">\n",
    "\n",
    "<h1>The sample is:  <span id=\"myText\"\"\"+str(id)+\"\"\"\"></span></h1>\n",
    "\n",
    "<div>\n",
    "  <iframe id=\"pdf\"\"\"+str(id)+\"\"\"\" src=\"\" style=\"width:100%;height:700px;\"></iframe>\n",
    "</div>\n",
    "\n",
    "\n",
    "</body>\n",
    "\n",
    "\"\"\"\n",
    "\n",
    "javascript = \"\"\"\n",
    "\n",
    "<script type=\"text/Javascript\">\n",
    "\n",
    "var select = document.getElementById(\"selectSample\"\"\"+str(id)+\"\"\"\");\n",
    "\n",
    "myDropdown(select,Object.keys(objTum)) \n",
    "\n",
    "var type\"\"\"+str(id)+\"\"\" = \"_T_mq-report.pdf\"\n",
    "\n",
    "myPlots(type\"\"\"+str(id)+\"\"\",\"\"\"+str(id)+\"\"\")\n",
    "\n",
    "document.getElementById(\"selectSample\"\"\"+str(id)+\"\"\"\").onchange = function() {myPlots(type\"\"\"+str(id)+\"\"\",\"\"\"+str(id)+\"\"\")};\n",
    "\n",
    "\n",
    "</script>\n",
    "\"\"\"\n",
    "    \n",
    "\n",
    "HTML(input_form + javascript)"
   ]
  },
  {
   "cell_type": "code",
   "execution_count": 102,
   "metadata": {},
   "outputs": [
    {
     "data": {
      "text/markdown": [
       "___"
      ],
      "text/plain": [
       "<IPython.core.display.Markdown object>"
      ]
     },
     "metadata": {},
     "output_type": "display_data"
    },
    {
     "data": {
      "text/markdown": [
       "### Tumor: A1783"
      ],
      "text/plain": [
       "<IPython.core.display.Markdown object>"
      ]
     },
     "metadata": {},
     "output_type": "display_data"
    },
    {
     "name": "stdout",
     "output_type": "stream",
     "text": [
      "/storage/gluster/vol1/SHARED/NGSTOOLS/SENTIEON/sentieon-genomics-201911/bin/sentieon plot InsertSizeMetricAlgo -o A1783T_is-report.pdf A1783T_is_metrics.txt\n",
      "\n"
     ]
    },
    {
     "data": {
      "text/markdown": [
       "### Tumor: A9155"
      ],
      "text/plain": [
       "<IPython.core.display.Markdown object>"
      ]
     },
     "metadata": {},
     "output_type": "display_data"
    },
    {
     "name": "stdout",
     "output_type": "stream",
     "text": [
      "/storage/gluster/vol1/SHARED/NGSTOOLS/SENTIEON/sentieon-genomics-201911/bin/sentieon plot InsertSizeMetricAlgo -o A9155T_is-report.pdf A9155T_is_metrics.txt\n",
      "\n"
     ]
    },
    {
     "data": {
      "text/markdown": [
       "### Tumor: A9878"
      ],
      "text/plain": [
       "<IPython.core.display.Markdown object>"
      ]
     },
     "metadata": {},
     "output_type": "display_data"
    },
    {
     "name": "stdout",
     "output_type": "stream",
     "text": [
      "/storage/gluster/vol1/SHARED/NGSTOOLS/SENTIEON/sentieon-genomics-201911/bin/sentieon plot InsertSizeMetricAlgo -o A9878T_is-report.pdf A9878T_is_metrics.txt\n",
      "\n"
     ]
    },
    {
     "data": {
      "text/markdown": [
       "### Tumor: AT2550"
      ],
      "text/plain": [
       "<IPython.core.display.Markdown object>"
      ]
     },
     "metadata": {},
     "output_type": "display_data"
    },
    {
     "name": "stdout",
     "output_type": "stream",
     "text": [
      "/storage/gluster/vol1/SHARED/NGSTOOLS/SENTIEON/sentieon-genomics-201911/bin/sentieon plot InsertSizeMetricAlgo -o AT2550T_is-report.pdf AT2550T_is_metrics.txt\n",
      "\n"
     ]
    },
    {
     "data": {
      "text/markdown": [
       "### Tumor: AT2822"
      ],
      "text/plain": [
       "<IPython.core.display.Markdown object>"
      ]
     },
     "metadata": {},
     "output_type": "display_data"
    },
    {
     "name": "stdout",
     "output_type": "stream",
     "text": [
      "/storage/gluster/vol1/SHARED/NGSTOOLS/SENTIEON/sentieon-genomics-201911/bin/sentieon plot InsertSizeMetricAlgo -o AT2822T_is-report.pdf AT2822T_is_metrics.txt\n",
      "\n"
     ]
    },
    {
     "data": {
      "text/markdown": [
       "### Tumor: AT4415"
      ],
      "text/plain": [
       "<IPython.core.display.Markdown object>"
      ]
     },
     "metadata": {},
     "output_type": "display_data"
    },
    {
     "name": "stdout",
     "output_type": "stream",
     "text": [
      "/storage/gluster/vol1/SHARED/NGSTOOLS/SENTIEON/sentieon-genomics-201911/bin/sentieon plot InsertSizeMetricAlgo -o AT4415T_is-report.pdf AT4415T_is_metrics.txt\n",
      "\n"
     ]
    },
    {
     "data": {
      "text/markdown": [
       "### Tumor: AT4808"
      ],
      "text/plain": [
       "<IPython.core.display.Markdown object>"
      ]
     },
     "metadata": {},
     "output_type": "display_data"
    },
    {
     "name": "stdout",
     "output_type": "stream",
     "text": [
      "/storage/gluster/vol1/SHARED/NGSTOOLS/SENTIEON/sentieon-genomics-201911/bin/sentieon plot InsertSizeMetricAlgo -o AT4808T_is-report.pdf AT4808T_is_metrics.txt\n",
      "\n"
     ]
    },
    {
     "data": {
      "text/markdown": [
       "### Tumor: C0288"
      ],
      "text/plain": [
       "<IPython.core.display.Markdown object>"
      ]
     },
     "metadata": {},
     "output_type": "display_data"
    },
    {
     "name": "stdout",
     "output_type": "stream",
     "text": [
      "/storage/gluster/vol1/SHARED/NGSTOOLS/SENTIEON/sentieon-genomics-201911/bin/sentieon plot InsertSizeMetricAlgo -o C0288T_is-report.pdf C0288T_is_metrics.txt\n",
      "\n"
     ]
    },
    {
     "data": {
      "text/markdown": [
       "### Tumor: C0334"
      ],
      "text/plain": [
       "<IPython.core.display.Markdown object>"
      ]
     },
     "metadata": {},
     "output_type": "display_data"
    },
    {
     "name": "stdout",
     "output_type": "stream",
     "text": [
      "/storage/gluster/vol1/SHARED/NGSTOOLS/SENTIEON/sentieon-genomics-201911/bin/sentieon plot InsertSizeMetricAlgo -o C0334T_is-report.pdf C0334T_is_metrics.txt\n",
      "\n"
     ]
    },
    {
     "data": {
      "text/markdown": [
       "### Tumor: C1572"
      ],
      "text/plain": [
       "<IPython.core.display.Markdown object>"
      ]
     },
     "metadata": {},
     "output_type": "display_data"
    },
    {
     "name": "stdout",
     "output_type": "stream",
     "text": [
      "/storage/gluster/vol1/SHARED/NGSTOOLS/SENTIEON/sentieon-genomics-201911/bin/sentieon plot InsertSizeMetricAlgo -o C1572T_is-report.pdf C1572T_is_metrics.txt\n",
      "\n"
     ]
    },
    {
     "data": {
      "text/markdown": [
       "### Tumor: C8448"
      ],
      "text/plain": [
       "<IPython.core.display.Markdown object>"
      ]
     },
     "metadata": {},
     "output_type": "display_data"
    },
    {
     "name": "stdout",
     "output_type": "stream",
     "text": [
      "/storage/gluster/vol1/SHARED/NGSTOOLS/SENTIEON/sentieon-genomics-201911/bin/sentieon plot InsertSizeMetricAlgo -o C8448T_is-report.pdf C8448T_is_metrics.txt\n",
      "\n"
     ]
    }
   ],
   "source": [
    "display(Markdown(\"___\"))\n",
    "for i in range(batchSize):\n",
    "    TUMOR = batch[i][1]\n",
    "    display(Markdown(\"### Tumor: \"+TUMOR))\n",
    "    command5 = data['SENTIEON_INSTALL_DIR']+\"/bin/sentieon plot InsertSizeMetricAlgo -o \"+TUMOR+\"T_is-report.pdf \"+TUMOR+\"T_is_metrics.txt\"\n",
    "    print(command5+'\\n')\n",
    "    if exec_scripts:\n",
    "        subprocess.check_output(command5,shell=True)"
   ]
  },
  {
   "cell_type": "code",
   "execution_count": 107,
   "metadata": {},
   "outputs": [
    {
     "data": {
      "text/html": [
       "\n",
       "\n",
       "<select id='selectSample10'>  </select>\n",
       "\n",
       "<body onload=\"myPlots()\">\n",
       "\n",
       "<h1>The sample is:  <span id=\"myText10\"></span></h1>\n",
       "\n",
       "<div>\n",
       "  <iframe id=\"pdf10\" src=\"\" style=\"width:100%;height:700px;\"></iframe>\n",
       "</div>\n",
       "\n",
       "\n",
       "</body>\n",
       "\n",
       "\n",
       "\n",
       "<script type=\"text/Javascript\">\n",
       "\n",
       "var select = document.getElementById(\"selectSample10\");\n",
       "\n",
       "document.getElementById(\"myText10\").innerHTML = options;\n",
       "\n",
       "var options = [\"A9155\",\"A9878\",\"AT2550\",\"AT2822\",\"AT4415\",\"AT4808\",\"C0288\",\"C0334\",\"C1572\",\"C8448\"];\n",
       "\n",
       "myDropdown(select,options)\n",
       "\n",
       "var type10 = \"_T_is-report.pdf\"\n",
       "\n",
       "myPlots(type10,10)\n",
       "\n",
       "document.getElementById(\"selectSample10\").onchange = function() {myPlots(type10,10)};\n",
       "\n",
       "\n",
       "</script>\n"
      ],
      "text/plain": [
       "<IPython.core.display.HTML object>"
      ]
     },
     "execution_count": 107,
     "metadata": {},
     "output_type": "execute_result"
    }
   ],
   "source": [
    "#interact(plots, Sample=widgTumAll, file=fixed(\"_T_is-report.pdf\"), normal=fixed(False), listSample = fixed(tumors));\n",
    "\n",
    "id = id +1\n",
    "\n",
    "input_form = \"\"\"\n",
    "\n",
    "<select id='selectSample\"\"\"+str(id)+\"\"\"'>  </select>\n",
    "\n",
    "<body onload=\"myPlots()\">\n",
    "\n",
    "<h1>The sample is:  <span id=\"myText\"\"\"+str(id)+\"\"\"\"></span></h1>\n",
    "\n",
    "<div>\n",
    "  <iframe id=\"pdf\"\"\"+str(id)+\"\"\"\" src=\"\" style=\"width:100%;height:700px;\"></iframe>\n",
    "</div>\n",
    "\n",
    "\n",
    "</body>\n",
    "\n",
    "\"\"\"\n",
    "\n",
    "javascript = \"\"\"\n",
    "\n",
    "<script type=\"text/Javascript\">\n",
    "\n",
    "var select = document.getElementById(\"selectSample\"\"\"+str(id)+\"\"\"\");\n",
    "\n",
    "myDropdown(select,Object.keys(objTum)) \n",
    "\n",
    "var type\"\"\"+str(id)+\"\"\" = \"_T_is-report.pdf\"\n",
    "\n",
    "myPlots(type\"\"\"+str(id)+\"\"\",\"\"\"+str(id)+\"\"\")\n",
    "\n",
    "document.getElementById(\"selectSample\"\"\"+str(id)+\"\"\"\").onchange = function() {myPlots(type\"\"\"+str(id)+\"\"\",\"\"\"+str(id)+\"\"\")};\n",
    "\n",
    "\n",
    "</script>\n",
    "\"\"\"\n",
    "    \n",
    "\n",
    "HTML(input_form + javascript)"
   ]
  },
  {
   "cell_type": "markdown",
   "metadata": {},
   "source": [
    "# 3a. Remove Duplicate Reads for normal sample"
   ]
  },
  {
   "cell_type": "code",
   "execution_count": 84,
   "metadata": {},
   "outputs": [
    {
     "data": {
      "text/markdown": [
       "### Normal: ABT414_Flank"
      ],
      "text/plain": [
       "<IPython.core.display.Markdown object>"
      ]
     },
     "metadata": {},
     "output_type": "display_data"
    },
    {
     "name": "stdout",
     "output_type": "stream",
     "text": [
      "/storage/gluster/vol1/SHARED/NGSTOOLS/SENTIEON/sentieon-genomics-201911/bin/sentieon driver -t 80 -i ABT414_FlankN_sorted.bam --algo LocusCollector --fun score_info ABT414_FlankN_score.txt\n",
      "\n"
     ]
    }
   ],
   "source": [
    "for i in range(np.size(uniqNorm)):\n",
    "    SAMPLE = uniqNorm[i]\n",
    "    display(Markdown(\"### Normal: \" + SAMPLE))\n",
    "    command1 = data['SENTIEON_INSTALL_DIR']+\"/bin/sentieon driver -t \"+str(data['nt'])+\" -i \"+SAMPLE+\"N_sorted.bam --algo LocusCollector --fun score_info \"+SAMPLE+\"N_score.txt\"\n",
    "    print(command1+'\\n')\n",
    "    if exec_scripts:\n",
    "        subprocess.check_output(command1,shell=True)"
   ]
  },
  {
   "cell_type": "code",
   "execution_count": 103,
   "metadata": {},
   "outputs": [
    {
     "data": {
      "text/markdown": [
       "___"
      ],
      "text/plain": [
       "<IPython.core.display.Markdown object>"
      ]
     },
     "metadata": {},
     "output_type": "display_data"
    },
    {
     "data": {
      "text/markdown": [
       "### Normal: ABT414_Flank"
      ],
      "text/plain": [
       "<IPython.core.display.Markdown object>"
      ]
     },
     "metadata": {},
     "output_type": "display_data"
    },
    {
     "name": "stdout",
     "output_type": "stream",
     "text": [
      "/storage/gluster/vol1/SHARED/NGSTOOLS/SENTIEON/sentieon-genomics-201911/bin/sentieon driver -t 80 -i ABT414_FlankN_sorted.bam --algo Dedup --rmdup --score_info ABT414_FlankN_score.txt --metrics ABT414_FlankN_dedup_metrics.txt ABT414_FlankN_deduped.bam\n",
      "\n"
     ]
    }
   ],
   "source": [
    "display(Markdown(\"___\"))\n",
    "for i in range(np.size(uniqNorm)):\n",
    "    SAMPLE = uniqNorm[i]\n",
    "    display(Markdown(\"### Normal: \" + SAMPLE))\n",
    "    command2 = data['SENTIEON_INSTALL_DIR']+\"/bin/sentieon driver -t \"+str(data['nt'])+\" -i \"+SAMPLE+\"N_sorted.bam --algo Dedup --rmdup --score_info \"+SAMPLE+\"N_score.txt --metrics \"+SAMPLE+\"N_dedup_metrics.txt \"+SAMPLE+\"N_deduped.bam\"\n",
    "    print(command2+'\\n')\n",
    "    if exec_scripts:\n",
    "        subprocess.check_output(command2,shell=True)"
   ]
  },
  {
   "cell_type": "markdown",
   "metadata": {},
   "source": [
    "# 3a. Remove Duplicate Reads for tumor sample"
   ]
  },
  {
   "cell_type": "code",
   "execution_count": 82,
   "metadata": {},
   "outputs": [
    {
     "data": {
      "text/markdown": [
       "### Tumor: A1783"
      ],
      "text/plain": [
       "<IPython.core.display.Markdown object>"
      ]
     },
     "metadata": {},
     "output_type": "display_data"
    },
    {
     "name": "stdout",
     "output_type": "stream",
     "text": [
      "/storage/gluster/vol1/SHARED/NGSTOOLS/SENTIEON/sentieon-genomics-201911/bin/sentieon driver -t 80 -i A1783T_sorted.bam --algo LocusCollector --fun score_info A1783T_score.txt\n",
      "\n"
     ]
    },
    {
     "data": {
      "text/markdown": [
       "### Tumor: A9155"
      ],
      "text/plain": [
       "<IPython.core.display.Markdown object>"
      ]
     },
     "metadata": {},
     "output_type": "display_data"
    },
    {
     "name": "stdout",
     "output_type": "stream",
     "text": [
      "/storage/gluster/vol1/SHARED/NGSTOOLS/SENTIEON/sentieon-genomics-201911/bin/sentieon driver -t 80 -i A9155T_sorted.bam --algo LocusCollector --fun score_info A9155T_score.txt\n",
      "\n"
     ]
    },
    {
     "data": {
      "text/markdown": [
       "### Tumor: A9878"
      ],
      "text/plain": [
       "<IPython.core.display.Markdown object>"
      ]
     },
     "metadata": {},
     "output_type": "display_data"
    },
    {
     "name": "stdout",
     "output_type": "stream",
     "text": [
      "/storage/gluster/vol1/SHARED/NGSTOOLS/SENTIEON/sentieon-genomics-201911/bin/sentieon driver -t 80 -i A9878T_sorted.bam --algo LocusCollector --fun score_info A9878T_score.txt\n",
      "\n"
     ]
    },
    {
     "data": {
      "text/markdown": [
       "### Tumor: AT2550"
      ],
      "text/plain": [
       "<IPython.core.display.Markdown object>"
      ]
     },
     "metadata": {},
     "output_type": "display_data"
    },
    {
     "name": "stdout",
     "output_type": "stream",
     "text": [
      "/storage/gluster/vol1/SHARED/NGSTOOLS/SENTIEON/sentieon-genomics-201911/bin/sentieon driver -t 80 -i AT2550T_sorted.bam --algo LocusCollector --fun score_info AT2550T_score.txt\n",
      "\n"
     ]
    },
    {
     "data": {
      "text/markdown": [
       "### Tumor: AT2822"
      ],
      "text/plain": [
       "<IPython.core.display.Markdown object>"
      ]
     },
     "metadata": {},
     "output_type": "display_data"
    },
    {
     "name": "stdout",
     "output_type": "stream",
     "text": [
      "/storage/gluster/vol1/SHARED/NGSTOOLS/SENTIEON/sentieon-genomics-201911/bin/sentieon driver -t 80 -i AT2822T_sorted.bam --algo LocusCollector --fun score_info AT2822T_score.txt\n",
      "\n"
     ]
    },
    {
     "data": {
      "text/markdown": [
       "### Tumor: AT4415"
      ],
      "text/plain": [
       "<IPython.core.display.Markdown object>"
      ]
     },
     "metadata": {},
     "output_type": "display_data"
    },
    {
     "name": "stdout",
     "output_type": "stream",
     "text": [
      "/storage/gluster/vol1/SHARED/NGSTOOLS/SENTIEON/sentieon-genomics-201911/bin/sentieon driver -t 80 -i AT4415T_sorted.bam --algo LocusCollector --fun score_info AT4415T_score.txt\n",
      "\n"
     ]
    },
    {
     "data": {
      "text/markdown": [
       "### Tumor: AT4808"
      ],
      "text/plain": [
       "<IPython.core.display.Markdown object>"
      ]
     },
     "metadata": {},
     "output_type": "display_data"
    },
    {
     "name": "stdout",
     "output_type": "stream",
     "text": [
      "/storage/gluster/vol1/SHARED/NGSTOOLS/SENTIEON/sentieon-genomics-201911/bin/sentieon driver -t 80 -i AT4808T_sorted.bam --algo LocusCollector --fun score_info AT4808T_score.txt\n",
      "\n"
     ]
    },
    {
     "data": {
      "text/markdown": [
       "### Tumor: C0288"
      ],
      "text/plain": [
       "<IPython.core.display.Markdown object>"
      ]
     },
     "metadata": {},
     "output_type": "display_data"
    },
    {
     "name": "stdout",
     "output_type": "stream",
     "text": [
      "/storage/gluster/vol1/SHARED/NGSTOOLS/SENTIEON/sentieon-genomics-201911/bin/sentieon driver -t 80 -i C0288T_sorted.bam --algo LocusCollector --fun score_info C0288T_score.txt\n",
      "\n"
     ]
    },
    {
     "data": {
      "text/markdown": [
       "### Tumor: C0334"
      ],
      "text/plain": [
       "<IPython.core.display.Markdown object>"
      ]
     },
     "metadata": {},
     "output_type": "display_data"
    },
    {
     "name": "stdout",
     "output_type": "stream",
     "text": [
      "/storage/gluster/vol1/SHARED/NGSTOOLS/SENTIEON/sentieon-genomics-201911/bin/sentieon driver -t 80 -i C0334T_sorted.bam --algo LocusCollector --fun score_info C0334T_score.txt\n",
      "\n"
     ]
    },
    {
     "data": {
      "text/markdown": [
       "### Tumor: C1572"
      ],
      "text/plain": [
       "<IPython.core.display.Markdown object>"
      ]
     },
     "metadata": {},
     "output_type": "display_data"
    },
    {
     "name": "stdout",
     "output_type": "stream",
     "text": [
      "/storage/gluster/vol1/SHARED/NGSTOOLS/SENTIEON/sentieon-genomics-201911/bin/sentieon driver -t 80 -i C1572T_sorted.bam --algo LocusCollector --fun score_info C1572T_score.txt\n",
      "\n"
     ]
    },
    {
     "data": {
      "text/markdown": [
       "### Tumor: C8448"
      ],
      "text/plain": [
       "<IPython.core.display.Markdown object>"
      ]
     },
     "metadata": {},
     "output_type": "display_data"
    },
    {
     "name": "stdout",
     "output_type": "stream",
     "text": [
      "/storage/gluster/vol1/SHARED/NGSTOOLS/SENTIEON/sentieon-genomics-201911/bin/sentieon driver -t 80 -i C8448T_sorted.bam --algo LocusCollector --fun score_info C8448T_score.txt\n",
      "\n"
     ]
    }
   ],
   "source": [
    "for i in range(batchSize):\n",
    "    TUMOR = batch[i][1]\n",
    "    display(Markdown(\"### Tumor: \"+TUMOR))\n",
    "    command1 = data['SENTIEON_INSTALL_DIR']+\"/bin/sentieon driver -t \"+str(data['nt'])+\" -i \"+TUMOR+\"T_sorted.bam --algo LocusCollector --fun score_info \"+TUMOR+\"T_score.txt\"\n",
    "    print(command1+'\\n')\n",
    "    if exec_scripts:\n",
    "        subprocess.check_output(command1,shell=True)"
   ]
  },
  {
   "cell_type": "code",
   "execution_count": 104,
   "metadata": {},
   "outputs": [
    {
     "data": {
      "text/markdown": [
       "___"
      ],
      "text/plain": [
       "<IPython.core.display.Markdown object>"
      ]
     },
     "metadata": {},
     "output_type": "display_data"
    },
    {
     "data": {
      "text/markdown": [
       "### Tumor: A1783"
      ],
      "text/plain": [
       "<IPython.core.display.Markdown object>"
      ]
     },
     "metadata": {},
     "output_type": "display_data"
    },
    {
     "name": "stdout",
     "output_type": "stream",
     "text": [
      "/storage/gluster/vol1/SHARED/NGSTOOLS/SENTIEON/sentieon-genomics-201911/bin/sentieon driver -t 80 -i A1783T_sorted.bam --algo Dedup --rmdup --score_info A1783T_score.txt --metrics A1783T_dedup_metrics.txt A1783T_deduped.bam\n",
      "\n"
     ]
    },
    {
     "data": {
      "text/markdown": [
       "### Tumor: A9155"
      ],
      "text/plain": [
       "<IPython.core.display.Markdown object>"
      ]
     },
     "metadata": {},
     "output_type": "display_data"
    },
    {
     "name": "stdout",
     "output_type": "stream",
     "text": [
      "/storage/gluster/vol1/SHARED/NGSTOOLS/SENTIEON/sentieon-genomics-201911/bin/sentieon driver -t 80 -i A9155T_sorted.bam --algo Dedup --rmdup --score_info A9155T_score.txt --metrics A9155T_dedup_metrics.txt A9155T_deduped.bam\n",
      "\n"
     ]
    },
    {
     "data": {
      "text/markdown": [
       "### Tumor: A9878"
      ],
      "text/plain": [
       "<IPython.core.display.Markdown object>"
      ]
     },
     "metadata": {},
     "output_type": "display_data"
    },
    {
     "name": "stdout",
     "output_type": "stream",
     "text": [
      "/storage/gluster/vol1/SHARED/NGSTOOLS/SENTIEON/sentieon-genomics-201911/bin/sentieon driver -t 80 -i A9878T_sorted.bam --algo Dedup --rmdup --score_info A9878T_score.txt --metrics A9878T_dedup_metrics.txt A9878T_deduped.bam\n",
      "\n"
     ]
    },
    {
     "data": {
      "text/markdown": [
       "### Tumor: AT2550"
      ],
      "text/plain": [
       "<IPython.core.display.Markdown object>"
      ]
     },
     "metadata": {},
     "output_type": "display_data"
    },
    {
     "name": "stdout",
     "output_type": "stream",
     "text": [
      "/storage/gluster/vol1/SHARED/NGSTOOLS/SENTIEON/sentieon-genomics-201911/bin/sentieon driver -t 80 -i AT2550T_sorted.bam --algo Dedup --rmdup --score_info AT2550T_score.txt --metrics AT2550T_dedup_metrics.txt AT2550T_deduped.bam\n",
      "\n"
     ]
    },
    {
     "data": {
      "text/markdown": [
       "### Tumor: AT2822"
      ],
      "text/plain": [
       "<IPython.core.display.Markdown object>"
      ]
     },
     "metadata": {},
     "output_type": "display_data"
    },
    {
     "name": "stdout",
     "output_type": "stream",
     "text": [
      "/storage/gluster/vol1/SHARED/NGSTOOLS/SENTIEON/sentieon-genomics-201911/bin/sentieon driver -t 80 -i AT2822T_sorted.bam --algo Dedup --rmdup --score_info AT2822T_score.txt --metrics AT2822T_dedup_metrics.txt AT2822T_deduped.bam\n",
      "\n"
     ]
    },
    {
     "data": {
      "text/markdown": [
       "### Tumor: AT4415"
      ],
      "text/plain": [
       "<IPython.core.display.Markdown object>"
      ]
     },
     "metadata": {},
     "output_type": "display_data"
    },
    {
     "name": "stdout",
     "output_type": "stream",
     "text": [
      "/storage/gluster/vol1/SHARED/NGSTOOLS/SENTIEON/sentieon-genomics-201911/bin/sentieon driver -t 80 -i AT4415T_sorted.bam --algo Dedup --rmdup --score_info AT4415T_score.txt --metrics AT4415T_dedup_metrics.txt AT4415T_deduped.bam\n",
      "\n"
     ]
    },
    {
     "data": {
      "text/markdown": [
       "### Tumor: AT4808"
      ],
      "text/plain": [
       "<IPython.core.display.Markdown object>"
      ]
     },
     "metadata": {},
     "output_type": "display_data"
    },
    {
     "name": "stdout",
     "output_type": "stream",
     "text": [
      "/storage/gluster/vol1/SHARED/NGSTOOLS/SENTIEON/sentieon-genomics-201911/bin/sentieon driver -t 80 -i AT4808T_sorted.bam --algo Dedup --rmdup --score_info AT4808T_score.txt --metrics AT4808T_dedup_metrics.txt AT4808T_deduped.bam\n",
      "\n"
     ]
    },
    {
     "data": {
      "text/markdown": [
       "### Tumor: C0288"
      ],
      "text/plain": [
       "<IPython.core.display.Markdown object>"
      ]
     },
     "metadata": {},
     "output_type": "display_data"
    },
    {
     "name": "stdout",
     "output_type": "stream",
     "text": [
      "/storage/gluster/vol1/SHARED/NGSTOOLS/SENTIEON/sentieon-genomics-201911/bin/sentieon driver -t 80 -i C0288T_sorted.bam --algo Dedup --rmdup --score_info C0288T_score.txt --metrics C0288T_dedup_metrics.txt C0288T_deduped.bam\n",
      "\n"
     ]
    },
    {
     "data": {
      "text/markdown": [
       "### Tumor: C0334"
      ],
      "text/plain": [
       "<IPython.core.display.Markdown object>"
      ]
     },
     "metadata": {},
     "output_type": "display_data"
    },
    {
     "name": "stdout",
     "output_type": "stream",
     "text": [
      "/storage/gluster/vol1/SHARED/NGSTOOLS/SENTIEON/sentieon-genomics-201911/bin/sentieon driver -t 80 -i C0334T_sorted.bam --algo Dedup --rmdup --score_info C0334T_score.txt --metrics C0334T_dedup_metrics.txt C0334T_deduped.bam\n",
      "\n"
     ]
    },
    {
     "data": {
      "text/markdown": [
       "### Tumor: C1572"
      ],
      "text/plain": [
       "<IPython.core.display.Markdown object>"
      ]
     },
     "metadata": {},
     "output_type": "display_data"
    },
    {
     "name": "stdout",
     "output_type": "stream",
     "text": [
      "/storage/gluster/vol1/SHARED/NGSTOOLS/SENTIEON/sentieon-genomics-201911/bin/sentieon driver -t 80 -i C1572T_sorted.bam --algo Dedup --rmdup --score_info C1572T_score.txt --metrics C1572T_dedup_metrics.txt C1572T_deduped.bam\n",
      "\n"
     ]
    },
    {
     "data": {
      "text/markdown": [
       "### Tumor: C8448"
      ],
      "text/plain": [
       "<IPython.core.display.Markdown object>"
      ]
     },
     "metadata": {},
     "output_type": "display_data"
    },
    {
     "name": "stdout",
     "output_type": "stream",
     "text": [
      "/storage/gluster/vol1/SHARED/NGSTOOLS/SENTIEON/sentieon-genomics-201911/bin/sentieon driver -t 80 -i C8448T_sorted.bam --algo Dedup --rmdup --score_info C8448T_score.txt --metrics C8448T_dedup_metrics.txt C8448T_deduped.bam\n",
      "\n"
     ]
    }
   ],
   "source": [
    "display(Markdown(\"___\"))\n",
    "for i in range(batchSize):\n",
    "    TUMOR = batch[i][1]\n",
    "    display(Markdown(\"### Tumor: \"+TUMOR))\n",
    "    command2 = data['SENTIEON_INSTALL_DIR']+\"/bin/sentieon driver -t \"+str(data['nt'])+\" -i \"+TUMOR+\"T_sorted.bam --algo Dedup --rmdup --score_info \"+TUMOR+\"T_score.txt --metrics \"+TUMOR+\"T_dedup_metrics.txt \"+TUMOR+\"T_deduped.bam\"\n",
    "    print(command2+'\\n')\n",
    "    if exec_scripts:\n",
    "        subprocess.check_output(command2,shell=True)"
   ]
  },
  {
   "cell_type": "markdown",
   "metadata": {},
   "source": [
    "# 4a. Indel realigner for normal sample"
   ]
  },
  {
   "cell_type": "code",
   "execution_count": 80,
   "metadata": {},
   "outputs": [
    {
     "data": {
      "text/markdown": [
       "### Normal: ABT414_Flank"
      ],
      "text/plain": [
       "<IPython.core.display.Markdown object>"
      ]
     },
     "metadata": {},
     "output_type": "display_data"
    },
    {
     "name": "stdout",
     "output_type": "stream",
     "text": [
      "/storage/gluster/vol1/SHARED/NGSTOOLS/SENTIEON/sentieon-genomics-201911/bin/sentieon driver -r /storage/gluster/vol1/bcbio/genomes/Hsapiens/hg19/bwa/hg19.fa -t 80 -i ABT414_FlankN_deduped.bam --algo Realigner -k /storage/gluster/vol1/bcbio/genomes/Hsapiens/hg19/variation/Mills_and_1000G_gold_standard.indels.vcf.gz -k /storage/gluster/vol1/bcbio/genomes/Hsapiens/hg19/variation/1000G_phase1.snps.high_confidence.vcf.gz ABT414_FlankN_realigned.bam\n",
      "\n"
     ]
    }
   ],
   "source": [
    "for i in range(np.size(uniqNorm)):\n",
    "    SAMPLE = uniqNorm[i]\n",
    "    display(Markdown(\"### Normal: \" + SAMPLE))\n",
    "    command1 = data['SENTIEON_INSTALL_DIR']+ \"/bin/sentieon driver -r \"+data['fasta']+\" -t \"+str(data['nt'])+\" -i \"+SAMPLE+\"N_deduped.bam --algo Realigner -k \"+data['known_Mills_indels']+\" -k \"+data['known_1000G_indels']+\" \"+SAMPLE+\"N_realigned.bam\"\n",
    "    print(command1+'\\n')\n",
    "    if exec_scripts:\n",
    "        subprocess.check_output(command1,shell=True)"
   ]
  },
  {
   "cell_type": "markdown",
   "metadata": {},
   "source": [
    "# 4a. Indel realigner for tumor sample"
   ]
  },
  {
   "cell_type": "code",
   "execution_count": 81,
   "metadata": {},
   "outputs": [
    {
     "data": {
      "text/markdown": [
       "### Tumor: A1783"
      ],
      "text/plain": [
       "<IPython.core.display.Markdown object>"
      ]
     },
     "metadata": {},
     "output_type": "display_data"
    },
    {
     "name": "stdout",
     "output_type": "stream",
     "text": [
      "/storage/gluster/vol1/SHARED/NGSTOOLS/SENTIEON/sentieon-genomics-201911/bin/sentieon driver -r /storage/gluster/vol1/bcbio/genomes/Hsapiens/hg19/bwa/hg19.fa -t 80 -i A1783T_deduped.bam --algo Realigner -k /storage/gluster/vol1/bcbio/genomes/Hsapiens/hg19/variation/Mills_and_1000G_gold_standard.indels.vcf.gz -k /storage/gluster/vol1/bcbio/genomes/Hsapiens/hg19/variation/1000G_phase1.snps.high_confidence.vcf.gz A1783T_realigned.bam\n",
      "\n"
     ]
    },
    {
     "data": {
      "text/markdown": [
       "### Tumor: A9155"
      ],
      "text/plain": [
       "<IPython.core.display.Markdown object>"
      ]
     },
     "metadata": {},
     "output_type": "display_data"
    },
    {
     "name": "stdout",
     "output_type": "stream",
     "text": [
      "/storage/gluster/vol1/SHARED/NGSTOOLS/SENTIEON/sentieon-genomics-201911/bin/sentieon driver -r /storage/gluster/vol1/bcbio/genomes/Hsapiens/hg19/bwa/hg19.fa -t 80 -i A9155T_deduped.bam --algo Realigner -k /storage/gluster/vol1/bcbio/genomes/Hsapiens/hg19/variation/Mills_and_1000G_gold_standard.indels.vcf.gz -k /storage/gluster/vol1/bcbio/genomes/Hsapiens/hg19/variation/1000G_phase1.snps.high_confidence.vcf.gz A9155T_realigned.bam\n",
      "\n"
     ]
    },
    {
     "data": {
      "text/markdown": [
       "### Tumor: A9878"
      ],
      "text/plain": [
       "<IPython.core.display.Markdown object>"
      ]
     },
     "metadata": {},
     "output_type": "display_data"
    },
    {
     "name": "stdout",
     "output_type": "stream",
     "text": [
      "/storage/gluster/vol1/SHARED/NGSTOOLS/SENTIEON/sentieon-genomics-201911/bin/sentieon driver -r /storage/gluster/vol1/bcbio/genomes/Hsapiens/hg19/bwa/hg19.fa -t 80 -i A9878T_deduped.bam --algo Realigner -k /storage/gluster/vol1/bcbio/genomes/Hsapiens/hg19/variation/Mills_and_1000G_gold_standard.indels.vcf.gz -k /storage/gluster/vol1/bcbio/genomes/Hsapiens/hg19/variation/1000G_phase1.snps.high_confidence.vcf.gz A9878T_realigned.bam\n",
      "\n"
     ]
    },
    {
     "data": {
      "text/markdown": [
       "### Tumor: AT2550"
      ],
      "text/plain": [
       "<IPython.core.display.Markdown object>"
      ]
     },
     "metadata": {},
     "output_type": "display_data"
    },
    {
     "name": "stdout",
     "output_type": "stream",
     "text": [
      "/storage/gluster/vol1/SHARED/NGSTOOLS/SENTIEON/sentieon-genomics-201911/bin/sentieon driver -r /storage/gluster/vol1/bcbio/genomes/Hsapiens/hg19/bwa/hg19.fa -t 80 -i AT2550T_deduped.bam --algo Realigner -k /storage/gluster/vol1/bcbio/genomes/Hsapiens/hg19/variation/Mills_and_1000G_gold_standard.indels.vcf.gz -k /storage/gluster/vol1/bcbio/genomes/Hsapiens/hg19/variation/1000G_phase1.snps.high_confidence.vcf.gz AT2550T_realigned.bam\n",
      "\n"
     ]
    },
    {
     "data": {
      "text/markdown": [
       "### Tumor: AT2822"
      ],
      "text/plain": [
       "<IPython.core.display.Markdown object>"
      ]
     },
     "metadata": {},
     "output_type": "display_data"
    },
    {
     "name": "stdout",
     "output_type": "stream",
     "text": [
      "/storage/gluster/vol1/SHARED/NGSTOOLS/SENTIEON/sentieon-genomics-201911/bin/sentieon driver -r /storage/gluster/vol1/bcbio/genomes/Hsapiens/hg19/bwa/hg19.fa -t 80 -i AT2822T_deduped.bam --algo Realigner -k /storage/gluster/vol1/bcbio/genomes/Hsapiens/hg19/variation/Mills_and_1000G_gold_standard.indels.vcf.gz -k /storage/gluster/vol1/bcbio/genomes/Hsapiens/hg19/variation/1000G_phase1.snps.high_confidence.vcf.gz AT2822T_realigned.bam\n",
      "\n"
     ]
    },
    {
     "data": {
      "text/markdown": [
       "### Tumor: AT4415"
      ],
      "text/plain": [
       "<IPython.core.display.Markdown object>"
      ]
     },
     "metadata": {},
     "output_type": "display_data"
    },
    {
     "name": "stdout",
     "output_type": "stream",
     "text": [
      "/storage/gluster/vol1/SHARED/NGSTOOLS/SENTIEON/sentieon-genomics-201911/bin/sentieon driver -r /storage/gluster/vol1/bcbio/genomes/Hsapiens/hg19/bwa/hg19.fa -t 80 -i AT4415T_deduped.bam --algo Realigner -k /storage/gluster/vol1/bcbio/genomes/Hsapiens/hg19/variation/Mills_and_1000G_gold_standard.indels.vcf.gz -k /storage/gluster/vol1/bcbio/genomes/Hsapiens/hg19/variation/1000G_phase1.snps.high_confidence.vcf.gz AT4415T_realigned.bam\n",
      "\n"
     ]
    },
    {
     "data": {
      "text/markdown": [
       "### Tumor: AT4808"
      ],
      "text/plain": [
       "<IPython.core.display.Markdown object>"
      ]
     },
     "metadata": {},
     "output_type": "display_data"
    },
    {
     "name": "stdout",
     "output_type": "stream",
     "text": [
      "/storage/gluster/vol1/SHARED/NGSTOOLS/SENTIEON/sentieon-genomics-201911/bin/sentieon driver -r /storage/gluster/vol1/bcbio/genomes/Hsapiens/hg19/bwa/hg19.fa -t 80 -i AT4808T_deduped.bam --algo Realigner -k /storage/gluster/vol1/bcbio/genomes/Hsapiens/hg19/variation/Mills_and_1000G_gold_standard.indels.vcf.gz -k /storage/gluster/vol1/bcbio/genomes/Hsapiens/hg19/variation/1000G_phase1.snps.high_confidence.vcf.gz AT4808T_realigned.bam\n",
      "\n"
     ]
    },
    {
     "data": {
      "text/markdown": [
       "### Tumor: C0288"
      ],
      "text/plain": [
       "<IPython.core.display.Markdown object>"
      ]
     },
     "metadata": {},
     "output_type": "display_data"
    },
    {
     "name": "stdout",
     "output_type": "stream",
     "text": [
      "/storage/gluster/vol1/SHARED/NGSTOOLS/SENTIEON/sentieon-genomics-201911/bin/sentieon driver -r /storage/gluster/vol1/bcbio/genomes/Hsapiens/hg19/bwa/hg19.fa -t 80 -i C0288T_deduped.bam --algo Realigner -k /storage/gluster/vol1/bcbio/genomes/Hsapiens/hg19/variation/Mills_and_1000G_gold_standard.indels.vcf.gz -k /storage/gluster/vol1/bcbio/genomes/Hsapiens/hg19/variation/1000G_phase1.snps.high_confidence.vcf.gz C0288T_realigned.bam\n",
      "\n"
     ]
    },
    {
     "data": {
      "text/markdown": [
       "### Tumor: C0334"
      ],
      "text/plain": [
       "<IPython.core.display.Markdown object>"
      ]
     },
     "metadata": {},
     "output_type": "display_data"
    },
    {
     "name": "stdout",
     "output_type": "stream",
     "text": [
      "/storage/gluster/vol1/SHARED/NGSTOOLS/SENTIEON/sentieon-genomics-201911/bin/sentieon driver -r /storage/gluster/vol1/bcbio/genomes/Hsapiens/hg19/bwa/hg19.fa -t 80 -i C0334T_deduped.bam --algo Realigner -k /storage/gluster/vol1/bcbio/genomes/Hsapiens/hg19/variation/Mills_and_1000G_gold_standard.indels.vcf.gz -k /storage/gluster/vol1/bcbio/genomes/Hsapiens/hg19/variation/1000G_phase1.snps.high_confidence.vcf.gz C0334T_realigned.bam\n",
      "\n"
     ]
    },
    {
     "data": {
      "text/markdown": [
       "### Tumor: C1572"
      ],
      "text/plain": [
       "<IPython.core.display.Markdown object>"
      ]
     },
     "metadata": {},
     "output_type": "display_data"
    },
    {
     "name": "stdout",
     "output_type": "stream",
     "text": [
      "/storage/gluster/vol1/SHARED/NGSTOOLS/SENTIEON/sentieon-genomics-201911/bin/sentieon driver -r /storage/gluster/vol1/bcbio/genomes/Hsapiens/hg19/bwa/hg19.fa -t 80 -i C1572T_deduped.bam --algo Realigner -k /storage/gluster/vol1/bcbio/genomes/Hsapiens/hg19/variation/Mills_and_1000G_gold_standard.indels.vcf.gz -k /storage/gluster/vol1/bcbio/genomes/Hsapiens/hg19/variation/1000G_phase1.snps.high_confidence.vcf.gz C1572T_realigned.bam\n",
      "\n"
     ]
    },
    {
     "data": {
      "text/markdown": [
       "### Tumor: C8448"
      ],
      "text/plain": [
       "<IPython.core.display.Markdown object>"
      ]
     },
     "metadata": {},
     "output_type": "display_data"
    },
    {
     "name": "stdout",
     "output_type": "stream",
     "text": [
      "/storage/gluster/vol1/SHARED/NGSTOOLS/SENTIEON/sentieon-genomics-201911/bin/sentieon driver -r /storage/gluster/vol1/bcbio/genomes/Hsapiens/hg19/bwa/hg19.fa -t 80 -i C8448T_deduped.bam --algo Realigner -k /storage/gluster/vol1/bcbio/genomes/Hsapiens/hg19/variation/Mills_and_1000G_gold_standard.indels.vcf.gz -k /storage/gluster/vol1/bcbio/genomes/Hsapiens/hg19/variation/1000G_phase1.snps.high_confidence.vcf.gz C8448T_realigned.bam\n",
      "\n"
     ]
    }
   ],
   "source": [
    "for i in range(batchSize):\n",
    "    TUMOR = batch[i][1]\n",
    "    display(Markdown(\"### Tumor: \"+TUMOR))\n",
    "    command1 = data['SENTIEON_INSTALL_DIR']+ \"/bin/sentieon driver -r \"+data['fasta']+\" -t \"+str(data['nt'])+\" -i \"+TUMOR+\"T_deduped.bam --algo Realigner -k \"+data['known_Mills_indels']+\" -k \"+data['known_1000G_indels']+\" \"+TUMOR+\"T_realigned.bam\"\n",
    "    print(command1+'\\n')\n",
    "    if exec_scripts:\n",
    "        subprocess.check_output(command1,shell=True)"
   ]
  },
  {
   "cell_type": "markdown",
   "metadata": {},
   "source": [
    "# 5a. Base recalibration for normal sample"
   ]
  },
  {
   "cell_type": "code",
   "execution_count": 79,
   "metadata": {},
   "outputs": [
    {
     "data": {
      "text/markdown": [
       "### Normal: ABT414_Flank"
      ],
      "text/plain": [
       "<IPython.core.display.Markdown object>"
      ]
     },
     "metadata": {},
     "output_type": "display_data"
    },
    {
     "name": "stdout",
     "output_type": "stream",
     "text": [
      "/storage/gluster/vol1/SHARED/NGSTOOLS/SENTIEON/sentieon-genomics-201911/bin/sentieon driver -r /storage/gluster/vol1/bcbio/genomes/Hsapiens/hg19/bwa/hg19.fa -t 80 -i ABT414_FlankN_realigned.bam --algo QualCal -k /storage/gluster/vol1/bcbio/genomes/Hsapiens/hg19/variation/dbsnp-150.vcf.gz -k /storage/gluster/vol1/bcbio/genomes/Hsapiens/hg19/variation/Mills_and_1000G_gold_standard.indels.vcf.gz -k /storage/gluster/vol1/bcbio/genomes/Hsapiens/hg19/variation/1000G_phase1.snps.high_confidence.vcf.gz ABT414_FlankN_recal_data.table\n",
      "\n"
     ]
    }
   ],
   "source": [
    "for i in range(np.size(uniqNorm)):\n",
    "    SAMPLE = uniqNorm[i]\n",
    "    display(Markdown(\"### Normal: \" + SAMPLE))\n",
    "    command1 = data['SENTIEON_INSTALL_DIR']+\"/bin/sentieon driver -r \"+data['fasta']+\" -t \"+str(data['nt'])+\" -i \"+SAMPLE+\"N_realigned.bam --algo QualCal -k \"+data['dbsnp']+\" -k \"+data['known_Mills_indels']+\" -k \"+data['known_1000G_indels']+\" \"+SAMPLE+\"N_recal_data.table\"\n",
    "    print(command1+'\\n')\n",
    "    if exec_scripts:\n",
    "        subprocess.check_output(command1,shell=True)"
   ]
  },
  {
   "cell_type": "code",
   "execution_count": 78,
   "metadata": {},
   "outputs": [
    {
     "data": {
      "text/markdown": [
       "### Normal: ABT414_Flank"
      ],
      "text/plain": [
       "<IPython.core.display.Markdown object>"
      ]
     },
     "metadata": {},
     "output_type": "display_data"
    },
    {
     "name": "stdout",
     "output_type": "stream",
     "text": [
      "/storage/gluster/vol1/SHARED/NGSTOOLS/SENTIEON/sentieon-genomics-201911/bin/sentieon driver -r /storage/gluster/vol1/bcbio/genomes/Hsapiens/hg19/bwa/hg19.fa -t 80 -i ABT414_FlankN_realigned.bam -q ABT414_FlankN_recal_data.table --algo QualCal -k /storage/gluster/vol1/bcbio/genomes/Hsapiens/hg19/variation/dbsnp-150.vcf.gz -k /storage/gluster/vol1/bcbio/genomes/Hsapiens/hg19/variation/Mills_and_1000G_gold_standard.indels.vcf.gz -k /storage/gluster/vol1/bcbio/genomes/Hsapiens/hg19/variation/1000G_phase1.snps.high_confidence.vcf.gz ABT414_FlankN_recal_data.table.post\n",
      "\n"
     ]
    }
   ],
   "source": [
    "display(Markdown(\"___\"))\n",
    "for i in range(np.size(uniqNorm)):\n",
    "    SAMPLE = uniqNorm[i]\n",
    "    display(Markdown(\"### Normal: \" + SAMPLE))\n",
    "    command2 = data['SENTIEON_INSTALL_DIR']+\"/bin/sentieon driver -r \"+data['fasta']+\" -t \"+str(data['nt'])+\" -i \"+SAMPLE+\"N_realigned.bam -q \"+SAMPLE+\"N_recal_data.table --algo QualCal -k \"+data['dbsnp']+\" -k \"+data['known_Mills_indels']+\" -k \"+data['known_1000G_indels']+\" \"+SAMPLE+\"N_recal_data.table.post\"\n",
    "    print(command2+'\\n')\n",
    "    if exec_scripts:\n",
    "        subprocess.check_output(command2,shell=True)"
   ]
  },
  {
   "cell_type": "code",
   "execution_count": 77,
   "metadata": {},
   "outputs": [
    {
     "data": {
      "text/markdown": [
       "### Normal: ABT414_Flank"
      ],
      "text/plain": [
       "<IPython.core.display.Markdown object>"
      ]
     },
     "metadata": {},
     "output_type": "display_data"
    },
    {
     "name": "stdout",
     "output_type": "stream",
     "text": [
      "/storage/gluster/vol1/SHARED/NGSTOOLS/SENTIEON/sentieon-genomics-201911/bin/sentieon driver -t 80 --algo QualCal --plot --before ABT414_FlankN_recal_data.table --after ABT414_FlankN_recal_data.table.post ABT414_FlankN_recal.csv\n",
      "\n"
     ]
    }
   ],
   "source": [
    "display(Markdown(\"___\"))\n",
    "for i in range(np.size(uniqNorm)):\n",
    "    SAMPLE = uniqNorm[i]\n",
    "    display(Markdown(\"### Normal: \" + SAMPLE))\n",
    "    command3 = data['SENTIEON_INSTALL_DIR']+\"/bin/sentieon driver -t \"+str(data['nt'])+\" --algo QualCal --plot --before \"+SAMPLE+\"N_recal_data.table --after \"+SAMPLE+\"N_recal_data.table.post \"+SAMPLE+\"N_recal.csv\"\n",
    "    print(command3+'\\n')\n",
    "    if exec_scripts:\n",
    "        subprocess.check_output(command3,shell=True)"
   ]
  },
  {
   "cell_type": "code",
   "execution_count": 76,
   "metadata": {},
   "outputs": [
    {
     "data": {
      "text/markdown": [
       "### Normal: ABT414_Flank"
      ],
      "text/plain": [
       "<IPython.core.display.Markdown object>"
      ]
     },
     "metadata": {},
     "output_type": "display_data"
    },
    {
     "name": "stdout",
     "output_type": "stream",
     "text": [
      "/storage/gluster/vol1/SHARED/NGSTOOLS/SENTIEON/sentieon-genomics-201911/bin/sentieon plot QualCal -o ABT414_FlankN_recal_plots.pdf ABT414_FlankN_recal.csv\n",
      "\n"
     ]
    }
   ],
   "source": [
    "display(Markdown(\"___\"))\n",
    "for i in range(np.size(uniqNorm)):\n",
    "    SAMPLE = uniqNorm[i]\n",
    "    display(Markdown(\"### Normal: \" + SAMPLE))\n",
    "    command4 = data['SENTIEON_INSTALL_DIR']+\"/bin/sentieon plot QualCal -o \"+SAMPLE+\"N_recal_plots.pdf \"+SAMPLE+\"N_recal.csv\"\n",
    "    print(command4+'\\n')\n",
    "    if exec_scripts:\n",
    "        subprocess.check_output(command4,shell=True)"
   ]
  },
  {
   "cell_type": "code",
   "execution_count": 118,
   "metadata": {},
   "outputs": [
    {
     "data": {
      "text/html": [
       "\n",
       "\n",
       "<select id='selectSample11'>  </select>\n",
       "\n",
       "<body onload=\"myPlots()\">\n",
       "\n",
       "<h1>The sample is:  <span id=\"myText11\"></span></h1>\n",
       "\n",
       "<div>\n",
       "  <iframe id=\"pdf11\" src=\"\" style=\"width:100%;height:700px;\"></iframe>\n",
       "</div>\n",
       "\n",
       "\n",
       "</body>\n",
       "\n",
       "\n",
       "\n",
       "<script type=\"text/Javascript\">\n",
       "\n",
       "var select = document.getElementById(\"selectSample11\");\n",
       "\n",
       "document.getElementById(\"myText11\").innerHTML = options;\n",
       "\n",
       "var options = [\"ABT414_Flank\"];\n",
       "\n",
       "myDropdown(select,options)\n",
       "\n",
       "var type11 = \"_N_recal_plots.pdf\"\n",
       "\n",
       "myPlots(type11,11)\n",
       "\n",
       "document.getElementById(\"selectSample11\").onchange = function() {myPlots(type11,11)};\n",
       "\n",
       "\n",
       "</script>\n"
      ],
      "text/plain": [
       "<IPython.core.display.HTML object>"
      ]
     },
     "execution_count": 118,
     "metadata": {},
     "output_type": "execute_result"
    }
   ],
   "source": [
    "#SAMPLE = batch[0][0]\n",
    "#img = WImage(filename=SAMPLE+\"N_recal_plots.pdf\")\n",
    "    \n",
    "#interact(multiPage, Sample=widgNor, page=[1,2] , file=fixed(\"_N_recal_plots.pdf\"), normal=fixed(True), listSample = fixed([]));\n",
    "\n",
    "id = id +1\n",
    "\n",
    "input_form = \"\"\"\n",
    "\n",
    "<select id='selectSample\"\"\"+str(id)+\"\"\"'>  </select>\n",
    "\n",
    "<body onload=\"myPlots()\">\n",
    "\n",
    "<h1>The sample is:  <span id=\"myText\"\"\"+str(id)+\"\"\"\"></span></h1>\n",
    "\n",
    "<div>\n",
    "  <iframe id=\"pdf\"\"\"+str(id)+\"\"\"\" src=\"\" style=\"width:100%;height:700px;\"></iframe>\n",
    "</div>\n",
    "\n",
    "\n",
    "</body>\n",
    "\n",
    "\"\"\"\n",
    "\n",
    "javascript = \"\"\"\n",
    "\n",
    "<script type=\"text/Javascript\">\n",
    "\n",
    "var select = document.getElementById(\"selectSample\"\"\"+str(id)+\"\"\"\");\n",
    "\n",
    "myDropdown(select,Object.keys(objNorm)) \n",
    "\n",
    "var type\"\"\"+str(id)+\"\"\" = \"_N_recal_plots.pdf\"\n",
    "\n",
    "myPlots(type\"\"\"+str(id)+\"\"\",\"\"\"+str(id)+\"\"\")\n",
    "\n",
    "document.getElementById(\"selectSample\"\"\"+str(id)+\"\"\"\").onchange = function() {myPlots(type\"\"\"+str(id)+\"\"\",\"\"\"+str(id)+\"\"\")};\n",
    "\n",
    "\n",
    "</script>\n",
    "\"\"\"\n",
    "    \n",
    "\n",
    "HTML(input_form + javascript)\n",
    "\n",
    "\n"
   ]
  },
  {
   "cell_type": "code",
   "execution_count": 75,
   "metadata": {},
   "outputs": [
    {
     "data": {
      "text/markdown": [
       "### Normal: ABT414_Flank"
      ],
      "text/plain": [
       "<IPython.core.display.Markdown object>"
      ]
     },
     "metadata": {},
     "output_type": "display_data"
    },
    {
     "name": "stdout",
     "output_type": "stream",
     "text": [
      "/storage/gluster/vol1/SHARED/NGSTOOLS/SENTIEON/sentieon-genomics-201911/bin/sentieon driver -r /storage/gluster/vol1/bcbio/genomes/Hsapiens/hg19/bwa/hg19.fa -t 80 -i ABT414_FlankN_realigned.bam -q ABT414_FlankN_recal_data.table --algo ReadWriter ABT414_FlankN_recal.bam\n",
      "\n"
     ]
    }
   ],
   "source": [
    "display(Markdown(\"___\"))\n",
    "# ReadWriter to output recalibrated bam\n",
    "for i in range(np.size(uniqNorm)):\n",
    "    SAMPLE = uniqNorm[i]\n",
    "    display(Markdown(\"### Normal: \" + SAMPLE))\n",
    "    command5 = data['SENTIEON_INSTALL_DIR']+\"/bin/sentieon driver -r \"+data['fasta']+\" -t \"+str(data['nt'])+\" -i \"+SAMPLE+\"N_realigned.bam -q \"+SAMPLE+\"N_recal_data.table --algo ReadWriter \"+SAMPLE+\"N_recal.bam\"\n",
    "    print(command5+'\\n')\n",
    "    if exec_scripts:\n",
    "        subprocess.check_output(command5,shell=True)"
   ]
  },
  {
   "cell_type": "markdown",
   "metadata": {},
   "source": [
    "# 5a. Base recalibration for tumor sample"
   ]
  },
  {
   "cell_type": "code",
   "execution_count": 74,
   "metadata": {},
   "outputs": [
    {
     "data": {
      "text/markdown": [
       "### Tumor: A1783"
      ],
      "text/plain": [
       "<IPython.core.display.Markdown object>"
      ]
     },
     "metadata": {},
     "output_type": "display_data"
    },
    {
     "name": "stdout",
     "output_type": "stream",
     "text": [
      "/storage/gluster/vol1/SHARED/NGSTOOLS/SENTIEON/sentieon-genomics-201911/bin/sentieon driver -r /storage/gluster/vol1/bcbio/genomes/Hsapiens/hg19/bwa/hg19.fa -t 80 -i A1783T_realigned.bam --algo QualCal -k /storage/gluster/vol1/bcbio/genomes/Hsapiens/hg19/variation/dbsnp-150.vcf.gz -k /storage/gluster/vol1/bcbio/genomes/Hsapiens/hg19/variation/Mills_and_1000G_gold_standard.indels.vcf.gz -k /storage/gluster/vol1/bcbio/genomes/Hsapiens/hg19/variation/1000G_phase1.snps.high_confidence.vcf.gz A1783T_recal_data.table\n",
      "\n"
     ]
    },
    {
     "data": {
      "text/markdown": [
       "### Tumor: A9155"
      ],
      "text/plain": [
       "<IPython.core.display.Markdown object>"
      ]
     },
     "metadata": {},
     "output_type": "display_data"
    },
    {
     "name": "stdout",
     "output_type": "stream",
     "text": [
      "/storage/gluster/vol1/SHARED/NGSTOOLS/SENTIEON/sentieon-genomics-201911/bin/sentieon driver -r /storage/gluster/vol1/bcbio/genomes/Hsapiens/hg19/bwa/hg19.fa -t 80 -i A9155T_realigned.bam --algo QualCal -k /storage/gluster/vol1/bcbio/genomes/Hsapiens/hg19/variation/dbsnp-150.vcf.gz -k /storage/gluster/vol1/bcbio/genomes/Hsapiens/hg19/variation/Mills_and_1000G_gold_standard.indels.vcf.gz -k /storage/gluster/vol1/bcbio/genomes/Hsapiens/hg19/variation/1000G_phase1.snps.high_confidence.vcf.gz A9155T_recal_data.table\n",
      "\n"
     ]
    },
    {
     "data": {
      "text/markdown": [
       "### Tumor: A9878"
      ],
      "text/plain": [
       "<IPython.core.display.Markdown object>"
      ]
     },
     "metadata": {},
     "output_type": "display_data"
    },
    {
     "name": "stdout",
     "output_type": "stream",
     "text": [
      "/storage/gluster/vol1/SHARED/NGSTOOLS/SENTIEON/sentieon-genomics-201911/bin/sentieon driver -r /storage/gluster/vol1/bcbio/genomes/Hsapiens/hg19/bwa/hg19.fa -t 80 -i A9878T_realigned.bam --algo QualCal -k /storage/gluster/vol1/bcbio/genomes/Hsapiens/hg19/variation/dbsnp-150.vcf.gz -k /storage/gluster/vol1/bcbio/genomes/Hsapiens/hg19/variation/Mills_and_1000G_gold_standard.indels.vcf.gz -k /storage/gluster/vol1/bcbio/genomes/Hsapiens/hg19/variation/1000G_phase1.snps.high_confidence.vcf.gz A9878T_recal_data.table\n",
      "\n"
     ]
    },
    {
     "data": {
      "text/markdown": [
       "### Tumor: AT2550"
      ],
      "text/plain": [
       "<IPython.core.display.Markdown object>"
      ]
     },
     "metadata": {},
     "output_type": "display_data"
    },
    {
     "name": "stdout",
     "output_type": "stream",
     "text": [
      "/storage/gluster/vol1/SHARED/NGSTOOLS/SENTIEON/sentieon-genomics-201911/bin/sentieon driver -r /storage/gluster/vol1/bcbio/genomes/Hsapiens/hg19/bwa/hg19.fa -t 80 -i AT2550T_realigned.bam --algo QualCal -k /storage/gluster/vol1/bcbio/genomes/Hsapiens/hg19/variation/dbsnp-150.vcf.gz -k /storage/gluster/vol1/bcbio/genomes/Hsapiens/hg19/variation/Mills_and_1000G_gold_standard.indels.vcf.gz -k /storage/gluster/vol1/bcbio/genomes/Hsapiens/hg19/variation/1000G_phase1.snps.high_confidence.vcf.gz AT2550T_recal_data.table\n",
      "\n"
     ]
    },
    {
     "data": {
      "text/markdown": [
       "### Tumor: AT2822"
      ],
      "text/plain": [
       "<IPython.core.display.Markdown object>"
      ]
     },
     "metadata": {},
     "output_type": "display_data"
    },
    {
     "name": "stdout",
     "output_type": "stream",
     "text": [
      "/storage/gluster/vol1/SHARED/NGSTOOLS/SENTIEON/sentieon-genomics-201911/bin/sentieon driver -r /storage/gluster/vol1/bcbio/genomes/Hsapiens/hg19/bwa/hg19.fa -t 80 -i AT2822T_realigned.bam --algo QualCal -k /storage/gluster/vol1/bcbio/genomes/Hsapiens/hg19/variation/dbsnp-150.vcf.gz -k /storage/gluster/vol1/bcbio/genomes/Hsapiens/hg19/variation/Mills_and_1000G_gold_standard.indels.vcf.gz -k /storage/gluster/vol1/bcbio/genomes/Hsapiens/hg19/variation/1000G_phase1.snps.high_confidence.vcf.gz AT2822T_recal_data.table\n",
      "\n"
     ]
    },
    {
     "data": {
      "text/markdown": [
       "### Tumor: AT4415"
      ],
      "text/plain": [
       "<IPython.core.display.Markdown object>"
      ]
     },
     "metadata": {},
     "output_type": "display_data"
    },
    {
     "name": "stdout",
     "output_type": "stream",
     "text": [
      "/storage/gluster/vol1/SHARED/NGSTOOLS/SENTIEON/sentieon-genomics-201911/bin/sentieon driver -r /storage/gluster/vol1/bcbio/genomes/Hsapiens/hg19/bwa/hg19.fa -t 80 -i AT4415T_realigned.bam --algo QualCal -k /storage/gluster/vol1/bcbio/genomes/Hsapiens/hg19/variation/dbsnp-150.vcf.gz -k /storage/gluster/vol1/bcbio/genomes/Hsapiens/hg19/variation/Mills_and_1000G_gold_standard.indels.vcf.gz -k /storage/gluster/vol1/bcbio/genomes/Hsapiens/hg19/variation/1000G_phase1.snps.high_confidence.vcf.gz AT4415T_recal_data.table\n",
      "\n"
     ]
    },
    {
     "data": {
      "text/markdown": [
       "### Tumor: AT4808"
      ],
      "text/plain": [
       "<IPython.core.display.Markdown object>"
      ]
     },
     "metadata": {},
     "output_type": "display_data"
    },
    {
     "name": "stdout",
     "output_type": "stream",
     "text": [
      "/storage/gluster/vol1/SHARED/NGSTOOLS/SENTIEON/sentieon-genomics-201911/bin/sentieon driver -r /storage/gluster/vol1/bcbio/genomes/Hsapiens/hg19/bwa/hg19.fa -t 80 -i AT4808T_realigned.bam --algo QualCal -k /storage/gluster/vol1/bcbio/genomes/Hsapiens/hg19/variation/dbsnp-150.vcf.gz -k /storage/gluster/vol1/bcbio/genomes/Hsapiens/hg19/variation/Mills_and_1000G_gold_standard.indels.vcf.gz -k /storage/gluster/vol1/bcbio/genomes/Hsapiens/hg19/variation/1000G_phase1.snps.high_confidence.vcf.gz AT4808T_recal_data.table\n",
      "\n"
     ]
    },
    {
     "data": {
      "text/markdown": [
       "### Tumor: C0288"
      ],
      "text/plain": [
       "<IPython.core.display.Markdown object>"
      ]
     },
     "metadata": {},
     "output_type": "display_data"
    },
    {
     "name": "stdout",
     "output_type": "stream",
     "text": [
      "/storage/gluster/vol1/SHARED/NGSTOOLS/SENTIEON/sentieon-genomics-201911/bin/sentieon driver -r /storage/gluster/vol1/bcbio/genomes/Hsapiens/hg19/bwa/hg19.fa -t 80 -i C0288T_realigned.bam --algo QualCal -k /storage/gluster/vol1/bcbio/genomes/Hsapiens/hg19/variation/dbsnp-150.vcf.gz -k /storage/gluster/vol1/bcbio/genomes/Hsapiens/hg19/variation/Mills_and_1000G_gold_standard.indels.vcf.gz -k /storage/gluster/vol1/bcbio/genomes/Hsapiens/hg19/variation/1000G_phase1.snps.high_confidence.vcf.gz C0288T_recal_data.table\n",
      "\n"
     ]
    },
    {
     "data": {
      "text/markdown": [
       "### Tumor: C0334"
      ],
      "text/plain": [
       "<IPython.core.display.Markdown object>"
      ]
     },
     "metadata": {},
     "output_type": "display_data"
    },
    {
     "name": "stdout",
     "output_type": "stream",
     "text": [
      "/storage/gluster/vol1/SHARED/NGSTOOLS/SENTIEON/sentieon-genomics-201911/bin/sentieon driver -r /storage/gluster/vol1/bcbio/genomes/Hsapiens/hg19/bwa/hg19.fa -t 80 -i C0334T_realigned.bam --algo QualCal -k /storage/gluster/vol1/bcbio/genomes/Hsapiens/hg19/variation/dbsnp-150.vcf.gz -k /storage/gluster/vol1/bcbio/genomes/Hsapiens/hg19/variation/Mills_and_1000G_gold_standard.indels.vcf.gz -k /storage/gluster/vol1/bcbio/genomes/Hsapiens/hg19/variation/1000G_phase1.snps.high_confidence.vcf.gz C0334T_recal_data.table\n",
      "\n"
     ]
    },
    {
     "data": {
      "text/markdown": [
       "### Tumor: C1572"
      ],
      "text/plain": [
       "<IPython.core.display.Markdown object>"
      ]
     },
     "metadata": {},
     "output_type": "display_data"
    },
    {
     "name": "stdout",
     "output_type": "stream",
     "text": [
      "/storage/gluster/vol1/SHARED/NGSTOOLS/SENTIEON/sentieon-genomics-201911/bin/sentieon driver -r /storage/gluster/vol1/bcbio/genomes/Hsapiens/hg19/bwa/hg19.fa -t 80 -i C1572T_realigned.bam --algo QualCal -k /storage/gluster/vol1/bcbio/genomes/Hsapiens/hg19/variation/dbsnp-150.vcf.gz -k /storage/gluster/vol1/bcbio/genomes/Hsapiens/hg19/variation/Mills_and_1000G_gold_standard.indels.vcf.gz -k /storage/gluster/vol1/bcbio/genomes/Hsapiens/hg19/variation/1000G_phase1.snps.high_confidence.vcf.gz C1572T_recal_data.table\n",
      "\n"
     ]
    },
    {
     "data": {
      "text/markdown": [
       "### Tumor: C8448"
      ],
      "text/plain": [
       "<IPython.core.display.Markdown object>"
      ]
     },
     "metadata": {},
     "output_type": "display_data"
    },
    {
     "name": "stdout",
     "output_type": "stream",
     "text": [
      "/storage/gluster/vol1/SHARED/NGSTOOLS/SENTIEON/sentieon-genomics-201911/bin/sentieon driver -r /storage/gluster/vol1/bcbio/genomes/Hsapiens/hg19/bwa/hg19.fa -t 80 -i C8448T_realigned.bam --algo QualCal -k /storage/gluster/vol1/bcbio/genomes/Hsapiens/hg19/variation/dbsnp-150.vcf.gz -k /storage/gluster/vol1/bcbio/genomes/Hsapiens/hg19/variation/Mills_and_1000G_gold_standard.indels.vcf.gz -k /storage/gluster/vol1/bcbio/genomes/Hsapiens/hg19/variation/1000G_phase1.snps.high_confidence.vcf.gz C8448T_recal_data.table\n",
      "\n"
     ]
    }
   ],
   "source": [
    "for i in range(batchSize):\n",
    "    TUMOR = batch[i][1]\n",
    "    display(Markdown(\"### Tumor: \"+TUMOR))\n",
    "    command1 = data['SENTIEON_INSTALL_DIR']+\"/bin/sentieon driver -r \"+data['fasta']+\" -t \"+str(data['nt'])+\" -i \"+TUMOR+\"T_realigned.bam --algo QualCal -k \"+data['dbsnp']+\" -k \"+data['known_Mills_indels']+\" -k \"+data['known_1000G_indels']+\" \"+TUMOR+\"T_recal_data.table\"\n",
    "    print(command1+'\\n')\n",
    "    if exec_scripts:\n",
    "        subprocess.check_output(command1,shell=True)"
   ]
  },
  {
   "cell_type": "code",
   "execution_count": 73,
   "metadata": {},
   "outputs": [
    {
     "data": {
      "text/markdown": [
       "### Tumor: A1783"
      ],
      "text/plain": [
       "<IPython.core.display.Markdown object>"
      ]
     },
     "metadata": {},
     "output_type": "display_data"
    },
    {
     "name": "stdout",
     "output_type": "stream",
     "text": [
      "/storage/gluster/vol1/SHARED/NGSTOOLS/SENTIEON/sentieon-genomics-201911/bin/sentieon driver -r /storage/gluster/vol1/bcbio/genomes/Hsapiens/hg19/bwa/hg19.fa -t 80 -i A1783T_realigned.bam -q A1783T_recal_data.table --algo QualCal -k /storage/gluster/vol1/bcbio/genomes/Hsapiens/hg19/variation/dbsnp-150.vcf.gz -k /storage/gluster/vol1/bcbio/genomes/Hsapiens/hg19/variation/Mills_and_1000G_gold_standard.indels.vcf.gz -k /storage/gluster/vol1/bcbio/genomes/Hsapiens/hg19/variation/1000G_phase1.snps.high_confidence.vcf.gz A1783T_recal_data.table.post\n",
      "\n"
     ]
    },
    {
     "data": {
      "text/markdown": [
       "### Tumor: A9155"
      ],
      "text/plain": [
       "<IPython.core.display.Markdown object>"
      ]
     },
     "metadata": {},
     "output_type": "display_data"
    },
    {
     "name": "stdout",
     "output_type": "stream",
     "text": [
      "/storage/gluster/vol1/SHARED/NGSTOOLS/SENTIEON/sentieon-genomics-201911/bin/sentieon driver -r /storage/gluster/vol1/bcbio/genomes/Hsapiens/hg19/bwa/hg19.fa -t 80 -i A9155T_realigned.bam -q A9155T_recal_data.table --algo QualCal -k /storage/gluster/vol1/bcbio/genomes/Hsapiens/hg19/variation/dbsnp-150.vcf.gz -k /storage/gluster/vol1/bcbio/genomes/Hsapiens/hg19/variation/Mills_and_1000G_gold_standard.indels.vcf.gz -k /storage/gluster/vol1/bcbio/genomes/Hsapiens/hg19/variation/1000G_phase1.snps.high_confidence.vcf.gz A9155T_recal_data.table.post\n",
      "\n"
     ]
    },
    {
     "data": {
      "text/markdown": [
       "### Tumor: A9878"
      ],
      "text/plain": [
       "<IPython.core.display.Markdown object>"
      ]
     },
     "metadata": {},
     "output_type": "display_data"
    },
    {
     "name": "stdout",
     "output_type": "stream",
     "text": [
      "/storage/gluster/vol1/SHARED/NGSTOOLS/SENTIEON/sentieon-genomics-201911/bin/sentieon driver -r /storage/gluster/vol1/bcbio/genomes/Hsapiens/hg19/bwa/hg19.fa -t 80 -i A9878T_realigned.bam -q A9878T_recal_data.table --algo QualCal -k /storage/gluster/vol1/bcbio/genomes/Hsapiens/hg19/variation/dbsnp-150.vcf.gz -k /storage/gluster/vol1/bcbio/genomes/Hsapiens/hg19/variation/Mills_and_1000G_gold_standard.indels.vcf.gz -k /storage/gluster/vol1/bcbio/genomes/Hsapiens/hg19/variation/1000G_phase1.snps.high_confidence.vcf.gz A9878T_recal_data.table.post\n",
      "\n"
     ]
    },
    {
     "data": {
      "text/markdown": [
       "### Tumor: AT2550"
      ],
      "text/plain": [
       "<IPython.core.display.Markdown object>"
      ]
     },
     "metadata": {},
     "output_type": "display_data"
    },
    {
     "name": "stdout",
     "output_type": "stream",
     "text": [
      "/storage/gluster/vol1/SHARED/NGSTOOLS/SENTIEON/sentieon-genomics-201911/bin/sentieon driver -r /storage/gluster/vol1/bcbio/genomes/Hsapiens/hg19/bwa/hg19.fa -t 80 -i AT2550T_realigned.bam -q AT2550T_recal_data.table --algo QualCal -k /storage/gluster/vol1/bcbio/genomes/Hsapiens/hg19/variation/dbsnp-150.vcf.gz -k /storage/gluster/vol1/bcbio/genomes/Hsapiens/hg19/variation/Mills_and_1000G_gold_standard.indels.vcf.gz -k /storage/gluster/vol1/bcbio/genomes/Hsapiens/hg19/variation/1000G_phase1.snps.high_confidence.vcf.gz AT2550T_recal_data.table.post\n",
      "\n"
     ]
    },
    {
     "data": {
      "text/markdown": [
       "### Tumor: AT2822"
      ],
      "text/plain": [
       "<IPython.core.display.Markdown object>"
      ]
     },
     "metadata": {},
     "output_type": "display_data"
    },
    {
     "name": "stdout",
     "output_type": "stream",
     "text": [
      "/storage/gluster/vol1/SHARED/NGSTOOLS/SENTIEON/sentieon-genomics-201911/bin/sentieon driver -r /storage/gluster/vol1/bcbio/genomes/Hsapiens/hg19/bwa/hg19.fa -t 80 -i AT2822T_realigned.bam -q AT2822T_recal_data.table --algo QualCal -k /storage/gluster/vol1/bcbio/genomes/Hsapiens/hg19/variation/dbsnp-150.vcf.gz -k /storage/gluster/vol1/bcbio/genomes/Hsapiens/hg19/variation/Mills_and_1000G_gold_standard.indels.vcf.gz -k /storage/gluster/vol1/bcbio/genomes/Hsapiens/hg19/variation/1000G_phase1.snps.high_confidence.vcf.gz AT2822T_recal_data.table.post\n",
      "\n"
     ]
    },
    {
     "data": {
      "text/markdown": [
       "### Tumor: AT4415"
      ],
      "text/plain": [
       "<IPython.core.display.Markdown object>"
      ]
     },
     "metadata": {},
     "output_type": "display_data"
    },
    {
     "name": "stdout",
     "output_type": "stream",
     "text": [
      "/storage/gluster/vol1/SHARED/NGSTOOLS/SENTIEON/sentieon-genomics-201911/bin/sentieon driver -r /storage/gluster/vol1/bcbio/genomes/Hsapiens/hg19/bwa/hg19.fa -t 80 -i AT4415T_realigned.bam -q AT4415T_recal_data.table --algo QualCal -k /storage/gluster/vol1/bcbio/genomes/Hsapiens/hg19/variation/dbsnp-150.vcf.gz -k /storage/gluster/vol1/bcbio/genomes/Hsapiens/hg19/variation/Mills_and_1000G_gold_standard.indels.vcf.gz -k /storage/gluster/vol1/bcbio/genomes/Hsapiens/hg19/variation/1000G_phase1.snps.high_confidence.vcf.gz AT4415T_recal_data.table.post\n",
      "\n"
     ]
    },
    {
     "data": {
      "text/markdown": [
       "### Tumor: AT4808"
      ],
      "text/plain": [
       "<IPython.core.display.Markdown object>"
      ]
     },
     "metadata": {},
     "output_type": "display_data"
    },
    {
     "name": "stdout",
     "output_type": "stream",
     "text": [
      "/storage/gluster/vol1/SHARED/NGSTOOLS/SENTIEON/sentieon-genomics-201911/bin/sentieon driver -r /storage/gluster/vol1/bcbio/genomes/Hsapiens/hg19/bwa/hg19.fa -t 80 -i AT4808T_realigned.bam -q AT4808T_recal_data.table --algo QualCal -k /storage/gluster/vol1/bcbio/genomes/Hsapiens/hg19/variation/dbsnp-150.vcf.gz -k /storage/gluster/vol1/bcbio/genomes/Hsapiens/hg19/variation/Mills_and_1000G_gold_standard.indels.vcf.gz -k /storage/gluster/vol1/bcbio/genomes/Hsapiens/hg19/variation/1000G_phase1.snps.high_confidence.vcf.gz AT4808T_recal_data.table.post\n",
      "\n"
     ]
    },
    {
     "data": {
      "text/markdown": [
       "### Tumor: C0288"
      ],
      "text/plain": [
       "<IPython.core.display.Markdown object>"
      ]
     },
     "metadata": {},
     "output_type": "display_data"
    },
    {
     "name": "stdout",
     "output_type": "stream",
     "text": [
      "/storage/gluster/vol1/SHARED/NGSTOOLS/SENTIEON/sentieon-genomics-201911/bin/sentieon driver -r /storage/gluster/vol1/bcbio/genomes/Hsapiens/hg19/bwa/hg19.fa -t 80 -i C0288T_realigned.bam -q C0288T_recal_data.table --algo QualCal -k /storage/gluster/vol1/bcbio/genomes/Hsapiens/hg19/variation/dbsnp-150.vcf.gz -k /storage/gluster/vol1/bcbio/genomes/Hsapiens/hg19/variation/Mills_and_1000G_gold_standard.indels.vcf.gz -k /storage/gluster/vol1/bcbio/genomes/Hsapiens/hg19/variation/1000G_phase1.snps.high_confidence.vcf.gz C0288T_recal_data.table.post\n",
      "\n"
     ]
    },
    {
     "data": {
      "text/markdown": [
       "### Tumor: C0334"
      ],
      "text/plain": [
       "<IPython.core.display.Markdown object>"
      ]
     },
     "metadata": {},
     "output_type": "display_data"
    },
    {
     "name": "stdout",
     "output_type": "stream",
     "text": [
      "/storage/gluster/vol1/SHARED/NGSTOOLS/SENTIEON/sentieon-genomics-201911/bin/sentieon driver -r /storage/gluster/vol1/bcbio/genomes/Hsapiens/hg19/bwa/hg19.fa -t 80 -i C0334T_realigned.bam -q C0334T_recal_data.table --algo QualCal -k /storage/gluster/vol1/bcbio/genomes/Hsapiens/hg19/variation/dbsnp-150.vcf.gz -k /storage/gluster/vol1/bcbio/genomes/Hsapiens/hg19/variation/Mills_and_1000G_gold_standard.indels.vcf.gz -k /storage/gluster/vol1/bcbio/genomes/Hsapiens/hg19/variation/1000G_phase1.snps.high_confidence.vcf.gz C0334T_recal_data.table.post\n",
      "\n"
     ]
    },
    {
     "data": {
      "text/markdown": [
       "### Tumor: C1572"
      ],
      "text/plain": [
       "<IPython.core.display.Markdown object>"
      ]
     },
     "metadata": {},
     "output_type": "display_data"
    },
    {
     "name": "stdout",
     "output_type": "stream",
     "text": [
      "/storage/gluster/vol1/SHARED/NGSTOOLS/SENTIEON/sentieon-genomics-201911/bin/sentieon driver -r /storage/gluster/vol1/bcbio/genomes/Hsapiens/hg19/bwa/hg19.fa -t 80 -i C1572T_realigned.bam -q C1572T_recal_data.table --algo QualCal -k /storage/gluster/vol1/bcbio/genomes/Hsapiens/hg19/variation/dbsnp-150.vcf.gz -k /storage/gluster/vol1/bcbio/genomes/Hsapiens/hg19/variation/Mills_and_1000G_gold_standard.indels.vcf.gz -k /storage/gluster/vol1/bcbio/genomes/Hsapiens/hg19/variation/1000G_phase1.snps.high_confidence.vcf.gz C1572T_recal_data.table.post\n",
      "\n"
     ]
    },
    {
     "data": {
      "text/markdown": [
       "### Tumor: C8448"
      ],
      "text/plain": [
       "<IPython.core.display.Markdown object>"
      ]
     },
     "metadata": {},
     "output_type": "display_data"
    },
    {
     "name": "stdout",
     "output_type": "stream",
     "text": [
      "/storage/gluster/vol1/SHARED/NGSTOOLS/SENTIEON/sentieon-genomics-201911/bin/sentieon driver -r /storage/gluster/vol1/bcbio/genomes/Hsapiens/hg19/bwa/hg19.fa -t 80 -i C8448T_realigned.bam -q C8448T_recal_data.table --algo QualCal -k /storage/gluster/vol1/bcbio/genomes/Hsapiens/hg19/variation/dbsnp-150.vcf.gz -k /storage/gluster/vol1/bcbio/genomes/Hsapiens/hg19/variation/Mills_and_1000G_gold_standard.indels.vcf.gz -k /storage/gluster/vol1/bcbio/genomes/Hsapiens/hg19/variation/1000G_phase1.snps.high_confidence.vcf.gz C8448T_recal_data.table.post\n",
      "\n"
     ]
    }
   ],
   "source": [
    "display(Markdown(\"___\"))\n",
    "for i in range(batchSize):\n",
    "    TUMOR = batch[i][1]\n",
    "    display(Markdown(\"### Tumor: \"+TUMOR))\n",
    "    command2 = data['SENTIEON_INSTALL_DIR']+\"/bin/sentieon driver -r \"+data['fasta']+\" -t \"+str(data['nt'])+\" -i \"+TUMOR+\"T_realigned.bam -q \"+TUMOR+\"T_recal_data.table --algo QualCal -k \"+data['dbsnp']+\" -k \"+data['known_Mills_indels']+\" -k \"+data['known_1000G_indels']+\" \"+TUMOR+\"T_recal_data.table.post\"\n",
    "    print(command2+'\\n')\n",
    "    if exec_scripts:\n",
    "        subprocess.check_output(command2,shell=True)"
   ]
  },
  {
   "cell_type": "code",
   "execution_count": 72,
   "metadata": {},
   "outputs": [
    {
     "data": {
      "text/markdown": [
       "### Tumor: A1783"
      ],
      "text/plain": [
       "<IPython.core.display.Markdown object>"
      ]
     },
     "metadata": {},
     "output_type": "display_data"
    },
    {
     "name": "stdout",
     "output_type": "stream",
     "text": [
      "/storage/gluster/vol1/SHARED/NGSTOOLS/SENTIEON/sentieon-genomics-201911/bin/sentieon driver -t 80 --algo QualCal --plot --before A1783T_recal_data.table --after A1783T_recal_data.table.post A1783T_recal.csv\n",
      "\n"
     ]
    },
    {
     "data": {
      "text/markdown": [
       "### Tumor: A9155"
      ],
      "text/plain": [
       "<IPython.core.display.Markdown object>"
      ]
     },
     "metadata": {},
     "output_type": "display_data"
    },
    {
     "name": "stdout",
     "output_type": "stream",
     "text": [
      "/storage/gluster/vol1/SHARED/NGSTOOLS/SENTIEON/sentieon-genomics-201911/bin/sentieon driver -t 80 --algo QualCal --plot --before A9155T_recal_data.table --after A9155T_recal_data.table.post A9155T_recal.csv\n",
      "\n"
     ]
    },
    {
     "data": {
      "text/markdown": [
       "### Tumor: A9878"
      ],
      "text/plain": [
       "<IPython.core.display.Markdown object>"
      ]
     },
     "metadata": {},
     "output_type": "display_data"
    },
    {
     "name": "stdout",
     "output_type": "stream",
     "text": [
      "/storage/gluster/vol1/SHARED/NGSTOOLS/SENTIEON/sentieon-genomics-201911/bin/sentieon driver -t 80 --algo QualCal --plot --before A9878T_recal_data.table --after A9878T_recal_data.table.post A9878T_recal.csv\n",
      "\n"
     ]
    },
    {
     "data": {
      "text/markdown": [
       "### Tumor: AT2550"
      ],
      "text/plain": [
       "<IPython.core.display.Markdown object>"
      ]
     },
     "metadata": {},
     "output_type": "display_data"
    },
    {
     "name": "stdout",
     "output_type": "stream",
     "text": [
      "/storage/gluster/vol1/SHARED/NGSTOOLS/SENTIEON/sentieon-genomics-201911/bin/sentieon driver -t 80 --algo QualCal --plot --before AT2550T_recal_data.table --after AT2550T_recal_data.table.post AT2550T_recal.csv\n",
      "\n"
     ]
    },
    {
     "data": {
      "text/markdown": [
       "### Tumor: AT2822"
      ],
      "text/plain": [
       "<IPython.core.display.Markdown object>"
      ]
     },
     "metadata": {},
     "output_type": "display_data"
    },
    {
     "name": "stdout",
     "output_type": "stream",
     "text": [
      "/storage/gluster/vol1/SHARED/NGSTOOLS/SENTIEON/sentieon-genomics-201911/bin/sentieon driver -t 80 --algo QualCal --plot --before AT2822T_recal_data.table --after AT2822T_recal_data.table.post AT2822T_recal.csv\n",
      "\n"
     ]
    },
    {
     "data": {
      "text/markdown": [
       "### Tumor: AT4415"
      ],
      "text/plain": [
       "<IPython.core.display.Markdown object>"
      ]
     },
     "metadata": {},
     "output_type": "display_data"
    },
    {
     "name": "stdout",
     "output_type": "stream",
     "text": [
      "/storage/gluster/vol1/SHARED/NGSTOOLS/SENTIEON/sentieon-genomics-201911/bin/sentieon driver -t 80 --algo QualCal --plot --before AT4415T_recal_data.table --after AT4415T_recal_data.table.post AT4415T_recal.csv\n",
      "\n"
     ]
    },
    {
     "data": {
      "text/markdown": [
       "### Tumor: AT4808"
      ],
      "text/plain": [
       "<IPython.core.display.Markdown object>"
      ]
     },
     "metadata": {},
     "output_type": "display_data"
    },
    {
     "name": "stdout",
     "output_type": "stream",
     "text": [
      "/storage/gluster/vol1/SHARED/NGSTOOLS/SENTIEON/sentieon-genomics-201911/bin/sentieon driver -t 80 --algo QualCal --plot --before AT4808T_recal_data.table --after AT4808T_recal_data.table.post AT4808T_recal.csv\n",
      "\n"
     ]
    },
    {
     "data": {
      "text/markdown": [
       "### Tumor: C0288"
      ],
      "text/plain": [
       "<IPython.core.display.Markdown object>"
      ]
     },
     "metadata": {},
     "output_type": "display_data"
    },
    {
     "name": "stdout",
     "output_type": "stream",
     "text": [
      "/storage/gluster/vol1/SHARED/NGSTOOLS/SENTIEON/sentieon-genomics-201911/bin/sentieon driver -t 80 --algo QualCal --plot --before C0288T_recal_data.table --after C0288T_recal_data.table.post C0288T_recal.csv\n",
      "\n"
     ]
    },
    {
     "data": {
      "text/markdown": [
       "### Tumor: C0334"
      ],
      "text/plain": [
       "<IPython.core.display.Markdown object>"
      ]
     },
     "metadata": {},
     "output_type": "display_data"
    },
    {
     "name": "stdout",
     "output_type": "stream",
     "text": [
      "/storage/gluster/vol1/SHARED/NGSTOOLS/SENTIEON/sentieon-genomics-201911/bin/sentieon driver -t 80 --algo QualCal --plot --before C0334T_recal_data.table --after C0334T_recal_data.table.post C0334T_recal.csv\n",
      "\n"
     ]
    },
    {
     "data": {
      "text/markdown": [
       "### Tumor: C1572"
      ],
      "text/plain": [
       "<IPython.core.display.Markdown object>"
      ]
     },
     "metadata": {},
     "output_type": "display_data"
    },
    {
     "name": "stdout",
     "output_type": "stream",
     "text": [
      "/storage/gluster/vol1/SHARED/NGSTOOLS/SENTIEON/sentieon-genomics-201911/bin/sentieon driver -t 80 --algo QualCal --plot --before C1572T_recal_data.table --after C1572T_recal_data.table.post C1572T_recal.csv\n",
      "\n"
     ]
    },
    {
     "data": {
      "text/markdown": [
       "### Tumor: C8448"
      ],
      "text/plain": [
       "<IPython.core.display.Markdown object>"
      ]
     },
     "metadata": {},
     "output_type": "display_data"
    },
    {
     "name": "stdout",
     "output_type": "stream",
     "text": [
      "/storage/gluster/vol1/SHARED/NGSTOOLS/SENTIEON/sentieon-genomics-201911/bin/sentieon driver -t 80 --algo QualCal --plot --before C8448T_recal_data.table --after C8448T_recal_data.table.post C8448T_recal.csv\n",
      "\n"
     ]
    }
   ],
   "source": [
    "display(Markdown(\"___\"))\n",
    "for i in range(batchSize):\n",
    "    TUMOR = batch[i][1]\n",
    "    display(Markdown(\"### Tumor: \"+TUMOR))\n",
    "    command3 = data['SENTIEON_INSTALL_DIR']+\"/bin/sentieon driver -t \"+str(data['nt'])+\" --algo QualCal --plot --before \"+TUMOR+\"T_recal_data.table --after \"+TUMOR+\"T_recal_data.table.post \"+TUMOR+\"T_recal.csv\"\n",
    "    print(command3+'\\n')\n",
    "    if exec_scripts:\n",
    "        subprocess.check_output(command3,shell=True)"
   ]
  },
  {
   "cell_type": "code",
   "execution_count": 71,
   "metadata": {},
   "outputs": [
    {
     "data": {
      "text/markdown": [
       "### Tumor: A1783"
      ],
      "text/plain": [
       "<IPython.core.display.Markdown object>"
      ]
     },
     "metadata": {},
     "output_type": "display_data"
    },
    {
     "name": "stdout",
     "output_type": "stream",
     "text": [
      "/storage/gluster/vol1/SHARED/NGSTOOLS/SENTIEON/sentieon-genomics-201911/bin/sentieon plot QualCal -o A1783T_recal_plots.pdf A1783T_recal.csv\n",
      "\n"
     ]
    },
    {
     "data": {
      "text/markdown": [
       "### Tumor: A9155"
      ],
      "text/plain": [
       "<IPython.core.display.Markdown object>"
      ]
     },
     "metadata": {},
     "output_type": "display_data"
    },
    {
     "name": "stdout",
     "output_type": "stream",
     "text": [
      "/storage/gluster/vol1/SHARED/NGSTOOLS/SENTIEON/sentieon-genomics-201911/bin/sentieon plot QualCal -o A9155T_recal_plots.pdf A9155T_recal.csv\n",
      "\n"
     ]
    },
    {
     "data": {
      "text/markdown": [
       "### Tumor: A9878"
      ],
      "text/plain": [
       "<IPython.core.display.Markdown object>"
      ]
     },
     "metadata": {},
     "output_type": "display_data"
    },
    {
     "name": "stdout",
     "output_type": "stream",
     "text": [
      "/storage/gluster/vol1/SHARED/NGSTOOLS/SENTIEON/sentieon-genomics-201911/bin/sentieon plot QualCal -o A9878T_recal_plots.pdf A9878T_recal.csv\n",
      "\n"
     ]
    },
    {
     "data": {
      "text/markdown": [
       "### Tumor: AT2550"
      ],
      "text/plain": [
       "<IPython.core.display.Markdown object>"
      ]
     },
     "metadata": {},
     "output_type": "display_data"
    },
    {
     "name": "stdout",
     "output_type": "stream",
     "text": [
      "/storage/gluster/vol1/SHARED/NGSTOOLS/SENTIEON/sentieon-genomics-201911/bin/sentieon plot QualCal -o AT2550T_recal_plots.pdf AT2550T_recal.csv\n",
      "\n"
     ]
    },
    {
     "data": {
      "text/markdown": [
       "### Tumor: AT2822"
      ],
      "text/plain": [
       "<IPython.core.display.Markdown object>"
      ]
     },
     "metadata": {},
     "output_type": "display_data"
    },
    {
     "name": "stdout",
     "output_type": "stream",
     "text": [
      "/storage/gluster/vol1/SHARED/NGSTOOLS/SENTIEON/sentieon-genomics-201911/bin/sentieon plot QualCal -o AT2822T_recal_plots.pdf AT2822T_recal.csv\n",
      "\n"
     ]
    },
    {
     "data": {
      "text/markdown": [
       "### Tumor: AT4415"
      ],
      "text/plain": [
       "<IPython.core.display.Markdown object>"
      ]
     },
     "metadata": {},
     "output_type": "display_data"
    },
    {
     "name": "stdout",
     "output_type": "stream",
     "text": [
      "/storage/gluster/vol1/SHARED/NGSTOOLS/SENTIEON/sentieon-genomics-201911/bin/sentieon plot QualCal -o AT4415T_recal_plots.pdf AT4415T_recal.csv\n",
      "\n"
     ]
    },
    {
     "data": {
      "text/markdown": [
       "### Tumor: AT4808"
      ],
      "text/plain": [
       "<IPython.core.display.Markdown object>"
      ]
     },
     "metadata": {},
     "output_type": "display_data"
    },
    {
     "name": "stdout",
     "output_type": "stream",
     "text": [
      "/storage/gluster/vol1/SHARED/NGSTOOLS/SENTIEON/sentieon-genomics-201911/bin/sentieon plot QualCal -o AT4808T_recal_plots.pdf AT4808T_recal.csv\n",
      "\n"
     ]
    },
    {
     "data": {
      "text/markdown": [
       "### Tumor: C0288"
      ],
      "text/plain": [
       "<IPython.core.display.Markdown object>"
      ]
     },
     "metadata": {},
     "output_type": "display_data"
    },
    {
     "name": "stdout",
     "output_type": "stream",
     "text": [
      "/storage/gluster/vol1/SHARED/NGSTOOLS/SENTIEON/sentieon-genomics-201911/bin/sentieon plot QualCal -o C0288T_recal_plots.pdf C0288T_recal.csv\n",
      "\n"
     ]
    },
    {
     "data": {
      "text/markdown": [
       "### Tumor: C0334"
      ],
      "text/plain": [
       "<IPython.core.display.Markdown object>"
      ]
     },
     "metadata": {},
     "output_type": "display_data"
    },
    {
     "name": "stdout",
     "output_type": "stream",
     "text": [
      "/storage/gluster/vol1/SHARED/NGSTOOLS/SENTIEON/sentieon-genomics-201911/bin/sentieon plot QualCal -o C0334T_recal_plots.pdf C0334T_recal.csv\n",
      "\n"
     ]
    },
    {
     "data": {
      "text/markdown": [
       "### Tumor: C1572"
      ],
      "text/plain": [
       "<IPython.core.display.Markdown object>"
      ]
     },
     "metadata": {},
     "output_type": "display_data"
    },
    {
     "name": "stdout",
     "output_type": "stream",
     "text": [
      "/storage/gluster/vol1/SHARED/NGSTOOLS/SENTIEON/sentieon-genomics-201911/bin/sentieon plot QualCal -o C1572T_recal_plots.pdf C1572T_recal.csv\n",
      "\n"
     ]
    },
    {
     "data": {
      "text/markdown": [
       "### Tumor: C8448"
      ],
      "text/plain": [
       "<IPython.core.display.Markdown object>"
      ]
     },
     "metadata": {},
     "output_type": "display_data"
    },
    {
     "name": "stdout",
     "output_type": "stream",
     "text": [
      "/storage/gluster/vol1/SHARED/NGSTOOLS/SENTIEON/sentieon-genomics-201911/bin/sentieon plot QualCal -o C8448T_recal_plots.pdf C8448T_recal.csv\n",
      "\n"
     ]
    }
   ],
   "source": [
    "display(Markdown(\"___\"))\n",
    "for i in range(batchSize):\n",
    "    TUMOR = batch[i][1]\n",
    "    display(Markdown(\"### Tumor: \"+TUMOR))\n",
    "    command4 = data['SENTIEON_INSTALL_DIR']+\"/bin/sentieon plot QualCal -o \"+TUMOR+\"T_recal_plots.pdf \"+TUMOR+\"T_recal.csv\"\n",
    "    print(command4+'\\n')\n",
    "    if exec_scripts:\n",
    "        subprocess.check_output(command4,shell=True)"
   ]
  },
  {
   "cell_type": "code",
   "execution_count": 30,
   "metadata": {},
   "outputs": [
    {
     "data": {
      "text/html": [
       "\n",
       "\n",
       "<select id='selectSample2'>  </select>\n",
       "\n",
       "<body onload=\"myPlots()\">\n",
       "\n",
       "<h1>The sample is:  <span id=\"myText2\"></span></h1>\n",
       "\n",
       "<div>\n",
       "  <iframe id=\"pdf2\" src=\"\" style=\"width:100%;height:700px;\"></iframe>\n",
       "</div>\n",
       "\n",
       "\n",
       "</body>\n",
       "\n",
       "\n",
       "\n",
       "<script type=\"text/Javascript\">\n",
       "\n",
       "var select = document.getElementById(\"selectSample2\");\n",
       "\n",
       "myDropdown(select,Object.keys(objTum)) \n",
       "\n",
       "var type2 = \"_T_recal_plots.pdf\"\n",
       "\n",
       "myPlots(type2,2)\n",
       "\n",
       "document.getElementById(\"selectSample2\").onchange = function() {myPlots(type2,2)};\n",
       "\n",
       "\n",
       "</script>\n"
      ],
      "text/plain": [
       "<IPython.core.display.HTML object>"
      ]
     },
     "execution_count": 30,
     "metadata": {},
     "output_type": "execute_result"
    }
   ],
   "source": [
    "#interact(multiPage, Sample=widgTum, page=[1,2] , file=fixed(\"_T_recal_plots.pdf\"), normal=fixed(True), listSample = fixed(tumors));\n",
    "\n",
    "id = id +1\n",
    "\n",
    "input_form = \"\"\"\n",
    "\n",
    "<select id='selectSample\"\"\"+str(id)+\"\"\"'>  </select>\n",
    "\n",
    "<body onload=\"myPlots()\">\n",
    "\n",
    "<h1>The sample is:  <span id=\"myText\"\"\"+str(id)+\"\"\"\"></span></h1>\n",
    "\n",
    "<div>\n",
    "  <iframe id=\"pdf\"\"\"+str(id)+\"\"\"\" src=\"\" style=\"width:100%;height:700px;\"></iframe>\n",
    "</div>\n",
    "\n",
    "\n",
    "</body>\n",
    "\n",
    "\"\"\"\n",
    "\n",
    "javascript = \"\"\"\n",
    "\n",
    "<script type=\"text/Javascript\">\n",
    "\n",
    "var select = document.getElementById(\"selectSample\"\"\"+str(id)+\"\"\"\");\n",
    "\n",
    "myDropdown(select,Object.keys(objTum)) \n",
    "\n",
    "var type\"\"\"+str(id)+\"\"\" = \"_T_recal_plots.pdf\"\n",
    "\n",
    "myPlots(type\"\"\"+str(id)+\"\"\",\"\"\"+str(id)+\"\"\")\n",
    "\n",
    "document.getElementById(\"selectSample\"\"\"+str(id)+\"\"\"\").onchange = function() {myPlots(type\"\"\"+str(id)+\"\"\",\"\"\"+str(id)+\"\"\")};\n",
    "\n",
    "\n",
    "</script>\n",
    "\"\"\"\n",
    "    \n",
    "HTML(input_form + javascript)"
   ]
  },
  {
   "cell_type": "code",
   "execution_count": 105,
   "metadata": {},
   "outputs": [
    {
     "data": {
      "text/markdown": [
       "___"
      ],
      "text/plain": [
       "<IPython.core.display.Markdown object>"
      ]
     },
     "metadata": {},
     "output_type": "display_data"
    },
    {
     "data": {
      "text/markdown": [
       "### Tumor: A1783"
      ],
      "text/plain": [
       "<IPython.core.display.Markdown object>"
      ]
     },
     "metadata": {},
     "output_type": "display_data"
    },
    {
     "name": "stdout",
     "output_type": "stream",
     "text": [
      "/storage/gluster/vol1/SHARED/NGSTOOLS/SENTIEON/sentieon-genomics-201911/bin/sentieon driver -r /storage/gluster/vol1/bcbio/genomes/Hsapiens/hg19/bwa/hg19.fa -t 80 -i A1783T_realigned.bam -q A1783T_recal_data.table --algo ReadWriter A1783T_recal.bam\n",
      "\n"
     ]
    },
    {
     "data": {
      "text/markdown": [
       "### Tumor: A9155"
      ],
      "text/plain": [
       "<IPython.core.display.Markdown object>"
      ]
     },
     "metadata": {},
     "output_type": "display_data"
    },
    {
     "name": "stdout",
     "output_type": "stream",
     "text": [
      "/storage/gluster/vol1/SHARED/NGSTOOLS/SENTIEON/sentieon-genomics-201911/bin/sentieon driver -r /storage/gluster/vol1/bcbio/genomes/Hsapiens/hg19/bwa/hg19.fa -t 80 -i A9155T_realigned.bam -q A9155T_recal_data.table --algo ReadWriter A9155T_recal.bam\n",
      "\n"
     ]
    },
    {
     "data": {
      "text/markdown": [
       "### Tumor: A9878"
      ],
      "text/plain": [
       "<IPython.core.display.Markdown object>"
      ]
     },
     "metadata": {},
     "output_type": "display_data"
    },
    {
     "name": "stdout",
     "output_type": "stream",
     "text": [
      "/storage/gluster/vol1/SHARED/NGSTOOLS/SENTIEON/sentieon-genomics-201911/bin/sentieon driver -r /storage/gluster/vol1/bcbio/genomes/Hsapiens/hg19/bwa/hg19.fa -t 80 -i A9878T_realigned.bam -q A9878T_recal_data.table --algo ReadWriter A9878T_recal.bam\n",
      "\n"
     ]
    },
    {
     "data": {
      "text/markdown": [
       "### Tumor: AT2550"
      ],
      "text/plain": [
       "<IPython.core.display.Markdown object>"
      ]
     },
     "metadata": {},
     "output_type": "display_data"
    },
    {
     "name": "stdout",
     "output_type": "stream",
     "text": [
      "/storage/gluster/vol1/SHARED/NGSTOOLS/SENTIEON/sentieon-genomics-201911/bin/sentieon driver -r /storage/gluster/vol1/bcbio/genomes/Hsapiens/hg19/bwa/hg19.fa -t 80 -i AT2550T_realigned.bam -q AT2550T_recal_data.table --algo ReadWriter AT2550T_recal.bam\n",
      "\n"
     ]
    },
    {
     "data": {
      "text/markdown": [
       "### Tumor: AT2822"
      ],
      "text/plain": [
       "<IPython.core.display.Markdown object>"
      ]
     },
     "metadata": {},
     "output_type": "display_data"
    },
    {
     "name": "stdout",
     "output_type": "stream",
     "text": [
      "/storage/gluster/vol1/SHARED/NGSTOOLS/SENTIEON/sentieon-genomics-201911/bin/sentieon driver -r /storage/gluster/vol1/bcbio/genomes/Hsapiens/hg19/bwa/hg19.fa -t 80 -i AT2822T_realigned.bam -q AT2822T_recal_data.table --algo ReadWriter AT2822T_recal.bam\n",
      "\n"
     ]
    },
    {
     "data": {
      "text/markdown": [
       "### Tumor: AT4415"
      ],
      "text/plain": [
       "<IPython.core.display.Markdown object>"
      ]
     },
     "metadata": {},
     "output_type": "display_data"
    },
    {
     "name": "stdout",
     "output_type": "stream",
     "text": [
      "/storage/gluster/vol1/SHARED/NGSTOOLS/SENTIEON/sentieon-genomics-201911/bin/sentieon driver -r /storage/gluster/vol1/bcbio/genomes/Hsapiens/hg19/bwa/hg19.fa -t 80 -i AT4415T_realigned.bam -q AT4415T_recal_data.table --algo ReadWriter AT4415T_recal.bam\n",
      "\n"
     ]
    },
    {
     "data": {
      "text/markdown": [
       "### Tumor: AT4808"
      ],
      "text/plain": [
       "<IPython.core.display.Markdown object>"
      ]
     },
     "metadata": {},
     "output_type": "display_data"
    },
    {
     "name": "stdout",
     "output_type": "stream",
     "text": [
      "/storage/gluster/vol1/SHARED/NGSTOOLS/SENTIEON/sentieon-genomics-201911/bin/sentieon driver -r /storage/gluster/vol1/bcbio/genomes/Hsapiens/hg19/bwa/hg19.fa -t 80 -i AT4808T_realigned.bam -q AT4808T_recal_data.table --algo ReadWriter AT4808T_recal.bam\n",
      "\n"
     ]
    },
    {
     "data": {
      "text/markdown": [
       "### Tumor: C0288"
      ],
      "text/plain": [
       "<IPython.core.display.Markdown object>"
      ]
     },
     "metadata": {},
     "output_type": "display_data"
    },
    {
     "name": "stdout",
     "output_type": "stream",
     "text": [
      "/storage/gluster/vol1/SHARED/NGSTOOLS/SENTIEON/sentieon-genomics-201911/bin/sentieon driver -r /storage/gluster/vol1/bcbio/genomes/Hsapiens/hg19/bwa/hg19.fa -t 80 -i C0288T_realigned.bam -q C0288T_recal_data.table --algo ReadWriter C0288T_recal.bam\n",
      "\n"
     ]
    },
    {
     "data": {
      "text/markdown": [
       "### Tumor: C0334"
      ],
      "text/plain": [
       "<IPython.core.display.Markdown object>"
      ]
     },
     "metadata": {},
     "output_type": "display_data"
    },
    {
     "name": "stdout",
     "output_type": "stream",
     "text": [
      "/storage/gluster/vol1/SHARED/NGSTOOLS/SENTIEON/sentieon-genomics-201911/bin/sentieon driver -r /storage/gluster/vol1/bcbio/genomes/Hsapiens/hg19/bwa/hg19.fa -t 80 -i C0334T_realigned.bam -q C0334T_recal_data.table --algo ReadWriter C0334T_recal.bam\n",
      "\n"
     ]
    },
    {
     "data": {
      "text/markdown": [
       "### Tumor: C1572"
      ],
      "text/plain": [
       "<IPython.core.display.Markdown object>"
      ]
     },
     "metadata": {},
     "output_type": "display_data"
    },
    {
     "name": "stdout",
     "output_type": "stream",
     "text": [
      "/storage/gluster/vol1/SHARED/NGSTOOLS/SENTIEON/sentieon-genomics-201911/bin/sentieon driver -r /storage/gluster/vol1/bcbio/genomes/Hsapiens/hg19/bwa/hg19.fa -t 80 -i C1572T_realigned.bam -q C1572T_recal_data.table --algo ReadWriter C1572T_recal.bam\n",
      "\n"
     ]
    },
    {
     "data": {
      "text/markdown": [
       "### Tumor: C8448"
      ],
      "text/plain": [
       "<IPython.core.display.Markdown object>"
      ]
     },
     "metadata": {},
     "output_type": "display_data"
    },
    {
     "name": "stdout",
     "output_type": "stream",
     "text": [
      "/storage/gluster/vol1/SHARED/NGSTOOLS/SENTIEON/sentieon-genomics-201911/bin/sentieon driver -r /storage/gluster/vol1/bcbio/genomes/Hsapiens/hg19/bwa/hg19.fa -t 80 -i C8448T_realigned.bam -q C8448T_recal_data.table --algo ReadWriter C8448T_recal.bam\n",
      "\n"
     ]
    }
   ],
   "source": [
    "display(Markdown(\"___\"))\n",
    "# ReadWriter to output recalibrated bam\n",
    "for i in range(batchSize):\n",
    "    TUMOR = batch[i][1]\n",
    "    display(Markdown(\"### Tumor: \"+TUMOR))\n",
    "    command5 = data['SENTIEON_INSTALL_DIR']+\"/bin/sentieon driver -r \"+data['fasta']+\" -t \"+str(data['nt'])+\" -i \"+TUMOR+\"T_realigned.bam -q \"+TUMOR+\"T_recal_data.table --algo ReadWriter \"+TUMOR+\"T_recal.bam\"\n",
    "    print(command5+'\\n')\n",
    "    if exec_scripts:\n",
    "        subprocess.check_output(command5,shell=True)"
   ]
  },
  {
   "cell_type": "markdown",
   "metadata": {},
   "source": [
    "# 7a. HC Variant caller (normal)"
   ]
  },
  {
   "cell_type": "code",
   "execution_count": 69,
   "metadata": {},
   "outputs": [
    {
     "data": {
      "text/markdown": [
       "### Normal: ABT414_Flank"
      ],
      "text/plain": [
       "<IPython.core.display.Markdown object>"
      ]
     },
     "metadata": {},
     "output_type": "display_data"
    },
    {
     "name": "stdout",
     "output_type": "stream",
     "text": [
      "/storage/gluster/vol1/SHARED/NGSTOOLS/SENTIEON/sentieon-genomics-201911/bin/sentieon driver -r /storage/gluster/vol1/bcbio/genomes/Hsapiens/hg19/bwa/hg19.fa -t 80 -i ABT414_FlankN_recal.bam --algo Haplotyper -d /storage/gluster/vol1/bcbio/genomes/Hsapiens/hg19/variation/dbsnp-150.vcf.gz --emit_conf=30 --call_conf=30 ABT414_FlankN-output-hc.vcf.gz\n",
      "\n"
     ]
    }
   ],
   "source": [
    "for i in range(np.size(uniqNorm)):\n",
    "    SAMPLE = uniqNorm[i]\n",
    "    display(Markdown(\"### Normal: \" + SAMPLE))\n",
    "    command1 = data['SENTIEON_INSTALL_DIR']+\"/bin/sentieon driver -r \"+data['fasta']+\" -t \"+str(data['nt'])+\" -i \"+SAMPLE+\"N_recal.bam --algo Haplotyper -d \"+data['dbsnp']+\" --emit_conf=30 --call_conf=30 \"+SAMPLE+\"N-output-hc.vcf.gz\"\n",
    "    print(command1+'\\n')\n",
    "    if exec_scripts:\n",
    "            subprocess.check_output(command1,shell=True)"
   ]
  },
  {
   "cell_type": "markdown",
   "metadata": {},
   "source": [
    "# 7a. HC Variant caller (tumor)"
   ]
  },
  {
   "cell_type": "code",
   "execution_count": 68,
   "metadata": {},
   "outputs": [
    {
     "data": {
      "text/markdown": [
       "### Tumor: A1783"
      ],
      "text/plain": [
       "<IPython.core.display.Markdown object>"
      ]
     },
     "metadata": {},
     "output_type": "display_data"
    },
    {
     "name": "stdout",
     "output_type": "stream",
     "text": [
      "/storage/gluster/vol1/SHARED/NGSTOOLS/SENTIEON/sentieon-genomics-201911/bin/sentieon driver -r /storage/gluster/vol1/bcbio/genomes/Hsapiens/hg19/bwa/hg19.fa -t 80 -i A1783T_recal.bam --algo Haplotyper -d /storage/gluster/vol1/bcbio/genomes/Hsapiens/hg19/variation/dbsnp-150.vcf.gz --emit_conf=30 --call_conf=30 A1783T-output-hc.vcf.gz\n",
      "\n"
     ]
    },
    {
     "data": {
      "text/markdown": [
       "### Tumor: A9155"
      ],
      "text/plain": [
       "<IPython.core.display.Markdown object>"
      ]
     },
     "metadata": {},
     "output_type": "display_data"
    },
    {
     "name": "stdout",
     "output_type": "stream",
     "text": [
      "/storage/gluster/vol1/SHARED/NGSTOOLS/SENTIEON/sentieon-genomics-201911/bin/sentieon driver -r /storage/gluster/vol1/bcbio/genomes/Hsapiens/hg19/bwa/hg19.fa -t 80 -i A9155T_recal.bam --algo Haplotyper -d /storage/gluster/vol1/bcbio/genomes/Hsapiens/hg19/variation/dbsnp-150.vcf.gz --emit_conf=30 --call_conf=30 A9155T-output-hc.vcf.gz\n",
      "\n"
     ]
    },
    {
     "data": {
      "text/markdown": [
       "### Tumor: A9878"
      ],
      "text/plain": [
       "<IPython.core.display.Markdown object>"
      ]
     },
     "metadata": {},
     "output_type": "display_data"
    },
    {
     "name": "stdout",
     "output_type": "stream",
     "text": [
      "/storage/gluster/vol1/SHARED/NGSTOOLS/SENTIEON/sentieon-genomics-201911/bin/sentieon driver -r /storage/gluster/vol1/bcbio/genomes/Hsapiens/hg19/bwa/hg19.fa -t 80 -i A9878T_recal.bam --algo Haplotyper -d /storage/gluster/vol1/bcbio/genomes/Hsapiens/hg19/variation/dbsnp-150.vcf.gz --emit_conf=30 --call_conf=30 A9878T-output-hc.vcf.gz\n",
      "\n"
     ]
    },
    {
     "data": {
      "text/markdown": [
       "### Tumor: AT2550"
      ],
      "text/plain": [
       "<IPython.core.display.Markdown object>"
      ]
     },
     "metadata": {},
     "output_type": "display_data"
    },
    {
     "name": "stdout",
     "output_type": "stream",
     "text": [
      "/storage/gluster/vol1/SHARED/NGSTOOLS/SENTIEON/sentieon-genomics-201911/bin/sentieon driver -r /storage/gluster/vol1/bcbio/genomes/Hsapiens/hg19/bwa/hg19.fa -t 80 -i AT2550T_recal.bam --algo Haplotyper -d /storage/gluster/vol1/bcbio/genomes/Hsapiens/hg19/variation/dbsnp-150.vcf.gz --emit_conf=30 --call_conf=30 AT2550T-output-hc.vcf.gz\n",
      "\n"
     ]
    },
    {
     "data": {
      "text/markdown": [
       "### Tumor: AT2822"
      ],
      "text/plain": [
       "<IPython.core.display.Markdown object>"
      ]
     },
     "metadata": {},
     "output_type": "display_data"
    },
    {
     "name": "stdout",
     "output_type": "stream",
     "text": [
      "/storage/gluster/vol1/SHARED/NGSTOOLS/SENTIEON/sentieon-genomics-201911/bin/sentieon driver -r /storage/gluster/vol1/bcbio/genomes/Hsapiens/hg19/bwa/hg19.fa -t 80 -i AT2822T_recal.bam --algo Haplotyper -d /storage/gluster/vol1/bcbio/genomes/Hsapiens/hg19/variation/dbsnp-150.vcf.gz --emit_conf=30 --call_conf=30 AT2822T-output-hc.vcf.gz\n",
      "\n"
     ]
    },
    {
     "data": {
      "text/markdown": [
       "### Tumor: AT4415"
      ],
      "text/plain": [
       "<IPython.core.display.Markdown object>"
      ]
     },
     "metadata": {},
     "output_type": "display_data"
    },
    {
     "name": "stdout",
     "output_type": "stream",
     "text": [
      "/storage/gluster/vol1/SHARED/NGSTOOLS/SENTIEON/sentieon-genomics-201911/bin/sentieon driver -r /storage/gluster/vol1/bcbio/genomes/Hsapiens/hg19/bwa/hg19.fa -t 80 -i AT4415T_recal.bam --algo Haplotyper -d /storage/gluster/vol1/bcbio/genomes/Hsapiens/hg19/variation/dbsnp-150.vcf.gz --emit_conf=30 --call_conf=30 AT4415T-output-hc.vcf.gz\n",
      "\n"
     ]
    },
    {
     "data": {
      "text/markdown": [
       "### Tumor: AT4808"
      ],
      "text/plain": [
       "<IPython.core.display.Markdown object>"
      ]
     },
     "metadata": {},
     "output_type": "display_data"
    },
    {
     "name": "stdout",
     "output_type": "stream",
     "text": [
      "/storage/gluster/vol1/SHARED/NGSTOOLS/SENTIEON/sentieon-genomics-201911/bin/sentieon driver -r /storage/gluster/vol1/bcbio/genomes/Hsapiens/hg19/bwa/hg19.fa -t 80 -i AT4808T_recal.bam --algo Haplotyper -d /storage/gluster/vol1/bcbio/genomes/Hsapiens/hg19/variation/dbsnp-150.vcf.gz --emit_conf=30 --call_conf=30 AT4808T-output-hc.vcf.gz\n",
      "\n"
     ]
    },
    {
     "data": {
      "text/markdown": [
       "### Tumor: C0288"
      ],
      "text/plain": [
       "<IPython.core.display.Markdown object>"
      ]
     },
     "metadata": {},
     "output_type": "display_data"
    },
    {
     "name": "stdout",
     "output_type": "stream",
     "text": [
      "/storage/gluster/vol1/SHARED/NGSTOOLS/SENTIEON/sentieon-genomics-201911/bin/sentieon driver -r /storage/gluster/vol1/bcbio/genomes/Hsapiens/hg19/bwa/hg19.fa -t 80 -i C0288T_recal.bam --algo Haplotyper -d /storage/gluster/vol1/bcbio/genomes/Hsapiens/hg19/variation/dbsnp-150.vcf.gz --emit_conf=30 --call_conf=30 C0288T-output-hc.vcf.gz\n",
      "\n"
     ]
    },
    {
     "data": {
      "text/markdown": [
       "### Tumor: C0334"
      ],
      "text/plain": [
       "<IPython.core.display.Markdown object>"
      ]
     },
     "metadata": {},
     "output_type": "display_data"
    },
    {
     "name": "stdout",
     "output_type": "stream",
     "text": [
      "/storage/gluster/vol1/SHARED/NGSTOOLS/SENTIEON/sentieon-genomics-201911/bin/sentieon driver -r /storage/gluster/vol1/bcbio/genomes/Hsapiens/hg19/bwa/hg19.fa -t 80 -i C0334T_recal.bam --algo Haplotyper -d /storage/gluster/vol1/bcbio/genomes/Hsapiens/hg19/variation/dbsnp-150.vcf.gz --emit_conf=30 --call_conf=30 C0334T-output-hc.vcf.gz\n",
      "\n"
     ]
    },
    {
     "data": {
      "text/markdown": [
       "### Tumor: C1572"
      ],
      "text/plain": [
       "<IPython.core.display.Markdown object>"
      ]
     },
     "metadata": {},
     "output_type": "display_data"
    },
    {
     "name": "stdout",
     "output_type": "stream",
     "text": [
      "/storage/gluster/vol1/SHARED/NGSTOOLS/SENTIEON/sentieon-genomics-201911/bin/sentieon driver -r /storage/gluster/vol1/bcbio/genomes/Hsapiens/hg19/bwa/hg19.fa -t 80 -i C1572T_recal.bam --algo Haplotyper -d /storage/gluster/vol1/bcbio/genomes/Hsapiens/hg19/variation/dbsnp-150.vcf.gz --emit_conf=30 --call_conf=30 C1572T-output-hc.vcf.gz\n",
      "\n"
     ]
    },
    {
     "data": {
      "text/markdown": [
       "### Tumor: C8448"
      ],
      "text/plain": [
       "<IPython.core.display.Markdown object>"
      ]
     },
     "metadata": {},
     "output_type": "display_data"
    },
    {
     "name": "stdout",
     "output_type": "stream",
     "text": [
      "/storage/gluster/vol1/SHARED/NGSTOOLS/SENTIEON/sentieon-genomics-201911/bin/sentieon driver -r /storage/gluster/vol1/bcbio/genomes/Hsapiens/hg19/bwa/hg19.fa -t 80 -i C8448T_recal.bam --algo Haplotyper -d /storage/gluster/vol1/bcbio/genomes/Hsapiens/hg19/variation/dbsnp-150.vcf.gz --emit_conf=30 --call_conf=30 C8448T-output-hc.vcf.gz\n",
      "\n"
     ]
    }
   ],
   "source": [
    "for i in range(batchSize):\n",
    "    TUMOR = batch[i][1]\n",
    "    display(Markdown(\"### Tumor: \"+TUMOR))\n",
    "    command1 = data['SENTIEON_INSTALL_DIR']+\"/bin/sentieon driver -r \"+data['fasta']+\" -t \"+str(data['nt'])+\" -i \"+TUMOR+\"T_recal.bam --algo Haplotyper -d \"+data['dbsnp']+\" --emit_conf=30 --call_conf=30 \"+TUMOR+\"T-output-hc.vcf.gz\"\n",
    "    print(command1+'\\n')\n",
    "    if exec_scripts:\n",
    "        subprocess.check_output(command1,shell=True)"
   ]
  },
  {
   "cell_type": "markdown",
   "metadata": {},
   "source": [
    "# 8a. Variant calling DNAscope (normal)"
   ]
  },
  {
   "cell_type": "code",
   "execution_count": 65,
   "metadata": {},
   "outputs": [
    {
     "data": {
      "text/markdown": [
       "### Normal: ABT414_Flank"
      ],
      "text/plain": [
       "<IPython.core.display.Markdown object>"
      ]
     },
     "metadata": {},
     "output_type": "display_data"
    },
    {
     "name": "stdout",
     "output_type": "stream",
     "text": [
      "/storage/gluster/vol1/SHARED/NGSTOOLS/SENTIEON/sentieon-genomics-201911/bin/sentieon driver -t 80 -r /storage/gluster/vol1/bcbio/genomes/Hsapiens/hg19/bwa/hg19.fa -i ABT414_FlankN_recal.bam --algo DNAscope -d /storage/gluster/vol1/bcbio/genomes/Hsapiens/hg19/variation/dbsnp-150.vcf.gz --model /storage/gluster/vol1/data/PUBLIC/Tools/sentieon-genomics-201808.05/SentieonDNAscopeModelBeta0.4a-201808.05.model ABT414_FlankN-tmpDNAscope.vcf.gz\n",
      "\n"
     ]
    }
   ],
   "source": [
    "for i in range(np.size(uniqNorm)):\n",
    "    SAMPLE = uniqNorm[i]\n",
    "    display(Markdown(\"### Normal: \" + SAMPLE))\n",
    "    command1 = data['SENTIEON_INSTALL_DIR']+\"/bin/sentieon driver -t \"+str(data['nt'])+\" -r \"+data['fasta']+\" -i \"+SAMPLE+\"N_recal.bam --algo DNAscope -d \"+data['dbsnp']+\" --model \"+data['ML_MODEL_N']+\" \"+SAMPLE+\"N-tmpDNAscope.vcf.gz\"\n",
    "    print(command1+'\\n')\n",
    "    if exec_scripts:\n",
    "        subprocess.check_output(command1,shell=True)"
   ]
  },
  {
   "cell_type": "code",
   "execution_count": 106,
   "metadata": {},
   "outputs": [
    {
     "data": {
      "text/markdown": [
       "___"
      ],
      "text/plain": [
       "<IPython.core.display.Markdown object>"
      ]
     },
     "metadata": {},
     "output_type": "display_data"
    },
    {
     "data": {
      "text/markdown": [
       "### Normal: ABT414_Flank"
      ],
      "text/plain": [
       "<IPython.core.display.Markdown object>"
      ]
     },
     "metadata": {},
     "output_type": "display_data"
    },
    {
     "name": "stdout",
     "output_type": "stream",
     "text": [
      "/storage/gluster/vol1/SHARED/NGSTOOLS/SENTIEON/sentieon-genomics-201911/bin/sentieon driver -t 80 -r /storage/gluster/vol1/bcbio/genomes/Hsapiens/hg19/bwa/hg19.fa --algo DNAModelApply --model /storage/gluster/vol1/data/PUBLIC/Tools/sentieon-genomics-201808.05/SentieonDNAscopeModelBeta0.4a-201808.05.model -v ABT414_FlankN-tmpDNAscope.vcf.gz ABT414_FlankN-DNAscope.vcf.gz\n",
      "\n"
     ]
    }
   ],
   "source": [
    "display(Markdown(\"___\"))\n",
    "for i in range(np.size(uniqNorm)):\n",
    "    SAMPLE = uniqNorm[i]\n",
    "    display(Markdown(\"### Normal: \" + SAMPLE))\n",
    "    command2 = data['SENTIEON_INSTALL_DIR']+\"/bin/sentieon driver -t \"+str(data['nt'])+\" -r \"+data['fasta']+\" --algo DNAModelApply --model \"+data['ML_MODEL_N']+\" -v \"+SAMPLE+\"N-tmpDNAscope.vcf.gz \"+SAMPLE+\"N-DNAscope.vcf.gz\"\n",
    "    print(command2+'\\n')\n",
    "    if exec_scripts:\n",
    "        subprocess.check_output(command2,shell=True)"
   ]
  },
  {
   "cell_type": "code",
   "execution_count": 107,
   "metadata": {},
   "outputs": [
    {
     "data": {
      "text/markdown": [
       "___"
      ],
      "text/plain": [
       "<IPython.core.display.Markdown object>"
      ]
     },
     "metadata": {},
     "output_type": "display_data"
    },
    {
     "data": {
      "text/markdown": [
       "### Normal: ABT414_Flank"
      ],
      "text/plain": [
       "<IPython.core.display.Markdown object>"
      ]
     },
     "metadata": {},
     "output_type": "display_data"
    },
    {
     "name": "stdout",
     "output_type": "stream",
     "text": [
      "/storage/gluster/vol1/SHARED/NGSTOOLS/BCBIO/bcbio/anaconda/bin/bcftools filter -s ML_FAIL -i INFO/ML_PROB > 0.81 ABT414_FlankN-DNAscope.vcf.gz -O z -m x -o ABT414_FlankN-filtDNAscope.vcf.gz\n",
      "\n"
     ]
    }
   ],
   "source": [
    "display(Markdown(\"___\"))\n",
    "for i in range(np.size(uniqNorm)):\n",
    "    SAMPLE = uniqNorm[i]\n",
    "    display(Markdown(\"### Normal: \" + SAMPLE))\n",
    "    command3 = data['bcfdir'] + \" filter -s ML_FAIL -i INFO/ML_PROB > 0.81 \"+SAMPLE+\"N-DNAscope.vcf.gz -O z -m x -o \"+SAMPLE+\"N-filtDNAscope.vcf.gz\"\n",
    "    print(command3+'\\n')\n",
    "    if exec_scripts:\n",
    "        subprocess.check_output(command3,shell=True)"
   ]
  },
  {
   "cell_type": "markdown",
   "metadata": {},
   "source": [
    "# 8a. Variant calling DNAscope (tumor)"
   ]
  },
  {
   "cell_type": "code",
   "execution_count": 64,
   "metadata": {},
   "outputs": [
    {
     "data": {
      "text/markdown": [
       "### Tumor: A1783"
      ],
      "text/plain": [
       "<IPython.core.display.Markdown object>"
      ]
     },
     "metadata": {},
     "output_type": "display_data"
    },
    {
     "name": "stdout",
     "output_type": "stream",
     "text": [
      "/storage/gluster/vol1/SHARED/NGSTOOLS/SENTIEON/sentieon-genomics-201911/bin/sentieon driver -t 80 -r /storage/gluster/vol1/bcbio/genomes/Hsapiens/hg19/bwa/hg19.fa -i A1783T_recal.bam --algo DNAscope -d /storage/gluster/vol1/bcbio/genomes/Hsapiens/hg19/variation/dbsnp-150.vcf.gz --model /storage/gluster/vol1/data/PUBLIC/Tools/sentieon-genomics-201808.05/SentieonDNAscopeModelBeta0.4a-201808.05.model A1783T-tmpDNAscope.vcf.gz\n",
      "\n"
     ]
    },
    {
     "data": {
      "text/markdown": [
       "### Tumor: A9155"
      ],
      "text/plain": [
       "<IPython.core.display.Markdown object>"
      ]
     },
     "metadata": {},
     "output_type": "display_data"
    },
    {
     "name": "stdout",
     "output_type": "stream",
     "text": [
      "/storage/gluster/vol1/SHARED/NGSTOOLS/SENTIEON/sentieon-genomics-201911/bin/sentieon driver -t 80 -r /storage/gluster/vol1/bcbio/genomes/Hsapiens/hg19/bwa/hg19.fa -i A9155T_recal.bam --algo DNAscope -d /storage/gluster/vol1/bcbio/genomes/Hsapiens/hg19/variation/dbsnp-150.vcf.gz --model /storage/gluster/vol1/data/PUBLIC/Tools/sentieon-genomics-201808.05/SentieonDNAscopeModelBeta0.4a-201808.05.model A9155T-tmpDNAscope.vcf.gz\n",
      "\n"
     ]
    },
    {
     "data": {
      "text/markdown": [
       "### Tumor: A9878"
      ],
      "text/plain": [
       "<IPython.core.display.Markdown object>"
      ]
     },
     "metadata": {},
     "output_type": "display_data"
    },
    {
     "name": "stdout",
     "output_type": "stream",
     "text": [
      "/storage/gluster/vol1/SHARED/NGSTOOLS/SENTIEON/sentieon-genomics-201911/bin/sentieon driver -t 80 -r /storage/gluster/vol1/bcbio/genomes/Hsapiens/hg19/bwa/hg19.fa -i A9878T_recal.bam --algo DNAscope -d /storage/gluster/vol1/bcbio/genomes/Hsapiens/hg19/variation/dbsnp-150.vcf.gz --model /storage/gluster/vol1/data/PUBLIC/Tools/sentieon-genomics-201808.05/SentieonDNAscopeModelBeta0.4a-201808.05.model A9878T-tmpDNAscope.vcf.gz\n",
      "\n"
     ]
    },
    {
     "data": {
      "text/markdown": [
       "### Tumor: AT2550"
      ],
      "text/plain": [
       "<IPython.core.display.Markdown object>"
      ]
     },
     "metadata": {},
     "output_type": "display_data"
    },
    {
     "name": "stdout",
     "output_type": "stream",
     "text": [
      "/storage/gluster/vol1/SHARED/NGSTOOLS/SENTIEON/sentieon-genomics-201911/bin/sentieon driver -t 80 -r /storage/gluster/vol1/bcbio/genomes/Hsapiens/hg19/bwa/hg19.fa -i AT2550T_recal.bam --algo DNAscope -d /storage/gluster/vol1/bcbio/genomes/Hsapiens/hg19/variation/dbsnp-150.vcf.gz --model /storage/gluster/vol1/data/PUBLIC/Tools/sentieon-genomics-201808.05/SentieonDNAscopeModelBeta0.4a-201808.05.model AT2550T-tmpDNAscope.vcf.gz\n",
      "\n"
     ]
    },
    {
     "data": {
      "text/markdown": [
       "### Tumor: AT2822"
      ],
      "text/plain": [
       "<IPython.core.display.Markdown object>"
      ]
     },
     "metadata": {},
     "output_type": "display_data"
    },
    {
     "name": "stdout",
     "output_type": "stream",
     "text": [
      "/storage/gluster/vol1/SHARED/NGSTOOLS/SENTIEON/sentieon-genomics-201911/bin/sentieon driver -t 80 -r /storage/gluster/vol1/bcbio/genomes/Hsapiens/hg19/bwa/hg19.fa -i AT2822T_recal.bam --algo DNAscope -d /storage/gluster/vol1/bcbio/genomes/Hsapiens/hg19/variation/dbsnp-150.vcf.gz --model /storage/gluster/vol1/data/PUBLIC/Tools/sentieon-genomics-201808.05/SentieonDNAscopeModelBeta0.4a-201808.05.model AT2822T-tmpDNAscope.vcf.gz\n",
      "\n"
     ]
    },
    {
     "data": {
      "text/markdown": [
       "### Tumor: AT4415"
      ],
      "text/plain": [
       "<IPython.core.display.Markdown object>"
      ]
     },
     "metadata": {},
     "output_type": "display_data"
    },
    {
     "name": "stdout",
     "output_type": "stream",
     "text": [
      "/storage/gluster/vol1/SHARED/NGSTOOLS/SENTIEON/sentieon-genomics-201911/bin/sentieon driver -t 80 -r /storage/gluster/vol1/bcbio/genomes/Hsapiens/hg19/bwa/hg19.fa -i AT4415T_recal.bam --algo DNAscope -d /storage/gluster/vol1/bcbio/genomes/Hsapiens/hg19/variation/dbsnp-150.vcf.gz --model /storage/gluster/vol1/data/PUBLIC/Tools/sentieon-genomics-201808.05/SentieonDNAscopeModelBeta0.4a-201808.05.model AT4415T-tmpDNAscope.vcf.gz\n",
      "\n"
     ]
    },
    {
     "data": {
      "text/markdown": [
       "### Tumor: AT4808"
      ],
      "text/plain": [
       "<IPython.core.display.Markdown object>"
      ]
     },
     "metadata": {},
     "output_type": "display_data"
    },
    {
     "name": "stdout",
     "output_type": "stream",
     "text": [
      "/storage/gluster/vol1/SHARED/NGSTOOLS/SENTIEON/sentieon-genomics-201911/bin/sentieon driver -t 80 -r /storage/gluster/vol1/bcbio/genomes/Hsapiens/hg19/bwa/hg19.fa -i AT4808T_recal.bam --algo DNAscope -d /storage/gluster/vol1/bcbio/genomes/Hsapiens/hg19/variation/dbsnp-150.vcf.gz --model /storage/gluster/vol1/data/PUBLIC/Tools/sentieon-genomics-201808.05/SentieonDNAscopeModelBeta0.4a-201808.05.model AT4808T-tmpDNAscope.vcf.gz\n",
      "\n"
     ]
    },
    {
     "data": {
      "text/markdown": [
       "### Tumor: C0288"
      ],
      "text/plain": [
       "<IPython.core.display.Markdown object>"
      ]
     },
     "metadata": {},
     "output_type": "display_data"
    },
    {
     "name": "stdout",
     "output_type": "stream",
     "text": [
      "/storage/gluster/vol1/SHARED/NGSTOOLS/SENTIEON/sentieon-genomics-201911/bin/sentieon driver -t 80 -r /storage/gluster/vol1/bcbio/genomes/Hsapiens/hg19/bwa/hg19.fa -i C0288T_recal.bam --algo DNAscope -d /storage/gluster/vol1/bcbio/genomes/Hsapiens/hg19/variation/dbsnp-150.vcf.gz --model /storage/gluster/vol1/data/PUBLIC/Tools/sentieon-genomics-201808.05/SentieonDNAscopeModelBeta0.4a-201808.05.model C0288T-tmpDNAscope.vcf.gz\n",
      "\n"
     ]
    },
    {
     "data": {
      "text/markdown": [
       "### Tumor: C0334"
      ],
      "text/plain": [
       "<IPython.core.display.Markdown object>"
      ]
     },
     "metadata": {},
     "output_type": "display_data"
    },
    {
     "name": "stdout",
     "output_type": "stream",
     "text": [
      "/storage/gluster/vol1/SHARED/NGSTOOLS/SENTIEON/sentieon-genomics-201911/bin/sentieon driver -t 80 -r /storage/gluster/vol1/bcbio/genomes/Hsapiens/hg19/bwa/hg19.fa -i C0334T_recal.bam --algo DNAscope -d /storage/gluster/vol1/bcbio/genomes/Hsapiens/hg19/variation/dbsnp-150.vcf.gz --model /storage/gluster/vol1/data/PUBLIC/Tools/sentieon-genomics-201808.05/SentieonDNAscopeModelBeta0.4a-201808.05.model C0334T-tmpDNAscope.vcf.gz\n",
      "\n"
     ]
    },
    {
     "data": {
      "text/markdown": [
       "### Tumor: C1572"
      ],
      "text/plain": [
       "<IPython.core.display.Markdown object>"
      ]
     },
     "metadata": {},
     "output_type": "display_data"
    },
    {
     "name": "stdout",
     "output_type": "stream",
     "text": [
      "/storage/gluster/vol1/SHARED/NGSTOOLS/SENTIEON/sentieon-genomics-201911/bin/sentieon driver -t 80 -r /storage/gluster/vol1/bcbio/genomes/Hsapiens/hg19/bwa/hg19.fa -i C1572T_recal.bam --algo DNAscope -d /storage/gluster/vol1/bcbio/genomes/Hsapiens/hg19/variation/dbsnp-150.vcf.gz --model /storage/gluster/vol1/data/PUBLIC/Tools/sentieon-genomics-201808.05/SentieonDNAscopeModelBeta0.4a-201808.05.model C1572T-tmpDNAscope.vcf.gz\n",
      "\n"
     ]
    },
    {
     "data": {
      "text/markdown": [
       "### Tumor: C8448"
      ],
      "text/plain": [
       "<IPython.core.display.Markdown object>"
      ]
     },
     "metadata": {},
     "output_type": "display_data"
    },
    {
     "name": "stdout",
     "output_type": "stream",
     "text": [
      "/storage/gluster/vol1/SHARED/NGSTOOLS/SENTIEON/sentieon-genomics-201911/bin/sentieon driver -t 80 -r /storage/gluster/vol1/bcbio/genomes/Hsapiens/hg19/bwa/hg19.fa -i C8448T_recal.bam --algo DNAscope -d /storage/gluster/vol1/bcbio/genomes/Hsapiens/hg19/variation/dbsnp-150.vcf.gz --model /storage/gluster/vol1/data/PUBLIC/Tools/sentieon-genomics-201808.05/SentieonDNAscopeModelBeta0.4a-201808.05.model C8448T-tmpDNAscope.vcf.gz\n",
      "\n"
     ]
    }
   ],
   "source": [
    "for i in range(batchSize):\n",
    "    TUMOR = batch[i][1]\n",
    "    display(Markdown(\"### Tumor: \"+TUMOR))\n",
    "    command1 = data['SENTIEON_INSTALL_DIR']+\"/bin/sentieon driver -t \"+str(data['nt'])+\" -r \"+data['fasta']+\" -i \"+TUMOR+\"T_recal.bam --algo DNAscope -d \"+data['dbsnp']+\" --model \"+data['ML_MODEL_N']+\" \"+TUMOR+\"T-tmpDNAscope.vcf.gz\"\n",
    "    print(command1+'\\n')\n",
    "    if exec_scripts:\n",
    "        subprocess.check_output(command1,shell=True)"
   ]
  },
  {
   "cell_type": "code",
   "execution_count": 108,
   "metadata": {},
   "outputs": [
    {
     "data": {
      "text/markdown": [
       "___"
      ],
      "text/plain": [
       "<IPython.core.display.Markdown object>"
      ]
     },
     "metadata": {},
     "output_type": "display_data"
    },
    {
     "data": {
      "text/markdown": [
       "### Tumor: A1783"
      ],
      "text/plain": [
       "<IPython.core.display.Markdown object>"
      ]
     },
     "metadata": {},
     "output_type": "display_data"
    },
    {
     "name": "stdout",
     "output_type": "stream",
     "text": [
      "/storage/gluster/vol1/SHARED/NGSTOOLS/SENTIEON/sentieon-genomics-201911/bin/sentieon driver -t 80 -r /storage/gluster/vol1/bcbio/genomes/Hsapiens/hg19/bwa/hg19.fa --algo DNAModelApply --model /storage/gluster/vol1/data/PUBLIC/Tools/sentieon-genomics-201808.05/SentieonDNAscopeModelBeta0.4a-201808.05.model -v A1783T-tmpDNAscope.vcf.gz A1783T-DNAscope.vcf.gz\n",
      "\n"
     ]
    },
    {
     "data": {
      "text/markdown": [
       "### Tumor: A9155"
      ],
      "text/plain": [
       "<IPython.core.display.Markdown object>"
      ]
     },
     "metadata": {},
     "output_type": "display_data"
    },
    {
     "name": "stdout",
     "output_type": "stream",
     "text": [
      "/storage/gluster/vol1/SHARED/NGSTOOLS/SENTIEON/sentieon-genomics-201911/bin/sentieon driver -t 80 -r /storage/gluster/vol1/bcbio/genomes/Hsapiens/hg19/bwa/hg19.fa --algo DNAModelApply --model /storage/gluster/vol1/data/PUBLIC/Tools/sentieon-genomics-201808.05/SentieonDNAscopeModelBeta0.4a-201808.05.model -v A9155T-tmpDNAscope.vcf.gz A9155T-DNAscope.vcf.gz\n",
      "\n"
     ]
    },
    {
     "data": {
      "text/markdown": [
       "### Tumor: A9878"
      ],
      "text/plain": [
       "<IPython.core.display.Markdown object>"
      ]
     },
     "metadata": {},
     "output_type": "display_data"
    },
    {
     "name": "stdout",
     "output_type": "stream",
     "text": [
      "/storage/gluster/vol1/SHARED/NGSTOOLS/SENTIEON/sentieon-genomics-201911/bin/sentieon driver -t 80 -r /storage/gluster/vol1/bcbio/genomes/Hsapiens/hg19/bwa/hg19.fa --algo DNAModelApply --model /storage/gluster/vol1/data/PUBLIC/Tools/sentieon-genomics-201808.05/SentieonDNAscopeModelBeta0.4a-201808.05.model -v A9878T-tmpDNAscope.vcf.gz A9878T-DNAscope.vcf.gz\n",
      "\n"
     ]
    },
    {
     "data": {
      "text/markdown": [
       "### Tumor: AT2550"
      ],
      "text/plain": [
       "<IPython.core.display.Markdown object>"
      ]
     },
     "metadata": {},
     "output_type": "display_data"
    },
    {
     "name": "stdout",
     "output_type": "stream",
     "text": [
      "/storage/gluster/vol1/SHARED/NGSTOOLS/SENTIEON/sentieon-genomics-201911/bin/sentieon driver -t 80 -r /storage/gluster/vol1/bcbio/genomes/Hsapiens/hg19/bwa/hg19.fa --algo DNAModelApply --model /storage/gluster/vol1/data/PUBLIC/Tools/sentieon-genomics-201808.05/SentieonDNAscopeModelBeta0.4a-201808.05.model -v AT2550T-tmpDNAscope.vcf.gz AT2550T-DNAscope.vcf.gz\n",
      "\n"
     ]
    },
    {
     "data": {
      "text/markdown": [
       "### Tumor: AT2822"
      ],
      "text/plain": [
       "<IPython.core.display.Markdown object>"
      ]
     },
     "metadata": {},
     "output_type": "display_data"
    },
    {
     "name": "stdout",
     "output_type": "stream",
     "text": [
      "/storage/gluster/vol1/SHARED/NGSTOOLS/SENTIEON/sentieon-genomics-201911/bin/sentieon driver -t 80 -r /storage/gluster/vol1/bcbio/genomes/Hsapiens/hg19/bwa/hg19.fa --algo DNAModelApply --model /storage/gluster/vol1/data/PUBLIC/Tools/sentieon-genomics-201808.05/SentieonDNAscopeModelBeta0.4a-201808.05.model -v AT2822T-tmpDNAscope.vcf.gz AT2822T-DNAscope.vcf.gz\n",
      "\n"
     ]
    },
    {
     "data": {
      "text/markdown": [
       "### Tumor: AT4415"
      ],
      "text/plain": [
       "<IPython.core.display.Markdown object>"
      ]
     },
     "metadata": {},
     "output_type": "display_data"
    },
    {
     "name": "stdout",
     "output_type": "stream",
     "text": [
      "/storage/gluster/vol1/SHARED/NGSTOOLS/SENTIEON/sentieon-genomics-201911/bin/sentieon driver -t 80 -r /storage/gluster/vol1/bcbio/genomes/Hsapiens/hg19/bwa/hg19.fa --algo DNAModelApply --model /storage/gluster/vol1/data/PUBLIC/Tools/sentieon-genomics-201808.05/SentieonDNAscopeModelBeta0.4a-201808.05.model -v AT4415T-tmpDNAscope.vcf.gz AT4415T-DNAscope.vcf.gz\n",
      "\n"
     ]
    },
    {
     "data": {
      "text/markdown": [
       "### Tumor: AT4808"
      ],
      "text/plain": [
       "<IPython.core.display.Markdown object>"
      ]
     },
     "metadata": {},
     "output_type": "display_data"
    },
    {
     "name": "stdout",
     "output_type": "stream",
     "text": [
      "/storage/gluster/vol1/SHARED/NGSTOOLS/SENTIEON/sentieon-genomics-201911/bin/sentieon driver -t 80 -r /storage/gluster/vol1/bcbio/genomes/Hsapiens/hg19/bwa/hg19.fa --algo DNAModelApply --model /storage/gluster/vol1/data/PUBLIC/Tools/sentieon-genomics-201808.05/SentieonDNAscopeModelBeta0.4a-201808.05.model -v AT4808T-tmpDNAscope.vcf.gz AT4808T-DNAscope.vcf.gz\n",
      "\n"
     ]
    },
    {
     "data": {
      "text/markdown": [
       "### Tumor: C0288"
      ],
      "text/plain": [
       "<IPython.core.display.Markdown object>"
      ]
     },
     "metadata": {},
     "output_type": "display_data"
    },
    {
     "name": "stdout",
     "output_type": "stream",
     "text": [
      "/storage/gluster/vol1/SHARED/NGSTOOLS/SENTIEON/sentieon-genomics-201911/bin/sentieon driver -t 80 -r /storage/gluster/vol1/bcbio/genomes/Hsapiens/hg19/bwa/hg19.fa --algo DNAModelApply --model /storage/gluster/vol1/data/PUBLIC/Tools/sentieon-genomics-201808.05/SentieonDNAscopeModelBeta0.4a-201808.05.model -v C0288T-tmpDNAscope.vcf.gz C0288T-DNAscope.vcf.gz\n",
      "\n"
     ]
    },
    {
     "data": {
      "text/markdown": [
       "### Tumor: C0334"
      ],
      "text/plain": [
       "<IPython.core.display.Markdown object>"
      ]
     },
     "metadata": {},
     "output_type": "display_data"
    },
    {
     "name": "stdout",
     "output_type": "stream",
     "text": [
      "/storage/gluster/vol1/SHARED/NGSTOOLS/SENTIEON/sentieon-genomics-201911/bin/sentieon driver -t 80 -r /storage/gluster/vol1/bcbio/genomes/Hsapiens/hg19/bwa/hg19.fa --algo DNAModelApply --model /storage/gluster/vol1/data/PUBLIC/Tools/sentieon-genomics-201808.05/SentieonDNAscopeModelBeta0.4a-201808.05.model -v C0334T-tmpDNAscope.vcf.gz C0334T-DNAscope.vcf.gz\n",
      "\n"
     ]
    },
    {
     "data": {
      "text/markdown": [
       "### Tumor: C1572"
      ],
      "text/plain": [
       "<IPython.core.display.Markdown object>"
      ]
     },
     "metadata": {},
     "output_type": "display_data"
    },
    {
     "name": "stdout",
     "output_type": "stream",
     "text": [
      "/storage/gluster/vol1/SHARED/NGSTOOLS/SENTIEON/sentieon-genomics-201911/bin/sentieon driver -t 80 -r /storage/gluster/vol1/bcbio/genomes/Hsapiens/hg19/bwa/hg19.fa --algo DNAModelApply --model /storage/gluster/vol1/data/PUBLIC/Tools/sentieon-genomics-201808.05/SentieonDNAscopeModelBeta0.4a-201808.05.model -v C1572T-tmpDNAscope.vcf.gz C1572T-DNAscope.vcf.gz\n",
      "\n"
     ]
    },
    {
     "data": {
      "text/markdown": [
       "### Tumor: C8448"
      ],
      "text/plain": [
       "<IPython.core.display.Markdown object>"
      ]
     },
     "metadata": {},
     "output_type": "display_data"
    },
    {
     "name": "stdout",
     "output_type": "stream",
     "text": [
      "/storage/gluster/vol1/SHARED/NGSTOOLS/SENTIEON/sentieon-genomics-201911/bin/sentieon driver -t 80 -r /storage/gluster/vol1/bcbio/genomes/Hsapiens/hg19/bwa/hg19.fa --algo DNAModelApply --model /storage/gluster/vol1/data/PUBLIC/Tools/sentieon-genomics-201808.05/SentieonDNAscopeModelBeta0.4a-201808.05.model -v C8448T-tmpDNAscope.vcf.gz C8448T-DNAscope.vcf.gz\n",
      "\n"
     ]
    }
   ],
   "source": [
    "display(Markdown(\"___\"))\n",
    "for i in range(batchSize):\n",
    "    TUMOR = batch[i][1]\n",
    "    display(Markdown(\"### Tumor: \"+TUMOR))\n",
    "    command2 = data['SENTIEON_INSTALL_DIR']+\"/bin/sentieon driver -t \"+str(data['nt'])+\" -r \"+data['fasta']+\" --algo DNAModelApply --model \"+data['ML_MODEL_N']+\" -v \"+TUMOR+\"T-tmpDNAscope.vcf.gz \"+TUMOR+\"T-DNAscope.vcf.gz\"\n",
    "    print(command2+'\\n')\n",
    "    if exec_scripts:\n",
    "        subprocess.check_output(command2,shell=True)"
   ]
  },
  {
   "cell_type": "code",
   "execution_count": 109,
   "metadata": {},
   "outputs": [
    {
     "data": {
      "text/markdown": [
       "___"
      ],
      "text/plain": [
       "<IPython.core.display.Markdown object>"
      ]
     },
     "metadata": {},
     "output_type": "display_data"
    },
    {
     "data": {
      "text/markdown": [
       "### Tumor: A1783"
      ],
      "text/plain": [
       "<IPython.core.display.Markdown object>"
      ]
     },
     "metadata": {},
     "output_type": "display_data"
    },
    {
     "name": "stdout",
     "output_type": "stream",
     "text": [
      "/storage/gluster/vol1/SHARED/NGSTOOLS/BCBIO/bcbio/anaconda/bin/bcftools filter -s ML_FAIL -i INFO/ML_PROB > 0.81 A1783T-DNAscope.vcf.gz -O z -m x -o A1783T-filtDNAscope.vcf.gz\n",
      "\n"
     ]
    },
    {
     "data": {
      "text/markdown": [
       "### Tumor: A9155"
      ],
      "text/plain": [
       "<IPython.core.display.Markdown object>"
      ]
     },
     "metadata": {},
     "output_type": "display_data"
    },
    {
     "name": "stdout",
     "output_type": "stream",
     "text": [
      "/storage/gluster/vol1/SHARED/NGSTOOLS/BCBIO/bcbio/anaconda/bin/bcftools filter -s ML_FAIL -i INFO/ML_PROB > 0.81 A9155T-DNAscope.vcf.gz -O z -m x -o A9155T-filtDNAscope.vcf.gz\n",
      "\n"
     ]
    },
    {
     "data": {
      "text/markdown": [
       "### Tumor: A9878"
      ],
      "text/plain": [
       "<IPython.core.display.Markdown object>"
      ]
     },
     "metadata": {},
     "output_type": "display_data"
    },
    {
     "name": "stdout",
     "output_type": "stream",
     "text": [
      "/storage/gluster/vol1/SHARED/NGSTOOLS/BCBIO/bcbio/anaconda/bin/bcftools filter -s ML_FAIL -i INFO/ML_PROB > 0.81 A9878T-DNAscope.vcf.gz -O z -m x -o A9878T-filtDNAscope.vcf.gz\n",
      "\n"
     ]
    },
    {
     "data": {
      "text/markdown": [
       "### Tumor: AT2550"
      ],
      "text/plain": [
       "<IPython.core.display.Markdown object>"
      ]
     },
     "metadata": {},
     "output_type": "display_data"
    },
    {
     "name": "stdout",
     "output_type": "stream",
     "text": [
      "/storage/gluster/vol1/SHARED/NGSTOOLS/BCBIO/bcbio/anaconda/bin/bcftools filter -s ML_FAIL -i INFO/ML_PROB > 0.81 AT2550T-DNAscope.vcf.gz -O z -m x -o AT2550T-filtDNAscope.vcf.gz\n",
      "\n"
     ]
    },
    {
     "data": {
      "text/markdown": [
       "### Tumor: AT2822"
      ],
      "text/plain": [
       "<IPython.core.display.Markdown object>"
      ]
     },
     "metadata": {},
     "output_type": "display_data"
    },
    {
     "name": "stdout",
     "output_type": "stream",
     "text": [
      "/storage/gluster/vol1/SHARED/NGSTOOLS/BCBIO/bcbio/anaconda/bin/bcftools filter -s ML_FAIL -i INFO/ML_PROB > 0.81 AT2822T-DNAscope.vcf.gz -O z -m x -o AT2822T-filtDNAscope.vcf.gz\n",
      "\n"
     ]
    },
    {
     "data": {
      "text/markdown": [
       "### Tumor: AT4415"
      ],
      "text/plain": [
       "<IPython.core.display.Markdown object>"
      ]
     },
     "metadata": {},
     "output_type": "display_data"
    },
    {
     "name": "stdout",
     "output_type": "stream",
     "text": [
      "/storage/gluster/vol1/SHARED/NGSTOOLS/BCBIO/bcbio/anaconda/bin/bcftools filter -s ML_FAIL -i INFO/ML_PROB > 0.81 AT4415T-DNAscope.vcf.gz -O z -m x -o AT4415T-filtDNAscope.vcf.gz\n",
      "\n"
     ]
    },
    {
     "data": {
      "text/markdown": [
       "### Tumor: AT4808"
      ],
      "text/plain": [
       "<IPython.core.display.Markdown object>"
      ]
     },
     "metadata": {},
     "output_type": "display_data"
    },
    {
     "name": "stdout",
     "output_type": "stream",
     "text": [
      "/storage/gluster/vol1/SHARED/NGSTOOLS/BCBIO/bcbio/anaconda/bin/bcftools filter -s ML_FAIL -i INFO/ML_PROB > 0.81 AT4808T-DNAscope.vcf.gz -O z -m x -o AT4808T-filtDNAscope.vcf.gz\n",
      "\n"
     ]
    },
    {
     "data": {
      "text/markdown": [
       "### Tumor: C0288"
      ],
      "text/plain": [
       "<IPython.core.display.Markdown object>"
      ]
     },
     "metadata": {},
     "output_type": "display_data"
    },
    {
     "name": "stdout",
     "output_type": "stream",
     "text": [
      "/storage/gluster/vol1/SHARED/NGSTOOLS/BCBIO/bcbio/anaconda/bin/bcftools filter -s ML_FAIL -i INFO/ML_PROB > 0.81 C0288T-DNAscope.vcf.gz -O z -m x -o C0288T-filtDNAscope.vcf.gz\n",
      "\n"
     ]
    },
    {
     "data": {
      "text/markdown": [
       "### Tumor: C0334"
      ],
      "text/plain": [
       "<IPython.core.display.Markdown object>"
      ]
     },
     "metadata": {},
     "output_type": "display_data"
    },
    {
     "name": "stdout",
     "output_type": "stream",
     "text": [
      "/storage/gluster/vol1/SHARED/NGSTOOLS/BCBIO/bcbio/anaconda/bin/bcftools filter -s ML_FAIL -i INFO/ML_PROB > 0.81 C0334T-DNAscope.vcf.gz -O z -m x -o C0334T-filtDNAscope.vcf.gz\n",
      "\n"
     ]
    },
    {
     "data": {
      "text/markdown": [
       "### Tumor: C1572"
      ],
      "text/plain": [
       "<IPython.core.display.Markdown object>"
      ]
     },
     "metadata": {},
     "output_type": "display_data"
    },
    {
     "name": "stdout",
     "output_type": "stream",
     "text": [
      "/storage/gluster/vol1/SHARED/NGSTOOLS/BCBIO/bcbio/anaconda/bin/bcftools filter -s ML_FAIL -i INFO/ML_PROB > 0.81 C1572T-DNAscope.vcf.gz -O z -m x -o C1572T-filtDNAscope.vcf.gz\n",
      "\n"
     ]
    },
    {
     "data": {
      "text/markdown": [
       "### Tumor: C8448"
      ],
      "text/plain": [
       "<IPython.core.display.Markdown object>"
      ]
     },
     "metadata": {},
     "output_type": "display_data"
    },
    {
     "name": "stdout",
     "output_type": "stream",
     "text": [
      "/storage/gluster/vol1/SHARED/NGSTOOLS/BCBIO/bcbio/anaconda/bin/bcftools filter -s ML_FAIL -i INFO/ML_PROB > 0.81 C8448T-DNAscope.vcf.gz -O z -m x -o C8448T-filtDNAscope.vcf.gz\n",
      "\n"
     ]
    }
   ],
   "source": [
    "display(Markdown(\"___\"))\n",
    "for i in range(batchSize):\n",
    "    TUMOR = batch[i][1]\n",
    "    display(Markdown(\"### Tumor: \"+TUMOR))\n",
    "    command3 = data['bcfdir'] + \" filter -s ML_FAIL -i INFO/ML_PROB > 0.81 \"+TUMOR+\"T-DNAscope.vcf.gz -O z -m x -o \"+TUMOR+\"T-filtDNAscope.vcf.gz\"\n",
    "    print(command3+'\\n')\n",
    "    if exec_scripts:\n",
    "        subprocess.check_output(command3,shell=True)"
   ]
  },
  {
   "cell_type": "markdown",
   "metadata": {},
   "source": [
    "# 9a. Variant Annotation (normal)"
   ]
  },
  {
   "cell_type": "code",
   "execution_count": 61,
   "metadata": {},
   "outputs": [
    {
     "data": {
      "text/markdown": [
       "### Normal: ABT414_Flank"
      ],
      "text/plain": [
       "<IPython.core.display.Markdown object>"
      ]
     },
     "metadata": {},
     "output_type": "display_data"
    },
    {
     "name": "stdout",
     "output_type": "stream",
     "text": [
      "/storage/gluster/vol1/bcbio/anaconda/bin/snpEff -Xms1000m -Xmx36400m -Djava.io.tmpdir=/storage/gluster/vol1/SHARED/HOMEFOLDERS/adefalco/ABT414_Flank//$SAMPLE/tmpdir eff -noStats -t -noLog -dataDir /storage/gluster/vol1/bcbio/genomes/Hsapiens/hg19/snpeff -hgvs -noLof -i vcf -o vcf -noInteraction -noMotif -noNextProt -strict GRCh37.75 ABT414_FlankN-output-hc.vcf.gz | /glusterfs/biostorage1/brick1/data/PUBLIC/Tools/lib/bin/bgzip --threads 80 -c > ABT414_FlankN-output-hc.snpEff.vcf.gz\n",
      "\n"
     ]
    }
   ],
   "source": [
    "for i in range(np.size(uniqNorm)):\n",
    "    SAMPLE = uniqNorm[i]\n",
    "    display(Markdown(\"### Normal: \" + SAMPLE))\n",
    "    command1 = \"/storage/gluster/vol1/bcbio/anaconda/bin/snpEff -Xms1000m -Xmx36400m -Djava.io.tmpdir=\"+data['SENTIEON_TMPDIR']+\" eff -noStats -t -noLog -dataDir /storage/gluster/vol1/bcbio/genomes/Hsapiens/hg19/snpeff -hgvs -noLof -i vcf -o vcf -noInteraction -noMotif -noNextProt -strict GRCh37.75 \"+SAMPLE+\"N-output-hc.vcf.gz | \"+data['bgzipdir']+\" --threads \"+str(data['nt'])+\" -c > \"+SAMPLE+\"N-output-hc.snpEff.vcf.gz\"\n",
    "    print(command1+'\\n')\n",
    "    if exec_scripts:\n",
    "        subprocess.check_output(command1,shell=True)"
   ]
  },
  {
   "cell_type": "code",
   "execution_count": 110,
   "metadata": {},
   "outputs": [
    {
     "data": {
      "text/markdown": [
       "___"
      ],
      "text/plain": [
       "<IPython.core.display.Markdown object>"
      ]
     },
     "metadata": {},
     "output_type": "display_data"
    },
    {
     "data": {
      "text/markdown": [
       "### Normal: ABT414_Flank"
      ],
      "text/plain": [
       "<IPython.core.display.Markdown object>"
      ]
     },
     "metadata": {},
     "output_type": "display_data"
    },
    {
     "name": "stdout",
     "output_type": "stream",
     "text": [
      "/storage/gluster/vol1/bcbio/anaconda/bin/snpEff -Xms1000m -Xmx36400m -Djava.io.tmpdir=/storage/gluster/vol1/SHARED/HOMEFOLDERS/adefalco/ABT414_Flank//$SAMPLE/tmpdir eff -noStats -t -noLog -dataDir /storage/gluster/vol1/bcbio/genomes/Hsapiens/hg19/snpeff -hgvs -noLof -i vcf -o vcf -noInteraction -noMotif -noNextProt -strict GRCh37.75 ABT414_FlankN-filtDNAscope.vcf.gz | /glusterfs/biostorage1/brick1/data/PUBLIC/Tools/lib/bin/bgzip --threads 80 -c > ABT414_FlankN-filtDNAscope.snpEff.vcf.gz\n",
      "\n"
     ]
    }
   ],
   "source": [
    "display(Markdown(\"___\"))\n",
    "for i in range(np.size(uniqNorm)):\n",
    "    SAMPLE = uniqNorm[i]\n",
    "    display(Markdown(\"### Normal: \" + SAMPLE))\n",
    "    command2 = \"/storage/gluster/vol1/bcbio/anaconda/bin/snpEff -Xms1000m -Xmx36400m -Djava.io.tmpdir=\"+data['SENTIEON_TMPDIR']+\" eff -noStats -t -noLog -dataDir /storage/gluster/vol1/bcbio/genomes/Hsapiens/hg19/snpeff -hgvs -noLof -i vcf -o vcf -noInteraction -noMotif -noNextProt -strict GRCh37.75 \"+SAMPLE+\"N-filtDNAscope.vcf.gz | \"+data['bgzipdir']+\" --threads \"+str(data['nt'])+\" -c > \"+SAMPLE+\"N-filtDNAscope.snpEff.vcf.gz\"\n",
    "    print(command2+'\\n')\n",
    "    if exec_scripts:\n",
    "        subprocess.check_output(command2,shell=True)"
   ]
  },
  {
   "cell_type": "markdown",
   "metadata": {},
   "source": [
    "# 9a. Variant Annotation (tumor)"
   ]
  },
  {
   "cell_type": "code",
   "execution_count": 59,
   "metadata": {},
   "outputs": [
    {
     "data": {
      "text/markdown": [
       "### Tumor: A1783"
      ],
      "text/plain": [
       "<IPython.core.display.Markdown object>"
      ]
     },
     "metadata": {},
     "output_type": "display_data"
    },
    {
     "name": "stdout",
     "output_type": "stream",
     "text": [
      "/storage/gluster/vol1/bcbio/anaconda/bin/snpEff -Xms1000m -Xmx36400m -Djava.io.tmpdir=/storage/gluster/vol1/SHARED/HOMEFOLDERS/adefalco/ABT414_Flank//$SAMPLE/tmpdir eff -noStats -t -noLog -dataDir /storage/gluster/vol1/bcbio/genomes/Hsapiens/hg19/snpeff -hgvs -noLof -i vcf -o vcf -noInteraction -noMotif -noNextProt -strict GRCh37.75 A1783T-output-hc.vcf.gz | /glusterfs/biostorage1/brick1/data/PUBLIC/Tools/lib/bin/bgzip --threads 80 -c > A1783T-output-hc.snpEff.vcf.gz\n",
      "\n"
     ]
    },
    {
     "data": {
      "text/markdown": [
       "### Tumor: A9155"
      ],
      "text/plain": [
       "<IPython.core.display.Markdown object>"
      ]
     },
     "metadata": {},
     "output_type": "display_data"
    },
    {
     "name": "stdout",
     "output_type": "stream",
     "text": [
      "/storage/gluster/vol1/bcbio/anaconda/bin/snpEff -Xms1000m -Xmx36400m -Djava.io.tmpdir=/storage/gluster/vol1/SHARED/HOMEFOLDERS/adefalco/ABT414_Flank//$SAMPLE/tmpdir eff -noStats -t -noLog -dataDir /storage/gluster/vol1/bcbio/genomes/Hsapiens/hg19/snpeff -hgvs -noLof -i vcf -o vcf -noInteraction -noMotif -noNextProt -strict GRCh37.75 A9155T-output-hc.vcf.gz | /glusterfs/biostorage1/brick1/data/PUBLIC/Tools/lib/bin/bgzip --threads 80 -c > A9155T-output-hc.snpEff.vcf.gz\n",
      "\n"
     ]
    },
    {
     "data": {
      "text/markdown": [
       "### Tumor: A9878"
      ],
      "text/plain": [
       "<IPython.core.display.Markdown object>"
      ]
     },
     "metadata": {},
     "output_type": "display_data"
    },
    {
     "name": "stdout",
     "output_type": "stream",
     "text": [
      "/storage/gluster/vol1/bcbio/anaconda/bin/snpEff -Xms1000m -Xmx36400m -Djava.io.tmpdir=/storage/gluster/vol1/SHARED/HOMEFOLDERS/adefalco/ABT414_Flank//$SAMPLE/tmpdir eff -noStats -t -noLog -dataDir /storage/gluster/vol1/bcbio/genomes/Hsapiens/hg19/snpeff -hgvs -noLof -i vcf -o vcf -noInteraction -noMotif -noNextProt -strict GRCh37.75 A9878T-output-hc.vcf.gz | /glusterfs/biostorage1/brick1/data/PUBLIC/Tools/lib/bin/bgzip --threads 80 -c > A9878T-output-hc.snpEff.vcf.gz\n",
      "\n"
     ]
    },
    {
     "data": {
      "text/markdown": [
       "### Tumor: AT2550"
      ],
      "text/plain": [
       "<IPython.core.display.Markdown object>"
      ]
     },
     "metadata": {},
     "output_type": "display_data"
    },
    {
     "name": "stdout",
     "output_type": "stream",
     "text": [
      "/storage/gluster/vol1/bcbio/anaconda/bin/snpEff -Xms1000m -Xmx36400m -Djava.io.tmpdir=/storage/gluster/vol1/SHARED/HOMEFOLDERS/adefalco/ABT414_Flank//$SAMPLE/tmpdir eff -noStats -t -noLog -dataDir /storage/gluster/vol1/bcbio/genomes/Hsapiens/hg19/snpeff -hgvs -noLof -i vcf -o vcf -noInteraction -noMotif -noNextProt -strict GRCh37.75 AT2550T-output-hc.vcf.gz | /glusterfs/biostorage1/brick1/data/PUBLIC/Tools/lib/bin/bgzip --threads 80 -c > AT2550T-output-hc.snpEff.vcf.gz\n",
      "\n"
     ]
    },
    {
     "data": {
      "text/markdown": [
       "### Tumor: AT2822"
      ],
      "text/plain": [
       "<IPython.core.display.Markdown object>"
      ]
     },
     "metadata": {},
     "output_type": "display_data"
    },
    {
     "name": "stdout",
     "output_type": "stream",
     "text": [
      "/storage/gluster/vol1/bcbio/anaconda/bin/snpEff -Xms1000m -Xmx36400m -Djava.io.tmpdir=/storage/gluster/vol1/SHARED/HOMEFOLDERS/adefalco/ABT414_Flank//$SAMPLE/tmpdir eff -noStats -t -noLog -dataDir /storage/gluster/vol1/bcbio/genomes/Hsapiens/hg19/snpeff -hgvs -noLof -i vcf -o vcf -noInteraction -noMotif -noNextProt -strict GRCh37.75 AT2822T-output-hc.vcf.gz | /glusterfs/biostorage1/brick1/data/PUBLIC/Tools/lib/bin/bgzip --threads 80 -c > AT2822T-output-hc.snpEff.vcf.gz\n",
      "\n"
     ]
    },
    {
     "data": {
      "text/markdown": [
       "### Tumor: AT4415"
      ],
      "text/plain": [
       "<IPython.core.display.Markdown object>"
      ]
     },
     "metadata": {},
     "output_type": "display_data"
    },
    {
     "name": "stdout",
     "output_type": "stream",
     "text": [
      "/storage/gluster/vol1/bcbio/anaconda/bin/snpEff -Xms1000m -Xmx36400m -Djava.io.tmpdir=/storage/gluster/vol1/SHARED/HOMEFOLDERS/adefalco/ABT414_Flank//$SAMPLE/tmpdir eff -noStats -t -noLog -dataDir /storage/gluster/vol1/bcbio/genomes/Hsapiens/hg19/snpeff -hgvs -noLof -i vcf -o vcf -noInteraction -noMotif -noNextProt -strict GRCh37.75 AT4415T-output-hc.vcf.gz | /glusterfs/biostorage1/brick1/data/PUBLIC/Tools/lib/bin/bgzip --threads 80 -c > AT4415T-output-hc.snpEff.vcf.gz\n",
      "\n"
     ]
    },
    {
     "data": {
      "text/markdown": [
       "### Tumor: AT4808"
      ],
      "text/plain": [
       "<IPython.core.display.Markdown object>"
      ]
     },
     "metadata": {},
     "output_type": "display_data"
    },
    {
     "name": "stdout",
     "output_type": "stream",
     "text": [
      "/storage/gluster/vol1/bcbio/anaconda/bin/snpEff -Xms1000m -Xmx36400m -Djava.io.tmpdir=/storage/gluster/vol1/SHARED/HOMEFOLDERS/adefalco/ABT414_Flank//$SAMPLE/tmpdir eff -noStats -t -noLog -dataDir /storage/gluster/vol1/bcbio/genomes/Hsapiens/hg19/snpeff -hgvs -noLof -i vcf -o vcf -noInteraction -noMotif -noNextProt -strict GRCh37.75 AT4808T-output-hc.vcf.gz | /glusterfs/biostorage1/brick1/data/PUBLIC/Tools/lib/bin/bgzip --threads 80 -c > AT4808T-output-hc.snpEff.vcf.gz\n",
      "\n"
     ]
    },
    {
     "data": {
      "text/markdown": [
       "### Tumor: C0288"
      ],
      "text/plain": [
       "<IPython.core.display.Markdown object>"
      ]
     },
     "metadata": {},
     "output_type": "display_data"
    },
    {
     "name": "stdout",
     "output_type": "stream",
     "text": [
      "/storage/gluster/vol1/bcbio/anaconda/bin/snpEff -Xms1000m -Xmx36400m -Djava.io.tmpdir=/storage/gluster/vol1/SHARED/HOMEFOLDERS/adefalco/ABT414_Flank//$SAMPLE/tmpdir eff -noStats -t -noLog -dataDir /storage/gluster/vol1/bcbio/genomes/Hsapiens/hg19/snpeff -hgvs -noLof -i vcf -o vcf -noInteraction -noMotif -noNextProt -strict GRCh37.75 C0288T-output-hc.vcf.gz | /glusterfs/biostorage1/brick1/data/PUBLIC/Tools/lib/bin/bgzip --threads 80 -c > C0288T-output-hc.snpEff.vcf.gz\n",
      "\n"
     ]
    },
    {
     "data": {
      "text/markdown": [
       "### Tumor: C0334"
      ],
      "text/plain": [
       "<IPython.core.display.Markdown object>"
      ]
     },
     "metadata": {},
     "output_type": "display_data"
    },
    {
     "name": "stdout",
     "output_type": "stream",
     "text": [
      "/storage/gluster/vol1/bcbio/anaconda/bin/snpEff -Xms1000m -Xmx36400m -Djava.io.tmpdir=/storage/gluster/vol1/SHARED/HOMEFOLDERS/adefalco/ABT414_Flank//$SAMPLE/tmpdir eff -noStats -t -noLog -dataDir /storage/gluster/vol1/bcbio/genomes/Hsapiens/hg19/snpeff -hgvs -noLof -i vcf -o vcf -noInteraction -noMotif -noNextProt -strict GRCh37.75 C0334T-output-hc.vcf.gz | /glusterfs/biostorage1/brick1/data/PUBLIC/Tools/lib/bin/bgzip --threads 80 -c > C0334T-output-hc.snpEff.vcf.gz\n",
      "\n"
     ]
    },
    {
     "data": {
      "text/markdown": [
       "### Tumor: C1572"
      ],
      "text/plain": [
       "<IPython.core.display.Markdown object>"
      ]
     },
     "metadata": {},
     "output_type": "display_data"
    },
    {
     "name": "stdout",
     "output_type": "stream",
     "text": [
      "/storage/gluster/vol1/bcbio/anaconda/bin/snpEff -Xms1000m -Xmx36400m -Djava.io.tmpdir=/storage/gluster/vol1/SHARED/HOMEFOLDERS/adefalco/ABT414_Flank//$SAMPLE/tmpdir eff -noStats -t -noLog -dataDir /storage/gluster/vol1/bcbio/genomes/Hsapiens/hg19/snpeff -hgvs -noLof -i vcf -o vcf -noInteraction -noMotif -noNextProt -strict GRCh37.75 C1572T-output-hc.vcf.gz | /glusterfs/biostorage1/brick1/data/PUBLIC/Tools/lib/bin/bgzip --threads 80 -c > C1572T-output-hc.snpEff.vcf.gz\n",
      "\n"
     ]
    },
    {
     "data": {
      "text/markdown": [
       "### Tumor: C8448"
      ],
      "text/plain": [
       "<IPython.core.display.Markdown object>"
      ]
     },
     "metadata": {},
     "output_type": "display_data"
    },
    {
     "name": "stdout",
     "output_type": "stream",
     "text": [
      "/storage/gluster/vol1/bcbio/anaconda/bin/snpEff -Xms1000m -Xmx36400m -Djava.io.tmpdir=/storage/gluster/vol1/SHARED/HOMEFOLDERS/adefalco/ABT414_Flank//$SAMPLE/tmpdir eff -noStats -t -noLog -dataDir /storage/gluster/vol1/bcbio/genomes/Hsapiens/hg19/snpeff -hgvs -noLof -i vcf -o vcf -noInteraction -noMotif -noNextProt -strict GRCh37.75 C8448T-output-hc.vcf.gz | /glusterfs/biostorage1/brick1/data/PUBLIC/Tools/lib/bin/bgzip --threads 80 -c > C8448T-output-hc.snpEff.vcf.gz\n",
      "\n"
     ]
    }
   ],
   "source": [
    "for i in range(batchSize):\n",
    "    TUMOR = batch[i][1]\n",
    "    display(Markdown(\"### Tumor: \"+TUMOR))\n",
    "    command1 = \"/storage/gluster/vol1/bcbio/anaconda/bin/snpEff -Xms1000m -Xmx36400m -Djava.io.tmpdir=\"+data['SENTIEON_TMPDIR']+\" eff -noStats -t -noLog -dataDir /storage/gluster/vol1/bcbio/genomes/Hsapiens/hg19/snpeff -hgvs -noLof -i vcf -o vcf -noInteraction -noMotif -noNextProt -strict GRCh37.75 \"+TUMOR+\"T-output-hc.vcf.gz | \"+data['bgzipdir']+\" --threads \"+str(data['nt'])+\" -c > \"+TUMOR+\"T-output-hc.snpEff.vcf.gz\"\n",
    "    print(command1+'\\n')\n",
    "    if exec_scripts:\n",
    "        subprocess.check_output(command1,shell=True)"
   ]
  },
  {
   "cell_type": "code",
   "execution_count": 111,
   "metadata": {},
   "outputs": [
    {
     "data": {
      "text/markdown": [
       "___"
      ],
      "text/plain": [
       "<IPython.core.display.Markdown object>"
      ]
     },
     "metadata": {},
     "output_type": "display_data"
    },
    {
     "data": {
      "text/markdown": [
       "### Tumor: A1783"
      ],
      "text/plain": [
       "<IPython.core.display.Markdown object>"
      ]
     },
     "metadata": {},
     "output_type": "display_data"
    },
    {
     "name": "stdout",
     "output_type": "stream",
     "text": [
      "/storage/gluster/vol1/bcbio/anaconda/bin/snpEff -Xms1000m -Xmx36400m -Djava.io.tmpdir=/storage/gluster/vol1/SHARED/HOMEFOLDERS/adefalco/ABT414_Flank//$SAMPLE/tmpdir eff -noStats -t -noLog -dataDir /storage/gluster/vol1/bcbio/genomes/Hsapiens/hg19/snpeff -hgvs -noLof -i vcf -o vcf -noInteraction -noMotif -noNextProt -strict GRCh37.75 A1783T-filtDNAscope.vcf.gz | /glusterfs/biostorage1/brick1/data/PUBLIC/Tools/lib/bin/bgzip --threads 80 -c > A1783T-filtDNAscope.snpEff.vcf.gz\n",
      "\n"
     ]
    },
    {
     "data": {
      "text/markdown": [
       "### Tumor: A9155"
      ],
      "text/plain": [
       "<IPython.core.display.Markdown object>"
      ]
     },
     "metadata": {},
     "output_type": "display_data"
    },
    {
     "name": "stdout",
     "output_type": "stream",
     "text": [
      "/storage/gluster/vol1/bcbio/anaconda/bin/snpEff -Xms1000m -Xmx36400m -Djava.io.tmpdir=/storage/gluster/vol1/SHARED/HOMEFOLDERS/adefalco/ABT414_Flank//$SAMPLE/tmpdir eff -noStats -t -noLog -dataDir /storage/gluster/vol1/bcbio/genomes/Hsapiens/hg19/snpeff -hgvs -noLof -i vcf -o vcf -noInteraction -noMotif -noNextProt -strict GRCh37.75 A9155T-filtDNAscope.vcf.gz | /glusterfs/biostorage1/brick1/data/PUBLIC/Tools/lib/bin/bgzip --threads 80 -c > A9155T-filtDNAscope.snpEff.vcf.gz\n",
      "\n"
     ]
    },
    {
     "data": {
      "text/markdown": [
       "### Tumor: A9878"
      ],
      "text/plain": [
       "<IPython.core.display.Markdown object>"
      ]
     },
     "metadata": {},
     "output_type": "display_data"
    },
    {
     "name": "stdout",
     "output_type": "stream",
     "text": [
      "/storage/gluster/vol1/bcbio/anaconda/bin/snpEff -Xms1000m -Xmx36400m -Djava.io.tmpdir=/storage/gluster/vol1/SHARED/HOMEFOLDERS/adefalco/ABT414_Flank//$SAMPLE/tmpdir eff -noStats -t -noLog -dataDir /storage/gluster/vol1/bcbio/genomes/Hsapiens/hg19/snpeff -hgvs -noLof -i vcf -o vcf -noInteraction -noMotif -noNextProt -strict GRCh37.75 A9878T-filtDNAscope.vcf.gz | /glusterfs/biostorage1/brick1/data/PUBLIC/Tools/lib/bin/bgzip --threads 80 -c > A9878T-filtDNAscope.snpEff.vcf.gz\n",
      "\n"
     ]
    },
    {
     "data": {
      "text/markdown": [
       "### Tumor: AT2550"
      ],
      "text/plain": [
       "<IPython.core.display.Markdown object>"
      ]
     },
     "metadata": {},
     "output_type": "display_data"
    },
    {
     "name": "stdout",
     "output_type": "stream",
     "text": [
      "/storage/gluster/vol1/bcbio/anaconda/bin/snpEff -Xms1000m -Xmx36400m -Djava.io.tmpdir=/storage/gluster/vol1/SHARED/HOMEFOLDERS/adefalco/ABT414_Flank//$SAMPLE/tmpdir eff -noStats -t -noLog -dataDir /storage/gluster/vol1/bcbio/genomes/Hsapiens/hg19/snpeff -hgvs -noLof -i vcf -o vcf -noInteraction -noMotif -noNextProt -strict GRCh37.75 AT2550T-filtDNAscope.vcf.gz | /glusterfs/biostorage1/brick1/data/PUBLIC/Tools/lib/bin/bgzip --threads 80 -c > AT2550T-filtDNAscope.snpEff.vcf.gz\n",
      "\n"
     ]
    },
    {
     "data": {
      "text/markdown": [
       "### Tumor: AT2822"
      ],
      "text/plain": [
       "<IPython.core.display.Markdown object>"
      ]
     },
     "metadata": {},
     "output_type": "display_data"
    },
    {
     "name": "stdout",
     "output_type": "stream",
     "text": [
      "/storage/gluster/vol1/bcbio/anaconda/bin/snpEff -Xms1000m -Xmx36400m -Djava.io.tmpdir=/storage/gluster/vol1/SHARED/HOMEFOLDERS/adefalco/ABT414_Flank//$SAMPLE/tmpdir eff -noStats -t -noLog -dataDir /storage/gluster/vol1/bcbio/genomes/Hsapiens/hg19/snpeff -hgvs -noLof -i vcf -o vcf -noInteraction -noMotif -noNextProt -strict GRCh37.75 AT2822T-filtDNAscope.vcf.gz | /glusterfs/biostorage1/brick1/data/PUBLIC/Tools/lib/bin/bgzip --threads 80 -c > AT2822T-filtDNAscope.snpEff.vcf.gz\n",
      "\n"
     ]
    },
    {
     "data": {
      "text/markdown": [
       "### Tumor: AT4415"
      ],
      "text/plain": [
       "<IPython.core.display.Markdown object>"
      ]
     },
     "metadata": {},
     "output_type": "display_data"
    },
    {
     "name": "stdout",
     "output_type": "stream",
     "text": [
      "/storage/gluster/vol1/bcbio/anaconda/bin/snpEff -Xms1000m -Xmx36400m -Djava.io.tmpdir=/storage/gluster/vol1/SHARED/HOMEFOLDERS/adefalco/ABT414_Flank//$SAMPLE/tmpdir eff -noStats -t -noLog -dataDir /storage/gluster/vol1/bcbio/genomes/Hsapiens/hg19/snpeff -hgvs -noLof -i vcf -o vcf -noInteraction -noMotif -noNextProt -strict GRCh37.75 AT4415T-filtDNAscope.vcf.gz | /glusterfs/biostorage1/brick1/data/PUBLIC/Tools/lib/bin/bgzip --threads 80 -c > AT4415T-filtDNAscope.snpEff.vcf.gz\n",
      "\n"
     ]
    },
    {
     "data": {
      "text/markdown": [
       "### Tumor: AT4808"
      ],
      "text/plain": [
       "<IPython.core.display.Markdown object>"
      ]
     },
     "metadata": {},
     "output_type": "display_data"
    },
    {
     "name": "stdout",
     "output_type": "stream",
     "text": [
      "/storage/gluster/vol1/bcbio/anaconda/bin/snpEff -Xms1000m -Xmx36400m -Djava.io.tmpdir=/storage/gluster/vol1/SHARED/HOMEFOLDERS/adefalco/ABT414_Flank//$SAMPLE/tmpdir eff -noStats -t -noLog -dataDir /storage/gluster/vol1/bcbio/genomes/Hsapiens/hg19/snpeff -hgvs -noLof -i vcf -o vcf -noInteraction -noMotif -noNextProt -strict GRCh37.75 AT4808T-filtDNAscope.vcf.gz | /glusterfs/biostorage1/brick1/data/PUBLIC/Tools/lib/bin/bgzip --threads 80 -c > AT4808T-filtDNAscope.snpEff.vcf.gz\n",
      "\n"
     ]
    },
    {
     "data": {
      "text/markdown": [
       "### Tumor: C0288"
      ],
      "text/plain": [
       "<IPython.core.display.Markdown object>"
      ]
     },
     "metadata": {},
     "output_type": "display_data"
    },
    {
     "name": "stdout",
     "output_type": "stream",
     "text": [
      "/storage/gluster/vol1/bcbio/anaconda/bin/snpEff -Xms1000m -Xmx36400m -Djava.io.tmpdir=/storage/gluster/vol1/SHARED/HOMEFOLDERS/adefalco/ABT414_Flank//$SAMPLE/tmpdir eff -noStats -t -noLog -dataDir /storage/gluster/vol1/bcbio/genomes/Hsapiens/hg19/snpeff -hgvs -noLof -i vcf -o vcf -noInteraction -noMotif -noNextProt -strict GRCh37.75 C0288T-filtDNAscope.vcf.gz | /glusterfs/biostorage1/brick1/data/PUBLIC/Tools/lib/bin/bgzip --threads 80 -c > C0288T-filtDNAscope.snpEff.vcf.gz\n",
      "\n"
     ]
    },
    {
     "data": {
      "text/markdown": [
       "### Tumor: C0334"
      ],
      "text/plain": [
       "<IPython.core.display.Markdown object>"
      ]
     },
     "metadata": {},
     "output_type": "display_data"
    },
    {
     "name": "stdout",
     "output_type": "stream",
     "text": [
      "/storage/gluster/vol1/bcbio/anaconda/bin/snpEff -Xms1000m -Xmx36400m -Djava.io.tmpdir=/storage/gluster/vol1/SHARED/HOMEFOLDERS/adefalco/ABT414_Flank//$SAMPLE/tmpdir eff -noStats -t -noLog -dataDir /storage/gluster/vol1/bcbio/genomes/Hsapiens/hg19/snpeff -hgvs -noLof -i vcf -o vcf -noInteraction -noMotif -noNextProt -strict GRCh37.75 C0334T-filtDNAscope.vcf.gz | /glusterfs/biostorage1/brick1/data/PUBLIC/Tools/lib/bin/bgzip --threads 80 -c > C0334T-filtDNAscope.snpEff.vcf.gz\n",
      "\n"
     ]
    },
    {
     "data": {
      "text/markdown": [
       "### Tumor: C1572"
      ],
      "text/plain": [
       "<IPython.core.display.Markdown object>"
      ]
     },
     "metadata": {},
     "output_type": "display_data"
    },
    {
     "name": "stdout",
     "output_type": "stream",
     "text": [
      "/storage/gluster/vol1/bcbio/anaconda/bin/snpEff -Xms1000m -Xmx36400m -Djava.io.tmpdir=/storage/gluster/vol1/SHARED/HOMEFOLDERS/adefalco/ABT414_Flank//$SAMPLE/tmpdir eff -noStats -t -noLog -dataDir /storage/gluster/vol1/bcbio/genomes/Hsapiens/hg19/snpeff -hgvs -noLof -i vcf -o vcf -noInteraction -noMotif -noNextProt -strict GRCh37.75 C1572T-filtDNAscope.vcf.gz | /glusterfs/biostorage1/brick1/data/PUBLIC/Tools/lib/bin/bgzip --threads 80 -c > C1572T-filtDNAscope.snpEff.vcf.gz\n",
      "\n"
     ]
    },
    {
     "data": {
      "text/markdown": [
       "### Tumor: C8448"
      ],
      "text/plain": [
       "<IPython.core.display.Markdown object>"
      ]
     },
     "metadata": {},
     "output_type": "display_data"
    },
    {
     "name": "stdout",
     "output_type": "stream",
     "text": [
      "/storage/gluster/vol1/bcbio/anaconda/bin/snpEff -Xms1000m -Xmx36400m -Djava.io.tmpdir=/storage/gluster/vol1/SHARED/HOMEFOLDERS/adefalco/ABT414_Flank//$SAMPLE/tmpdir eff -noStats -t -noLog -dataDir /storage/gluster/vol1/bcbio/genomes/Hsapiens/hg19/snpeff -hgvs -noLof -i vcf -o vcf -noInteraction -noMotif -noNextProt -strict GRCh37.75 C8448T-filtDNAscope.vcf.gz | /glusterfs/biostorage1/brick1/data/PUBLIC/Tools/lib/bin/bgzip --threads 80 -c > C8448T-filtDNAscope.snpEff.vcf.gz\n",
      "\n"
     ]
    }
   ],
   "source": [
    "display(Markdown(\"___\"))\n",
    "for i in range(batchSize):\n",
    "    TUMOR = batch[i][1]\n",
    "    display(Markdown(\"### Tumor: \"+TUMOR))\n",
    "    command2 = \"/storage/gluster/vol1/bcbio/anaconda/bin/snpEff -Xms1000m -Xmx36400m -Djava.io.tmpdir=\"+data['SENTIEON_TMPDIR']+\" eff -noStats -t -noLog -dataDir /storage/gluster/vol1/bcbio/genomes/Hsapiens/hg19/snpeff -hgvs -noLof -i vcf -o vcf -noInteraction -noMotif -noNextProt -strict GRCh37.75 \"+TUMOR+\"T-filtDNAscope.vcf.gz | \"+data['bgzipdir']+\" --threads \"+str(data['nt'])+\" -c > \"+TUMOR+\"T-filtDNAscope.snpEff.vcf.gz\"\n",
    "    print(command2+'\\n')\n",
    "    if exec_scripts:\n",
    "        subprocess.check_output(command2,shell=True)"
   ]
  },
  {
   "cell_type": "markdown",
   "metadata": {},
   "source": [
    "# 7b. Somatic Variant Calling TNseq"
   ]
  },
  {
   "cell_type": "code",
   "execution_count": 57,
   "metadata": {},
   "outputs": [
    {
     "data": {
      "text/markdown": [
       "### Tumor: A1783 Normal: ABT414_Flank"
      ],
      "text/plain": [
       "<IPython.core.display.Markdown object>"
      ]
     },
     "metadata": {},
     "output_type": "display_data"
    },
    {
     "name": "stdout",
     "output_type": "stream",
     "text": [
      "/storage/gluster/vol1/SHARED/NGSTOOLS/SENTIEON/sentieon-genomics-201911/bin/sentieon driver -r /storage/gluster/vol1/bcbio/genomes/Hsapiens/hg19/bwa/hg19.fa -t 80 -i A1783T_recal.bam -i ABT414_FlankN_recal.bam --algo TNsnv --tumor_sample A1783T --normal_sample ABT414_FlankN --pon /storage/gluster/vol1/data/PUBLIC/NGS_ReferenceDatabase/firecloud_PoNs/reference_PoNs_refseq_exome_10bp_hg19_300_1kg_normal_panel_CHR.vcf.gz --cosmic /storage/gluster/vol1/bcbio/genomes/Hsapiens/hg19/variation/cosmic.vcf.gz --dbsnp /storage/gluster/vol1/bcbio/genomes/Hsapiens/hg19/variation/dbsnp-150.vcf.gz --call_stats_out A1783-call.stats A1783-TNsnv.vcf.gz\n",
      "\n"
     ]
    },
    {
     "data": {
      "text/markdown": [
       "### Tumor: A9155 Normal: ABT414_Flank"
      ],
      "text/plain": [
       "<IPython.core.display.Markdown object>"
      ]
     },
     "metadata": {},
     "output_type": "display_data"
    },
    {
     "name": "stdout",
     "output_type": "stream",
     "text": [
      "/storage/gluster/vol1/SHARED/NGSTOOLS/SENTIEON/sentieon-genomics-201911/bin/sentieon driver -r /storage/gluster/vol1/bcbio/genomes/Hsapiens/hg19/bwa/hg19.fa -t 80 -i A9155T_recal.bam -i ABT414_FlankN_recal.bam --algo TNsnv --tumor_sample A9155T --normal_sample ABT414_FlankN --pon /storage/gluster/vol1/data/PUBLIC/NGS_ReferenceDatabase/firecloud_PoNs/reference_PoNs_refseq_exome_10bp_hg19_300_1kg_normal_panel_CHR.vcf.gz --cosmic /storage/gluster/vol1/bcbio/genomes/Hsapiens/hg19/variation/cosmic.vcf.gz --dbsnp /storage/gluster/vol1/bcbio/genomes/Hsapiens/hg19/variation/dbsnp-150.vcf.gz --call_stats_out A9155-call.stats A9155-TNsnv.vcf.gz\n",
      "\n"
     ]
    },
    {
     "data": {
      "text/markdown": [
       "### Tumor: A9878 Normal: ABT414_Flank"
      ],
      "text/plain": [
       "<IPython.core.display.Markdown object>"
      ]
     },
     "metadata": {},
     "output_type": "display_data"
    },
    {
     "name": "stdout",
     "output_type": "stream",
     "text": [
      "/storage/gluster/vol1/SHARED/NGSTOOLS/SENTIEON/sentieon-genomics-201911/bin/sentieon driver -r /storage/gluster/vol1/bcbio/genomes/Hsapiens/hg19/bwa/hg19.fa -t 80 -i A9878T_recal.bam -i ABT414_FlankN_recal.bam --algo TNsnv --tumor_sample A9878T --normal_sample ABT414_FlankN --pon /storage/gluster/vol1/data/PUBLIC/NGS_ReferenceDatabase/firecloud_PoNs/reference_PoNs_refseq_exome_10bp_hg19_300_1kg_normal_panel_CHR.vcf.gz --cosmic /storage/gluster/vol1/bcbio/genomes/Hsapiens/hg19/variation/cosmic.vcf.gz --dbsnp /storage/gluster/vol1/bcbio/genomes/Hsapiens/hg19/variation/dbsnp-150.vcf.gz --call_stats_out A9878-call.stats A9878-TNsnv.vcf.gz\n",
      "\n"
     ]
    },
    {
     "data": {
      "text/markdown": [
       "### Tumor: AT2550 Normal: ABT414_Flank"
      ],
      "text/plain": [
       "<IPython.core.display.Markdown object>"
      ]
     },
     "metadata": {},
     "output_type": "display_data"
    },
    {
     "name": "stdout",
     "output_type": "stream",
     "text": [
      "/storage/gluster/vol1/SHARED/NGSTOOLS/SENTIEON/sentieon-genomics-201911/bin/sentieon driver -r /storage/gluster/vol1/bcbio/genomes/Hsapiens/hg19/bwa/hg19.fa -t 80 -i AT2550T_recal.bam -i ABT414_FlankN_recal.bam --algo TNsnv --tumor_sample AT2550T --normal_sample ABT414_FlankN --pon /storage/gluster/vol1/data/PUBLIC/NGS_ReferenceDatabase/firecloud_PoNs/reference_PoNs_refseq_exome_10bp_hg19_300_1kg_normal_panel_CHR.vcf.gz --cosmic /storage/gluster/vol1/bcbio/genomes/Hsapiens/hg19/variation/cosmic.vcf.gz --dbsnp /storage/gluster/vol1/bcbio/genomes/Hsapiens/hg19/variation/dbsnp-150.vcf.gz --call_stats_out AT2550-call.stats AT2550-TNsnv.vcf.gz\n",
      "\n"
     ]
    },
    {
     "data": {
      "text/markdown": [
       "### Tumor: AT2822 Normal: ABT414_Flank"
      ],
      "text/plain": [
       "<IPython.core.display.Markdown object>"
      ]
     },
     "metadata": {},
     "output_type": "display_data"
    },
    {
     "name": "stdout",
     "output_type": "stream",
     "text": [
      "/storage/gluster/vol1/SHARED/NGSTOOLS/SENTIEON/sentieon-genomics-201911/bin/sentieon driver -r /storage/gluster/vol1/bcbio/genomes/Hsapiens/hg19/bwa/hg19.fa -t 80 -i AT2822T_recal.bam -i ABT414_FlankN_recal.bam --algo TNsnv --tumor_sample AT2822T --normal_sample ABT414_FlankN --pon /storage/gluster/vol1/data/PUBLIC/NGS_ReferenceDatabase/firecloud_PoNs/reference_PoNs_refseq_exome_10bp_hg19_300_1kg_normal_panel_CHR.vcf.gz --cosmic /storage/gluster/vol1/bcbio/genomes/Hsapiens/hg19/variation/cosmic.vcf.gz --dbsnp /storage/gluster/vol1/bcbio/genomes/Hsapiens/hg19/variation/dbsnp-150.vcf.gz --call_stats_out AT2822-call.stats AT2822-TNsnv.vcf.gz\n",
      "\n"
     ]
    },
    {
     "data": {
      "text/markdown": [
       "### Tumor: AT4415 Normal: ABT414_Flank"
      ],
      "text/plain": [
       "<IPython.core.display.Markdown object>"
      ]
     },
     "metadata": {},
     "output_type": "display_data"
    },
    {
     "name": "stdout",
     "output_type": "stream",
     "text": [
      "/storage/gluster/vol1/SHARED/NGSTOOLS/SENTIEON/sentieon-genomics-201911/bin/sentieon driver -r /storage/gluster/vol1/bcbio/genomes/Hsapiens/hg19/bwa/hg19.fa -t 80 -i AT4415T_recal.bam -i ABT414_FlankN_recal.bam --algo TNsnv --tumor_sample AT4415T --normal_sample ABT414_FlankN --pon /storage/gluster/vol1/data/PUBLIC/NGS_ReferenceDatabase/firecloud_PoNs/reference_PoNs_refseq_exome_10bp_hg19_300_1kg_normal_panel_CHR.vcf.gz --cosmic /storage/gluster/vol1/bcbio/genomes/Hsapiens/hg19/variation/cosmic.vcf.gz --dbsnp /storage/gluster/vol1/bcbio/genomes/Hsapiens/hg19/variation/dbsnp-150.vcf.gz --call_stats_out AT4415-call.stats AT4415-TNsnv.vcf.gz\n",
      "\n"
     ]
    },
    {
     "data": {
      "text/markdown": [
       "### Tumor: AT4808 Normal: ABT414_Flank"
      ],
      "text/plain": [
       "<IPython.core.display.Markdown object>"
      ]
     },
     "metadata": {},
     "output_type": "display_data"
    },
    {
     "name": "stdout",
     "output_type": "stream",
     "text": [
      "/storage/gluster/vol1/SHARED/NGSTOOLS/SENTIEON/sentieon-genomics-201911/bin/sentieon driver -r /storage/gluster/vol1/bcbio/genomes/Hsapiens/hg19/bwa/hg19.fa -t 80 -i AT4808T_recal.bam -i ABT414_FlankN_recal.bam --algo TNsnv --tumor_sample AT4808T --normal_sample ABT414_FlankN --pon /storage/gluster/vol1/data/PUBLIC/NGS_ReferenceDatabase/firecloud_PoNs/reference_PoNs_refseq_exome_10bp_hg19_300_1kg_normal_panel_CHR.vcf.gz --cosmic /storage/gluster/vol1/bcbio/genomes/Hsapiens/hg19/variation/cosmic.vcf.gz --dbsnp /storage/gluster/vol1/bcbio/genomes/Hsapiens/hg19/variation/dbsnp-150.vcf.gz --call_stats_out AT4808-call.stats AT4808-TNsnv.vcf.gz\n",
      "\n"
     ]
    },
    {
     "data": {
      "text/markdown": [
       "### Tumor: C0288 Normal: ABT414_Flank"
      ],
      "text/plain": [
       "<IPython.core.display.Markdown object>"
      ]
     },
     "metadata": {},
     "output_type": "display_data"
    },
    {
     "name": "stdout",
     "output_type": "stream",
     "text": [
      "/storage/gluster/vol1/SHARED/NGSTOOLS/SENTIEON/sentieon-genomics-201911/bin/sentieon driver -r /storage/gluster/vol1/bcbio/genomes/Hsapiens/hg19/bwa/hg19.fa -t 80 -i C0288T_recal.bam -i ABT414_FlankN_recal.bam --algo TNsnv --tumor_sample C0288T --normal_sample ABT414_FlankN --pon /storage/gluster/vol1/data/PUBLIC/NGS_ReferenceDatabase/firecloud_PoNs/reference_PoNs_refseq_exome_10bp_hg19_300_1kg_normal_panel_CHR.vcf.gz --cosmic /storage/gluster/vol1/bcbio/genomes/Hsapiens/hg19/variation/cosmic.vcf.gz --dbsnp /storage/gluster/vol1/bcbio/genomes/Hsapiens/hg19/variation/dbsnp-150.vcf.gz --call_stats_out C0288-call.stats C0288-TNsnv.vcf.gz\n",
      "\n"
     ]
    },
    {
     "data": {
      "text/markdown": [
       "### Tumor: C0334 Normal: ABT414_Flank"
      ],
      "text/plain": [
       "<IPython.core.display.Markdown object>"
      ]
     },
     "metadata": {},
     "output_type": "display_data"
    },
    {
     "name": "stdout",
     "output_type": "stream",
     "text": [
      "/storage/gluster/vol1/SHARED/NGSTOOLS/SENTIEON/sentieon-genomics-201911/bin/sentieon driver -r /storage/gluster/vol1/bcbio/genomes/Hsapiens/hg19/bwa/hg19.fa -t 80 -i C0334T_recal.bam -i ABT414_FlankN_recal.bam --algo TNsnv --tumor_sample C0334T --normal_sample ABT414_FlankN --pon /storage/gluster/vol1/data/PUBLIC/NGS_ReferenceDatabase/firecloud_PoNs/reference_PoNs_refseq_exome_10bp_hg19_300_1kg_normal_panel_CHR.vcf.gz --cosmic /storage/gluster/vol1/bcbio/genomes/Hsapiens/hg19/variation/cosmic.vcf.gz --dbsnp /storage/gluster/vol1/bcbio/genomes/Hsapiens/hg19/variation/dbsnp-150.vcf.gz --call_stats_out C0334-call.stats C0334-TNsnv.vcf.gz\n",
      "\n"
     ]
    },
    {
     "data": {
      "text/markdown": [
       "### Tumor: C1572 Normal: ABT414_Flank"
      ],
      "text/plain": [
       "<IPython.core.display.Markdown object>"
      ]
     },
     "metadata": {},
     "output_type": "display_data"
    },
    {
     "name": "stdout",
     "output_type": "stream",
     "text": [
      "/storage/gluster/vol1/SHARED/NGSTOOLS/SENTIEON/sentieon-genomics-201911/bin/sentieon driver -r /storage/gluster/vol1/bcbio/genomes/Hsapiens/hg19/bwa/hg19.fa -t 80 -i C1572T_recal.bam -i ABT414_FlankN_recal.bam --algo TNsnv --tumor_sample C1572T --normal_sample ABT414_FlankN --pon /storage/gluster/vol1/data/PUBLIC/NGS_ReferenceDatabase/firecloud_PoNs/reference_PoNs_refseq_exome_10bp_hg19_300_1kg_normal_panel_CHR.vcf.gz --cosmic /storage/gluster/vol1/bcbio/genomes/Hsapiens/hg19/variation/cosmic.vcf.gz --dbsnp /storage/gluster/vol1/bcbio/genomes/Hsapiens/hg19/variation/dbsnp-150.vcf.gz --call_stats_out C1572-call.stats C1572-TNsnv.vcf.gz\n",
      "\n"
     ]
    },
    {
     "data": {
      "text/markdown": [
       "### Tumor: C8448 Normal: ABT414_Flank"
      ],
      "text/plain": [
       "<IPython.core.display.Markdown object>"
      ]
     },
     "metadata": {},
     "output_type": "display_data"
    },
    {
     "name": "stdout",
     "output_type": "stream",
     "text": [
      "/storage/gluster/vol1/SHARED/NGSTOOLS/SENTIEON/sentieon-genomics-201911/bin/sentieon driver -r /storage/gluster/vol1/bcbio/genomes/Hsapiens/hg19/bwa/hg19.fa -t 80 -i C8448T_recal.bam -i ABT414_FlankN_recal.bam --algo TNsnv --tumor_sample C8448T --normal_sample ABT414_FlankN --pon /storage/gluster/vol1/data/PUBLIC/NGS_ReferenceDatabase/firecloud_PoNs/reference_PoNs_refseq_exome_10bp_hg19_300_1kg_normal_panel_CHR.vcf.gz --cosmic /storage/gluster/vol1/bcbio/genomes/Hsapiens/hg19/variation/cosmic.vcf.gz --dbsnp /storage/gluster/vol1/bcbio/genomes/Hsapiens/hg19/variation/dbsnp-150.vcf.gz --call_stats_out C8448-call.stats C8448-TNsnv.vcf.gz\n",
      "\n"
     ]
    }
   ],
   "source": [
    "for i in range(batchSize):\n",
    "    SAMPLE = batch[i][0]\n",
    "    TUMOR = batch[i][1]\n",
    "    display(Markdown(\"### Tumor: \"+TUMOR + \" Normal: \" + SAMPLE))\n",
    "    command1 = data['SENTIEON_INSTALL_DIR']+\"/bin/sentieon driver -r \"+data['fasta']+\" -t \"+str(data['nt'])+\" -i \"+TUMOR+\"T_recal.bam -i \"+SAMPLE+\"N_recal.bam --algo TNsnv --tumor_sample \"+TUMOR+\"T --normal_sample \"+SAMPLE+\"N --pon \"+data['panel_of_normal_TNsnv'] +\" --cosmic \"+data['cosmic_db']+\" --dbsnp \"+data['dbsnp']+\" --call_stats_out \"+TUMOR+\"-call.stats \"+TUMOR+\"-TNsnv.vcf.gz\"\n",
    "    print(command1+'\\n')\n",
    "    if exec_scripts:\n",
    "        subprocess.check_output(command1,shell=True)"
   ]
  },
  {
   "cell_type": "code",
   "execution_count": 112,
   "metadata": {},
   "outputs": [
    {
     "data": {
      "text/markdown": [
       "___"
      ],
      "text/plain": [
       "<IPython.core.display.Markdown object>"
      ]
     },
     "metadata": {},
     "output_type": "display_data"
    },
    {
     "data": {
      "text/markdown": [
       "### Tumor: A1783 Normal: ABT414_Flank"
      ],
      "text/plain": [
       "<IPython.core.display.Markdown object>"
      ]
     },
     "metadata": {},
     "output_type": "display_data"
    },
    {
     "name": "stdout",
     "output_type": "stream",
     "text": [
      "/storage/gluster/vol1/SHARED/NGSTOOLS/SENTIEON/sentieon-genomics-201911/bin/sentieon driver -r /storage/gluster/vol1/bcbio/genomes/Hsapiens/hg19/bwa/hg19.fa -t 80 -i A1783T_recal.bam -i ABT414_FlankN_recal.bam --algo TNhaplotyper --tumor_sample A1783T --normal_sample ABT414_FlankN --pon /storage/gluster/vol1/data/PUBLIC/NGS_ReferenceDatabase/firecloud_PoNs/reference_PoNs_refseq_exome_10bp_hg19_300_1kg_normal_panel_CHR.vcf.gz --cosmic /storage/gluster/vol1/bcbio/genomes/Hsapiens/hg19/variation/cosmic.vcf.gz --dbsnp /storage/gluster/vol1/bcbio/genomes/Hsapiens/hg19/variation/dbsnp-150.vcf.gz A1783-TNhaplotyper.vcf.gz\n",
      "\n"
     ]
    },
    {
     "data": {
      "text/markdown": [
       "### Tumor: A9155 Normal: ABT414_Flank"
      ],
      "text/plain": [
       "<IPython.core.display.Markdown object>"
      ]
     },
     "metadata": {},
     "output_type": "display_data"
    },
    {
     "name": "stdout",
     "output_type": "stream",
     "text": [
      "/storage/gluster/vol1/SHARED/NGSTOOLS/SENTIEON/sentieon-genomics-201911/bin/sentieon driver -r /storage/gluster/vol1/bcbio/genomes/Hsapiens/hg19/bwa/hg19.fa -t 80 -i A9155T_recal.bam -i ABT414_FlankN_recal.bam --algo TNhaplotyper --tumor_sample A9155T --normal_sample ABT414_FlankN --pon /storage/gluster/vol1/data/PUBLIC/NGS_ReferenceDatabase/firecloud_PoNs/reference_PoNs_refseq_exome_10bp_hg19_300_1kg_normal_panel_CHR.vcf.gz --cosmic /storage/gluster/vol1/bcbio/genomes/Hsapiens/hg19/variation/cosmic.vcf.gz --dbsnp /storage/gluster/vol1/bcbio/genomes/Hsapiens/hg19/variation/dbsnp-150.vcf.gz A9155-TNhaplotyper.vcf.gz\n",
      "\n"
     ]
    },
    {
     "data": {
      "text/markdown": [
       "### Tumor: A9878 Normal: ABT414_Flank"
      ],
      "text/plain": [
       "<IPython.core.display.Markdown object>"
      ]
     },
     "metadata": {},
     "output_type": "display_data"
    },
    {
     "name": "stdout",
     "output_type": "stream",
     "text": [
      "/storage/gluster/vol1/SHARED/NGSTOOLS/SENTIEON/sentieon-genomics-201911/bin/sentieon driver -r /storage/gluster/vol1/bcbio/genomes/Hsapiens/hg19/bwa/hg19.fa -t 80 -i A9878T_recal.bam -i ABT414_FlankN_recal.bam --algo TNhaplotyper --tumor_sample A9878T --normal_sample ABT414_FlankN --pon /storage/gluster/vol1/data/PUBLIC/NGS_ReferenceDatabase/firecloud_PoNs/reference_PoNs_refseq_exome_10bp_hg19_300_1kg_normal_panel_CHR.vcf.gz --cosmic /storage/gluster/vol1/bcbio/genomes/Hsapiens/hg19/variation/cosmic.vcf.gz --dbsnp /storage/gluster/vol1/bcbio/genomes/Hsapiens/hg19/variation/dbsnp-150.vcf.gz A9878-TNhaplotyper.vcf.gz\n",
      "\n"
     ]
    },
    {
     "data": {
      "text/markdown": [
       "### Tumor: AT2550 Normal: ABT414_Flank"
      ],
      "text/plain": [
       "<IPython.core.display.Markdown object>"
      ]
     },
     "metadata": {},
     "output_type": "display_data"
    },
    {
     "name": "stdout",
     "output_type": "stream",
     "text": [
      "/storage/gluster/vol1/SHARED/NGSTOOLS/SENTIEON/sentieon-genomics-201911/bin/sentieon driver -r /storage/gluster/vol1/bcbio/genomes/Hsapiens/hg19/bwa/hg19.fa -t 80 -i AT2550T_recal.bam -i ABT414_FlankN_recal.bam --algo TNhaplotyper --tumor_sample AT2550T --normal_sample ABT414_FlankN --pon /storage/gluster/vol1/data/PUBLIC/NGS_ReferenceDatabase/firecloud_PoNs/reference_PoNs_refseq_exome_10bp_hg19_300_1kg_normal_panel_CHR.vcf.gz --cosmic /storage/gluster/vol1/bcbio/genomes/Hsapiens/hg19/variation/cosmic.vcf.gz --dbsnp /storage/gluster/vol1/bcbio/genomes/Hsapiens/hg19/variation/dbsnp-150.vcf.gz AT2550-TNhaplotyper.vcf.gz\n",
      "\n"
     ]
    },
    {
     "data": {
      "text/markdown": [
       "### Tumor: AT2822 Normal: ABT414_Flank"
      ],
      "text/plain": [
       "<IPython.core.display.Markdown object>"
      ]
     },
     "metadata": {},
     "output_type": "display_data"
    },
    {
     "name": "stdout",
     "output_type": "stream",
     "text": [
      "/storage/gluster/vol1/SHARED/NGSTOOLS/SENTIEON/sentieon-genomics-201911/bin/sentieon driver -r /storage/gluster/vol1/bcbio/genomes/Hsapiens/hg19/bwa/hg19.fa -t 80 -i AT2822T_recal.bam -i ABT414_FlankN_recal.bam --algo TNhaplotyper --tumor_sample AT2822T --normal_sample ABT414_FlankN --pon /storage/gluster/vol1/data/PUBLIC/NGS_ReferenceDatabase/firecloud_PoNs/reference_PoNs_refseq_exome_10bp_hg19_300_1kg_normal_panel_CHR.vcf.gz --cosmic /storage/gluster/vol1/bcbio/genomes/Hsapiens/hg19/variation/cosmic.vcf.gz --dbsnp /storage/gluster/vol1/bcbio/genomes/Hsapiens/hg19/variation/dbsnp-150.vcf.gz AT2822-TNhaplotyper.vcf.gz\n",
      "\n"
     ]
    },
    {
     "data": {
      "text/markdown": [
       "### Tumor: AT4415 Normal: ABT414_Flank"
      ],
      "text/plain": [
       "<IPython.core.display.Markdown object>"
      ]
     },
     "metadata": {},
     "output_type": "display_data"
    },
    {
     "name": "stdout",
     "output_type": "stream",
     "text": [
      "/storage/gluster/vol1/SHARED/NGSTOOLS/SENTIEON/sentieon-genomics-201911/bin/sentieon driver -r /storage/gluster/vol1/bcbio/genomes/Hsapiens/hg19/bwa/hg19.fa -t 80 -i AT4415T_recal.bam -i ABT414_FlankN_recal.bam --algo TNhaplotyper --tumor_sample AT4415T --normal_sample ABT414_FlankN --pon /storage/gluster/vol1/data/PUBLIC/NGS_ReferenceDatabase/firecloud_PoNs/reference_PoNs_refseq_exome_10bp_hg19_300_1kg_normal_panel_CHR.vcf.gz --cosmic /storage/gluster/vol1/bcbio/genomes/Hsapiens/hg19/variation/cosmic.vcf.gz --dbsnp /storage/gluster/vol1/bcbio/genomes/Hsapiens/hg19/variation/dbsnp-150.vcf.gz AT4415-TNhaplotyper.vcf.gz\n",
      "\n"
     ]
    },
    {
     "data": {
      "text/markdown": [
       "### Tumor: AT4808 Normal: ABT414_Flank"
      ],
      "text/plain": [
       "<IPython.core.display.Markdown object>"
      ]
     },
     "metadata": {},
     "output_type": "display_data"
    },
    {
     "name": "stdout",
     "output_type": "stream",
     "text": [
      "/storage/gluster/vol1/SHARED/NGSTOOLS/SENTIEON/sentieon-genomics-201911/bin/sentieon driver -r /storage/gluster/vol1/bcbio/genomes/Hsapiens/hg19/bwa/hg19.fa -t 80 -i AT4808T_recal.bam -i ABT414_FlankN_recal.bam --algo TNhaplotyper --tumor_sample AT4808T --normal_sample ABT414_FlankN --pon /storage/gluster/vol1/data/PUBLIC/NGS_ReferenceDatabase/firecloud_PoNs/reference_PoNs_refseq_exome_10bp_hg19_300_1kg_normal_panel_CHR.vcf.gz --cosmic /storage/gluster/vol1/bcbio/genomes/Hsapiens/hg19/variation/cosmic.vcf.gz --dbsnp /storage/gluster/vol1/bcbio/genomes/Hsapiens/hg19/variation/dbsnp-150.vcf.gz AT4808-TNhaplotyper.vcf.gz\n",
      "\n"
     ]
    },
    {
     "data": {
      "text/markdown": [
       "### Tumor: C0288 Normal: ABT414_Flank"
      ],
      "text/plain": [
       "<IPython.core.display.Markdown object>"
      ]
     },
     "metadata": {},
     "output_type": "display_data"
    },
    {
     "name": "stdout",
     "output_type": "stream",
     "text": [
      "/storage/gluster/vol1/SHARED/NGSTOOLS/SENTIEON/sentieon-genomics-201911/bin/sentieon driver -r /storage/gluster/vol1/bcbio/genomes/Hsapiens/hg19/bwa/hg19.fa -t 80 -i C0288T_recal.bam -i ABT414_FlankN_recal.bam --algo TNhaplotyper --tumor_sample C0288T --normal_sample ABT414_FlankN --pon /storage/gluster/vol1/data/PUBLIC/NGS_ReferenceDatabase/firecloud_PoNs/reference_PoNs_refseq_exome_10bp_hg19_300_1kg_normal_panel_CHR.vcf.gz --cosmic /storage/gluster/vol1/bcbio/genomes/Hsapiens/hg19/variation/cosmic.vcf.gz --dbsnp /storage/gluster/vol1/bcbio/genomes/Hsapiens/hg19/variation/dbsnp-150.vcf.gz C0288-TNhaplotyper.vcf.gz\n",
      "\n"
     ]
    },
    {
     "data": {
      "text/markdown": [
       "### Tumor: C0334 Normal: ABT414_Flank"
      ],
      "text/plain": [
       "<IPython.core.display.Markdown object>"
      ]
     },
     "metadata": {},
     "output_type": "display_data"
    },
    {
     "name": "stdout",
     "output_type": "stream",
     "text": [
      "/storage/gluster/vol1/SHARED/NGSTOOLS/SENTIEON/sentieon-genomics-201911/bin/sentieon driver -r /storage/gluster/vol1/bcbio/genomes/Hsapiens/hg19/bwa/hg19.fa -t 80 -i C0334T_recal.bam -i ABT414_FlankN_recal.bam --algo TNhaplotyper --tumor_sample C0334T --normal_sample ABT414_FlankN --pon /storage/gluster/vol1/data/PUBLIC/NGS_ReferenceDatabase/firecloud_PoNs/reference_PoNs_refseq_exome_10bp_hg19_300_1kg_normal_panel_CHR.vcf.gz --cosmic /storage/gluster/vol1/bcbio/genomes/Hsapiens/hg19/variation/cosmic.vcf.gz --dbsnp /storage/gluster/vol1/bcbio/genomes/Hsapiens/hg19/variation/dbsnp-150.vcf.gz C0334-TNhaplotyper.vcf.gz\n",
      "\n"
     ]
    },
    {
     "data": {
      "text/markdown": [
       "### Tumor: C1572 Normal: ABT414_Flank"
      ],
      "text/plain": [
       "<IPython.core.display.Markdown object>"
      ]
     },
     "metadata": {},
     "output_type": "display_data"
    },
    {
     "name": "stdout",
     "output_type": "stream",
     "text": [
      "/storage/gluster/vol1/SHARED/NGSTOOLS/SENTIEON/sentieon-genomics-201911/bin/sentieon driver -r /storage/gluster/vol1/bcbio/genomes/Hsapiens/hg19/bwa/hg19.fa -t 80 -i C1572T_recal.bam -i ABT414_FlankN_recal.bam --algo TNhaplotyper --tumor_sample C1572T --normal_sample ABT414_FlankN --pon /storage/gluster/vol1/data/PUBLIC/NGS_ReferenceDatabase/firecloud_PoNs/reference_PoNs_refseq_exome_10bp_hg19_300_1kg_normal_panel_CHR.vcf.gz --cosmic /storage/gluster/vol1/bcbio/genomes/Hsapiens/hg19/variation/cosmic.vcf.gz --dbsnp /storage/gluster/vol1/bcbio/genomes/Hsapiens/hg19/variation/dbsnp-150.vcf.gz C1572-TNhaplotyper.vcf.gz\n",
      "\n"
     ]
    },
    {
     "data": {
      "text/markdown": [
       "### Tumor: C8448 Normal: ABT414_Flank"
      ],
      "text/plain": [
       "<IPython.core.display.Markdown object>"
      ]
     },
     "metadata": {},
     "output_type": "display_data"
    },
    {
     "name": "stdout",
     "output_type": "stream",
     "text": [
      "/storage/gluster/vol1/SHARED/NGSTOOLS/SENTIEON/sentieon-genomics-201911/bin/sentieon driver -r /storage/gluster/vol1/bcbio/genomes/Hsapiens/hg19/bwa/hg19.fa -t 80 -i C8448T_recal.bam -i ABT414_FlankN_recal.bam --algo TNhaplotyper --tumor_sample C8448T --normal_sample ABT414_FlankN --pon /storage/gluster/vol1/data/PUBLIC/NGS_ReferenceDatabase/firecloud_PoNs/reference_PoNs_refseq_exome_10bp_hg19_300_1kg_normal_panel_CHR.vcf.gz --cosmic /storage/gluster/vol1/bcbio/genomes/Hsapiens/hg19/variation/cosmic.vcf.gz --dbsnp /storage/gluster/vol1/bcbio/genomes/Hsapiens/hg19/variation/dbsnp-150.vcf.gz C8448-TNhaplotyper.vcf.gz\n",
      "\n"
     ]
    }
   ],
   "source": [
    "display(Markdown(\"___\"))\n",
    "for i in range(batchSize):\n",
    "    SAMPLE = batch[i][0]\n",
    "    TUMOR = batch[i][1]\n",
    "    display(Markdown(\"### Tumor: \"+TUMOR + \" Normal: \" + SAMPLE))\n",
    "    command2 = data['SENTIEON_INSTALL_DIR']+\"/bin/sentieon driver -r \"+data['fasta']+\" -t \"+str(data['nt'])+\" -i \"+TUMOR+\"T_recal.bam -i \"+SAMPLE+\"N_recal.bam --algo TNhaplotyper --tumor_sample \"+TUMOR+\"T --normal_sample \"+SAMPLE+\"N --pon \"+data['panel_of_normal_TNhaplotyper']+\" --cosmic \"+data['cosmic_db']+\" --dbsnp \"+data['dbsnp']+\" \"+TUMOR+\"-TNhaplotyper.vcf.gz\"\n",
    "    print(command2+'\\n')\n",
    "    if exec_scripts:\n",
    "        subprocess.check_output(command2,shell=True)"
   ]
  },
  {
   "cell_type": "markdown",
   "metadata": {},
   "source": [
    "# 8b. Somatic Variant calling TNscope"
   ]
  },
  {
   "cell_type": "code",
   "execution_count": 50,
   "metadata": {},
   "outputs": [
    {
     "data": {
      "text/markdown": [
       "### Tumor: A1783 Normal: ABT414_Flank"
      ],
      "text/plain": [
       "<IPython.core.display.Markdown object>"
      ]
     },
     "metadata": {},
     "output_type": "display_data"
    },
    {
     "name": "stdout",
     "output_type": "stream",
     "text": [
      "/storage/gluster/vol1/SHARED/NGSTOOLS/SENTIEON/sentieon-genomics-201911/bin/sentieon driver -r /storage/gluster/vol1/bcbio/genomes/Hsapiens/hg19/bwa/hg19.fa -t 80 -i A1783T_recal.bam -i ABT414_FlankN_recal.bam --algo TNscope --tumor_sample A1783T --normal_sample ABT414_FlankN --dbsnp /storage/gluster/vol1/bcbio/genomes/Hsapiens/hg19/variation/dbsnp-150.vcf.gz --clip_by_minbq 1 --max_error_per_read 3 --min_init_tumor_lod 2.0 --min_base_qual 10 --min_base_qual_asm 10 --min_tumor_allele_frac 0.00005 A1783-tmpTNscope.vcf.gz\n",
      "\n"
     ]
    },
    {
     "data": {
      "text/markdown": [
       "### Tumor: A9155 Normal: ABT414_Flank"
      ],
      "text/plain": [
       "<IPython.core.display.Markdown object>"
      ]
     },
     "metadata": {},
     "output_type": "display_data"
    },
    {
     "name": "stdout",
     "output_type": "stream",
     "text": [
      "/storage/gluster/vol1/SHARED/NGSTOOLS/SENTIEON/sentieon-genomics-201911/bin/sentieon driver -r /storage/gluster/vol1/bcbio/genomes/Hsapiens/hg19/bwa/hg19.fa -t 80 -i A9155T_recal.bam -i ABT414_FlankN_recal.bam --algo TNscope --tumor_sample A9155T --normal_sample ABT414_FlankN --dbsnp /storage/gluster/vol1/bcbio/genomes/Hsapiens/hg19/variation/dbsnp-150.vcf.gz --clip_by_minbq 1 --max_error_per_read 3 --min_init_tumor_lod 2.0 --min_base_qual 10 --min_base_qual_asm 10 --min_tumor_allele_frac 0.00005 A9155-tmpTNscope.vcf.gz\n",
      "\n"
     ]
    },
    {
     "data": {
      "text/markdown": [
       "### Tumor: A9878 Normal: ABT414_Flank"
      ],
      "text/plain": [
       "<IPython.core.display.Markdown object>"
      ]
     },
     "metadata": {},
     "output_type": "display_data"
    },
    {
     "name": "stdout",
     "output_type": "stream",
     "text": [
      "/storage/gluster/vol1/SHARED/NGSTOOLS/SENTIEON/sentieon-genomics-201911/bin/sentieon driver -r /storage/gluster/vol1/bcbio/genomes/Hsapiens/hg19/bwa/hg19.fa -t 80 -i A9878T_recal.bam -i ABT414_FlankN_recal.bam --algo TNscope --tumor_sample A9878T --normal_sample ABT414_FlankN --dbsnp /storage/gluster/vol1/bcbio/genomes/Hsapiens/hg19/variation/dbsnp-150.vcf.gz --clip_by_minbq 1 --max_error_per_read 3 --min_init_tumor_lod 2.0 --min_base_qual 10 --min_base_qual_asm 10 --min_tumor_allele_frac 0.00005 A9878-tmpTNscope.vcf.gz\n",
      "\n"
     ]
    },
    {
     "data": {
      "text/markdown": [
       "### Tumor: AT2550 Normal: ABT414_Flank"
      ],
      "text/plain": [
       "<IPython.core.display.Markdown object>"
      ]
     },
     "metadata": {},
     "output_type": "display_data"
    },
    {
     "name": "stdout",
     "output_type": "stream",
     "text": [
      "/storage/gluster/vol1/SHARED/NGSTOOLS/SENTIEON/sentieon-genomics-201911/bin/sentieon driver -r /storage/gluster/vol1/bcbio/genomes/Hsapiens/hg19/bwa/hg19.fa -t 80 -i AT2550T_recal.bam -i ABT414_FlankN_recal.bam --algo TNscope --tumor_sample AT2550T --normal_sample ABT414_FlankN --dbsnp /storage/gluster/vol1/bcbio/genomes/Hsapiens/hg19/variation/dbsnp-150.vcf.gz --clip_by_minbq 1 --max_error_per_read 3 --min_init_tumor_lod 2.0 --min_base_qual 10 --min_base_qual_asm 10 --min_tumor_allele_frac 0.00005 AT2550-tmpTNscope.vcf.gz\n",
      "\n"
     ]
    },
    {
     "data": {
      "text/markdown": [
       "### Tumor: AT2822 Normal: ABT414_Flank"
      ],
      "text/plain": [
       "<IPython.core.display.Markdown object>"
      ]
     },
     "metadata": {},
     "output_type": "display_data"
    },
    {
     "name": "stdout",
     "output_type": "stream",
     "text": [
      "/storage/gluster/vol1/SHARED/NGSTOOLS/SENTIEON/sentieon-genomics-201911/bin/sentieon driver -r /storage/gluster/vol1/bcbio/genomes/Hsapiens/hg19/bwa/hg19.fa -t 80 -i AT2822T_recal.bam -i ABT414_FlankN_recal.bam --algo TNscope --tumor_sample AT2822T --normal_sample ABT414_FlankN --dbsnp /storage/gluster/vol1/bcbio/genomes/Hsapiens/hg19/variation/dbsnp-150.vcf.gz --clip_by_minbq 1 --max_error_per_read 3 --min_init_tumor_lod 2.0 --min_base_qual 10 --min_base_qual_asm 10 --min_tumor_allele_frac 0.00005 AT2822-tmpTNscope.vcf.gz\n",
      "\n"
     ]
    },
    {
     "data": {
      "text/markdown": [
       "### Tumor: AT4415 Normal: ABT414_Flank"
      ],
      "text/plain": [
       "<IPython.core.display.Markdown object>"
      ]
     },
     "metadata": {},
     "output_type": "display_data"
    },
    {
     "name": "stdout",
     "output_type": "stream",
     "text": [
      "/storage/gluster/vol1/SHARED/NGSTOOLS/SENTIEON/sentieon-genomics-201911/bin/sentieon driver -r /storage/gluster/vol1/bcbio/genomes/Hsapiens/hg19/bwa/hg19.fa -t 80 -i AT4415T_recal.bam -i ABT414_FlankN_recal.bam --algo TNscope --tumor_sample AT4415T --normal_sample ABT414_FlankN --dbsnp /storage/gluster/vol1/bcbio/genomes/Hsapiens/hg19/variation/dbsnp-150.vcf.gz --clip_by_minbq 1 --max_error_per_read 3 --min_init_tumor_lod 2.0 --min_base_qual 10 --min_base_qual_asm 10 --min_tumor_allele_frac 0.00005 AT4415-tmpTNscope.vcf.gz\n",
      "\n"
     ]
    },
    {
     "data": {
      "text/markdown": [
       "### Tumor: AT4808 Normal: ABT414_Flank"
      ],
      "text/plain": [
       "<IPython.core.display.Markdown object>"
      ]
     },
     "metadata": {},
     "output_type": "display_data"
    },
    {
     "name": "stdout",
     "output_type": "stream",
     "text": [
      "/storage/gluster/vol1/SHARED/NGSTOOLS/SENTIEON/sentieon-genomics-201911/bin/sentieon driver -r /storage/gluster/vol1/bcbio/genomes/Hsapiens/hg19/bwa/hg19.fa -t 80 -i AT4808T_recal.bam -i ABT414_FlankN_recal.bam --algo TNscope --tumor_sample AT4808T --normal_sample ABT414_FlankN --dbsnp /storage/gluster/vol1/bcbio/genomes/Hsapiens/hg19/variation/dbsnp-150.vcf.gz --clip_by_minbq 1 --max_error_per_read 3 --min_init_tumor_lod 2.0 --min_base_qual 10 --min_base_qual_asm 10 --min_tumor_allele_frac 0.00005 AT4808-tmpTNscope.vcf.gz\n",
      "\n"
     ]
    },
    {
     "data": {
      "text/markdown": [
       "### Tumor: C0288 Normal: ABT414_Flank"
      ],
      "text/plain": [
       "<IPython.core.display.Markdown object>"
      ]
     },
     "metadata": {},
     "output_type": "display_data"
    },
    {
     "name": "stdout",
     "output_type": "stream",
     "text": [
      "/storage/gluster/vol1/SHARED/NGSTOOLS/SENTIEON/sentieon-genomics-201911/bin/sentieon driver -r /storage/gluster/vol1/bcbio/genomes/Hsapiens/hg19/bwa/hg19.fa -t 80 -i C0288T_recal.bam -i ABT414_FlankN_recal.bam --algo TNscope --tumor_sample C0288T --normal_sample ABT414_FlankN --dbsnp /storage/gluster/vol1/bcbio/genomes/Hsapiens/hg19/variation/dbsnp-150.vcf.gz --clip_by_minbq 1 --max_error_per_read 3 --min_init_tumor_lod 2.0 --min_base_qual 10 --min_base_qual_asm 10 --min_tumor_allele_frac 0.00005 C0288-tmpTNscope.vcf.gz\n",
      "\n"
     ]
    },
    {
     "data": {
      "text/markdown": [
       "### Tumor: C0334 Normal: ABT414_Flank"
      ],
      "text/plain": [
       "<IPython.core.display.Markdown object>"
      ]
     },
     "metadata": {},
     "output_type": "display_data"
    },
    {
     "name": "stdout",
     "output_type": "stream",
     "text": [
      "/storage/gluster/vol1/SHARED/NGSTOOLS/SENTIEON/sentieon-genomics-201911/bin/sentieon driver -r /storage/gluster/vol1/bcbio/genomes/Hsapiens/hg19/bwa/hg19.fa -t 80 -i C0334T_recal.bam -i ABT414_FlankN_recal.bam --algo TNscope --tumor_sample C0334T --normal_sample ABT414_FlankN --dbsnp /storage/gluster/vol1/bcbio/genomes/Hsapiens/hg19/variation/dbsnp-150.vcf.gz --clip_by_minbq 1 --max_error_per_read 3 --min_init_tumor_lod 2.0 --min_base_qual 10 --min_base_qual_asm 10 --min_tumor_allele_frac 0.00005 C0334-tmpTNscope.vcf.gz\n",
      "\n"
     ]
    },
    {
     "data": {
      "text/markdown": [
       "### Tumor: C1572 Normal: ABT414_Flank"
      ],
      "text/plain": [
       "<IPython.core.display.Markdown object>"
      ]
     },
     "metadata": {},
     "output_type": "display_data"
    },
    {
     "name": "stdout",
     "output_type": "stream",
     "text": [
      "/storage/gluster/vol1/SHARED/NGSTOOLS/SENTIEON/sentieon-genomics-201911/bin/sentieon driver -r /storage/gluster/vol1/bcbio/genomes/Hsapiens/hg19/bwa/hg19.fa -t 80 -i C1572T_recal.bam -i ABT414_FlankN_recal.bam --algo TNscope --tumor_sample C1572T --normal_sample ABT414_FlankN --dbsnp /storage/gluster/vol1/bcbio/genomes/Hsapiens/hg19/variation/dbsnp-150.vcf.gz --clip_by_minbq 1 --max_error_per_read 3 --min_init_tumor_lod 2.0 --min_base_qual 10 --min_base_qual_asm 10 --min_tumor_allele_frac 0.00005 C1572-tmpTNscope.vcf.gz\n",
      "\n"
     ]
    },
    {
     "data": {
      "text/markdown": [
       "### Tumor: C8448 Normal: ABT414_Flank"
      ],
      "text/plain": [
       "<IPython.core.display.Markdown object>"
      ]
     },
     "metadata": {},
     "output_type": "display_data"
    },
    {
     "name": "stdout",
     "output_type": "stream",
     "text": [
      "/storage/gluster/vol1/SHARED/NGSTOOLS/SENTIEON/sentieon-genomics-201911/bin/sentieon driver -r /storage/gluster/vol1/bcbio/genomes/Hsapiens/hg19/bwa/hg19.fa -t 80 -i C8448T_recal.bam -i ABT414_FlankN_recal.bam --algo TNscope --tumor_sample C8448T --normal_sample ABT414_FlankN --dbsnp /storage/gluster/vol1/bcbio/genomes/Hsapiens/hg19/variation/dbsnp-150.vcf.gz --clip_by_minbq 1 --max_error_per_read 3 --min_init_tumor_lod 2.0 --min_base_qual 10 --min_base_qual_asm 10 --min_tumor_allele_frac 0.00005 C8448-tmpTNscope.vcf.gz\n",
      "\n"
     ]
    }
   ],
   "source": [
    "for i in range(batchSize):\n",
    "    SAMPLE = batch[i][0]\n",
    "    TUMOR = batch[i][1]\n",
    "    display(Markdown(\"### Tumor: \"+TUMOR + \" Normal: \" + SAMPLE))\n",
    "    command1 = data['SENTIEON_INSTALL_DIR']+\"/bin/sentieon driver -r \"+data['fasta']+\" -t \"+str(data['nt'])+\" -i \"+TUMOR+\"T_recal.bam -i \"+SAMPLE+\"N_recal.bam --algo TNscope --tumor_sample \"+TUMOR+\"T --normal_sample \"+SAMPLE+\"N --dbsnp \"+data['dbsnp']+\" --clip_by_minbq 1 --max_error_per_read 3 --min_init_tumor_lod 2.0 --min_base_qual 10 --min_base_qual_asm 10 --min_tumor_allele_frac 0.00005 \"+TUMOR+\"-tmpTNscope.vcf.gz\"\n",
    "    print(command1+'\\n')\n",
    "    if exec_scripts:\n",
    "        subprocess.check_output(command1,shell=True)"
   ]
  },
  {
   "cell_type": "code",
   "execution_count": 113,
   "metadata": {},
   "outputs": [
    {
     "data": {
      "text/markdown": [
       "___"
      ],
      "text/plain": [
       "<IPython.core.display.Markdown object>"
      ]
     },
     "metadata": {},
     "output_type": "display_data"
    },
    {
     "data": {
      "text/markdown": [
       "### Tumor: A1783 Normal: ABT414_Flank"
      ],
      "text/plain": [
       "<IPython.core.display.Markdown object>"
      ]
     },
     "metadata": {},
     "output_type": "display_data"
    },
    {
     "name": "stdout",
     "output_type": "stream",
     "text": [
      "/storage/gluster/vol1/SHARED/NGSTOOLS/SENTIEON/sentieon-genomics-201911/bin/sentieon driver -t 80 -r /storage/gluster/vol1/bcbio/genomes/Hsapiens/hg19/bwa/hg19.fa --algo TNModelApply --model /storage/gluster/vol1/data/PUBLIC/Tools/sentieon-genomics-201808.05/SentieonTNscopeModel_GiAB_HighAF_LowFP-201711.05.model -v A1783-tmpTNscope.vcf.gz A1783-TNscope.vcf.gz\n",
      "\n"
     ]
    },
    {
     "data": {
      "text/markdown": [
       "### Tumor: A9155 Normal: ABT414_Flank"
      ],
      "text/plain": [
       "<IPython.core.display.Markdown object>"
      ]
     },
     "metadata": {},
     "output_type": "display_data"
    },
    {
     "name": "stdout",
     "output_type": "stream",
     "text": [
      "/storage/gluster/vol1/SHARED/NGSTOOLS/SENTIEON/sentieon-genomics-201911/bin/sentieon driver -t 80 -r /storage/gluster/vol1/bcbio/genomes/Hsapiens/hg19/bwa/hg19.fa --algo TNModelApply --model /storage/gluster/vol1/data/PUBLIC/Tools/sentieon-genomics-201808.05/SentieonTNscopeModel_GiAB_HighAF_LowFP-201711.05.model -v A9155-tmpTNscope.vcf.gz A9155-TNscope.vcf.gz\n",
      "\n"
     ]
    },
    {
     "data": {
      "text/markdown": [
       "### Tumor: A9878 Normal: ABT414_Flank"
      ],
      "text/plain": [
       "<IPython.core.display.Markdown object>"
      ]
     },
     "metadata": {},
     "output_type": "display_data"
    },
    {
     "name": "stdout",
     "output_type": "stream",
     "text": [
      "/storage/gluster/vol1/SHARED/NGSTOOLS/SENTIEON/sentieon-genomics-201911/bin/sentieon driver -t 80 -r /storage/gluster/vol1/bcbio/genomes/Hsapiens/hg19/bwa/hg19.fa --algo TNModelApply --model /storage/gluster/vol1/data/PUBLIC/Tools/sentieon-genomics-201808.05/SentieonTNscopeModel_GiAB_HighAF_LowFP-201711.05.model -v A9878-tmpTNscope.vcf.gz A9878-TNscope.vcf.gz\n",
      "\n"
     ]
    },
    {
     "data": {
      "text/markdown": [
       "### Tumor: AT2550 Normal: ABT414_Flank"
      ],
      "text/plain": [
       "<IPython.core.display.Markdown object>"
      ]
     },
     "metadata": {},
     "output_type": "display_data"
    },
    {
     "name": "stdout",
     "output_type": "stream",
     "text": [
      "/storage/gluster/vol1/SHARED/NGSTOOLS/SENTIEON/sentieon-genomics-201911/bin/sentieon driver -t 80 -r /storage/gluster/vol1/bcbio/genomes/Hsapiens/hg19/bwa/hg19.fa --algo TNModelApply --model /storage/gluster/vol1/data/PUBLIC/Tools/sentieon-genomics-201808.05/SentieonTNscopeModel_GiAB_HighAF_LowFP-201711.05.model -v AT2550-tmpTNscope.vcf.gz AT2550-TNscope.vcf.gz\n",
      "\n"
     ]
    },
    {
     "data": {
      "text/markdown": [
       "### Tumor: AT2822 Normal: ABT414_Flank"
      ],
      "text/plain": [
       "<IPython.core.display.Markdown object>"
      ]
     },
     "metadata": {},
     "output_type": "display_data"
    },
    {
     "name": "stdout",
     "output_type": "stream",
     "text": [
      "/storage/gluster/vol1/SHARED/NGSTOOLS/SENTIEON/sentieon-genomics-201911/bin/sentieon driver -t 80 -r /storage/gluster/vol1/bcbio/genomes/Hsapiens/hg19/bwa/hg19.fa --algo TNModelApply --model /storage/gluster/vol1/data/PUBLIC/Tools/sentieon-genomics-201808.05/SentieonTNscopeModel_GiAB_HighAF_LowFP-201711.05.model -v AT2822-tmpTNscope.vcf.gz AT2822-TNscope.vcf.gz\n",
      "\n"
     ]
    },
    {
     "data": {
      "text/markdown": [
       "### Tumor: AT4415 Normal: ABT414_Flank"
      ],
      "text/plain": [
       "<IPython.core.display.Markdown object>"
      ]
     },
     "metadata": {},
     "output_type": "display_data"
    },
    {
     "name": "stdout",
     "output_type": "stream",
     "text": [
      "/storage/gluster/vol1/SHARED/NGSTOOLS/SENTIEON/sentieon-genomics-201911/bin/sentieon driver -t 80 -r /storage/gluster/vol1/bcbio/genomes/Hsapiens/hg19/bwa/hg19.fa --algo TNModelApply --model /storage/gluster/vol1/data/PUBLIC/Tools/sentieon-genomics-201808.05/SentieonTNscopeModel_GiAB_HighAF_LowFP-201711.05.model -v AT4415-tmpTNscope.vcf.gz AT4415-TNscope.vcf.gz\n",
      "\n"
     ]
    },
    {
     "data": {
      "text/markdown": [
       "### Tumor: AT4808 Normal: ABT414_Flank"
      ],
      "text/plain": [
       "<IPython.core.display.Markdown object>"
      ]
     },
     "metadata": {},
     "output_type": "display_data"
    },
    {
     "name": "stdout",
     "output_type": "stream",
     "text": [
      "/storage/gluster/vol1/SHARED/NGSTOOLS/SENTIEON/sentieon-genomics-201911/bin/sentieon driver -t 80 -r /storage/gluster/vol1/bcbio/genomes/Hsapiens/hg19/bwa/hg19.fa --algo TNModelApply --model /storage/gluster/vol1/data/PUBLIC/Tools/sentieon-genomics-201808.05/SentieonTNscopeModel_GiAB_HighAF_LowFP-201711.05.model -v AT4808-tmpTNscope.vcf.gz AT4808-TNscope.vcf.gz\n",
      "\n"
     ]
    },
    {
     "data": {
      "text/markdown": [
       "### Tumor: C0288 Normal: ABT414_Flank"
      ],
      "text/plain": [
       "<IPython.core.display.Markdown object>"
      ]
     },
     "metadata": {},
     "output_type": "display_data"
    },
    {
     "name": "stdout",
     "output_type": "stream",
     "text": [
      "/storage/gluster/vol1/SHARED/NGSTOOLS/SENTIEON/sentieon-genomics-201911/bin/sentieon driver -t 80 -r /storage/gluster/vol1/bcbio/genomes/Hsapiens/hg19/bwa/hg19.fa --algo TNModelApply --model /storage/gluster/vol1/data/PUBLIC/Tools/sentieon-genomics-201808.05/SentieonTNscopeModel_GiAB_HighAF_LowFP-201711.05.model -v C0288-tmpTNscope.vcf.gz C0288-TNscope.vcf.gz\n",
      "\n"
     ]
    },
    {
     "data": {
      "text/markdown": [
       "### Tumor: C0334 Normal: ABT414_Flank"
      ],
      "text/plain": [
       "<IPython.core.display.Markdown object>"
      ]
     },
     "metadata": {},
     "output_type": "display_data"
    },
    {
     "name": "stdout",
     "output_type": "stream",
     "text": [
      "/storage/gluster/vol1/SHARED/NGSTOOLS/SENTIEON/sentieon-genomics-201911/bin/sentieon driver -t 80 -r /storage/gluster/vol1/bcbio/genomes/Hsapiens/hg19/bwa/hg19.fa --algo TNModelApply --model /storage/gluster/vol1/data/PUBLIC/Tools/sentieon-genomics-201808.05/SentieonTNscopeModel_GiAB_HighAF_LowFP-201711.05.model -v C0334-tmpTNscope.vcf.gz C0334-TNscope.vcf.gz\n",
      "\n"
     ]
    },
    {
     "data": {
      "text/markdown": [
       "### Tumor: C1572 Normal: ABT414_Flank"
      ],
      "text/plain": [
       "<IPython.core.display.Markdown object>"
      ]
     },
     "metadata": {},
     "output_type": "display_data"
    },
    {
     "name": "stdout",
     "output_type": "stream",
     "text": [
      "/storage/gluster/vol1/SHARED/NGSTOOLS/SENTIEON/sentieon-genomics-201911/bin/sentieon driver -t 80 -r /storage/gluster/vol1/bcbio/genomes/Hsapiens/hg19/bwa/hg19.fa --algo TNModelApply --model /storage/gluster/vol1/data/PUBLIC/Tools/sentieon-genomics-201808.05/SentieonTNscopeModel_GiAB_HighAF_LowFP-201711.05.model -v C1572-tmpTNscope.vcf.gz C1572-TNscope.vcf.gz\n",
      "\n"
     ]
    },
    {
     "data": {
      "text/markdown": [
       "### Tumor: C8448 Normal: ABT414_Flank"
      ],
      "text/plain": [
       "<IPython.core.display.Markdown object>"
      ]
     },
     "metadata": {},
     "output_type": "display_data"
    },
    {
     "name": "stdout",
     "output_type": "stream",
     "text": [
      "/storage/gluster/vol1/SHARED/NGSTOOLS/SENTIEON/sentieon-genomics-201911/bin/sentieon driver -t 80 -r /storage/gluster/vol1/bcbio/genomes/Hsapiens/hg19/bwa/hg19.fa --algo TNModelApply --model /storage/gluster/vol1/data/PUBLIC/Tools/sentieon-genomics-201808.05/SentieonTNscopeModel_GiAB_HighAF_LowFP-201711.05.model -v C8448-tmpTNscope.vcf.gz C8448-TNscope.vcf.gz\n",
      "\n"
     ]
    }
   ],
   "source": [
    "display(Markdown(\"___\"))\n",
    "for i in range(batchSize):\n",
    "    SAMPLE = batch[i][0]\n",
    "    TUMOR = batch[i][1]\n",
    "    display(Markdown(\"### Tumor: \"+TUMOR + \" Normal: \" + SAMPLE))\n",
    "    command2 = data['SENTIEON_INSTALL_DIR']+\"/bin/sentieon driver -t \"+str(data['nt'])+\" -r \"+data['fasta']+\" --algo TNModelApply --model \"+data['ML_MODEL_T'] +\" -v \"+TUMOR+\"-tmpTNscope.vcf.gz \"+TUMOR+\"-TNscope.vcf.gz\"\n",
    "    print(command2+'\\n')\n",
    "    if exec_scripts:\n",
    "        subprocess.check_output(command2,shell=True)"
   ]
  },
  {
   "cell_type": "code",
   "execution_count": 114,
   "metadata": {},
   "outputs": [
    {
     "data": {
      "text/markdown": [
       "___"
      ],
      "text/plain": [
       "<IPython.core.display.Markdown object>"
      ]
     },
     "metadata": {},
     "output_type": "display_data"
    },
    {
     "data": {
      "text/markdown": [
       "### Tumor: A1783 Normal: ABT414_Flank"
      ],
      "text/plain": [
       "<IPython.core.display.Markdown object>"
      ]
     },
     "metadata": {},
     "output_type": "display_data"
    },
    {
     "name": "stdout",
     "output_type": "stream",
     "text": [
      "/storage/gluster/vol1/SHARED/NGSTOOLS/BCBIO/bcbio/anaconda/bin/bcftools filter -s ML_FAIL -i \\INFO/ML_PROB > 0.81 A1783-TNscope.vcf.gz -O z -m x -o A1783-filtTNscope.vcf.gz\n",
      "\n"
     ]
    },
    {
     "data": {
      "text/markdown": [
       "### Tumor: A9155 Normal: ABT414_Flank"
      ],
      "text/plain": [
       "<IPython.core.display.Markdown object>"
      ]
     },
     "metadata": {},
     "output_type": "display_data"
    },
    {
     "name": "stdout",
     "output_type": "stream",
     "text": [
      "/storage/gluster/vol1/SHARED/NGSTOOLS/BCBIO/bcbio/anaconda/bin/bcftools filter -s ML_FAIL -i \\INFO/ML_PROB > 0.81 A9155-TNscope.vcf.gz -O z -m x -o A9155-filtTNscope.vcf.gz\n",
      "\n"
     ]
    },
    {
     "data": {
      "text/markdown": [
       "### Tumor: A9878 Normal: ABT414_Flank"
      ],
      "text/plain": [
       "<IPython.core.display.Markdown object>"
      ]
     },
     "metadata": {},
     "output_type": "display_data"
    },
    {
     "name": "stdout",
     "output_type": "stream",
     "text": [
      "/storage/gluster/vol1/SHARED/NGSTOOLS/BCBIO/bcbio/anaconda/bin/bcftools filter -s ML_FAIL -i \\INFO/ML_PROB > 0.81 A9878-TNscope.vcf.gz -O z -m x -o A9878-filtTNscope.vcf.gz\n",
      "\n"
     ]
    },
    {
     "data": {
      "text/markdown": [
       "### Tumor: AT2550 Normal: ABT414_Flank"
      ],
      "text/plain": [
       "<IPython.core.display.Markdown object>"
      ]
     },
     "metadata": {},
     "output_type": "display_data"
    },
    {
     "name": "stdout",
     "output_type": "stream",
     "text": [
      "/storage/gluster/vol1/SHARED/NGSTOOLS/BCBIO/bcbio/anaconda/bin/bcftools filter -s ML_FAIL -i \\INFO/ML_PROB > 0.81 AT2550-TNscope.vcf.gz -O z -m x -o AT2550-filtTNscope.vcf.gz\n",
      "\n"
     ]
    },
    {
     "data": {
      "text/markdown": [
       "### Tumor: AT2822 Normal: ABT414_Flank"
      ],
      "text/plain": [
       "<IPython.core.display.Markdown object>"
      ]
     },
     "metadata": {},
     "output_type": "display_data"
    },
    {
     "name": "stdout",
     "output_type": "stream",
     "text": [
      "/storage/gluster/vol1/SHARED/NGSTOOLS/BCBIO/bcbio/anaconda/bin/bcftools filter -s ML_FAIL -i \\INFO/ML_PROB > 0.81 AT2822-TNscope.vcf.gz -O z -m x -o AT2822-filtTNscope.vcf.gz\n",
      "\n"
     ]
    },
    {
     "data": {
      "text/markdown": [
       "### Tumor: AT4415 Normal: ABT414_Flank"
      ],
      "text/plain": [
       "<IPython.core.display.Markdown object>"
      ]
     },
     "metadata": {},
     "output_type": "display_data"
    },
    {
     "name": "stdout",
     "output_type": "stream",
     "text": [
      "/storage/gluster/vol1/SHARED/NGSTOOLS/BCBIO/bcbio/anaconda/bin/bcftools filter -s ML_FAIL -i \\INFO/ML_PROB > 0.81 AT4415-TNscope.vcf.gz -O z -m x -o AT4415-filtTNscope.vcf.gz\n",
      "\n"
     ]
    },
    {
     "data": {
      "text/markdown": [
       "### Tumor: AT4808 Normal: ABT414_Flank"
      ],
      "text/plain": [
       "<IPython.core.display.Markdown object>"
      ]
     },
     "metadata": {},
     "output_type": "display_data"
    },
    {
     "name": "stdout",
     "output_type": "stream",
     "text": [
      "/storage/gluster/vol1/SHARED/NGSTOOLS/BCBIO/bcbio/anaconda/bin/bcftools filter -s ML_FAIL -i \\INFO/ML_PROB > 0.81 AT4808-TNscope.vcf.gz -O z -m x -o AT4808-filtTNscope.vcf.gz\n",
      "\n"
     ]
    },
    {
     "data": {
      "text/markdown": [
       "### Tumor: C0288 Normal: ABT414_Flank"
      ],
      "text/plain": [
       "<IPython.core.display.Markdown object>"
      ]
     },
     "metadata": {},
     "output_type": "display_data"
    },
    {
     "name": "stdout",
     "output_type": "stream",
     "text": [
      "/storage/gluster/vol1/SHARED/NGSTOOLS/BCBIO/bcbio/anaconda/bin/bcftools filter -s ML_FAIL -i \\INFO/ML_PROB > 0.81 C0288-TNscope.vcf.gz -O z -m x -o C0288-filtTNscope.vcf.gz\n",
      "\n"
     ]
    },
    {
     "data": {
      "text/markdown": [
       "### Tumor: C0334 Normal: ABT414_Flank"
      ],
      "text/plain": [
       "<IPython.core.display.Markdown object>"
      ]
     },
     "metadata": {},
     "output_type": "display_data"
    },
    {
     "name": "stdout",
     "output_type": "stream",
     "text": [
      "/storage/gluster/vol1/SHARED/NGSTOOLS/BCBIO/bcbio/anaconda/bin/bcftools filter -s ML_FAIL -i \\INFO/ML_PROB > 0.81 C0334-TNscope.vcf.gz -O z -m x -o C0334-filtTNscope.vcf.gz\n",
      "\n"
     ]
    },
    {
     "data": {
      "text/markdown": [
       "### Tumor: C1572 Normal: ABT414_Flank"
      ],
      "text/plain": [
       "<IPython.core.display.Markdown object>"
      ]
     },
     "metadata": {},
     "output_type": "display_data"
    },
    {
     "name": "stdout",
     "output_type": "stream",
     "text": [
      "/storage/gluster/vol1/SHARED/NGSTOOLS/BCBIO/bcbio/anaconda/bin/bcftools filter -s ML_FAIL -i \\INFO/ML_PROB > 0.81 C1572-TNscope.vcf.gz -O z -m x -o C1572-filtTNscope.vcf.gz\n",
      "\n"
     ]
    },
    {
     "data": {
      "text/markdown": [
       "### Tumor: C8448 Normal: ABT414_Flank"
      ],
      "text/plain": [
       "<IPython.core.display.Markdown object>"
      ]
     },
     "metadata": {},
     "output_type": "display_data"
    },
    {
     "name": "stdout",
     "output_type": "stream",
     "text": [
      "/storage/gluster/vol1/SHARED/NGSTOOLS/BCBIO/bcbio/anaconda/bin/bcftools filter -s ML_FAIL -i \\INFO/ML_PROB > 0.81 C8448-TNscope.vcf.gz -O z -m x -o C8448-filtTNscope.vcf.gz\n",
      "\n"
     ]
    }
   ],
   "source": [
    "display(Markdown(\"___\"))\n",
    "for i in range(batchSize):\n",
    "    SAMPLE = batch[i][0]\n",
    "    TUMOR = batch[i][1]\n",
    "    display(Markdown(\"### Tumor: \"+TUMOR + \" Normal: \" + SAMPLE))\n",
    "    command3 = data['bcfdir'] + \" filter -s ML_FAIL -i \\INFO/ML_PROB > 0.81 \"+TUMOR+\"-TNscope.vcf.gz -O z -m x -o \"+TUMOR+ \"-filtTNscope.vcf.gz\"\n",
    "    print(command3+'\\n')\n",
    "    if exec_scripts:\n",
    "        subprocess.check_output(command3,shell=True)"
   ]
  },
  {
   "cell_type": "markdown",
   "metadata": {},
   "source": [
    "# 9a. Somatic Variant Annotation"
   ]
  },
  {
   "cell_type": "code",
   "execution_count": 53,
   "metadata": {},
   "outputs": [
    {
     "data": {
      "text/markdown": [
       "### Tumor: A1783 Normal: ABT414_Flank"
      ],
      "text/plain": [
       "<IPython.core.display.Markdown object>"
      ]
     },
     "metadata": {},
     "output_type": "display_data"
    },
    {
     "name": "stdout",
     "output_type": "stream",
     "text": [
      "/storage/gluster/vol1/bcbio/anaconda/bin/snpEff -Xms1000m -Xmx36400m -Djava.io.tmpdir=/storage/gluster/vol1/SHARED/HOMEFOLDERS/adefalco/ABT414_Flank//$SAMPLE/tmpdir eff -noStats -t -noLog -dataDir /storage/gluster/vol1/bcbio/genomes/Hsapiens/hg19/snpeff -hgvs -noLof -i vcf -o vcf -noInteraction -noMotif -noNextProt -strict GRCh37.75 A1783-TNsnv.vcf.gz | /glusterfs/biostorage1/brick1/data/PUBLIC/Tools/lib/bin/bgzip --threads 80 -c > A1783-TNsnv.snpEff.vcf.gz\n",
      "\n"
     ]
    },
    {
     "data": {
      "text/markdown": [
       "### Tumor: A9155 Normal: ABT414_Flank"
      ],
      "text/plain": [
       "<IPython.core.display.Markdown object>"
      ]
     },
     "metadata": {},
     "output_type": "display_data"
    },
    {
     "name": "stdout",
     "output_type": "stream",
     "text": [
      "/storage/gluster/vol1/bcbio/anaconda/bin/snpEff -Xms1000m -Xmx36400m -Djava.io.tmpdir=/storage/gluster/vol1/SHARED/HOMEFOLDERS/adefalco/ABT414_Flank//$SAMPLE/tmpdir eff -noStats -t -noLog -dataDir /storage/gluster/vol1/bcbio/genomes/Hsapiens/hg19/snpeff -hgvs -noLof -i vcf -o vcf -noInteraction -noMotif -noNextProt -strict GRCh37.75 A9155-TNsnv.vcf.gz | /glusterfs/biostorage1/brick1/data/PUBLIC/Tools/lib/bin/bgzip --threads 80 -c > A9155-TNsnv.snpEff.vcf.gz\n",
      "\n"
     ]
    },
    {
     "data": {
      "text/markdown": [
       "### Tumor: A9878 Normal: ABT414_Flank"
      ],
      "text/plain": [
       "<IPython.core.display.Markdown object>"
      ]
     },
     "metadata": {},
     "output_type": "display_data"
    },
    {
     "name": "stdout",
     "output_type": "stream",
     "text": [
      "/storage/gluster/vol1/bcbio/anaconda/bin/snpEff -Xms1000m -Xmx36400m -Djava.io.tmpdir=/storage/gluster/vol1/SHARED/HOMEFOLDERS/adefalco/ABT414_Flank//$SAMPLE/tmpdir eff -noStats -t -noLog -dataDir /storage/gluster/vol1/bcbio/genomes/Hsapiens/hg19/snpeff -hgvs -noLof -i vcf -o vcf -noInteraction -noMotif -noNextProt -strict GRCh37.75 A9878-TNsnv.vcf.gz | /glusterfs/biostorage1/brick1/data/PUBLIC/Tools/lib/bin/bgzip --threads 80 -c > A9878-TNsnv.snpEff.vcf.gz\n",
      "\n"
     ]
    },
    {
     "data": {
      "text/markdown": [
       "### Tumor: AT2550 Normal: ABT414_Flank"
      ],
      "text/plain": [
       "<IPython.core.display.Markdown object>"
      ]
     },
     "metadata": {},
     "output_type": "display_data"
    },
    {
     "name": "stdout",
     "output_type": "stream",
     "text": [
      "/storage/gluster/vol1/bcbio/anaconda/bin/snpEff -Xms1000m -Xmx36400m -Djava.io.tmpdir=/storage/gluster/vol1/SHARED/HOMEFOLDERS/adefalco/ABT414_Flank//$SAMPLE/tmpdir eff -noStats -t -noLog -dataDir /storage/gluster/vol1/bcbio/genomes/Hsapiens/hg19/snpeff -hgvs -noLof -i vcf -o vcf -noInteraction -noMotif -noNextProt -strict GRCh37.75 AT2550-TNsnv.vcf.gz | /glusterfs/biostorage1/brick1/data/PUBLIC/Tools/lib/bin/bgzip --threads 80 -c > AT2550-TNsnv.snpEff.vcf.gz\n",
      "\n"
     ]
    },
    {
     "data": {
      "text/markdown": [
       "### Tumor: AT2822 Normal: ABT414_Flank"
      ],
      "text/plain": [
       "<IPython.core.display.Markdown object>"
      ]
     },
     "metadata": {},
     "output_type": "display_data"
    },
    {
     "name": "stdout",
     "output_type": "stream",
     "text": [
      "/storage/gluster/vol1/bcbio/anaconda/bin/snpEff -Xms1000m -Xmx36400m -Djava.io.tmpdir=/storage/gluster/vol1/SHARED/HOMEFOLDERS/adefalco/ABT414_Flank//$SAMPLE/tmpdir eff -noStats -t -noLog -dataDir /storage/gluster/vol1/bcbio/genomes/Hsapiens/hg19/snpeff -hgvs -noLof -i vcf -o vcf -noInteraction -noMotif -noNextProt -strict GRCh37.75 AT2822-TNsnv.vcf.gz | /glusterfs/biostorage1/brick1/data/PUBLIC/Tools/lib/bin/bgzip --threads 80 -c > AT2822-TNsnv.snpEff.vcf.gz\n",
      "\n"
     ]
    },
    {
     "data": {
      "text/markdown": [
       "### Tumor: AT4415 Normal: ABT414_Flank"
      ],
      "text/plain": [
       "<IPython.core.display.Markdown object>"
      ]
     },
     "metadata": {},
     "output_type": "display_data"
    },
    {
     "name": "stdout",
     "output_type": "stream",
     "text": [
      "/storage/gluster/vol1/bcbio/anaconda/bin/snpEff -Xms1000m -Xmx36400m -Djava.io.tmpdir=/storage/gluster/vol1/SHARED/HOMEFOLDERS/adefalco/ABT414_Flank//$SAMPLE/tmpdir eff -noStats -t -noLog -dataDir /storage/gluster/vol1/bcbio/genomes/Hsapiens/hg19/snpeff -hgvs -noLof -i vcf -o vcf -noInteraction -noMotif -noNextProt -strict GRCh37.75 AT4415-TNsnv.vcf.gz | /glusterfs/biostorage1/brick1/data/PUBLIC/Tools/lib/bin/bgzip --threads 80 -c > AT4415-TNsnv.snpEff.vcf.gz\n",
      "\n"
     ]
    },
    {
     "data": {
      "text/markdown": [
       "### Tumor: AT4808 Normal: ABT414_Flank"
      ],
      "text/plain": [
       "<IPython.core.display.Markdown object>"
      ]
     },
     "metadata": {},
     "output_type": "display_data"
    },
    {
     "name": "stdout",
     "output_type": "stream",
     "text": [
      "/storage/gluster/vol1/bcbio/anaconda/bin/snpEff -Xms1000m -Xmx36400m -Djava.io.tmpdir=/storage/gluster/vol1/SHARED/HOMEFOLDERS/adefalco/ABT414_Flank//$SAMPLE/tmpdir eff -noStats -t -noLog -dataDir /storage/gluster/vol1/bcbio/genomes/Hsapiens/hg19/snpeff -hgvs -noLof -i vcf -o vcf -noInteraction -noMotif -noNextProt -strict GRCh37.75 AT4808-TNsnv.vcf.gz | /glusterfs/biostorage1/brick1/data/PUBLIC/Tools/lib/bin/bgzip --threads 80 -c > AT4808-TNsnv.snpEff.vcf.gz\n",
      "\n"
     ]
    },
    {
     "data": {
      "text/markdown": [
       "### Tumor: C0288 Normal: ABT414_Flank"
      ],
      "text/plain": [
       "<IPython.core.display.Markdown object>"
      ]
     },
     "metadata": {},
     "output_type": "display_data"
    },
    {
     "name": "stdout",
     "output_type": "stream",
     "text": [
      "/storage/gluster/vol1/bcbio/anaconda/bin/snpEff -Xms1000m -Xmx36400m -Djava.io.tmpdir=/storage/gluster/vol1/SHARED/HOMEFOLDERS/adefalco/ABT414_Flank//$SAMPLE/tmpdir eff -noStats -t -noLog -dataDir /storage/gluster/vol1/bcbio/genomes/Hsapiens/hg19/snpeff -hgvs -noLof -i vcf -o vcf -noInteraction -noMotif -noNextProt -strict GRCh37.75 C0288-TNsnv.vcf.gz | /glusterfs/biostorage1/brick1/data/PUBLIC/Tools/lib/bin/bgzip --threads 80 -c > C0288-TNsnv.snpEff.vcf.gz\n",
      "\n"
     ]
    },
    {
     "data": {
      "text/markdown": [
       "### Tumor: C0334 Normal: ABT414_Flank"
      ],
      "text/plain": [
       "<IPython.core.display.Markdown object>"
      ]
     },
     "metadata": {},
     "output_type": "display_data"
    },
    {
     "name": "stdout",
     "output_type": "stream",
     "text": [
      "/storage/gluster/vol1/bcbio/anaconda/bin/snpEff -Xms1000m -Xmx36400m -Djava.io.tmpdir=/storage/gluster/vol1/SHARED/HOMEFOLDERS/adefalco/ABT414_Flank//$SAMPLE/tmpdir eff -noStats -t -noLog -dataDir /storage/gluster/vol1/bcbio/genomes/Hsapiens/hg19/snpeff -hgvs -noLof -i vcf -o vcf -noInteraction -noMotif -noNextProt -strict GRCh37.75 C0334-TNsnv.vcf.gz | /glusterfs/biostorage1/brick1/data/PUBLIC/Tools/lib/bin/bgzip --threads 80 -c > C0334-TNsnv.snpEff.vcf.gz\n",
      "\n"
     ]
    },
    {
     "data": {
      "text/markdown": [
       "### Tumor: C1572 Normal: ABT414_Flank"
      ],
      "text/plain": [
       "<IPython.core.display.Markdown object>"
      ]
     },
     "metadata": {},
     "output_type": "display_data"
    },
    {
     "name": "stdout",
     "output_type": "stream",
     "text": [
      "/storage/gluster/vol1/bcbio/anaconda/bin/snpEff -Xms1000m -Xmx36400m -Djava.io.tmpdir=/storage/gluster/vol1/SHARED/HOMEFOLDERS/adefalco/ABT414_Flank//$SAMPLE/tmpdir eff -noStats -t -noLog -dataDir /storage/gluster/vol1/bcbio/genomes/Hsapiens/hg19/snpeff -hgvs -noLof -i vcf -o vcf -noInteraction -noMotif -noNextProt -strict GRCh37.75 C1572-TNsnv.vcf.gz | /glusterfs/biostorage1/brick1/data/PUBLIC/Tools/lib/bin/bgzip --threads 80 -c > C1572-TNsnv.snpEff.vcf.gz\n",
      "\n"
     ]
    },
    {
     "data": {
      "text/markdown": [
       "### Tumor: C8448 Normal: ABT414_Flank"
      ],
      "text/plain": [
       "<IPython.core.display.Markdown object>"
      ]
     },
     "metadata": {},
     "output_type": "display_data"
    },
    {
     "name": "stdout",
     "output_type": "stream",
     "text": [
      "/storage/gluster/vol1/bcbio/anaconda/bin/snpEff -Xms1000m -Xmx36400m -Djava.io.tmpdir=/storage/gluster/vol1/SHARED/HOMEFOLDERS/adefalco/ABT414_Flank//$SAMPLE/tmpdir eff -noStats -t -noLog -dataDir /storage/gluster/vol1/bcbio/genomes/Hsapiens/hg19/snpeff -hgvs -noLof -i vcf -o vcf -noInteraction -noMotif -noNextProt -strict GRCh37.75 C8448-TNsnv.vcf.gz | /glusterfs/biostorage1/brick1/data/PUBLIC/Tools/lib/bin/bgzip --threads 80 -c > C8448-TNsnv.snpEff.vcf.gz\n",
      "\n"
     ]
    }
   ],
   "source": [
    "for i in range(batchSize):\n",
    "    SAMPLE = batch[i][0]\n",
    "    TUMOR = batch[i][1]\n",
    "    display(Markdown(\"### Tumor: \"+TUMOR + \" Normal: \" + SAMPLE))\n",
    "    command1 = \"/storage/gluster/vol1/bcbio/anaconda/bin/snpEff -Xms1000m -Xmx36400m -Djava.io.tmpdir=\"+data['SENTIEON_TMPDIR']+\" eff -noStats -t -noLog -dataDir /storage/gluster/vol1/bcbio/genomes/Hsapiens/hg19/snpeff -hgvs -noLof -i vcf -o vcf -noInteraction -noMotif -noNextProt -strict GRCh37.75 \"+TUMOR+\"-TNsnv.vcf.gz | \"+data['bgzipdir']+\" --threads \"+str(data['nt'])+\" -c > \"+TUMOR+\"-TNsnv.snpEff.vcf.gz\"\n",
    "    print(command1+'\\n')\n",
    "    if exec_scripts:\n",
    "        subprocess.check_output(command1,shell=True)"
   ]
  },
  {
   "cell_type": "code",
   "execution_count": 115,
   "metadata": {},
   "outputs": [
    {
     "data": {
      "text/markdown": [
       "___"
      ],
      "text/plain": [
       "<IPython.core.display.Markdown object>"
      ]
     },
     "metadata": {},
     "output_type": "display_data"
    },
    {
     "data": {
      "text/markdown": [
       "### Tumor: A1783 Normal: ABT414_Flank"
      ],
      "text/plain": [
       "<IPython.core.display.Markdown object>"
      ]
     },
     "metadata": {},
     "output_type": "display_data"
    },
    {
     "name": "stdout",
     "output_type": "stream",
     "text": [
      "/storage/gluster/vol1/bcbio/anaconda/bin/snpEff -Xms1000m -Xmx36400m -Djava.io.tmpdir=/storage/gluster/vol1/SHARED/HOMEFOLDERS/adefalco/ABT414_Flank//$SAMPLE/tmpdir eff -noStats -t -noLog -dataDir /storage/gluster/vol1/bcbio/genomes/Hsapiens/hg19/snpeff -hgvs -noLof -i vcf -o vcf -noInteraction -noMotif -noNextProt -strict GRCh37.75 A1783-TNhaplotyper.vcf.gz | /glusterfs/biostorage1/brick1/data/PUBLIC/Tools/lib/bin/bgzip --threads 80 -c > A1783-TNhaplotyper.snpEff.vcf.gz\n",
      "\n"
     ]
    },
    {
     "data": {
      "text/markdown": [
       "### Tumor: A9155 Normal: ABT414_Flank"
      ],
      "text/plain": [
       "<IPython.core.display.Markdown object>"
      ]
     },
     "metadata": {},
     "output_type": "display_data"
    },
    {
     "name": "stdout",
     "output_type": "stream",
     "text": [
      "/storage/gluster/vol1/bcbio/anaconda/bin/snpEff -Xms1000m -Xmx36400m -Djava.io.tmpdir=/storage/gluster/vol1/SHARED/HOMEFOLDERS/adefalco/ABT414_Flank//$SAMPLE/tmpdir eff -noStats -t -noLog -dataDir /storage/gluster/vol1/bcbio/genomes/Hsapiens/hg19/snpeff -hgvs -noLof -i vcf -o vcf -noInteraction -noMotif -noNextProt -strict GRCh37.75 A9155-TNhaplotyper.vcf.gz | /glusterfs/biostorage1/brick1/data/PUBLIC/Tools/lib/bin/bgzip --threads 80 -c > A9155-TNhaplotyper.snpEff.vcf.gz\n",
      "\n"
     ]
    },
    {
     "data": {
      "text/markdown": [
       "### Tumor: A9878 Normal: ABT414_Flank"
      ],
      "text/plain": [
       "<IPython.core.display.Markdown object>"
      ]
     },
     "metadata": {},
     "output_type": "display_data"
    },
    {
     "name": "stdout",
     "output_type": "stream",
     "text": [
      "/storage/gluster/vol1/bcbio/anaconda/bin/snpEff -Xms1000m -Xmx36400m -Djava.io.tmpdir=/storage/gluster/vol1/SHARED/HOMEFOLDERS/adefalco/ABT414_Flank//$SAMPLE/tmpdir eff -noStats -t -noLog -dataDir /storage/gluster/vol1/bcbio/genomes/Hsapiens/hg19/snpeff -hgvs -noLof -i vcf -o vcf -noInteraction -noMotif -noNextProt -strict GRCh37.75 A9878-TNhaplotyper.vcf.gz | /glusterfs/biostorage1/brick1/data/PUBLIC/Tools/lib/bin/bgzip --threads 80 -c > A9878-TNhaplotyper.snpEff.vcf.gz\n",
      "\n"
     ]
    },
    {
     "data": {
      "text/markdown": [
       "### Tumor: AT2550 Normal: ABT414_Flank"
      ],
      "text/plain": [
       "<IPython.core.display.Markdown object>"
      ]
     },
     "metadata": {},
     "output_type": "display_data"
    },
    {
     "name": "stdout",
     "output_type": "stream",
     "text": [
      "/storage/gluster/vol1/bcbio/anaconda/bin/snpEff -Xms1000m -Xmx36400m -Djava.io.tmpdir=/storage/gluster/vol1/SHARED/HOMEFOLDERS/adefalco/ABT414_Flank//$SAMPLE/tmpdir eff -noStats -t -noLog -dataDir /storage/gluster/vol1/bcbio/genomes/Hsapiens/hg19/snpeff -hgvs -noLof -i vcf -o vcf -noInteraction -noMotif -noNextProt -strict GRCh37.75 AT2550-TNhaplotyper.vcf.gz | /glusterfs/biostorage1/brick1/data/PUBLIC/Tools/lib/bin/bgzip --threads 80 -c > AT2550-TNhaplotyper.snpEff.vcf.gz\n",
      "\n"
     ]
    },
    {
     "data": {
      "text/markdown": [
       "### Tumor: AT2822 Normal: ABT414_Flank"
      ],
      "text/plain": [
       "<IPython.core.display.Markdown object>"
      ]
     },
     "metadata": {},
     "output_type": "display_data"
    },
    {
     "name": "stdout",
     "output_type": "stream",
     "text": [
      "/storage/gluster/vol1/bcbio/anaconda/bin/snpEff -Xms1000m -Xmx36400m -Djava.io.tmpdir=/storage/gluster/vol1/SHARED/HOMEFOLDERS/adefalco/ABT414_Flank//$SAMPLE/tmpdir eff -noStats -t -noLog -dataDir /storage/gluster/vol1/bcbio/genomes/Hsapiens/hg19/snpeff -hgvs -noLof -i vcf -o vcf -noInteraction -noMotif -noNextProt -strict GRCh37.75 AT2822-TNhaplotyper.vcf.gz | /glusterfs/biostorage1/brick1/data/PUBLIC/Tools/lib/bin/bgzip --threads 80 -c > AT2822-TNhaplotyper.snpEff.vcf.gz\n",
      "\n"
     ]
    },
    {
     "data": {
      "text/markdown": [
       "### Tumor: AT4415 Normal: ABT414_Flank"
      ],
      "text/plain": [
       "<IPython.core.display.Markdown object>"
      ]
     },
     "metadata": {},
     "output_type": "display_data"
    },
    {
     "name": "stdout",
     "output_type": "stream",
     "text": [
      "/storage/gluster/vol1/bcbio/anaconda/bin/snpEff -Xms1000m -Xmx36400m -Djava.io.tmpdir=/storage/gluster/vol1/SHARED/HOMEFOLDERS/adefalco/ABT414_Flank//$SAMPLE/tmpdir eff -noStats -t -noLog -dataDir /storage/gluster/vol1/bcbio/genomes/Hsapiens/hg19/snpeff -hgvs -noLof -i vcf -o vcf -noInteraction -noMotif -noNextProt -strict GRCh37.75 AT4415-TNhaplotyper.vcf.gz | /glusterfs/biostorage1/brick1/data/PUBLIC/Tools/lib/bin/bgzip --threads 80 -c > AT4415-TNhaplotyper.snpEff.vcf.gz\n",
      "\n"
     ]
    },
    {
     "data": {
      "text/markdown": [
       "### Tumor: AT4808 Normal: ABT414_Flank"
      ],
      "text/plain": [
       "<IPython.core.display.Markdown object>"
      ]
     },
     "metadata": {},
     "output_type": "display_data"
    },
    {
     "name": "stdout",
     "output_type": "stream",
     "text": [
      "/storage/gluster/vol1/bcbio/anaconda/bin/snpEff -Xms1000m -Xmx36400m -Djava.io.tmpdir=/storage/gluster/vol1/SHARED/HOMEFOLDERS/adefalco/ABT414_Flank//$SAMPLE/tmpdir eff -noStats -t -noLog -dataDir /storage/gluster/vol1/bcbio/genomes/Hsapiens/hg19/snpeff -hgvs -noLof -i vcf -o vcf -noInteraction -noMotif -noNextProt -strict GRCh37.75 AT4808-TNhaplotyper.vcf.gz | /glusterfs/biostorage1/brick1/data/PUBLIC/Tools/lib/bin/bgzip --threads 80 -c > AT4808-TNhaplotyper.snpEff.vcf.gz\n",
      "\n"
     ]
    },
    {
     "data": {
      "text/markdown": [
       "### Tumor: C0288 Normal: ABT414_Flank"
      ],
      "text/plain": [
       "<IPython.core.display.Markdown object>"
      ]
     },
     "metadata": {},
     "output_type": "display_data"
    },
    {
     "name": "stdout",
     "output_type": "stream",
     "text": [
      "/storage/gluster/vol1/bcbio/anaconda/bin/snpEff -Xms1000m -Xmx36400m -Djava.io.tmpdir=/storage/gluster/vol1/SHARED/HOMEFOLDERS/adefalco/ABT414_Flank//$SAMPLE/tmpdir eff -noStats -t -noLog -dataDir /storage/gluster/vol1/bcbio/genomes/Hsapiens/hg19/snpeff -hgvs -noLof -i vcf -o vcf -noInteraction -noMotif -noNextProt -strict GRCh37.75 C0288-TNhaplotyper.vcf.gz | /glusterfs/biostorage1/brick1/data/PUBLIC/Tools/lib/bin/bgzip --threads 80 -c > C0288-TNhaplotyper.snpEff.vcf.gz\n",
      "\n"
     ]
    },
    {
     "data": {
      "text/markdown": [
       "### Tumor: C0334 Normal: ABT414_Flank"
      ],
      "text/plain": [
       "<IPython.core.display.Markdown object>"
      ]
     },
     "metadata": {},
     "output_type": "display_data"
    },
    {
     "name": "stdout",
     "output_type": "stream",
     "text": [
      "/storage/gluster/vol1/bcbio/anaconda/bin/snpEff -Xms1000m -Xmx36400m -Djava.io.tmpdir=/storage/gluster/vol1/SHARED/HOMEFOLDERS/adefalco/ABT414_Flank//$SAMPLE/tmpdir eff -noStats -t -noLog -dataDir /storage/gluster/vol1/bcbio/genomes/Hsapiens/hg19/snpeff -hgvs -noLof -i vcf -o vcf -noInteraction -noMotif -noNextProt -strict GRCh37.75 C0334-TNhaplotyper.vcf.gz | /glusterfs/biostorage1/brick1/data/PUBLIC/Tools/lib/bin/bgzip --threads 80 -c > C0334-TNhaplotyper.snpEff.vcf.gz\n",
      "\n"
     ]
    },
    {
     "data": {
      "text/markdown": [
       "### Tumor: C1572 Normal: ABT414_Flank"
      ],
      "text/plain": [
       "<IPython.core.display.Markdown object>"
      ]
     },
     "metadata": {},
     "output_type": "display_data"
    },
    {
     "name": "stdout",
     "output_type": "stream",
     "text": [
      "/storage/gluster/vol1/bcbio/anaconda/bin/snpEff -Xms1000m -Xmx36400m -Djava.io.tmpdir=/storage/gluster/vol1/SHARED/HOMEFOLDERS/adefalco/ABT414_Flank//$SAMPLE/tmpdir eff -noStats -t -noLog -dataDir /storage/gluster/vol1/bcbio/genomes/Hsapiens/hg19/snpeff -hgvs -noLof -i vcf -o vcf -noInteraction -noMotif -noNextProt -strict GRCh37.75 C1572-TNhaplotyper.vcf.gz | /glusterfs/biostorage1/brick1/data/PUBLIC/Tools/lib/bin/bgzip --threads 80 -c > C1572-TNhaplotyper.snpEff.vcf.gz\n",
      "\n"
     ]
    },
    {
     "data": {
      "text/markdown": [
       "### Tumor: C8448 Normal: ABT414_Flank"
      ],
      "text/plain": [
       "<IPython.core.display.Markdown object>"
      ]
     },
     "metadata": {},
     "output_type": "display_data"
    },
    {
     "name": "stdout",
     "output_type": "stream",
     "text": [
      "/storage/gluster/vol1/bcbio/anaconda/bin/snpEff -Xms1000m -Xmx36400m -Djava.io.tmpdir=/storage/gluster/vol1/SHARED/HOMEFOLDERS/adefalco/ABT414_Flank//$SAMPLE/tmpdir eff -noStats -t -noLog -dataDir /storage/gluster/vol1/bcbio/genomes/Hsapiens/hg19/snpeff -hgvs -noLof -i vcf -o vcf -noInteraction -noMotif -noNextProt -strict GRCh37.75 C8448-TNhaplotyper.vcf.gz | /glusterfs/biostorage1/brick1/data/PUBLIC/Tools/lib/bin/bgzip --threads 80 -c > C8448-TNhaplotyper.snpEff.vcf.gz\n",
      "\n"
     ]
    }
   ],
   "source": [
    "display(Markdown(\"___\"))\n",
    "for i in range(batchSize):\n",
    "    SAMPLE = batch[i][0]\n",
    "    TUMOR = batch[i][1]\n",
    "    display(Markdown(\"### Tumor: \"+TUMOR + \" Normal: \" + SAMPLE))\n",
    "    command2 = \"/storage/gluster/vol1/bcbio/anaconda/bin/snpEff -Xms1000m -Xmx36400m -Djava.io.tmpdir=\"+data['SENTIEON_TMPDIR']+\" eff -noStats -t -noLog -dataDir /storage/gluster/vol1/bcbio/genomes/Hsapiens/hg19/snpeff -hgvs -noLof -i vcf -o vcf -noInteraction -noMotif -noNextProt -strict GRCh37.75 \"+TUMOR+\"-TNhaplotyper.vcf.gz | \"+data['bgzipdir']+\" --threads \"+str(data['nt'])+\" -c > \"+TUMOR+\"-TNhaplotyper.snpEff.vcf.gz\"\n",
    "    print(command2+'\\n')\n",
    "    if exec_scripts:\n",
    "        subprocess.check_output(command2,shell=True)"
   ]
  },
  {
   "cell_type": "code",
   "execution_count": 116,
   "metadata": {},
   "outputs": [
    {
     "data": {
      "text/markdown": [
       "___"
      ],
      "text/plain": [
       "<IPython.core.display.Markdown object>"
      ]
     },
     "metadata": {},
     "output_type": "display_data"
    },
    {
     "data": {
      "text/markdown": [
       "### Tumor: A1783 Normal: ABT414_Flank"
      ],
      "text/plain": [
       "<IPython.core.display.Markdown object>"
      ]
     },
     "metadata": {},
     "output_type": "display_data"
    },
    {
     "name": "stdout",
     "output_type": "stream",
     "text": [
      "/storage/gluster/vol1/bcbio/anaconda/bin/snpEff -Xms1000m -Xmx36400m -Djava.io.tmpdir=/storage/gluster/vol1/SHARED/HOMEFOLDERS/adefalco/ABT414_Flank//$SAMPLE/tmpdir eff -noStats -t -noLog -dataDir /storage/gluster/vol1/bcbio/genomes/Hsapiens/hg19/snpeff -hgvs -noLof -i vcf -o vcf -noInteraction -noMotif -noNextProt -strict GRCh37.75 A1783-filtTNscope.vcf.gz | /glusterfs/biostorage1/brick1/data/PUBLIC/Tools/lib/bin/bgzip --threads 80 -c > A1783-filtTNscope.snpEff.vcf.gz\n",
      "\n"
     ]
    },
    {
     "data": {
      "text/markdown": [
       "### Tumor: A9155 Normal: ABT414_Flank"
      ],
      "text/plain": [
       "<IPython.core.display.Markdown object>"
      ]
     },
     "metadata": {},
     "output_type": "display_data"
    },
    {
     "name": "stdout",
     "output_type": "stream",
     "text": [
      "/storage/gluster/vol1/bcbio/anaconda/bin/snpEff -Xms1000m -Xmx36400m -Djava.io.tmpdir=/storage/gluster/vol1/SHARED/HOMEFOLDERS/adefalco/ABT414_Flank//$SAMPLE/tmpdir eff -noStats -t -noLog -dataDir /storage/gluster/vol1/bcbio/genomes/Hsapiens/hg19/snpeff -hgvs -noLof -i vcf -o vcf -noInteraction -noMotif -noNextProt -strict GRCh37.75 A9155-filtTNscope.vcf.gz | /glusterfs/biostorage1/brick1/data/PUBLIC/Tools/lib/bin/bgzip --threads 80 -c > A9155-filtTNscope.snpEff.vcf.gz\n",
      "\n"
     ]
    },
    {
     "data": {
      "text/markdown": [
       "### Tumor: A9878 Normal: ABT414_Flank"
      ],
      "text/plain": [
       "<IPython.core.display.Markdown object>"
      ]
     },
     "metadata": {},
     "output_type": "display_data"
    },
    {
     "name": "stdout",
     "output_type": "stream",
     "text": [
      "/storage/gluster/vol1/bcbio/anaconda/bin/snpEff -Xms1000m -Xmx36400m -Djava.io.tmpdir=/storage/gluster/vol1/SHARED/HOMEFOLDERS/adefalco/ABT414_Flank//$SAMPLE/tmpdir eff -noStats -t -noLog -dataDir /storage/gluster/vol1/bcbio/genomes/Hsapiens/hg19/snpeff -hgvs -noLof -i vcf -o vcf -noInteraction -noMotif -noNextProt -strict GRCh37.75 A9878-filtTNscope.vcf.gz | /glusterfs/biostorage1/brick1/data/PUBLIC/Tools/lib/bin/bgzip --threads 80 -c > A9878-filtTNscope.snpEff.vcf.gz\n",
      "\n"
     ]
    },
    {
     "data": {
      "text/markdown": [
       "### Tumor: AT2550 Normal: ABT414_Flank"
      ],
      "text/plain": [
       "<IPython.core.display.Markdown object>"
      ]
     },
     "metadata": {},
     "output_type": "display_data"
    },
    {
     "name": "stdout",
     "output_type": "stream",
     "text": [
      "/storage/gluster/vol1/bcbio/anaconda/bin/snpEff -Xms1000m -Xmx36400m -Djava.io.tmpdir=/storage/gluster/vol1/SHARED/HOMEFOLDERS/adefalco/ABT414_Flank//$SAMPLE/tmpdir eff -noStats -t -noLog -dataDir /storage/gluster/vol1/bcbio/genomes/Hsapiens/hg19/snpeff -hgvs -noLof -i vcf -o vcf -noInteraction -noMotif -noNextProt -strict GRCh37.75 AT2550-filtTNscope.vcf.gz | /glusterfs/biostorage1/brick1/data/PUBLIC/Tools/lib/bin/bgzip --threads 80 -c > AT2550-filtTNscope.snpEff.vcf.gz\n",
      "\n"
     ]
    },
    {
     "data": {
      "text/markdown": [
       "### Tumor: AT2822 Normal: ABT414_Flank"
      ],
      "text/plain": [
       "<IPython.core.display.Markdown object>"
      ]
     },
     "metadata": {},
     "output_type": "display_data"
    },
    {
     "name": "stdout",
     "output_type": "stream",
     "text": [
      "/storage/gluster/vol1/bcbio/anaconda/bin/snpEff -Xms1000m -Xmx36400m -Djava.io.tmpdir=/storage/gluster/vol1/SHARED/HOMEFOLDERS/adefalco/ABT414_Flank//$SAMPLE/tmpdir eff -noStats -t -noLog -dataDir /storage/gluster/vol1/bcbio/genomes/Hsapiens/hg19/snpeff -hgvs -noLof -i vcf -o vcf -noInteraction -noMotif -noNextProt -strict GRCh37.75 AT2822-filtTNscope.vcf.gz | /glusterfs/biostorage1/brick1/data/PUBLIC/Tools/lib/bin/bgzip --threads 80 -c > AT2822-filtTNscope.snpEff.vcf.gz\n",
      "\n"
     ]
    },
    {
     "data": {
      "text/markdown": [
       "### Tumor: AT4415 Normal: ABT414_Flank"
      ],
      "text/plain": [
       "<IPython.core.display.Markdown object>"
      ]
     },
     "metadata": {},
     "output_type": "display_data"
    },
    {
     "name": "stdout",
     "output_type": "stream",
     "text": [
      "/storage/gluster/vol1/bcbio/anaconda/bin/snpEff -Xms1000m -Xmx36400m -Djava.io.tmpdir=/storage/gluster/vol1/SHARED/HOMEFOLDERS/adefalco/ABT414_Flank//$SAMPLE/tmpdir eff -noStats -t -noLog -dataDir /storage/gluster/vol1/bcbio/genomes/Hsapiens/hg19/snpeff -hgvs -noLof -i vcf -o vcf -noInteraction -noMotif -noNextProt -strict GRCh37.75 AT4415-filtTNscope.vcf.gz | /glusterfs/biostorage1/brick1/data/PUBLIC/Tools/lib/bin/bgzip --threads 80 -c > AT4415-filtTNscope.snpEff.vcf.gz\n",
      "\n"
     ]
    },
    {
     "data": {
      "text/markdown": [
       "### Tumor: AT4808 Normal: ABT414_Flank"
      ],
      "text/plain": [
       "<IPython.core.display.Markdown object>"
      ]
     },
     "metadata": {},
     "output_type": "display_data"
    },
    {
     "name": "stdout",
     "output_type": "stream",
     "text": [
      "/storage/gluster/vol1/bcbio/anaconda/bin/snpEff -Xms1000m -Xmx36400m -Djava.io.tmpdir=/storage/gluster/vol1/SHARED/HOMEFOLDERS/adefalco/ABT414_Flank//$SAMPLE/tmpdir eff -noStats -t -noLog -dataDir /storage/gluster/vol1/bcbio/genomes/Hsapiens/hg19/snpeff -hgvs -noLof -i vcf -o vcf -noInteraction -noMotif -noNextProt -strict GRCh37.75 AT4808-filtTNscope.vcf.gz | /glusterfs/biostorage1/brick1/data/PUBLIC/Tools/lib/bin/bgzip --threads 80 -c > AT4808-filtTNscope.snpEff.vcf.gz\n",
      "\n"
     ]
    },
    {
     "data": {
      "text/markdown": [
       "### Tumor: C0288 Normal: ABT414_Flank"
      ],
      "text/plain": [
       "<IPython.core.display.Markdown object>"
      ]
     },
     "metadata": {},
     "output_type": "display_data"
    },
    {
     "name": "stdout",
     "output_type": "stream",
     "text": [
      "/storage/gluster/vol1/bcbio/anaconda/bin/snpEff -Xms1000m -Xmx36400m -Djava.io.tmpdir=/storage/gluster/vol1/SHARED/HOMEFOLDERS/adefalco/ABT414_Flank//$SAMPLE/tmpdir eff -noStats -t -noLog -dataDir /storage/gluster/vol1/bcbio/genomes/Hsapiens/hg19/snpeff -hgvs -noLof -i vcf -o vcf -noInteraction -noMotif -noNextProt -strict GRCh37.75 C0288-filtTNscope.vcf.gz | /glusterfs/biostorage1/brick1/data/PUBLIC/Tools/lib/bin/bgzip --threads 80 -c > C0288-filtTNscope.snpEff.vcf.gz\n",
      "\n"
     ]
    },
    {
     "data": {
      "text/markdown": [
       "### Tumor: C0334 Normal: ABT414_Flank"
      ],
      "text/plain": [
       "<IPython.core.display.Markdown object>"
      ]
     },
     "metadata": {},
     "output_type": "display_data"
    },
    {
     "name": "stdout",
     "output_type": "stream",
     "text": [
      "/storage/gluster/vol1/bcbio/anaconda/bin/snpEff -Xms1000m -Xmx36400m -Djava.io.tmpdir=/storage/gluster/vol1/SHARED/HOMEFOLDERS/adefalco/ABT414_Flank//$SAMPLE/tmpdir eff -noStats -t -noLog -dataDir /storage/gluster/vol1/bcbio/genomes/Hsapiens/hg19/snpeff -hgvs -noLof -i vcf -o vcf -noInteraction -noMotif -noNextProt -strict GRCh37.75 C0334-filtTNscope.vcf.gz | /glusterfs/biostorage1/brick1/data/PUBLIC/Tools/lib/bin/bgzip --threads 80 -c > C0334-filtTNscope.snpEff.vcf.gz\n",
      "\n"
     ]
    },
    {
     "data": {
      "text/markdown": [
       "### Tumor: C1572 Normal: ABT414_Flank"
      ],
      "text/plain": [
       "<IPython.core.display.Markdown object>"
      ]
     },
     "metadata": {},
     "output_type": "display_data"
    },
    {
     "name": "stdout",
     "output_type": "stream",
     "text": [
      "/storage/gluster/vol1/bcbio/anaconda/bin/snpEff -Xms1000m -Xmx36400m -Djava.io.tmpdir=/storage/gluster/vol1/SHARED/HOMEFOLDERS/adefalco/ABT414_Flank//$SAMPLE/tmpdir eff -noStats -t -noLog -dataDir /storage/gluster/vol1/bcbio/genomes/Hsapiens/hg19/snpeff -hgvs -noLof -i vcf -o vcf -noInteraction -noMotif -noNextProt -strict GRCh37.75 C1572-filtTNscope.vcf.gz | /glusterfs/biostorage1/brick1/data/PUBLIC/Tools/lib/bin/bgzip --threads 80 -c > C1572-filtTNscope.snpEff.vcf.gz\n",
      "\n"
     ]
    },
    {
     "data": {
      "text/markdown": [
       "### Tumor: C8448 Normal: ABT414_Flank"
      ],
      "text/plain": [
       "<IPython.core.display.Markdown object>"
      ]
     },
     "metadata": {},
     "output_type": "display_data"
    },
    {
     "name": "stdout",
     "output_type": "stream",
     "text": [
      "/storage/gluster/vol1/bcbio/anaconda/bin/snpEff -Xms1000m -Xmx36400m -Djava.io.tmpdir=/storage/gluster/vol1/SHARED/HOMEFOLDERS/adefalco/ABT414_Flank//$SAMPLE/tmpdir eff -noStats -t -noLog -dataDir /storage/gluster/vol1/bcbio/genomes/Hsapiens/hg19/snpeff -hgvs -noLof -i vcf -o vcf -noInteraction -noMotif -noNextProt -strict GRCh37.75 C8448-filtTNscope.vcf.gz | /glusterfs/biostorage1/brick1/data/PUBLIC/Tools/lib/bin/bgzip --threads 80 -c > C8448-filtTNscope.snpEff.vcf.gz\n",
      "\n"
     ]
    }
   ],
   "source": [
    "display(Markdown(\"___\"))\n",
    "for i in range(batchSize):\n",
    "    SAMPLE = batch[i][0]\n",
    "    TUMOR = batch[i][1]\n",
    "    display(Markdown(\"### Tumor: \"+TUMOR + \" Normal: \" + SAMPLE))\n",
    "    command3 = \"/storage/gluster/vol1/bcbio/anaconda/bin/snpEff -Xms1000m -Xmx36400m -Djava.io.tmpdir=\"+data['SENTIEON_TMPDIR']+\" eff -noStats -t -noLog -dataDir /storage/gluster/vol1/bcbio/genomes/Hsapiens/hg19/snpeff -hgvs -noLof -i vcf -o vcf -noInteraction -noMotif -noNextProt -strict GRCh37.75 \"+TUMOR+\"-filtTNscope.vcf.gz | \"+data['bgzipdir']+\" --threads \"+str(data['nt'])+\" -c > \"+TUMOR+\"-filtTNscope.snpEff.vcf.gz\"\n",
    "    print(command3+'\\n')\n",
    "    if exec_scripts:\n",
    "        subprocess.check_output(command3,shell=True)"
   ]
  },
  {
   "cell_type": "code",
   "execution_count": 47,
   "metadata": {},
   "outputs": [],
   "source": [
    "%%capture\n",
    "#os.chdir(data['home'])\n",
    "!rm html_pipeline.zip\n",
    "!rm -r ./data\n",
    "!mkdir data"
   ]
  },
  {
   "cell_type": "code",
   "execution_count": 48,
   "metadata": {},
   "outputs": [],
   "source": [
    "%%capture\n",
    "!jupyter nbconvert --no-input --execute --ExecutePreprocessor.timeout=-1 --output-dir='./data' --to html pipeline.ipynb\n",
    "!cp /storage/gluster/vol1/data/PUBLIC/SCAMBIO/ABT414_WES_Analysis/ABT414_Flank/ABT414_Flank/*.pdf ./data\n",
    "!cp /storage/gluster/vol1/data/PUBLIC/SCAMBIO/ABT414_WES_Analysis/ABT414_Flank/ABT414_Flank/*_N_aln_metrics.txt ./data\n",
    "!cp /storage/gluster/vol1/data/PUBLIC/SCAMBIO/ABT414_WES_Analysis/ABT414_Flank/ABT414_Flank/*_T_aln_metrics.txt ./data\n",
    "!zip -r \"html_pipeline\" \"./data\"\n"
   ]
  },
  {
   "cell_type": "code",
   "execution_count": null,
   "metadata": {},
   "outputs": [],
   "source": [
    "#!python -m nbconvert /home/adefalco/pipeline.ipynb  --to ipynb --execute"
   ]
  },
  {
   "cell_type": "code",
   "execution_count": null,
   "metadata": {},
   "outputs": [],
   "source": [
    "#import nbinteract as nbi\n",
    "#nbi.publish('AntonioDeFalco/testInteract/master', 'pipeline.ipynb')"
   ]
  },
  {
   "cell_type": "code",
   "execution_count": null,
   "metadata": {},
   "outputs": [],
   "source": [
    "#!jupyter nbconvert /home/adefalco/pipeline.ipynb --to rst"
   ]
  },
  {
   "cell_type": "code",
   "execution_count": null,
   "metadata": {},
   "outputs": [],
   "source": [
    "#!jupyter nbconvert /home/adefalco/pipeline.ipynb --to Interact"
   ]
  },
  {
   "cell_type": "code",
   "execution_count": null,
   "metadata": {},
   "outputs": [],
   "source": []
  }
 ],
 "metadata": {
  "kernelspec": {
   "display_name": "Python 3",
   "language": "python",
   "name": "python3"
  },
  "language_info": {
   "codemirror_mode": {
    "name": "ipython",
    "version": 3
   },
   "file_extension": ".py",
   "mimetype": "text/x-python",
   "name": "python",
   "nbconvert_exporter": "python",
   "pygments_lexer": "ipython3",
   "version": "3.6.3"
  },
  "widgets": {
   "application/vnd.jupyter.widget-state+json": {
    "state": {
     "37bdb4b761f54a2d97b408e90c43b3bf": {
      "model_module": "@jupyter-widgets/controls",
      "model_module_version": "1.5.0",
      "model_name": "DropdownModel",
      "state": {
       "_options_labels": [
        "ABT414_Flank"
       ],
       "index": 0,
       "layout": "IPY_MODEL_f07e108a4ca94ebc8da66d4d7958a3d9",
       "style": "IPY_MODEL_f4d51a7701ea47c191bc09b65ebb5888"
      }
     },
     "46f3f698de174d09b437794bf017fc2e": {
      "model_module": "@jupyter-widgets/base",
      "model_module_version": "1.2.0",
      "model_name": "LayoutModel",
      "state": {}
     },
     "6f48e9f7b6464c398d61eff4facc35d4": {
      "model_module": "@jupyter-widgets/controls",
      "model_module_version": "1.5.0",
      "model_name": "DescriptionStyleModel",
      "state": {
       "description_width": ""
      }
     },
     "931a00f1ea304613946fd0d64c4c41e8": {
      "model_module": "@jupyter-widgets/controls",
      "model_module_version": "1.5.0",
      "model_name": "DropdownModel",
      "state": {
       "_options_labels": [
        "A1783",
        "A9155",
        "A9878",
        "AT2550",
        "AT2822",
        "AT4415",
        "AT4808",
        "C0288",
        "C0334",
        "C1572",
        "C8448",
        "ALL"
       ],
       "index": 11,
       "layout": "IPY_MODEL_46f3f698de174d09b437794bf017fc2e",
       "style": "IPY_MODEL_6f48e9f7b6464c398d61eff4facc35d4"
      }
     },
     "c00ab4f627b649ea927e52562a3408b5": {
      "model_module": "@jupyter-widgets/controls",
      "model_module_version": "1.5.0",
      "model_name": "DescriptionStyleModel",
      "state": {
       "description_width": ""
      }
     },
     "e1075bb758854783aa0ba917e801fcf2": {
      "model_module": "@jupyter-widgets/controls",
      "model_module_version": "1.5.0",
      "model_name": "DropdownModel",
      "state": {
       "_options_labels": [
        "A1783",
        "A9155",
        "A9878",
        "AT2550",
        "AT2822",
        "AT4415",
        "AT4808",
        "C0288",
        "C0334",
        "C1572",
        "C8448"
       ],
       "index": 0,
       "layout": "IPY_MODEL_faf08ba0c566407997acd99333a991dd",
       "style": "IPY_MODEL_c00ab4f627b649ea927e52562a3408b5"
      }
     },
     "f07e108a4ca94ebc8da66d4d7958a3d9": {
      "model_module": "@jupyter-widgets/base",
      "model_module_version": "1.2.0",
      "model_name": "LayoutModel",
      "state": {}
     },
     "f4d51a7701ea47c191bc09b65ebb5888": {
      "model_module": "@jupyter-widgets/controls",
      "model_module_version": "1.5.0",
      "model_name": "DescriptionStyleModel",
      "state": {
       "description_width": ""
      }
     },
     "faf08ba0c566407997acd99333a991dd": {
      "model_module": "@jupyter-widgets/base",
      "model_module_version": "1.2.0",
      "model_name": "LayoutModel",
      "state": {}
     }
    },
    "version_major": 2,
    "version_minor": 0
   }
  }
 },
 "nbformat": 4,
 "nbformat_minor": 4
}
