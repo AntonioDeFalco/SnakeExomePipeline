{
 "cells": [
  {
   "cell_type": "markdown",
   "metadata": {},
   "source": [
    "# Exome Pipeline"
   ]
  },
  {
   "cell_type": "code",
   "execution_count": null,
   "metadata": {},
   "outputs": [],
   "source": [
    "import os\n",
    "import sys\n",
    "from shlex import split\n",
    "\n",
    "from IPython.display import display, Markdown, Latex\n",
    "\n",
    "import numpy as np \n",
    "\n",
    "from ipywidgets import interact, interactive, fixed, interact_manual\n",
    "import ipywidgets as widgets\n",
    "import functools\n",
    "\n",
    "from interactPlots import *\n",
    "\n",
    "import yaml"
   ]
  },
  {
   "cell_type": "code",
   "execution_count": null,
   "metadata": {},
   "outputs": [],
   "source": [
    "#Read options file\n",
    "\n",
    "with open(\"options.yaml\", 'r') as stream:\n",
    "    data = yaml.safe_load(stream)"
   ]
  },
  {
   "cell_type": "code",
   "execution_count": null,
   "metadata": {},
   "outputs": [],
   "source": [
    "#Set environment variables\n",
    "\n",
    "os.environ[\"SENTIEON_INSTALL_DIR\"] = data['SENTIEON_INSTALL_DIR']\n",
    "os.environ[\"SENTIEON_LICENSE\"]= data['SENTIEON_LICENSE']\n",
    "os.environ[\"BCFTOOLS_PLUGINS\"]= data['bcfdir']"
   ]
  },
  {
   "cell_type": "code",
   "execution_count": null,
   "metadata": {},
   "outputs": [],
   "source": [
    "#Set working directory\n",
    "\n",
    "data['home'] = os.getcwd()+\"/\"\n",
    "#data['workdir'] = \"/home/adefalco/\"+ \"/\" + data['batch'] + \"/\"\n",
    "data['workdir'] = data['home'] + data['batch'] + \"/\"\n",
    "\n",
    "if not os.path.isdir(data['workdir']): \n",
    "    os.mkdir(data['workdir']) \n",
    " \n"
   ]
  },
  {
   "cell_type": "markdown",
   "metadata": {},
   "source": [
    "## Batch"
   ]
  },
  {
   "cell_type": "code",
   "execution_count": null,
   "metadata": {},
   "outputs": [],
   "source": [
    "#Read batch\n",
    "from IPython.display import HTML\n",
    "\n",
    "data['samplelist'] = data['home']+data['batch']+\".txt\"\n",
    "\n",
    "batch = []\n",
    "with open (data['samplelist'], 'r') as f:\n",
    "    for row in csv.reader(f,delimiter='\\t'):\n",
    "            batch.append(row)\n",
    "           \n",
    "batchSize = int(np.size(batch)/np.size(batch,1)) \n",
    "\n",
    "HTML(tabulate(batch, headers =[\"Sample\",\"Tumor\", \"Normal\"], tablefmt=\"html\"))"
   ]
  },
  {
   "cell_type": "code",
   "execution_count": null,
   "metadata": {},
   "outputs": [],
   "source": [
    "%%capture\n",
    "#Dropdown widgets\n",
    "\n",
    "tumors = [row[1] for row in batch]\n",
    "\n",
    "widgTum = widgets.Dropdown(\n",
    "    options= tumors,\n",
    "    disabled=False,\n",
    ")  \n",
    "\n",
    "lists = tumors.copy()\n",
    "lists.append('ALL')\n",
    "\n",
    "widgTumAll = widgets.Dropdown(\n",
    "    options= lists,\n",
    "    value='ALL',\n",
    "    disabled=False,\n",
    ") \n",
    "\n",
    "normals = [row[0] for row in batch]\n",
    "#normals = [batch[0][0]]\n",
    "\n",
    "uniqNorm = np.unique(normals)\n",
    "\n",
    "#lists = normals.copy()\n",
    "#lists.append('ALL')\n",
    "\n",
    "widgNor = widgets.Dropdown(\n",
    "    options= uniqNorm,\n",
    "    #value='ALL',\n",
    "    disabled=False,\n",
    ")  \n",
    "\n",
    "normSize = np.size(uniqNorm)\n",
    "\n",
    "if data['samplesParallel']==1000:\n",
    "    data['samplesParallel'] = batchSize+normSize\n"
   ]
  },
  {
   "cell_type": "code",
   "execution_count": null,
   "metadata": {},
   "outputs": [],
   "source": [
    "os.chdir(data['workdir'])\n",
    "exec_scripts = False #Run shell scripts"
   ]
  },
  {
   "cell_type": "code",
   "execution_count": null,
   "metadata": {},
   "outputs": [],
   "source": [
    "#exec_scripts = True "
   ]
  },
  {
   "cell_type": "markdown",
   "metadata": {},
   "source": [
    "# 1a. Mapping reads with BWA-MEM, sorting for normal sample\n",
    "The results of this call are dependent on the number of threads used. To have number of threads independent results, add chunk size option -K 10000000"
   ]
  },
  {
   "cell_type": "code",
   "execution_count": null,
   "metadata": {},
   "outputs": [],
   "source": [
    "ERROR = \"error\"\n",
    "commands = []\n",
    "for i in range(normSize):\n",
    "    SAMPLE = uniqNorm[i]\n",
    "    display(Markdown(\"### Normal: \" + SAMPLE))\n",
    "    \n",
    "    command = \"(\" + data['SENTIEON_INSTALL_DIR']+\"/bin/sentieon bwa mem -M -R '@RG\\\\tID:\"+SAMPLE+\"N\\\\tSM:\"+SAMPLE+\"N\\\\tPL:\"+data['platform']+\"' -t \"+str(data['nt'])+\" -K 10000000 \"+data['fasta']+\" \"+data['fastq_folder_NORMAL']+\"/*_\"+data['fastq_1_suffix']+\" \"+data['fastq_folder_NORMAL']+\"/*_\"+data['fastq_2_suffix']+\" || echo -n \"+ ERROR +\" ) | \"+data['SENTIEON_INSTALL_DIR']+\"/bin/sentieon util sort -o \"+SAMPLE+\"N_sorted.bam -t \"+str(data['nt'])+\" --sam2bam -i -\"\n",
    "    print(command+'\\n')\n",
    "    commands.append(command)\n",
    "\n",
    "#if exec_scripts:\n",
    "#    commandsParallel(commands,normSize,data['samplesParallel'])"
   ]
  },
  {
   "cell_type": "markdown",
   "metadata": {},
   "source": [
    "# 1a. Mapping reads with BWA-MEM, sorting for tumor sample\n",
    "The results of this call are dependent on the number of threads used. To have number of threads independent results, add chunk size option -K 10000000"
   ]
  },
  {
   "cell_type": "code",
   "execution_count": null,
   "metadata": {},
   "outputs": [],
   "source": [
    "#commands = []\n",
    "for i in range(batchSize):\n",
    "    TUMOR = batch[i][1]\n",
    "    display(Markdown(\"### Tumor: \"+TUMOR))\n",
    "    command = \"(\" + data['SENTIEON_INSTALL_DIR']+\"/bin/sentieon bwa mem -M -R '@RG\\\\tID:\"+TUMOR+\"T\\\\tSM:\"+TUMOR+\"T\\\\tPL:\"+data['platform']+\"' -t \"+str(data['nt'])+\" -K 10000000 \"+data['fasta']+\" \"+data['fastq_folder']+\"/\"+TUMOR+\"/*_\"+data['fastq_1_suffix']+\" \"+data['fastq_folder']+\"/\"+TUMOR+\"/*_\"+data['fastq_2_suffix']+\" || echo -n \"+ ERROR +\" ) | \"+data['SENTIEON_INSTALL_DIR']+\"/bin/sentieon util sort -o \"+TUMOR+\"T_sorted.bam -t \"+str(data['nt'])+\" --sam2bam -i -\"\n",
    "    print(command+'\\n')\n",
    "    commands.append(command)\n",
    "\n",
    "if exec_scripts:\n",
    "    commandsParallel(commands,normSize+batchSize,data['samplesParallel'])\n",
    "    "
   ]
  },
  {
   "cell_type": "markdown",
   "metadata": {},
   "source": [
    "# 2a. Metrics for normal sample"
   ]
  },
  {
   "cell_type": "code",
   "execution_count": null,
   "metadata": {},
   "outputs": [],
   "source": [
    "commands = []\n",
    "for i in range(normSize):\n",
    "    SAMPLE = uniqNorm[i]\n",
    "    display(Markdown(\"### Normal: \" + SAMPLE))\n",
    "    command1 = data['SENTIEON_INSTALL_DIR']+\"/bin/sentieon driver -r \"+data['fasta']+\" -t \"+str(data['nt'])+\" -i \"+SAMPLE+\"N_sorted.bam --algo MeanQualityByCycle \"+SAMPLE+\"N_mq_metrics.txt --algo QualDistribution \"+SAMPLE+\"N_qd_metrics.txt --algo GCBias --summary \"+SAMPLE+\"N_gc_summary.txt \"+SAMPLE+\"N_gc_metrics.txt --algo AlignmentStat --adapter_seq '' \"+SAMPLE+\"N_aln_metrics.txt --algo InsertSizeMetricAlgo \"+SAMPLE+\"N_is_metrics.txt\"\n",
    "    print(command1+'\\n')\n",
    "    commands.append(command1)\n",
    "\n",
    "if exec_scripts:\n",
    "    commandsParallel(commands,normSize,data['samplesParallel'])\n"
   ]
  },
  {
   "cell_type": "code",
   "execution_count": null,
   "metadata": {},
   "outputs": [],
   "source": [
    "%%capture\n",
    "\"\"\"from __future__ import print_function\n",
    "from ipywidgets import interact, interactive, fixed, interact_manual\n",
    "import ipywidgets as widgets\n",
    "import functools\n",
    "from interactPlots import *\n",
    "\n",
    "inter = interact(tableShow, Sample=widgNor, file=fixed(\"_N_aln_metrics.txt\"), cols = fixed([0,1,2,5,6]), listSample = fixed([]));\n",
    "display(inter)\"\"\""
   ]
  },
  {
   "cell_type": "code",
   "execution_count": null,
   "metadata": {},
   "outputs": [],
   "source": [
    "\n",
    "\n",
    "javascript = \"\"\"\n",
    "\n",
    "<script type=\"text/Javascript\">\n",
    "\n",
    "function myTable(idd, jsonObj) {\n",
    "\n",
    "  var x = document.getElementById(\"selectSample\"+idd).value;\n",
    "  document.getElementById(\"myText\"+idd).innerHTML = x;\n",
    "  \n",
    "  var table = document.getElementById(\"myTable\"+idd);\n",
    "\n",
    "  while(table.rows[0]) table.deleteRow(0);\n",
    "\n",
    "  i = 0;\n",
    "  \n",
    "  var jsonObj2 = jsonObj[x];\n",
    "  \n",
    "  console.log(jsonObj2)\n",
    "  \n",
    "  Object.keys(jsonObj2).forEach(function(k){\n",
    "  \n",
    "    var row = table.insertRow(i);\n",
    "    i = i+1;\n",
    "    var cell1 = row.insertCell(0);\n",
    "    var cell2 = row.insertCell(1);\n",
    "    var cell3 = row.insertCell(2);\n",
    "    var cell4 = row.insertCell(3);\n",
    "    cell1.innerHTML = k;\n",
    "    cell2.innerHTML = jsonObj2[k].TOTAL_READS;\n",
    "    cell3.innerHTML = jsonObj2[k].PF_READS_ALIGNED;\n",
    "    cell4.innerHTML = jsonObj2[k].PCT_PF_READS_ALIGNED;\n",
    "    \n",
    "  }); \n",
    "  \n",
    "     var header = table.createTHead();\n",
    "    var row = header.insertRow(0);     \n",
    "    var cell1 = row.insertCell(0);\n",
    "    var cell2 = row.insertCell(1);\n",
    "    var cell3 = row.insertCell(2);\n",
    "    var cell4 = row.insertCell(3);\n",
    "    cell1.innerHTML = \"CATEGORY\";\n",
    "    cell2.innerHTML = \"TOTAL_READS\";\n",
    "    cell3.innerHTML = \"PF_READS_ALIGNED\";\n",
    "    cell4.innerHTML = \"PCT_PF_READS_ALIGNED\";\n",
    "}\n",
    "\n",
    "function myDropdown(sel,opts) {\n",
    "    for(var i = 0; i < opts.length; i++) {\n",
    "        var opt = opts[i];\n",
    "        var el = document.createElement(\"option\");\n",
    "        el.textContent = opt;\n",
    "        el.value = opt;\n",
    "        if (i < 1) {\n",
    "            el.selected = \"true\";\n",
    "        }\n",
    "        sel.appendChild(el);\n",
    "    }\n",
    "}\n",
    "\n",
    "function myPlots(type,idd) {\n",
    "  var x = document.getElementById(\"selectSample\"+idd).value;\n",
    "  document.getElementById(\"myText\"+idd).innerHTML = x;\n",
    "  document.getElementById(\"pdf\"+idd).src = x+type;\n",
    "}\n",
    "\n",
    "</script>\n",
    "\n",
    "\"\"\"\n",
    "\n",
    "HTML(javascript)"
   ]
  },
  {
   "cell_type": "code",
   "execution_count": null,
   "metadata": {},
   "outputs": [],
   "source": [
    "path = \"/storage/gluster/vol1/data/PUBLIC/SCAMBIO/ABT414_WES_Analysis/ABT414_Flank/ABT414_Flank/\" #TO REMOVE\n",
    "#path = \"/storage/gluster/vol1/data/PUBLIC/SCAMBIO/MayoClinicData_30_08_2019_Analysis/\" #TO REMOVE\n",
    "#path = path + data['batch'] + \"/\"\n",
    "file = \"_N_aln_metrics.txt\"\n",
    "\n",
    "alldata = {}\n",
    "\n",
    "for i in range(normSize):\n",
    "    csvFilePath = path+uniqNorm[i]+file\n",
    "    jsonfile = make_json(csvFilePath,uniqNorm[i],alldata)\n",
    "\n",
    "#print(jsonfile)\n",
    "\n",
    "id = 0\n",
    "id = id +1\n",
    "\n",
    "javascript = \"\"\"\n",
    "\n",
    "\n",
    "<head>\n",
    "\n",
    "<style>\n",
    "table, td {\n",
    "  border: 1px solid black;\n",
    "  font-size: 18px;\n",
    "}\n",
    "</style>\n",
    "\n",
    "</head>\n",
    "\n",
    "\n",
    "<select id='selectSample\"\"\"+str(id)+\"\"\"'>  </select>\n",
    "\n",
    "<h1>The sample is:  <span id=\"myText\"\"\"+str(id)+\"\"\"\"></span></h1>\n",
    "\n",
    "<body>\n",
    "<table id=\"myTable\"\"\"+str(id)+\"\"\"\"></table>\n",
    "<br>\n",
    "\n",
    "<script type=\"text/Javascript\">\n",
    "\n",
    "var select = document.getElementById(\"selectSample\"\"\"+str(id)+\"\"\"\");\n",
    "\n",
    "var objNorm = JSON.parse('\"\"\"+jsonfile+\"\"\"');\n",
    "\n",
    "myDropdown(select,Object.keys(objNorm)) \n",
    "\n",
    "document.getElementById(\"selectSample\"\"\"+str(id)+\"\"\"\").onchange = function() {myTable(\"\"\"+str(id)+\"\"\",objNorm)};\n",
    "\n",
    "myTable(\"\"\"+str(id)+\"\"\",objNorm)\n",
    "\n",
    "</script>\n",
    "</body>\n",
    "\"\"\"\n",
    "\n",
    "HTML(javascript)"
   ]
  },
  {
   "cell_type": "markdown",
   "metadata": {},
   "source": [
    "- **CATEGORY**: Distinguishes either \n",
    "    - PAIRED: for a fragment run.\n",
    "    - FIRST_OF_PAIR: when metrics are for only the first read in a paired run. \n",
    "    - SECOND_OF_PAIR: when metrics are for only the second read in a paired run.\n",
    "    - PAIR: when metrics are aggregated for both first and second reads in a pair. \n",
    "\n",
    "\n",
    "- **TOTAL_READS**: The total number of reads \n",
    "\n",
    "- **PF_READS_ALIGNED**: The number of reads that aligned to the reference sequence\n",
    "\n",
    "- **PCT_PF_READS_ALIGNED**: The percentage of reads that aligned to the reference sequence"
   ]
  },
  {
   "cell_type": "code",
   "execution_count": null,
   "metadata": {},
   "outputs": [],
   "source": [
    "display(Markdown(\"___\"))\n",
    "\n",
    "commands = []\n",
    "for i in range(normSize):\n",
    "    SAMPLE = uniqNorm[i]\n",
    "    display(Markdown(\"### Normal: \" + SAMPLE))\n",
    "    command2 = data['SENTIEON_INSTALL_DIR']+\"/bin/sentieon plot GCBias -o \"+SAMPLE+\"N_gc-report.pdf \"+SAMPLE+\"N_gc_metrics.txt\"\n",
    "    print(command2+'\\n')\n",
    "    commands.append(command2)\n",
    "\n",
    "if exec_scripts:\n",
    "    commandsParallel(commands,normSize,data['samplesParallel'])"
   ]
  },
  {
   "cell_type": "code",
   "execution_count": null,
   "metadata": {},
   "outputs": [],
   "source": [
    "#interact(plots, Sample=widgNor, file=fixed(\"_N_gc-report.pdf\"), normal=fixed(True), listSample = fixed([]));\n",
    "#embed_minimal_html('export.html', views=test, title='Widgets export')\n",
    "\n",
    "\n",
    "\n",
    "id = id +1\n",
    "\n",
    "input_form = \"\"\"\n",
    "\n",
    "<select id='selectSample\"\"\"+str(id)+\"\"\"'>  </select>\n",
    "\n",
    "<body onload=\"myPlots()\">\n",
    "\n",
    "<h1>The sample is:  <span id=\"myText\"\"\"+str(id)+\"\"\"\"></span></h1>\n",
    "\n",
    "<div>\n",
    "  <iframe id=\"pdf\"\"\"+str(id)+\"\"\"\" src=\"\" style=\"width:100%;height:700px;\"></iframe>\n",
    "</div>\n",
    "\n",
    "\n",
    "</body>\n",
    "\n",
    "\"\"\"\n",
    "\n",
    "javascript = \"\"\"\n",
    "\n",
    "<script type=\"text/Javascript\">\n",
    "\n",
    "var select = document.getElementById(\"selectSample\"\"\"+str(id)+\"\"\"\");\n",
    "\n",
    "myDropdown(select,Object.keys(objNorm)) \n",
    "\n",
    "var type\"\"\"+str(id)+\"\"\" = \"_N_gc-report.pdf\"\n",
    "\n",
    "myPlots(type\"\"\"+str(id)+\"\"\",\"\"\"+str(id)+\"\"\")\n",
    "\n",
    "document.getElementById(\"selectSample\"\"\"+str(id)+\"\"\"\").onchange = function() {myPlots(type\"\"\"+str(id)+\"\"\",\"\"\"+str(id)+\"\"\")};\n",
    "\n",
    "</script>\n",
    "\"\"\"\n",
    "\n",
    "HTML(input_form + javascript)\n"
   ]
  },
  {
   "cell_type": "code",
   "execution_count": null,
   "metadata": {},
   "outputs": [],
   "source": [
    "display(Markdown(\"___\"))\n",
    "\n",
    "commands = []\n",
    "for i in range(normSize):\n",
    "    SAMPLE = uniqNorm[i]\n",
    "    display(Markdown(\"### Normal: \" + SAMPLE))\n",
    "    command3 = data['SENTIEON_INSTALL_DIR']+\"/bin/sentieon plot QualDistribution -o \"+SAMPLE+\"N_qd-report.pdf \"+SAMPLE+\"N_qd_metrics.txt\"\n",
    "    print(command3+'\\n')\n",
    "    commands.append(command3)\n",
    "\n",
    "if exec_scripts:\n",
    "    commandsParallel(commands,normSize,data['samplesParallel'])"
   ]
  },
  {
   "cell_type": "code",
   "execution_count": null,
   "metadata": {},
   "outputs": [],
   "source": [
    "#interact(plots, Sample=widgNor, file=fixed(\"_N_qd-report.pdf\"), normal=fixed(True), listSample = fixed([]));\n",
    "\n",
    "id = id +1\n",
    "\n",
    "input_form = \"\"\"\n",
    "\n",
    "<select id='selectSample\"\"\"+str(id)+\"\"\"'>  </select>\n",
    "\n",
    "<body onload=\"myPlots()\">\n",
    "\n",
    "<h1>The sample is:  <span id=\"myText\"\"\"+str(id)+\"\"\"\"></span></h1>\n",
    "\n",
    "<div>\n",
    "  <iframe id=\"pdf\"\"\"+str(id)+\"\"\"\" src=\"\" style=\"width:100%;height:700px;\"></iframe>\n",
    "</div>\n",
    "\n",
    "\n",
    "</body>\n",
    "\n",
    "\"\"\"\n",
    "\n",
    "javascript = \"\"\"\n",
    "\n",
    "<script type=\"text/Javascript\">\n",
    "\n",
    "var select = document.getElementById(\"selectSample\"\"\"+str(id)+\"\"\"\");\n",
    "\n",
    "myDropdown(select,Object.keys(objNorm)) \n",
    "\n",
    "var type\"\"\"+str(id)+\"\"\" = \"_N_qd-report.pdf\"\n",
    "\n",
    "myPlots(type\"\"\"+str(id)+\"\"\",\"\"\"+str(id)+\"\"\")\n",
    "\n",
    "document.getElementById(\"selectSample\"\"\"+str(id)+\"\"\"\").onchange = function() {myPlots(type\"\"\"+str(id)+\"\"\",\"\"\"+str(id)+\"\"\")};\n",
    "\n",
    "\n",
    "</script>\n",
    "\"\"\"\n",
    "    \n",
    "\n",
    "HTML(input_form + javascript)\n",
    "\n"
   ]
  },
  {
   "cell_type": "code",
   "execution_count": null,
   "metadata": {},
   "outputs": [],
   "source": [
    "display(Markdown(\"___\"))\n",
    "\n",
    "commands = []\n",
    "for i in range(normSize):\n",
    "    SAMPLE = uniqNorm[i]\n",
    "    display(Markdown(\"### Normal: \" + SAMPLE))\n",
    "    command4 = data['SENTIEON_INSTALL_DIR']+\"/bin/sentieon plot MeanQualityByCycle -o \"+SAMPLE+\"N_mq-report.pdf \"+SAMPLE+\"N_mq_metrics.txt\"\n",
    "    print(command4+'\\n')\n",
    "    commands.append(command4)\n",
    "\n",
    "if exec_scripts:\n",
    "    commandsParallel(commands,normSize,data['samplesParallel'])"
   ]
  },
  {
   "cell_type": "code",
   "execution_count": null,
   "metadata": {},
   "outputs": [],
   "source": [
    "#interact(plots, Sample=widgNor, file=fixed(\"_N_mq-report.pdf\"), normal=fixed(True), listSample = fixed([]));\n",
    "\n",
    "id = id +1\n",
    "\n",
    "input_form = \"\"\"\n",
    "\n",
    "<select id='selectSample\"\"\"+str(id)+\"\"\"'>  </select>\n",
    "\n",
    "<body onload=\"myPlots()\">\n",
    "\n",
    "<h1>The sample is:  <span id=\"myText\"\"\"+str(id)+\"\"\"\"></span></h1>\n",
    "\n",
    "<div>\n",
    "  <iframe id=\"pdf\"\"\"+str(id)+\"\"\"\" src=\"\" style=\"width:100%;height:700px;\"></iframe>\n",
    "</div>\n",
    "\n",
    "\n",
    "</body>\n",
    "\n",
    "\"\"\"\n",
    "\n",
    "javascript = \"\"\"\n",
    "\n",
    "<script type=\"text/Javascript\">\n",
    "\n",
    "var select = document.getElementById(\"selectSample\"\"\"+str(id)+\"\"\"\");\n",
    "\n",
    "myDropdown(select,Object.keys(objNorm)) \n",
    "\n",
    "var type\"\"\"+str(id)+\"\"\" = \"_N_mq-report.pdf\"\n",
    "\n",
    "myPlots(type\"\"\"+str(id)+\"\"\",\"\"\"+str(id)+\"\"\")\n",
    "\n",
    "document.getElementById(\"selectSample\"\"\"+str(id)+\"\"\"\").onchange = function() {myPlots(type\"\"\"+str(id)+\"\"\",\"\"\"+str(id)+\"\"\")};\n",
    "\n",
    "\n",
    "</script>\n",
    "\"\"\"\n",
    "    \n",
    "\n",
    "HTML(input_form + javascript)\n",
    "\n"
   ]
  },
  {
   "cell_type": "code",
   "execution_count": null,
   "metadata": {},
   "outputs": [],
   "source": [
    "display(Markdown(\"___\"))\n",
    "\n",
    "commands = []\n",
    "for i in range(normSize):\n",
    "    SAMPLE = uniqNorm[i]\n",
    "    display(Markdown(\"### Normal: \" + SAMPLE))\n",
    "    command5 = data['SENTIEON_INSTALL_DIR']+\"/bin/sentieon plot InsertSizeMetricAlgo -o \"+SAMPLE+\"N_is-report.pdf \"+SAMPLE+\"N_is_metrics.txt\"\n",
    "    print(command5+'\\n')\n",
    "    commands.append(command5)\n",
    "\n",
    "if exec_scripts:\n",
    "    commandsParallel(commands,normSize,data['samplesParallel'])"
   ]
  },
  {
   "cell_type": "code",
   "execution_count": null,
   "metadata": {},
   "outputs": [],
   "source": [
    "#interact(plots, Sample=widgNor, file=fixed(\"_N_is-report.pdf\"), normal=fixed(True), listSample = fixed([]));\n",
    "\n",
    "id = id +1\n",
    "\n",
    "input_form = \"\"\"\n",
    "\n",
    "<select id='selectSample\"\"\"+str(id)+\"\"\"'>  </select>\n",
    "\n",
    "<body onload=\"myPlots()\">\n",
    "\n",
    "<h1>The sample is:  <span id=\"myText\"\"\"+str(id)+\"\"\"\"></span></h1>\n",
    "\n",
    "<div>\n",
    "  <iframe id=\"pdf\"\"\"+str(id)+\"\"\"\" src=\"\" style=\"width:100%;height:700px;\"></iframe>\n",
    "</div>\n",
    "\n",
    "\n",
    "</body>\n",
    "\n",
    "\"\"\"\n",
    "\n",
    "javascript = \"\"\"\n",
    "\n",
    "<script type=\"text/Javascript\">\n",
    "\n",
    "var select = document.getElementById(\"selectSample\"\"\"+str(id)+\"\"\"\");\n",
    "\n",
    "myDropdown(select,Object.keys(objNorm)) \n",
    "\n",
    "var type\"\"\"+str(id)+\"\"\" = \"_N_is-report.pdf\"\n",
    "\n",
    "myPlots(type\"\"\"+str(id)+\"\"\",\"\"\"+str(id)+\"\"\")\n",
    "\n",
    "document.getElementById(\"selectSample\"\"\"+str(id)+\"\"\"\").onchange = function() {myPlots(type\"\"\"+str(id)+\"\"\",\"\"\"+str(id)+\"\"\")};\n",
    "\n",
    "\n",
    "</script>\n",
    "\"\"\"\n",
    "    \n",
    "\n",
    "HTML(input_form + javascript)\n",
    "\n"
   ]
  },
  {
   "cell_type": "markdown",
   "metadata": {},
   "source": [
    "# 2a. Metrics for tumor sample"
   ]
  },
  {
   "cell_type": "code",
   "execution_count": null,
   "metadata": {},
   "outputs": [],
   "source": [
    "commands = []\n",
    "\n",
    "for i in range(batchSize):\n",
    "    TUMOR = batch[i][1]\n",
    "    display(Markdown(\"### Tumor: \"+TUMOR))\n",
    "    command1 = data['SENTIEON_INSTALL_DIR']+\"/bin/sentieon driver -r \"+data['fasta']+\" -t \"+str(data['nt'])+\" -i \"+TUMOR+\"T_sorted.bam --algo MeanQualityByCycle \"+TUMOR+\"T_mq_metrics.txt --algo QualDistribution \"+TUMOR+\"T_qd_metrics.txt --algo GCBias --summary \"+TUMOR+\"T_gc_summary.txt \"+TUMOR+\"T_gc_metrics.txt --algo AlignmentStat --adapter_seq '' \"+TUMOR+\"T_aln_metrics.txt --algo InsertSizeMetricAlgo \"+TUMOR+\"T_is_metrics.txt\"\n",
    "    commands.append(command1)\n",
    "    print(command1+'\\n')\n",
    "      \n",
    "\n",
    "if exec_scripts:\n",
    "    commandsParallel(commands,batchSize,data['samplesParallel'])\n",
    "    "
   ]
  },
  {
   "cell_type": "code",
   "execution_count": null,
   "metadata": {},
   "outputs": [],
   "source": [
    "commands = []\n",
    "\n",
    "for i in range(batchSize):\n",
    "    TUMOR = batch[i][1]\n",
    "    display(Markdown(\"### Tumor: \"+TUMOR))\n",
    "    command1 = data['SENTIEON_INSTALL_DIR']+\"/bin/sentieon driver -r \"+data['fasta']+\" -t \"+str(data['nt'])+\" -i \"+TUMOR+\"T_sorted.bam --algo MeanQualityByCycle \"+TUMOR+\"T_mq_metrics.txt --algo QualDistribution \"+TUMOR+\"T_qd_metrics.txt --algo GCBias --summary \"+TUMOR+\"T_gc_summary.txt \"+TUMOR+\"T_gc_metrics.txt --algo AlignmentStat --adapter_seq '' \"+TUMOR+\"T_aln_metrics.txt --algo InsertSizeMetricAlgo \"+TUMOR+\"T_is_metrics.txt\"\n",
    "    print(command1+'\\n')\n",
    "    commands.append(command1)\n",
    "\n",
    "if exec_scripts:\n",
    "    commandsParallel(commands,batchSize,data['samplesParallel'])"
   ]
  },
  {
   "cell_type": "code",
   "execution_count": null,
   "metadata": {},
   "outputs": [],
   "source": [
    "%%capture\n",
    "\"\"\"interact(tableShow, Sample=widgTumAll, file=fixed(\"_T_aln_metrics.txt\"), cols = fixed([0,1,2,5,6]), listSample = fixed(tumors));\"\"\""
   ]
  },
  {
   "cell_type": "code",
   "execution_count": null,
   "metadata": {},
   "outputs": [],
   "source": [
    "#path = \"/storage/gluster/vol1/data/PUBLIC/SCAMBIO/ABT414_WES_Analysis/ABT414_Flank/ABT414_Flank/\"\n",
    "#Sample = tumors[1]\n",
    "file = \"_T_aln_metrics.txt\"    \n",
    "\n",
    "alldata = {}\n",
    "\n",
    "for i in range(batchSize):\n",
    "    csvFilePath = path+tumors[i]+file\n",
    "    jsonfile = make_json(csvFilePath,tumors[i],alldata)\n",
    "    \n",
    "id = id +1\n",
    "\n",
    "javascript = \"\"\"\n",
    "\n",
    "<select id='selectSample\"\"\"+str(id)+\"\"\"'>  </select>\n",
    "\n",
    "<h1>The sample is:  <span id=\"myText\"\"\"+str(id)+\"\"\"\"></span></h1>\n",
    "\n",
    "<body>\n",
    "\n",
    "<table id=\"myTable\"\"\"+str(id)+\"\"\"\"\"></table>\n",
    "<br>\n",
    "\n",
    "<script type=\"text/Javascript\">\n",
    "\n",
    "var select = document.getElementById(\"selectSample\"\"\"+str(id)+\"\"\"\");\n",
    "\n",
    "var objTum = JSON.parse('\"\"\"+jsonfile+\"\"\"');\n",
    "\n",
    "myDropdown(select,Object.keys(objTum)) \n",
    "\n",
    "document.getElementById(\"selectSample\"\"\"+str(id)+\"\"\"\").onchange = function() {myTable(\"\"\"+str(id)+\"\"\",objTum)};\n",
    "\n",
    "myTable(\"\"\"+str(id)+\"\"\",objTum)\n",
    "\n",
    "</script>\n",
    "</body>\n",
    "\"\"\"\n",
    "\n",
    "HTML(javascript)"
   ]
  },
  {
   "cell_type": "markdown",
   "metadata": {},
   "source": [
    "- **CATEGORY**: Distinguishes either \n",
    "    - PAIRED: for a fragment run.\n",
    "    - FIRST_OF_PAIR: when metrics are for only the first read in a paired run. \n",
    "    - SECOND_OF_PAIR: when metrics are for only the second read in a paired run.\n",
    "    - PAIR: when metrics are aggregated for both first and second reads in a pair. \n",
    "\n",
    "\n",
    "- **TOTAL_READS**: The total number of reads \n",
    "\n",
    "- **PF_READS_ALIGNED**: The number of reads that aligned to the reference sequence\n",
    "\n",
    "- **PCT_PF_READS_ALIGNED**: The percentage of reads that aligned to the reference sequence"
   ]
  },
  {
   "cell_type": "code",
   "execution_count": null,
   "metadata": {},
   "outputs": [],
   "source": [
    "display(Markdown(\"___\"))\n",
    "\n",
    "commands = []\n",
    "for i in range(batchSize):\n",
    "    TUMOR = batch[i][1]\n",
    "    display(Markdown(\"### Tumor: \"+TUMOR))\n",
    "    command2 = data['SENTIEON_INSTALL_DIR']+\"/bin/sentieon plot GCBias -o \"+TUMOR+\"T_gc-report.pdf \"+TUMOR+\"T_gc_metrics.txt\"\n",
    "    print(command2+'\\n')\n",
    "    commands.append(command2)\n",
    "\n",
    "if exec_scripts:\n",
    "    commandsParallel(commands,batchSize,data['samplesParallel'])"
   ]
  },
  {
   "cell_type": "code",
   "execution_count": null,
   "metadata": {},
   "outputs": [],
   "source": [
    "#interact(plots, Sample=widgTumAll, file=fixed(\"_T_gc-report.pdf\"), normal=fixed(False), listSample = fixed(tumors));\n",
    "\n",
    "id = id +1\n",
    "\n",
    "input_form = \"\"\"\n",
    "\n",
    "<select id='selectSample\"\"\"+str(id)+\"\"\"'>  </select>\n",
    "\n",
    "<body onload=\"myPlots()\">\n",
    "\n",
    "<h1>The sample is:  <span id=\"myText\"\"\"+str(id)+\"\"\"\"></span></h1>\n",
    "\n",
    "<div>\n",
    "  <iframe id=\"pdf\"\"\"+str(id)+\"\"\"\" src=\"\" style=\"width:100%;height:700px;\"></iframe>\n",
    "</div>\n",
    "\n",
    "\n",
    "</body>\n",
    "\n",
    "\"\"\"\n",
    "\n",
    "javascript = \"\"\"\n",
    "\n",
    "<script type=\"text/Javascript\">\n",
    "\n",
    "var select = document.getElementById(\"selectSample\"\"\"+str(id)+\"\"\"\");\n",
    "\n",
    "myDropdown(select,Object.keys(objTum)) \n",
    "\n",
    "var type\"\"\"+str(id)+\"\"\" = \"_T_gc-report.pdf\"\n",
    "\n",
    "myPlots(type\"\"\"+str(id)+\"\"\",\"\"\"+str(id)+\"\"\")\n",
    "\n",
    "document.getElementById(\"selectSample\"\"\"+str(id)+\"\"\"\").onchange = function() {myPlots(type\"\"\"+str(id)+\"\"\",\"\"\"+str(id)+\"\"\")};\n",
    "\n",
    "\n",
    "</script>\n",
    "\"\"\"\n",
    "    \n",
    "\n",
    "HTML(input_form + javascript)"
   ]
  },
  {
   "cell_type": "code",
   "execution_count": null,
   "metadata": {},
   "outputs": [],
   "source": [
    "display(Markdown(\"___\"))\n",
    "\n",
    "commands = []\n",
    "for i in range(batchSize):\n",
    "    TUMOR = batch[i][1]\n",
    "    display(Markdown(\"### Tumor: \"+TUMOR))\n",
    "    command3 = data['SENTIEON_INSTALL_DIR']+\"/bin/sentieon plot QualDistribution -o \"+TUMOR+\"T_qd-report.pdf \"+TUMOR+\"T_qd_metrics.txt\"\n",
    "    print(command3+'\\n')\n",
    "    commands.append(command3)\n",
    "\n",
    "if exec_scripts:\n",
    "    commandsParallel(commands,batchSize,data['samplesParallel'])"
   ]
  },
  {
   "cell_type": "code",
   "execution_count": null,
   "metadata": {},
   "outputs": [],
   "source": [
    "#interact(plots, Sample=widgTumAll, file=fixed(\"_T_qd-report.pdf\"), normal=fixed(False), listSample = fixed(tumors));\n",
    "\n",
    "id = id +1\n",
    "\n",
    "input_form = \"\"\"\n",
    "\n",
    "<select id='selectSample\"\"\"+str(id)+\"\"\"'>  </select>\n",
    "\n",
    "<body onload=\"myPlots()\">\n",
    "\n",
    "<h1>The sample is:  <span id=\"myText\"\"\"+str(id)+\"\"\"\"></span></h1>\n",
    "\n",
    "<div>\n",
    "  <iframe id=\"pdf\"\"\"+str(id)+\"\"\"\" src=\"\" style=\"width:100%;height:700px;\"></iframe>\n",
    "</div>\n",
    "\n",
    "\n",
    "</body>\n",
    "\n",
    "\"\"\"\n",
    "\n",
    "javascript = \"\"\"\n",
    "\n",
    "<script type=\"text/Javascript\">\n",
    "\n",
    "var select = document.getElementById(\"selectSample\"\"\"+str(id)+\"\"\"\");\n",
    "\n",
    "myDropdown(select,Object.keys(objTum)) \n",
    "\n",
    "var type\"\"\"+str(id)+\"\"\" = \"_T_qd-report.pdf\"\n",
    "\n",
    "myPlots(type\"\"\"+str(id)+\"\"\",\"\"\"+str(id)+\"\"\")\n",
    "\n",
    "document.getElementById(\"selectSample\"\"\"+str(id)+\"\"\"\").onchange = function() {myPlots(type\"\"\"+str(id)+\"\"\",\"\"\"+str(id)+\"\"\")};\n",
    "\n",
    "\n",
    "</script>\n",
    "\"\"\"\n",
    "    \n",
    "\n",
    "HTML(input_form + javascript)"
   ]
  },
  {
   "cell_type": "code",
   "execution_count": null,
   "metadata": {},
   "outputs": [],
   "source": [
    "display(Markdown(\"___\"))\n",
    "\n",
    "commands = []\n",
    "for i in range(batchSize):\n",
    "    TUMOR = batch[i][1]\n",
    "    display(Markdown(\"### Tumor: \"+TUMOR))\n",
    "    command4 = data['SENTIEON_INSTALL_DIR']+\"/bin/sentieon plot MeanQualityByCycle -o \"+TUMOR+\"T_mq-report.pdf \"+TUMOR+\"T_mq_metrics.txt\"\n",
    "    print(command4+'\\n')\n",
    "    commands.append(command4)\n",
    "\n",
    "if exec_scripts:\n",
    "    commandsParallel(commands,batchSize,data['samplesParallel'])"
   ]
  },
  {
   "cell_type": "code",
   "execution_count": null,
   "metadata": {},
   "outputs": [],
   "source": [
    "#interact(plots, Sample=widgTumAll, file=fixed(\"_T_mq-report.pdf\"), normal=fixed(False), listSample = fixed(tumors));\n",
    "#embed_minimal_html('export.html', views=[widgTumAll], title='Widgets export')\n",
    "\n",
    "id = id +1\n",
    "\n",
    "input_form = \"\"\"\n",
    "\n",
    "<select id='selectSample\"\"\"+str(id)+\"\"\"'>  </select>\n",
    "\n",
    "<body onload=\"myPlots()\">\n",
    "\n",
    "<h1>The sample is:  <span id=\"myText\"\"\"+str(id)+\"\"\"\"></span></h1>\n",
    "\n",
    "<div>\n",
    "  <iframe id=\"pdf\"\"\"+str(id)+\"\"\"\" src=\"\" style=\"width:100%;height:700px;\"></iframe>\n",
    "</div>\n",
    "\n",
    "\n",
    "</body>\n",
    "\n",
    "\"\"\"\n",
    "\n",
    "javascript = \"\"\"\n",
    "\n",
    "<script type=\"text/Javascript\">\n",
    "\n",
    "var select = document.getElementById(\"selectSample\"\"\"+str(id)+\"\"\"\");\n",
    "\n",
    "myDropdown(select,Object.keys(objTum)) \n",
    "\n",
    "var type\"\"\"+str(id)+\"\"\" = \"_T_mq-report.pdf\"\n",
    "\n",
    "myPlots(type\"\"\"+str(id)+\"\"\",\"\"\"+str(id)+\"\"\")\n",
    "\n",
    "document.getElementById(\"selectSample\"\"\"+str(id)+\"\"\"\").onchange = function() {myPlots(type\"\"\"+str(id)+\"\"\",\"\"\"+str(id)+\"\"\")};\n",
    "\n",
    "\n",
    "</script>\n",
    "\"\"\"\n",
    "    \n",
    "\n",
    "HTML(input_form + javascript)"
   ]
  },
  {
   "cell_type": "code",
   "execution_count": null,
   "metadata": {},
   "outputs": [],
   "source": [
    "display(Markdown(\"___\"))\n",
    "\n",
    "commands = []\n",
    "for i in range(batchSize):\n",
    "    TUMOR = batch[i][1]\n",
    "    display(Markdown(\"### Tumor: \"+TUMOR))\n",
    "    command5 = data['SENTIEON_INSTALL_DIR']+\"/bin/sentieon plot InsertSizeMetricAlgo -o \"+TUMOR+\"T_is-report.pdf \"+TUMOR+\"T_is_metrics.txt\"\n",
    "    print(command5+'\\n')\n",
    "    commands.append(command5)\n",
    "\n",
    "if exec_scripts:\n",
    "    commandsParallel(commands,batchSize,data['samplesParallel'])"
   ]
  },
  {
   "cell_type": "code",
   "execution_count": null,
   "metadata": {},
   "outputs": [],
   "source": [
    "#interact(plots, Sample=widgTumAll, file=fixed(\"_T_is-report.pdf\"), normal=fixed(False), listSample = fixed(tumors));\n",
    "\n",
    "id = id +1\n",
    "\n",
    "input_form = \"\"\"\n",
    "\n",
    "<select id='selectSample\"\"\"+str(id)+\"\"\"'>  </select>\n",
    "\n",
    "<body onload=\"myPlots()\">\n",
    "\n",
    "<h1>The sample is:  <span id=\"myText\"\"\"+str(id)+\"\"\"\"></span></h1>\n",
    "\n",
    "<div>\n",
    "  <iframe id=\"pdf\"\"\"+str(id)+\"\"\"\" src=\"\" style=\"width:100%;height:700px;\"></iframe>\n",
    "</div>\n",
    "\n",
    "\n",
    "</body>\n",
    "\n",
    "\"\"\"\n",
    "\n",
    "javascript = \"\"\"\n",
    "\n",
    "<script type=\"text/Javascript\">\n",
    "\n",
    "var select = document.getElementById(\"selectSample\"\"\"+str(id)+\"\"\"\");\n",
    "\n",
    "myDropdown(select,Object.keys(objTum)) \n",
    "\n",
    "var type\"\"\"+str(id)+\"\"\" = \"_T_is-report.pdf\"\n",
    "\n",
    "myPlots(type\"\"\"+str(id)+\"\"\",\"\"\"+str(id)+\"\"\")\n",
    "\n",
    "document.getElementById(\"selectSample\"\"\"+str(id)+\"\"\"\").onchange = function() {myPlots(type\"\"\"+str(id)+\"\"\",\"\"\"+str(id)+\"\"\")};\n",
    "\n",
    "\n",
    "</script>\n",
    "\"\"\"\n",
    "    \n",
    "\n",
    "HTML(input_form + javascript)"
   ]
  },
  {
   "cell_type": "markdown",
   "metadata": {},
   "source": [
    "# 3a. Remove Duplicate Reads for normal sample"
   ]
  },
  {
   "cell_type": "code",
   "execution_count": null,
   "metadata": {},
   "outputs": [],
   "source": [
    "commands = []\n",
    "\n",
    "for i in range(normSize):\n",
    "    SAMPLE = uniqNorm[i]\n",
    "    display(Markdown(\"### Normal: \" + SAMPLE))\n",
    "    command1 = data['SENTIEON_INSTALL_DIR']+\"/bin/sentieon driver -t \"+str(data['nt'])+\" -i \"+SAMPLE+\"N_sorted.bam --algo LocusCollector --fun score_info \"+SAMPLE+\"N_score.txt\"\n",
    "    print(command1+'\\n')\n",
    "    commands.append(command1)\n",
    "\n",
    "if exec_scripts:\n",
    "    commandsParallel(commands,normSize,data['samplesParallel'])"
   ]
  },
  {
   "cell_type": "code",
   "execution_count": null,
   "metadata": {},
   "outputs": [],
   "source": [
    "display(Markdown(\"___\"))\n",
    "\n",
    "commands = []\n",
    "for i in range(normSize):\n",
    "    SAMPLE = uniqNorm[i]\n",
    "    display(Markdown(\"### Normal: \" + SAMPLE))\n",
    "    command2 = data['SENTIEON_INSTALL_DIR']+\"/bin/sentieon driver -t \"+str(data['nt'])+\" -i \"+SAMPLE+\"N_sorted.bam --algo Dedup --rmdup --score_info \"+SAMPLE+\"N_score.txt --metrics \"+SAMPLE+\"N_dedup_metrics.txt \"+SAMPLE+\"N_deduped.bam\"\n",
    "    print(command2+'\\n')\n",
    "    commands.append(command2)\n",
    "\n",
    "if exec_scripts:\n",
    "    commandsParallel(commands,normSize,data['samplesParallel'])"
   ]
  },
  {
   "cell_type": "markdown",
   "metadata": {},
   "source": [
    "# 3a. Remove Duplicate Reads for tumor sample"
   ]
  },
  {
   "cell_type": "code",
   "execution_count": null,
   "metadata": {},
   "outputs": [],
   "source": [
    "commands = []\n",
    "\n",
    "for i in range(batchSize):\n",
    "    TUMOR = batch[i][1]\n",
    "    display(Markdown(\"### Tumor: \"+TUMOR))\n",
    "    command1 = data['SENTIEON_INSTALL_DIR']+\"/bin/sentieon driver -t \"+str(data['nt'])+\" -i \"+TUMOR+\"T_sorted.bam --algo LocusCollector --fun score_info \"+TUMOR+\"T_score.txt\"\n",
    "    print(command1+'\\n')\n",
    "    commands.append(command1)\n",
    "\n",
    "if exec_scripts:\n",
    "    commandsParallel(commands,batchSize,data['samplesParallel'])"
   ]
  },
  {
   "cell_type": "code",
   "execution_count": null,
   "metadata": {},
   "outputs": [],
   "source": [
    "commands = []\n",
    "\n",
    "display(Markdown(\"___\"))\n",
    "for i in range(batchSize):\n",
    "    TUMOR = batch[i][1]\n",
    "    display(Markdown(\"### Tumor: \"+TUMOR))\n",
    "    command2 = data['SENTIEON_INSTALL_DIR']+\"/bin/sentieon driver -t \"+str(data['nt'])+\" -i \"+TUMOR+\"T_sorted.bam --algo Dedup --rmdup --score_info \"+TUMOR+\"T_score.txt --metrics \"+TUMOR+\"T_dedup_metrics.txt \"+TUMOR+\"T_deduped.bam\"\n",
    "    print(command2+'\\n')\n",
    "    commands.append(command2)\n",
    "\n",
    "if exec_scripts:\n",
    "    commandsParallel(commands,batchSize,data['samplesParallel'])"
   ]
  },
  {
   "cell_type": "markdown",
   "metadata": {},
   "source": [
    "# 4a. Indel realigner for normal sample"
   ]
  },
  {
   "cell_type": "code",
   "execution_count": null,
   "metadata": {},
   "outputs": [],
   "source": [
    "commands = []\n",
    "\n",
    "for i in range(normSize):\n",
    "    SAMPLE = uniqNorm[i]\n",
    "    display(Markdown(\"### Normal: \" + SAMPLE))\n",
    "    command1 = data['SENTIEON_INSTALL_DIR']+ \"/bin/sentieon driver -r \"+data['fasta']+\" -t \"+str(data['nt'])+\" -i \"+SAMPLE+\"N_deduped.bam --algo Realigner -k \"+data['known_Mills_indels']+\" -k \"+data['known_1000G_indels']+\" \"+SAMPLE+\"N_realigned.bam\"\n",
    "    print(command1+'\\n')\n",
    "    commands.append(command1)\n",
    "\n",
    "if exec_scripts:\n",
    "    commandsParallel(commands,normSize,data['samplesParallel'])"
   ]
  },
  {
   "cell_type": "markdown",
   "metadata": {},
   "source": [
    "# 4a. Indel realigner for tumor sample"
   ]
  },
  {
   "cell_type": "code",
   "execution_count": null,
   "metadata": {},
   "outputs": [],
   "source": [
    "commands = []\n",
    "\n",
    "for i in range(batchSize):\n",
    "    TUMOR = batch[i][1]\n",
    "    display(Markdown(\"### Tumor: \"+TUMOR))\n",
    "    command1 = data['SENTIEON_INSTALL_DIR']+ \"/bin/sentieon driver -r \"+data['fasta']+\" -t \"+str(data['nt'])+\" -i \"+TUMOR+\"T_deduped.bam --algo Realigner -k \"+data['known_Mills_indels']+\" -k \"+data['known_1000G_indels']+\" \"+TUMOR+\"T_realigned.bam\"\n",
    "    print(command1+'\\n')\n",
    "    commands.append(command1)\n",
    "\n",
    "if exec_scripts:\n",
    "    commandsParallel(commands,batchSize,data['samplesParallel'])"
   ]
  },
  {
   "cell_type": "markdown",
   "metadata": {},
   "source": [
    "# 5a. Base recalibration for normal sample"
   ]
  },
  {
   "cell_type": "code",
   "execution_count": null,
   "metadata": {},
   "outputs": [],
   "source": [
    "commands = []\n",
    "\n",
    "for i in range(normSize):\n",
    "    SAMPLE = uniqNorm[i]\n",
    "    display(Markdown(\"### Normal: \" + SAMPLE))\n",
    "    command1 = data['SENTIEON_INSTALL_DIR']+\"/bin/sentieon driver -r \"+data['fasta']+\" -t \"+str(data['nt'])+\" -i \"+SAMPLE+\"N_realigned.bam --algo QualCal -k \"+data['dbsnp']+\" -k \"+data['known_Mills_indels']+\" -k \"+data['known_1000G_indels']+\" \"+SAMPLE+\"N_recal_data.table\"\n",
    "    print(command1+'\\n')\n",
    "    commands.append(command1)\n",
    "\n",
    "if exec_scripts:\n",
    "    commandsParallel(commands,normSize,data['samplesParallel'])"
   ]
  },
  {
   "cell_type": "code",
   "execution_count": null,
   "metadata": {},
   "outputs": [],
   "source": [
    "display(Markdown(\"___\"))\n",
    "\n",
    "commands = []\n",
    "for i in range(normSize):\n",
    "    SAMPLE = uniqNorm[i]\n",
    "    display(Markdown(\"### Normal: \" + SAMPLE))\n",
    "    command2 = data['SENTIEON_INSTALL_DIR']+\"/bin/sentieon driver -r \"+data['fasta']+\" -t \"+str(data['nt'])+\" -i \"+SAMPLE+\"N_realigned.bam -q \"+SAMPLE+\"N_recal_data.table --algo QualCal -k \"+data['dbsnp']+\" -k \"+data['known_Mills_indels']+\" -k \"+data['known_1000G_indels']+\" \"+SAMPLE+\"N_recal_data.table.post\"\n",
    "    print(command2+'\\n')\n",
    "    commands.append(command2)\n",
    "\n",
    "if exec_scripts:\n",
    "    commandsParallel(commands,normSize,data['samplesParallel'])"
   ]
  },
  {
   "cell_type": "code",
   "execution_count": null,
   "metadata": {},
   "outputs": [],
   "source": [
    "display(Markdown(\"___\"))\n",
    "\n",
    "commands = []\n",
    "for i in range(normSize):\n",
    "    SAMPLE = uniqNorm[i]\n",
    "    display(Markdown(\"### Normal: \" + SAMPLE))\n",
    "    command3 = data['SENTIEON_INSTALL_DIR']+\"/bin/sentieon driver -t \"+str(data['nt'])+\" --algo QualCal --plot --before \"+SAMPLE+\"N_recal_data.table --after \"+SAMPLE+\"N_recal_data.table.post \"+SAMPLE+\"N_recal.csv\"\n",
    "    print(command3+'\\n')\n",
    "    commands.append(command3)\n",
    "\n",
    "if exec_scripts:\n",
    "    commandsParallel(commands,normSize,data['samplesParallel'])"
   ]
  },
  {
   "cell_type": "code",
   "execution_count": null,
   "metadata": {},
   "outputs": [],
   "source": [
    "display(Markdown(\"___\"))\n",
    "\n",
    "commands = []\n",
    "for i in range(normSize):\n",
    "    SAMPLE = uniqNorm[i]\n",
    "    display(Markdown(\"### Normal: \" + SAMPLE))\n",
    "    command4 = data['SENTIEON_INSTALL_DIR']+\"/bin/sentieon plot QualCal -o \"+SAMPLE+\"N_recal_plots.pdf \"+SAMPLE+\"N_recal.csv\"\n",
    "    print(command4+'\\n')\n",
    "    commands.append(command4)\n",
    "\n",
    "if exec_scripts:\n",
    "    commandsParallel(commands,normSize,data['samplesParallel'])"
   ]
  },
  {
   "cell_type": "code",
   "execution_count": null,
   "metadata": {},
   "outputs": [],
   "source": [
    "#SAMPLE = batch[0][0]\n",
    "#img = WImage(filename=SAMPLE+\"N_recal_plots.pdf\")\n",
    "    \n",
    "#interact(multiPage, Sample=widgNor, page=[1,2] , file=fixed(\"_N_recal_plots.pdf\"), normal=fixed(True), listSample = fixed([]));\n",
    "\n",
    "id = id +1\n",
    "\n",
    "input_form = \"\"\"\n",
    "\n",
    "<select id='selectSample\"\"\"+str(id)+\"\"\"'>  </select>\n",
    "\n",
    "<body onload=\"myPlots()\">\n",
    "\n",
    "<h1>The sample is:  <span id=\"myText\"\"\"+str(id)+\"\"\"\"></span></h1>\n",
    "\n",
    "<div>\n",
    "  <iframe id=\"pdf\"\"\"+str(id)+\"\"\"\" src=\"\" style=\"width:100%;height:700px;\"></iframe>\n",
    "</div>\n",
    "\n",
    "\n",
    "</body>\n",
    "\n",
    "\"\"\"\n",
    "\n",
    "javascript = \"\"\"\n",
    "\n",
    "<script type=\"text/Javascript\">\n",
    "\n",
    "var select = document.getElementById(\"selectSample\"\"\"+str(id)+\"\"\"\");\n",
    "\n",
    "myDropdown(select,Object.keys(objNorm)) \n",
    "\n",
    "var type\"\"\"+str(id)+\"\"\" = \"_N_recal_plots.pdf\"\n",
    "\n",
    "myPlots(type\"\"\"+str(id)+\"\"\",\"\"\"+str(id)+\"\"\")\n",
    "\n",
    "document.getElementById(\"selectSample\"\"\"+str(id)+\"\"\"\").onchange = function() {myPlots(type\"\"\"+str(id)+\"\"\",\"\"\"+str(id)+\"\"\")};\n",
    "\n",
    "\n",
    "</script>\n",
    "\"\"\"\n",
    "    \n",
    "\n",
    "HTML(input_form + javascript)\n",
    "\n",
    "\n"
   ]
  },
  {
   "cell_type": "code",
   "execution_count": null,
   "metadata": {},
   "outputs": [],
   "source": [
    "display(Markdown(\"___\"))\n",
    "# ReadWriter to output recalibrated bam\n",
    "commands = []\n",
    "for i in range(normSize):\n",
    "    SAMPLE = uniqNorm[i]\n",
    "    display(Markdown(\"### Normal: \" + SAMPLE))\n",
    "    command5 = data['SENTIEON_INSTALL_DIR']+\"/bin/sentieon driver -r \"+data['fasta']+\" -t \"+str(data['nt'])+\" -i \"+SAMPLE+\"N_realigned.bam -q \"+SAMPLE+\"N_recal_data.table --algo ReadWriter \"+SAMPLE+\"N_recal.bam\"\n",
    "    print(command5+'\\n')\n",
    "    commands.append(command5)\n",
    "\n",
    "if exec_scripts:\n",
    "    commandsParallel(commands,normSize,data['samplesParallel'])"
   ]
  },
  {
   "cell_type": "markdown",
   "metadata": {},
   "source": [
    "# 5a. Base recalibration for tumor sample"
   ]
  },
  {
   "cell_type": "code",
   "execution_count": null,
   "metadata": {},
   "outputs": [],
   "source": [
    "commands = []\n",
    "for i in range(batchSize):\n",
    "    TUMOR = batch[i][1]\n",
    "    display(Markdown(\"### Tumor: \"+TUMOR))\n",
    "    command1 = data['SENTIEON_INSTALL_DIR']+\"/bin/sentieon driver -r \"+data['fasta']+\" -t \"+str(data['nt'])+\" -i \"+TUMOR+\"T_realigned.bam --algo QualCal -k \"+data['dbsnp']+\" -k \"+data['known_Mills_indels']+\" -k \"+data['known_1000G_indels']+\" \"+TUMOR+\"T_recal_data.table\"\n",
    "    print(command1+'\\n')\n",
    "    commands.append(command1)\n",
    "\n",
    "if exec_scripts:\n",
    "    commandsParallel(commands,batchSize,data['samplesParallel'])"
   ]
  },
  {
   "cell_type": "code",
   "execution_count": null,
   "metadata": {},
   "outputs": [],
   "source": [
    "display(Markdown(\"___\"))\n",
    "commands = []\n",
    "for i in range(batchSize):\n",
    "    TUMOR = batch[i][1]\n",
    "    display(Markdown(\"### Tumor: \"+TUMOR))\n",
    "    command2 = data['SENTIEON_INSTALL_DIR']+\"/bin/sentieon driver -r \"+data['fasta']+\" -t \"+str(data['nt'])+\" -i \"+TUMOR+\"T_realigned.bam -q \"+TUMOR+\"T_recal_data.table --algo QualCal -k \"+data['dbsnp']+\" -k \"+data['known_Mills_indels']+\" -k \"+data['known_1000G_indels']+\" \"+TUMOR+\"T_recal_data.table.post\"\n",
    "    print(command2+'\\n')\n",
    "    commands.append(command2)\n",
    "\n",
    "if exec_scripts:\n",
    "    commandsParallel(commands,batchSize,data['samplesParallel'])"
   ]
  },
  {
   "cell_type": "code",
   "execution_count": null,
   "metadata": {},
   "outputs": [],
   "source": [
    "display(Markdown(\"___\"))\n",
    "\n",
    "commands = []\n",
    "for i in range(batchSize):\n",
    "    TUMOR = batch[i][1]\n",
    "    display(Markdown(\"### Tumor: \"+TUMOR))\n",
    "    command3 = data['SENTIEON_INSTALL_DIR']+\"/bin/sentieon driver -t \"+str(data['nt'])+\" --algo QualCal --plot --before \"+TUMOR+\"T_recal_data.table --after \"+TUMOR+\"T_recal_data.table.post \"+TUMOR+\"T_recal.csv\"\n",
    "    print(command3+'\\n')\n",
    "    commands.append(command3)\n",
    "\n",
    "if exec_scripts:\n",
    "    commandsParallel(commands,batchSize,data['samplesParallel'])"
   ]
  },
  {
   "cell_type": "code",
   "execution_count": null,
   "metadata": {},
   "outputs": [],
   "source": [
    "display(Markdown(\"___\"))\n",
    "\n",
    "commands = []\n",
    "for i in range(batchSize):\n",
    "    TUMOR = batch[i][1]\n",
    "    display(Markdown(\"### Tumor: \"+TUMOR))\n",
    "    command4 = data['SENTIEON_INSTALL_DIR']+\"/bin/sentieon plot QualCal -o \"+TUMOR+\"T_recal_plots.pdf \"+TUMOR+\"T_recal.csv\"\n",
    "    print(command4+'\\n')\n",
    "    commands.append(command4)\n",
    "\n",
    "if exec_scripts:\n",
    "    commandsParallel(commands,batchSize,data['samplesParallel'])"
   ]
  },
  {
   "cell_type": "code",
   "execution_count": null,
   "metadata": {},
   "outputs": [],
   "source": [
    "#interact(multiPage, Sample=widgTum, page=[1,2] , file=fixed(\"_T_recal_plots.pdf\"), normal=fixed(True), listSample = fixed(tumors));\n",
    "\n",
    "id = id +1\n",
    "\n",
    "input_form = \"\"\"\n",
    "\n",
    "<select id='selectSample\"\"\"+str(id)+\"\"\"'>  </select>\n",
    "\n",
    "<body onload=\"myPlots()\">\n",
    "\n",
    "<h1>The sample is:  <span id=\"myText\"\"\"+str(id)+\"\"\"\"></span></h1>\n",
    "\n",
    "<div>\n",
    "  <iframe id=\"pdf\"\"\"+str(id)+\"\"\"\" src=\"\" style=\"width:100%;height:700px;\"></iframe>\n",
    "</div>\n",
    "\n",
    "\n",
    "</body>\n",
    "\n",
    "\"\"\"\n",
    "\n",
    "javascript = \"\"\"\n",
    "\n",
    "<script type=\"text/Javascript\">\n",
    "\n",
    "var select = document.getElementById(\"selectSample\"\"\"+str(id)+\"\"\"\");\n",
    "\n",
    "myDropdown(select,Object.keys(objTum)) \n",
    "\n",
    "var type\"\"\"+str(id)+\"\"\" = \"_T_recal_plots.pdf\"\n",
    "\n",
    "myPlots(type\"\"\"+str(id)+\"\"\",\"\"\"+str(id)+\"\"\")\n",
    "\n",
    "document.getElementById(\"selectSample\"\"\"+str(id)+\"\"\"\").onchange = function() {myPlots(type\"\"\"+str(id)+\"\"\",\"\"\"+str(id)+\"\"\")};\n",
    "\n",
    "\n",
    "</script>\n",
    "\"\"\"\n",
    "    \n",
    "HTML(input_form + javascript)"
   ]
  },
  {
   "cell_type": "code",
   "execution_count": null,
   "metadata": {},
   "outputs": [],
   "source": [
    "display(Markdown(\"___\"))\n",
    "# ReadWriter to output recalibrated bam\n",
    "\n",
    "commands = []\n",
    "for i in range(batchSize):\n",
    "    TUMOR = batch[i][1]\n",
    "    display(Markdown(\"### Tumor: \"+TUMOR))\n",
    "    command5 = data['SENTIEON_INSTALL_DIR']+\"/bin/sentieon driver -r \"+data['fasta']+\" -t \"+str(data['nt'])+\" -i \"+TUMOR+\"T_realigned.bam -q \"+TUMOR+\"T_recal_data.table --algo ReadWriter \"+TUMOR+\"T_recal.bam\"\n",
    "    print(command5+'\\n')\n",
    "    commands.append(command5)\n",
    "\n",
    "if exec_scripts:\n",
    "    commandsParallel(commands,batchSize,data['samplesParallel'])"
   ]
  },
  {
   "cell_type": "markdown",
   "metadata": {},
   "source": [
    "# 7a. HC Variant caller (normal)"
   ]
  },
  {
   "cell_type": "code",
   "execution_count": null,
   "metadata": {},
   "outputs": [],
   "source": [
    "commands = []\n",
    "for i in range(normSize):\n",
    "    SAMPLE = uniqNorm[i]\n",
    "    display(Markdown(\"### Normal: \" + SAMPLE))\n",
    "    command1 = data['SENTIEON_INSTALL_DIR']+\"/bin/sentieon driver -r \"+data['fasta']+\" -t \"+str(data['nt'])+\" -i \"+SAMPLE+\"N_recal.bam --algo Haplotyper -d \"+data['dbsnp']+\" --emit_conf=30 --call_conf=30 \"+SAMPLE+\"N-output-hc.vcf.gz\"\n",
    "    print(command1+'\\n')\n",
    "    commands.append(command1)\n",
    "\n",
    "if exec_scripts:\n",
    "    commandsParallel(commands,normSize,data['samplesParallel'])"
   ]
  },
  {
   "cell_type": "markdown",
   "metadata": {},
   "source": [
    "# 7a. HC Variant caller (tumor)"
   ]
  },
  {
   "cell_type": "code",
   "execution_count": null,
   "metadata": {},
   "outputs": [],
   "source": [
    "commands = []\n",
    "for i in range(batchSize):\n",
    "    TUMOR = batch[i][1]\n",
    "    display(Markdown(\"### Tumor: \"+TUMOR))\n",
    "    command1 = data['SENTIEON_INSTALL_DIR']+\"/bin/sentieon driver -r \"+data['fasta']+\" -t \"+str(data['nt'])+\" -i \"+TUMOR+\"T_recal.bam --algo Haplotyper -d \"+data['dbsnp']+\" --emit_conf=30 --call_conf=30 \"+TUMOR+\"T-output-hc.vcf.gz\"\n",
    "    print(command1+'\\n')\n",
    "    commands.append(command1)\n",
    "\n",
    "if exec_scripts:\n",
    "    commandsParallel(commands,batchSize,data['samplesParallel'])"
   ]
  },
  {
   "cell_type": "markdown",
   "metadata": {},
   "source": [
    "# 8a. Variant calling DNAscope (normal)"
   ]
  },
  {
   "cell_type": "code",
   "execution_count": null,
   "metadata": {},
   "outputs": [],
   "source": [
    "commands = []\n",
    "for i in range(normSize):\n",
    "    SAMPLE = uniqNorm[i]\n",
    "    display(Markdown(\"### Normal: \" + SAMPLE))\n",
    "    command1 = data['SENTIEON_INSTALL_DIR']+\"/bin/sentieon driver -t \"+str(data['nt'])+\" -r \"+data['fasta']+\" -i \"+SAMPLE+\"N_recal.bam --algo DNAscope -d \"+data['dbsnp']+\" --model \"+data['ML_MODEL_N']+\" \"+SAMPLE+\"N-tmpDNAscope.vcf.gz\"\n",
    "    print(command1+'\\n')\n",
    "    commands.append(command1)\n",
    "\n",
    "if exec_scripts:\n",
    "    commandsParallel(commands,normSize,data['samplesParallel'])"
   ]
  },
  {
   "cell_type": "code",
   "execution_count": null,
   "metadata": {},
   "outputs": [],
   "source": [
    "display(Markdown(\"___\"))\n",
    "commands = []\n",
    "for i in range(normSize):\n",
    "    SAMPLE = uniqNorm[i]\n",
    "    display(Markdown(\"### Normal: \" + SAMPLE))\n",
    "    command2 = data['SENTIEON_INSTALL_DIR']+\"/bin/sentieon driver -t \"+str(data['nt'])+\" -r \"+data['fasta']+\" --algo DNAModelApply --model \"+data['ML_MODEL_N']+\" -v \"+SAMPLE+\"N-tmpDNAscope.vcf.gz \"+SAMPLE+\"N-DNAscope.vcf.gz\"\n",
    "    print(command2+'\\n')\n",
    "    commands.append(command2)\n",
    "\n",
    "if exec_scripts:\n",
    "    commandsParallel(commands,normSize,data['samplesParallel'])"
   ]
  },
  {
   "cell_type": "code",
   "execution_count": null,
   "metadata": {},
   "outputs": [],
   "source": [
    "display(Markdown(\"___\"))\n",
    "commands = []\n",
    "for i in range(normSize):\n",
    "    SAMPLE = uniqNorm[i]\n",
    "    display(Markdown(\"### Normal: \" + SAMPLE))\n",
    "    command3 = data['bcfdir'] + \" filter -s ML_FAIL -i INFO/ML_PROB > 0.81 \"+SAMPLE+\"N-DNAscope.vcf.gz -O z -m x -o \"+SAMPLE+\"N-filtDNAscope.vcf.gz\"\n",
    "    print(command3+'\\n')\n",
    "    commands.append(command3)\n",
    "\n",
    "if exec_scripts:\n",
    "    commandsParallel(commands,normSize,data['samplesParallel'])"
   ]
  },
  {
   "cell_type": "markdown",
   "metadata": {},
   "source": [
    "# 8a. Variant calling DNAscope (tumor)"
   ]
  },
  {
   "cell_type": "code",
   "execution_count": null,
   "metadata": {},
   "outputs": [],
   "source": [
    "commands = []\n",
    "for i in range(batchSize):\n",
    "    TUMOR = batch[i][1]\n",
    "    display(Markdown(\"### Tumor: \"+TUMOR))\n",
    "    command1 = data['SENTIEON_INSTALL_DIR']+\"/bin/sentieon driver -t \"+str(data['nt'])+\" -r \"+data['fasta']+\" -i \"+TUMOR+\"T_recal.bam --algo DNAscope -d \"+data['dbsnp']+\" --model \"+data['ML_MODEL_N']+\" \"+TUMOR+\"T-tmpDNAscope.vcf.gz\"\n",
    "    print(command1+'\\n')\n",
    "    commands.append(command1)\n",
    "\n",
    "if exec_scripts:\n",
    "    commandsParallel(commands,batchSize,data['samplesParallel'])"
   ]
  },
  {
   "cell_type": "code",
   "execution_count": null,
   "metadata": {},
   "outputs": [],
   "source": [
    "display(Markdown(\"___\"))\n",
    "commands = []\n",
    "for i in range(batchSize):\n",
    "    TUMOR = batch[i][1]\n",
    "    display(Markdown(\"### Tumor: \"+TUMOR))\n",
    "    command2 = data['SENTIEON_INSTALL_DIR']+\"/bin/sentieon driver -t \"+str(data['nt'])+\" -r \"+data['fasta']+\" --algo DNAModelApply --model \"+data['ML_MODEL_N']+\" -v \"+TUMOR+\"T-tmpDNAscope.vcf.gz \"+TUMOR+\"T-DNAscope.vcf.gz\"\n",
    "    print(command2+'\\n')\n",
    "    commands.append(command2)\n",
    "\n",
    "if exec_scripts:\n",
    "    commandsParallel(commands,batchSize,data['samplesParallel'])"
   ]
  },
  {
   "cell_type": "code",
   "execution_count": null,
   "metadata": {},
   "outputs": [],
   "source": [
    "display(Markdown(\"___\"))\n",
    "commands = []\n",
    "for i in range(batchSize):\n",
    "    TUMOR = batch[i][1]\n",
    "    display(Markdown(\"### Tumor: \"+TUMOR))\n",
    "    command3 = data['bcfdir'] + \" filter -s ML_FAIL -i INFO/ML_PROB > 0.81 \"+TUMOR+\"T-DNAscope.vcf.gz -O z -m x -o \"+TUMOR+\"T-filtDNAscope.vcf.gz\"\n",
    "    print(command3+'\\n')\n",
    "    commands.append(command3)\n",
    "\n",
    "if exec_scripts:\n",
    "    commandsParallel(commands,batchSize,data['samplesParallel'])"
   ]
  },
  {
   "cell_type": "markdown",
   "metadata": {},
   "source": [
    "# 9a. Variant Annotation (normal)"
   ]
  },
  {
   "cell_type": "code",
   "execution_count": null,
   "metadata": {},
   "outputs": [],
   "source": [
    "commands = []\n",
    "for i in range(normSize):\n",
    "    SAMPLE = uniqNorm[i]\n",
    "    display(Markdown(\"### Normal: \" + SAMPLE))\n",
    "    data['SENTIEON_TMPDIR'] = data['workdir']+SAMPLE+\"/tmpdir\"\n",
    "    command1 = \"/storage/gluster/vol1/bcbio/anaconda/bin/snpEff -Xms1000m -Xmx36400m -Djava.io.tmpdir=\"+data['SENTIEON_TMPDIR']+\" eff -noStats -t -noLog -dataDir /storage/gluster/vol1/bcbio/genomes/Hsapiens/hg19/snpeff -hgvs -noLof -i vcf -o vcf -noInteraction -noMotif -noNextProt -strict GRCh37.75 \"+SAMPLE+\"N-output-hc.vcf.gz | \"+data['bgzipdir']+\" --threads \"+str(data['nt'])+\" -c > \"+SAMPLE+\"N-output-hc.snpEff.vcf.gz\"\n",
    "    print(command1+'\\n')\n",
    "    commands.append(command1)\n",
    "\n",
    "if exec_scripts:\n",
    "    commandsParallel(commands,normSize,data['samplesParallel'])"
   ]
  },
  {
   "cell_type": "code",
   "execution_count": null,
   "metadata": {},
   "outputs": [],
   "source": [
    "display(Markdown(\"___\"))\n",
    "commands = []\n",
    "for i in range(normSize):\n",
    "    SAMPLE = uniqNorm[i]\n",
    "    display(Markdown(\"### Normal: \" + SAMPLE))\n",
    "    data['SENTIEON_TMPDIR'] = data['workdir']+SAMPLE+\"/tmpdir\"\n",
    "    command2 = \"/storage/gluster/vol1/bcbio/anaconda/bin/snpEff -Xms1000m -Xmx36400m -Djava.io.tmpdir=\"+data['SENTIEON_TMPDIR']+\" eff -noStats -t -noLog -dataDir /storage/gluster/vol1/bcbio/genomes/Hsapiens/hg19/snpeff -hgvs -noLof -i vcf -o vcf -noInteraction -noMotif -noNextProt -strict GRCh37.75 \"+SAMPLE+\"N-filtDNAscope.vcf.gz | \"+data['bgzipdir']+\" --threads \"+str(data['nt'])+\" -c > \"+SAMPLE+\"N-filtDNAscope.snpEff.vcf.gz\"\n",
    "    print(command2+'\\n')\n",
    "    commands.append(command2)\n",
    "\n",
    "if exec_scripts:\n",
    "    commandsParallel(commands,normSize,data['samplesParallel'])"
   ]
  },
  {
   "cell_type": "markdown",
   "metadata": {},
   "source": [
    "# 9a. Variant Annotation (tumor)"
   ]
  },
  {
   "cell_type": "code",
   "execution_count": null,
   "metadata": {},
   "outputs": [],
   "source": [
    "commands = []\n",
    "for i in range(batchSize):\n",
    "    TUMOR = batch[i][1]\n",
    "    display(Markdown(\"### Tumor: \"+TUMOR))\n",
    "    data['SENTIEON_TMPDIR'] = data['workdir']+TUMOR+\"/tmpdir\"\n",
    "    command1 = \"/storage/gluster/vol1/bcbio/anaconda/bin/snpEff -Xms1000m -Xmx36400m -Djava.io.tmpdir=\"+data['SENTIEON_TMPDIR']+\" eff -noStats -t -noLog -dataDir /storage/gluster/vol1/bcbio/genomes/Hsapiens/hg19/snpeff -hgvs -noLof -i vcf -o vcf -noInteraction -noMotif -noNextProt -strict GRCh37.75 \"+TUMOR+\"T-output-hc.vcf.gz | \"+data['bgzipdir']+\" --threads \"+str(data['nt'])+\" -c > \"+TUMOR+\"T-output-hc.snpEff.vcf.gz\"\n",
    "    print(command1+'\\n')\n",
    "    commands.append(command1)\n",
    "\n",
    "if exec_scripts:\n",
    "    commandsParallel(commands,batchSize,data['samplesParallel'])"
   ]
  },
  {
   "cell_type": "code",
   "execution_count": null,
   "metadata": {},
   "outputs": [],
   "source": [
    "display(Markdown(\"___\"))\n",
    "commands = []\n",
    "for i in range(batchSize):\n",
    "    TUMOR = batch[i][1]\n",
    "    display(Markdown(\"### Tumor: \"+TUMOR))\n",
    "    data['SENTIEON_TMPDIR'] = data['workdir']+TUMOR+\"/tmpdir\"\n",
    "    command2 = \"/storage/gluster/vol1/bcbio/anaconda/bin/snpEff -Xms1000m -Xmx36400m -Djava.io.tmpdir=\"+data['SENTIEON_TMPDIR']+\" eff -noStats -t -noLog -dataDir /storage/gluster/vol1/bcbio/genomes/Hsapiens/hg19/snpeff -hgvs -noLof -i vcf -o vcf -noInteraction -noMotif -noNextProt -strict GRCh37.75 \"+TUMOR+\"T-filtDNAscope.vcf.gz | \"+data['bgzipdir']+\" --threads \"+str(data['nt'])+\" -c > \"+TUMOR+\"T-filtDNAscope.snpEff.vcf.gz\"\n",
    "    print(command2+'\\n')\n",
    "    commands.append(command2)\n",
    "\n",
    "if exec_scripts:\n",
    "    commandsParallel(commands,batchSize,data['samplesParallel'])"
   ]
  },
  {
   "cell_type": "markdown",
   "metadata": {},
   "source": [
    "# 7b. Somatic Variant Calling TNseq"
   ]
  },
  {
   "cell_type": "code",
   "execution_count": null,
   "metadata": {},
   "outputs": [],
   "source": [
    "commands = []\n",
    "for i in range(batchSize):\n",
    "    SAMPLE = batch[i][0]\n",
    "    TUMOR = batch[i][1]\n",
    "    display(Markdown(\"### Tumor: \"+TUMOR + \" Normal: \" + SAMPLE))\n",
    "    command1 = data['SENTIEON_INSTALL_DIR']+\"/bin/sentieon driver -r \"+data['fasta']+\" -t \"+str(data['nt'])+\" -i \"+TUMOR+\"T_recal.bam -i \"+SAMPLE+\"N_recal.bam --algo TNsnv --tumor_sample \"+TUMOR+\"T --normal_sample \"+SAMPLE+\"N --pon \"+data['panel_of_normal_TNsnv'] +\" --cosmic \"+data['cosmic_db']+\" --dbsnp \"+data['dbsnp']+\" --call_stats_out \"+TUMOR+\"-call.stats \"+TUMOR+\"-TNsnv.vcf.gz\"\n",
    "    print(command1+'\\n')\n",
    "    commands.append(command1)\n",
    "\n",
    "if exec_scripts:\n",
    "    commandsParallel(commands,batchSize,data['samplesParallel'])"
   ]
  },
  {
   "cell_type": "code",
   "execution_count": null,
   "metadata": {},
   "outputs": [],
   "source": [
    "display(Markdown(\"___\"))\n",
    "commands = []\n",
    "for i in range(batchSize):\n",
    "    SAMPLE = batch[i][0]\n",
    "    TUMOR = batch[i][1]\n",
    "    display(Markdown(\"### Tumor: \"+TUMOR + \" Normal: \" + SAMPLE))\n",
    "    command2 = data['SENTIEON_INSTALL_DIR']+\"/bin/sentieon driver -r \"+data['fasta']+\" -t \"+str(data['nt'])+\" -i \"+TUMOR+\"T_recal.bam -i \"+SAMPLE+\"N_recal.bam --algo TNhaplotyper --tumor_sample \"+TUMOR+\"T --normal_sample \"+SAMPLE+\"N --pon \"+data['panel_of_normal_TNhaplotyper']+\" --cosmic \"+data['cosmic_db']+\" --dbsnp \"+data['dbsnp']+\" \"+TUMOR+\"-TNhaplotyper.vcf.gz\"\n",
    "    print(command2+'\\n')\n",
    "    commands.append(command2)\n",
    "\n",
    "if exec_scripts:\n",
    "    commandsParallel(commands,batchSize,data['samplesParallel'])"
   ]
  },
  {
   "cell_type": "markdown",
   "metadata": {},
   "source": [
    "# 8b. Somatic Variant calling TNscope"
   ]
  },
  {
   "cell_type": "code",
   "execution_count": null,
   "metadata": {},
   "outputs": [],
   "source": [
    "commands = []\n",
    "for i in range(batchSize):\n",
    "    SAMPLE = batch[i][0]\n",
    "    TUMOR = batch[i][1]\n",
    "    display(Markdown(\"### Tumor: \"+TUMOR + \" Normal: \" + SAMPLE))\n",
    "    command1 = data['SENTIEON_INSTALL_DIR']+\"/bin/sentieon driver -r \"+data['fasta']+\" -t \"+str(data['nt'])+\" -i \"+TUMOR+\"T_recal.bam -i \"+SAMPLE+\"N_recal.bam --algo TNscope --tumor_sample \"+TUMOR+\"T --normal_sample \"+SAMPLE+\"N --dbsnp \"+data['dbsnp']+\" --clip_by_minbq 1 --max_error_per_read 3 --min_init_tumor_lod 2.0 --min_base_qual 10 --min_base_qual_asm 10 --min_tumor_allele_frac 0.00005 \"+TUMOR+\"-tmpTNscope.vcf.gz\"\n",
    "    print(command1+'\\n')\n",
    "    commands.append(command1)\n",
    "\n",
    "if exec_scripts:\n",
    "    commandsParallel(commands,batchSize,data['samplesParallel'])"
   ]
  },
  {
   "cell_type": "code",
   "execution_count": null,
   "metadata": {},
   "outputs": [],
   "source": [
    "display(Markdown(\"___\"))\n",
    "commands = []\n",
    "for i in range(batchSize):\n",
    "    SAMPLE = batch[i][0]\n",
    "    TUMOR = batch[i][1]\n",
    "    display(Markdown(\"### Tumor: \"+TUMOR + \" Normal: \" + SAMPLE))\n",
    "    command2 = data['SENTIEON_INSTALL_DIR']+\"/bin/sentieon driver -t \"+str(data['nt'])+\" -r \"+data['fasta']+\" --algo TNModelApply --model \"+data['ML_MODEL_T'] +\" -v \"+TUMOR+\"-tmpTNscope.vcf.gz \"+TUMOR+\"-TNscope.vcf.gz\"\n",
    "    print(command2+'\\n')\n",
    "    commands.append(command2)\n",
    "\n",
    "if exec_scripts:\n",
    "    commandsParallel(commands,batchSize,data['samplesParallel'])"
   ]
  },
  {
   "cell_type": "code",
   "execution_count": null,
   "metadata": {},
   "outputs": [],
   "source": [
    "display(Markdown(\"___\"))\n",
    "commands = []\n",
    "for i in range(batchSize):\n",
    "    SAMPLE = batch[i][0]\n",
    "    TUMOR = batch[i][1]\n",
    "    display(Markdown(\"### Tumor: \"+TUMOR + \" Normal: \" + SAMPLE))\n",
    "    command3 = data['bcfdir'] + \" filter -s ML_FAIL -i \\INFO/ML_PROB > 0.81 \"+TUMOR+\"-TNscope.vcf.gz -O z -m x -o \"+TUMOR+ \"-filtTNscope.vcf.gz\"\n",
    "    print(command3+'\\n')\n",
    "    commands.append(command3)\n",
    "\n",
    "if exec_scripts:\n",
    "    commandsParallel(commands,batchSize,data['samplesParallel'])"
   ]
  },
  {
   "cell_type": "markdown",
   "metadata": {},
   "source": [
    "# 9a. Somatic Variant Annotation"
   ]
  },
  {
   "cell_type": "code",
   "execution_count": null,
   "metadata": {},
   "outputs": [],
   "source": [
    "commands = []\n",
    "for i in range(batchSize):\n",
    "    SAMPLE = batch[i][0]\n",
    "    TUMOR = batch[i][1]\n",
    "    display(Markdown(\"### Tumor: \"+TUMOR + \" Normal: \" + SAMPLE))\n",
    "    data['SENTIEON_TMPDIR'] = data['workdir']+TUMOR+\"/tmpdir\"\n",
    "    command1 = \"/storage/gluster/vol1/bcbio/anaconda/bin/snpEff -Xms1000m -Xmx36400m -Djava.io.tmpdir=\"+data['SENTIEON_TMPDIR']+\" eff -noStats -t -noLog -dataDir /storage/gluster/vol1/bcbio/genomes/Hsapiens/hg19/snpeff -hgvs -noLof -i vcf -o vcf -noInteraction -noMotif -noNextProt -strict GRCh37.75 \"+TUMOR+\"-TNsnv.vcf.gz | \"+data['bgzipdir']+\" --threads \"+str(data['nt'])+\" -c > \"+TUMOR+\"-TNsnv.snpEff.vcf.gz\"\n",
    "    print(command1+'\\n')\n",
    "    commands.append(command1)\n",
    "\n",
    "if exec_scripts:\n",
    "    commandsParallel(commands,batchSize,data['samplesParallel'])"
   ]
  },
  {
   "cell_type": "code",
   "execution_count": null,
   "metadata": {},
   "outputs": [],
   "source": [
    "display(Markdown(\"___\"))\n",
    "commands = []\n",
    "for i in range(batchSize):\n",
    "    SAMPLE = batch[i][0]\n",
    "    TUMOR = batch[i][1]\n",
    "    display(Markdown(\"### Tumor: \"+TUMOR + \" Normal: \" + SAMPLE))\n",
    "    data['SENTIEON_TMPDIR'] = data['workdir']+TUMOR+\"/tmpdir\"\n",
    "    command2 = \"/storage/gluster/vol1/bcbio/anaconda/bin/snpEff -Xms1000m -Xmx36400m -Djava.io.tmpdir=\"+data['SENTIEON_TMPDIR']+\" eff -noStats -t -noLog -dataDir /storage/gluster/vol1/bcbio/genomes/Hsapiens/hg19/snpeff -hgvs -noLof -i vcf -o vcf -noInteraction -noMotif -noNextProt -strict GRCh37.75 \"+TUMOR+\"-TNhaplotyper.vcf.gz | \"+data['bgzipdir']+\" --threads \"+str(data['nt'])+\" -c > \"+TUMOR+\"-TNhaplotyper.snpEff.vcf.gz\"\n",
    "    print(command2+'\\n')\n",
    "    commands.append(command2)\n",
    "\n",
    "if exec_scripts:\n",
    "    commandsParallel(commands,batchSize,data['samplesParallel'])"
   ]
  },
  {
   "cell_type": "code",
   "execution_count": null,
   "metadata": {},
   "outputs": [],
   "source": [
    "display(Markdown(\"___\"))\n",
    "commands = []\n",
    "for i in range(batchSize):\n",
    "    SAMPLE = batch[i][0]\n",
    "    TUMOR = batch[i][1]\n",
    "    display(Markdown(\"### Tumor: \"+TUMOR + \" Normal: \" + SAMPLE))\n",
    "    data['SENTIEON_TMPDIR'] = data['workdir']+TUMOR+\"/tmpdir\"\n",
    "    command3 = \"/storage/gluster/vol1/bcbio/anaconda/bin/snpEff -Xms1000m -Xmx36400m -Djava.io.tmpdir=\"+data['SENTIEON_TMPDIR']+\" eff -noStats -t -noLog -dataDir /storage/gluster/vol1/bcbio/genomes/Hsapiens/hg19/snpeff -hgvs -noLof -i vcf -o vcf -noInteraction -noMotif -noNextProt -strict GRCh37.75 \"+TUMOR+\"-filtTNscope.vcf.gz | \"+data['bgzipdir']+\" --threads \"+str(data['nt'])+\" -c > \"+TUMOR+\"-filtTNscope.snpEff.vcf.gz\"\n",
    "    print(command3+'\\n')\n",
    "    commands.append(command3)\n",
    "\n",
    "if exec_scripts:\n",
    "    commandsParallel(commands,batchSize,data['samplesParallel'])"
   ]
  },
  {
   "cell_type": "code",
   "execution_count": 3,
   "metadata": {},
   "outputs": [],
   "source": [
    "%%capture\n",
    "#os.chdir(data['home'])\n",
    "!rm html_pipeline.zip\n",
    "!rm -r ./data\n",
    "!mkdir data"
   ]
  },
  {
   "cell_type": "code",
   "execution_count": 4,
   "metadata": {},
   "outputs": [],
   "source": [
    "%%capture\n",
    "!jupyter nbconvert --no-input --execute --ExecutePreprocessor.timeout=-1 --output-dir='./data' --to html pipeline.ipynb\n",
    "!cp /storage/gluster/vol1/data/PUBLIC/SCAMBIO/ABT414_WES_Analysis/ABT414_Flank/ABT414_Flank/*.pdf ./data\n",
    "!cp /storage/gluster/vol1/data/PUBLIC/SCAMBIO/ABT414_WES_Analysis/ABT414_Flank/ABT414_Flank/*_N_aln_metrics.txt ./data\n",
    "!cp /storage/gluster/vol1/data/PUBLIC/SCAMBIO/ABT414_WES_Analysis/ABT414_Flank/ABT414_Flank/*_T_aln_metrics.txt ./data\n",
    "!zip -r \"html_pipeline\" \"./data\"\n"
   ]
  },
  {
   "cell_type": "code",
   "execution_count": null,
   "metadata": {},
   "outputs": [],
   "source": [
    "#!python -m nbconvert /home/adefalco/pipeline.ipynb  --to ipynb --execute"
   ]
  },
  {
   "cell_type": "code",
   "execution_count": null,
   "metadata": {},
   "outputs": [],
   "source": [
    "#import nbinteract as nbi\n",
    "#nbi.publish('AntonioDeFalco/testInteract/master', 'pipeline.ipynb')"
   ]
  },
  {
   "cell_type": "code",
   "execution_count": null,
   "metadata": {},
   "outputs": [],
   "source": [
    "#!jupyter nbconvert /home/adefalco/pipeline.ipynb --to rst"
   ]
  },
  {
   "cell_type": "code",
   "execution_count": null,
   "metadata": {},
   "outputs": [],
   "source": [
    "#!jupyter nbconvert /home/adefalco/pipeline.ipynb --to Interact"
   ]
  },
  {
   "cell_type": "code",
   "execution_count": null,
   "metadata": {},
   "outputs": [],
   "source": [
    "#!zip -r \"html_docu\" \"./build\""
   ]
  },
  {
   "cell_type": "code",
   "execution_count": null,
   "metadata": {},
   "outputs": [],
   "source": []
  }
 ],
 "metadata": {
  "kernelspec": {
   "display_name": "Python 3",
   "language": "python",
   "name": "python3"
  },
  "language_info": {
   "codemirror_mode": {
    "name": "ipython",
    "version": 3
   },
   "file_extension": ".py",
   "mimetype": "text/x-python",
   "name": "python",
   "nbconvert_exporter": "python",
   "pygments_lexer": "ipython3",
   "version": "3.6.3"
  },
  "widgets": {
   "application/vnd.jupyter.widget-state+json": {
    "state": {},
    "version_major": 2,
    "version_minor": 0
   }
  }
 },
 "nbformat": 4,
 "nbformat_minor": 4
}
