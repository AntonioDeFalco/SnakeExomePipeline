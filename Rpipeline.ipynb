{
 "cells": [
  {
   "cell_type": "code",
   "execution_count": null,
   "metadata": {},
   "outputs": [
    {
     "name": "stderr",
     "output_type": "stream",
     "text": [
      "Warning message in dir.create(\"Analysis\"):\n",
      "“'Analysis' already exists”\n"
     ]
    }
   ],
   "source": [
    "#devtools::install_github(repo=\"knausb/vcfR\")\n",
    "#install.packages('doParallel')\n",
    "library(vcfR)\n",
    "library(doParallel)\n",
    "setwd(\"/storage/gluster/vol1/data/PUBLIC/SCAMBIO/ABT414_WES_Analysis/\")\n",
    "dir.create(\"Analysis\")\n",
    "\n",
    "# VCF-------------------\n",
    "vcfDir <- \"ensemble/vcf/\"\n",
    "filenames <- dir(vcfDir,\"ensemble.snpEff.vcf.gz\")\n",
    "#filenames <- filenames[!grepl(\".tbi\",filenames)]\n",
    "\n",
    "vcfRead <- function(filename,vcfDir){\n",
    "  tumorID <- sub(\"-ensemble.snpEff.vcf.gz\",\"\",filename)\n",
    "  tmp <- vcfR::read.vcfR(paste0(vcfDir,filename), verbose=FALSE)\n",
    "  tmpVcf <- tmp@fix\n",
    "  tmpGt <- tmp@gt\n",
    "  if(length(colnames(tmpGt))==3){\n",
    "    if(!grepl(\"_N\\\\b\",colnames(tmpGt)[3])){ #CHECK THE NAME OF TUMOR AND NORMAL SAMPLES IN VCF!\n",
    "      tmpGt <- tmpGt[,c(1,3,2)]\n",
    "    }\n",
    "  }\n",
    "  info <- tmpVcf[,\"INFO\"]\n",
    "  func <- sapply(info,function(x){\n",
    "    temp <- unlist(strsplit(x,\",\"))\n",
    "    paste0(unique(na.omit(unlist(sapply(temp,function(x) unlist(strsplit(x,\"|\",fixed=TRUE))[2])))),collapse=\",\")\n",
    "  })\n",
    "  func <- unname(func)\n",
    "  callers <- sapply(info,function(x){\n",
    "    temp <- unlist(strsplit(x,\";\"))\n",
    "    sub(\"CALLERS=\",\"\",temp[grepl(\"CALLERS=\",temp)])\n",
    "  })\n",
    "  callers <- unname(callers)\n",
    "  id <- paste0(tumorID,\"-\",tmpVcf[,1],\":\",tmpVcf[,2])\n",
    "  if(length(colnames(tmpGt))==3){\n",
    "    tmp <- data.frame(tmpVcf[,c(1,2,4,5,7)],tmpGt,tumorID,info,func,callers,id,stringsAsFactors=FALSE)\n",
    "  } else {\n",
    "    tmp <- data.frame(tmpVcf[,c(1,2,4,5,7)],tmpGt,normal=NA,tumorID,info,func,callers,id,stringsAsFactors=FALSE)\n",
    "  }\n",
    "  colnames(tmp) <- c(\"CHROM\",\"POS\",\"REF\",\"ALT\",\"FILTER\",\"FORMAT\",\"Tumor\",\"Normal\",\"Tumor_ID\",\"snpEff\",\"snpEff_func\",\"caller\",\"id\")\n",
    "  rownames(tmp) <- NULL\n",
    "  return(tmp)\n",
    "}\n",
    "\n",
    "vcf <- lapply(filenames,function(x) vcfRead(x,vcfDir))\n",
    "vcf <- do.call(rbind,vcf)\n",
    "nrow(vcf) #306237"
   ]
  },
  {
   "cell_type": "code",
   "execution_count": 4,
   "metadata": {},
   "outputs": [
    {
     "data": {
      "text/plain": [
       "\n",
       " FALSE \n",
       "306237 "
      ]
     },
     "metadata": {},
     "output_type": "display_data"
    },
    {
     "data": {
      "text/plain": [
       "\n",
       " FALSE   TRUE \n",
       "302173   4064 "
      ]
     },
     "metadata": {},
     "output_type": "display_data"
    }
   ],
   "source": [
    "# CORRECT FOR NA ALT\n",
    "table(is.na(vcf$ALT))\n",
    "# vcf <- vcf[!is.na(vcf$ALT),]\n",
    "\n",
    "# CORRECT FOR MULTIPLE ALT\n",
    "table(grepl(\",\",vcf$ALT))\n",
    "tmp <- sapply(vcf$ALT,function(x) unlist(strsplit(x,\",\",fixed=TRUE))[1])\n",
    "vcf$ALT <- tmp\n",
    "\n",
    "# # CORRECT FOR NA LINES\n",
    "# sum(is.na(vcf))"
   ]
  },
  {
   "cell_type": "code",
   "execution_count": 5,
   "metadata": {},
   "outputs": [
    {
     "data": {
      "text/html": [
       "<style>\n",
       ".list-inline {list-style: none; margin:0; padding: 0}\n",
       ".list-inline>li {display: inline-block}\n",
       ".list-inline>li:not(:last-child)::after {content: \"\\00b7\"; padding: 0 .5ex}\n",
       "</style>\n",
       "<ol class=list-inline><li>'3_prime_UTR_variant'</li><li>'5_prime_UTR_premature_start_codon_gain_variant'</li><li>'5_prime_UTR_truncation'</li><li>'5_prime_UTR_variant'</li><li>'bidirectional_gene_fusion'</li><li>'conservative_inframe_deletion'</li><li>'conservative_inframe_insertion'</li><li>'disruptive_inframe_deletion'</li><li>'disruptive_inframe_insertion'</li><li>'downstream_gene_variant'</li><li>'exon_loss_variant'</li><li>'frameshift_variant'</li><li>'initiator_codon_variant'</li><li>'intergenic_region'</li><li>'intragenic_variant'</li><li>'intron_variant'</li><li>'missense_variant'</li><li>'non_coding_transcript_exon_variant'</li><li>'non_coding_transcript_variant'</li><li>'protein_protein_contact'</li><li>'sequence_feature'</li><li>'splice_acceptor_variant'</li><li>'splice_donor_variant'</li><li>'splice_region_variant'</li><li>'start_lost'</li><li>'stop_gained'</li><li>'stop_lost'</li><li>'stop_retained_variant'</li><li>'structural_interaction_variant'</li><li>'synonymous_variant'</li><li>'TF_binding_site_variant'</li><li>'TFBS_ablation'</li><li>'upstream_gene_variant'</li></ol>\n"
      ],
      "text/latex": [
       "\\begin{enumerate*}\n",
       "\\item '3\\_prime\\_UTR\\_variant'\n",
       "\\item '5\\_prime\\_UTR\\_premature\\_start\\_codon\\_gain\\_variant'\n",
       "\\item '5\\_prime\\_UTR\\_truncation'\n",
       "\\item '5\\_prime\\_UTR\\_variant'\n",
       "\\item 'bidirectional\\_gene\\_fusion'\n",
       "\\item 'conservative\\_inframe\\_deletion'\n",
       "\\item 'conservative\\_inframe\\_insertion'\n",
       "\\item 'disruptive\\_inframe\\_deletion'\n",
       "\\item 'disruptive\\_inframe\\_insertion'\n",
       "\\item 'downstream\\_gene\\_variant'\n",
       "\\item 'exon\\_loss\\_variant'\n",
       "\\item 'frameshift\\_variant'\n",
       "\\item 'initiator\\_codon\\_variant'\n",
       "\\item 'intergenic\\_region'\n",
       "\\item 'intragenic\\_variant'\n",
       "\\item 'intron\\_variant'\n",
       "\\item 'missense\\_variant'\n",
       "\\item 'non\\_coding\\_transcript\\_exon\\_variant'\n",
       "\\item 'non\\_coding\\_transcript\\_variant'\n",
       "\\item 'protein\\_protein\\_contact'\n",
       "\\item 'sequence\\_feature'\n",
       "\\item 'splice\\_acceptor\\_variant'\n",
       "\\item 'splice\\_donor\\_variant'\n",
       "\\item 'splice\\_region\\_variant'\n",
       "\\item 'start\\_lost'\n",
       "\\item 'stop\\_gained'\n",
       "\\item 'stop\\_lost'\n",
       "\\item 'stop\\_retained\\_variant'\n",
       "\\item 'structural\\_interaction\\_variant'\n",
       "\\item 'synonymous\\_variant'\n",
       "\\item 'TF\\_binding\\_site\\_variant'\n",
       "\\item 'TFBS\\_ablation'\n",
       "\\item 'upstream\\_gene\\_variant'\n",
       "\\end{enumerate*}\n"
      ],
      "text/markdown": [
       "1. '3_prime_UTR_variant'\n",
       "2. '5_prime_UTR_premature_start_codon_gain_variant'\n",
       "3. '5_prime_UTR_truncation'\n",
       "4. '5_prime_UTR_variant'\n",
       "5. 'bidirectional_gene_fusion'\n",
       "6. 'conservative_inframe_deletion'\n",
       "7. 'conservative_inframe_insertion'\n",
       "8. 'disruptive_inframe_deletion'\n",
       "9. 'disruptive_inframe_insertion'\n",
       "10. 'downstream_gene_variant'\n",
       "11. 'exon_loss_variant'\n",
       "12. 'frameshift_variant'\n",
       "13. 'initiator_codon_variant'\n",
       "14. 'intergenic_region'\n",
       "15. 'intragenic_variant'\n",
       "16. 'intron_variant'\n",
       "17. 'missense_variant'\n",
       "18. 'non_coding_transcript_exon_variant'\n",
       "19. 'non_coding_transcript_variant'\n",
       "20. 'protein_protein_contact'\n",
       "21. 'sequence_feature'\n",
       "22. 'splice_acceptor_variant'\n",
       "23. 'splice_donor_variant'\n",
       "24. 'splice_region_variant'\n",
       "25. 'start_lost'\n",
       "26. 'stop_gained'\n",
       "27. 'stop_lost'\n",
       "28. 'stop_retained_variant'\n",
       "29. 'structural_interaction_variant'\n",
       "30. 'synonymous_variant'\n",
       "31. 'TF_binding_site_variant'\n",
       "32. 'TFBS_ablation'\n",
       "33. 'upstream_gene_variant'\n",
       "\n",
       "\n"
      ],
      "text/plain": [
       " [1] \"3_prime_UTR_variant\"                           \n",
       " [2] \"5_prime_UTR_premature_start_codon_gain_variant\"\n",
       " [3] \"5_prime_UTR_truncation\"                        \n",
       " [4] \"5_prime_UTR_variant\"                           \n",
       " [5] \"bidirectional_gene_fusion\"                     \n",
       " [6] \"conservative_inframe_deletion\"                 \n",
       " [7] \"conservative_inframe_insertion\"                \n",
       " [8] \"disruptive_inframe_deletion\"                   \n",
       " [9] \"disruptive_inframe_insertion\"                  \n",
       "[10] \"downstream_gene_variant\"                       \n",
       "[11] \"exon_loss_variant\"                             \n",
       "[12] \"frameshift_variant\"                            \n",
       "[13] \"initiator_codon_variant\"                       \n",
       "[14] \"intergenic_region\"                             \n",
       "[15] \"intragenic_variant\"                            \n",
       "[16] \"intron_variant\"                                \n",
       "[17] \"missense_variant\"                              \n",
       "[18] \"non_coding_transcript_exon_variant\"            \n",
       "[19] \"non_coding_transcript_variant\"                 \n",
       "[20] \"protein_protein_contact\"                       \n",
       "[21] \"sequence_feature\"                              \n",
       "[22] \"splice_acceptor_variant\"                       \n",
       "[23] \"splice_donor_variant\"                          \n",
       "[24] \"splice_region_variant\"                         \n",
       "[25] \"start_lost\"                                    \n",
       "[26] \"stop_gained\"                                   \n",
       "[27] \"stop_lost\"                                     \n",
       "[28] \"stop_retained_variant\"                         \n",
       "[29] \"structural_interaction_variant\"                \n",
       "[30] \"synonymous_variant\"                            \n",
       "[31] \"TF_binding_site_variant\"                       \n",
       "[32] \"TFBS_ablation\"                                 \n",
       "[33] \"upstream_gene_variant\"                         "
      ]
     },
     "metadata": {},
     "output_type": "display_data"
    },
    {
     "data": {
      "text/html": [
       "<style>\n",
       ".list-inline {list-style: none; margin:0; padding: 0}\n",
       ".list-inline>li {display: inline-block}\n",
       ".list-inline>li:not(:last-child)::after {content: \"\\00b7\"; padding: 0 .5ex}\n",
       "</style>\n",
       "<ol class=list-inline><li>'downstream_gene_variant'</li><li>'intron_variant'</li><li>'non_coding_transcript_exon_variant'</li><li>'upstream_gene_variant'</li><li>'intergenic_region'</li><li>'sequence_feature'</li><li>'TF_binding_site_variant'</li><li>'synonymous_variant'</li><li>'intragenic_variant'</li><li>'non_coding_transcript_variant'</li><li>'TFBS_ablation'</li><li>'structural_interaction_variant'</li><li>'protein_protein_contact'</li></ol>\n"
      ],
      "text/latex": [
       "\\begin{enumerate*}\n",
       "\\item 'downstream\\_gene\\_variant'\n",
       "\\item 'intron\\_variant'\n",
       "\\item 'non\\_coding\\_transcript\\_exon\\_variant'\n",
       "\\item 'upstream\\_gene\\_variant'\n",
       "\\item 'intergenic\\_region'\n",
       "\\item 'sequence\\_feature'\n",
       "\\item 'TF\\_binding\\_site\\_variant'\n",
       "\\item 'synonymous\\_variant'\n",
       "\\item 'intragenic\\_variant'\n",
       "\\item 'non\\_coding\\_transcript\\_variant'\n",
       "\\item 'TFBS\\_ablation'\n",
       "\\item 'structural\\_interaction\\_variant'\n",
       "\\item 'protein\\_protein\\_contact'\n",
       "\\end{enumerate*}\n"
      ],
      "text/markdown": [
       "1. 'downstream_gene_variant'\n",
       "2. 'intron_variant'\n",
       "3. 'non_coding_transcript_exon_variant'\n",
       "4. 'upstream_gene_variant'\n",
       "5. 'intergenic_region'\n",
       "6. 'sequence_feature'\n",
       "7. 'TF_binding_site_variant'\n",
       "8. 'synonymous_variant'\n",
       "9. 'intragenic_variant'\n",
       "10. 'non_coding_transcript_variant'\n",
       "11. 'TFBS_ablation'\n",
       "12. 'structural_interaction_variant'\n",
       "13. 'protein_protein_contact'\n",
       "\n",
       "\n"
      ],
      "text/plain": [
       " [1] \"downstream_gene_variant\"            \"intron_variant\"                    \n",
       " [3] \"non_coding_transcript_exon_variant\" \"upstream_gene_variant\"             \n",
       " [5] \"intergenic_region\"                  \"sequence_feature\"                  \n",
       " [7] \"TF_binding_site_variant\"            \"synonymous_variant\"                \n",
       " [9] \"intragenic_variant\"                 \"non_coding_transcript_variant\"     \n",
       "[11] \"TFBS_ablation\"                      \"structural_interaction_variant\"    \n",
       "[13] \"protein_protein_contact\"           "
      ]
     },
     "metadata": {},
     "output_type": "display_data"
    },
    {
     "data": {
      "text/html": [
       "'gene_fusion'"
      ],
      "text/latex": [
       "'gene\\_fusion'"
      ],
      "text/markdown": [
       "'gene_fusion'"
      ],
      "text/plain": [
       "[1] \"gene_fusion\""
      ]
     },
     "metadata": {},
     "output_type": "display_data"
    },
    {
     "data": {
      "text/html": [
       "0"
      ],
      "text/latex": [
       "0"
      ],
      "text/markdown": [
       "0"
      ],
      "text/plain": [
       "[1] 0"
      ]
     },
     "metadata": {},
     "output_type": "display_data"
    },
    {
     "data": {
      "text/html": [
       "306237"
      ],
      "text/latex": [
       "306237"
      ],
      "text/markdown": [
       "306237"
      ],
      "text/plain": [
       "[1] 306237"
      ]
     },
     "metadata": {},
     "output_type": "display_data"
    },
    {
     "data": {
      "text/html": [
       "36938"
      ],
      "text/latex": [
       "36938"
      ],
      "text/markdown": [
       "36938"
      ],
      "text/plain": [
       "[1] 36938"
      ]
     },
     "metadata": {},
     "output_type": "display_data"
    },
    {
     "data": {
      "text/plain": [
       "\n",
       "   AT4415     A1783     C0334 s3_7299_D     C8448     A9155 s1_3076_D s1_3295_D \n",
       "     1441      1545      1599      1692      1740      1767      1789      1807 \n",
       "s2_6088_D     C0288     C1572    AT2550    AT2822 s2_8811_D s3_5832_D     A9878 \n",
       "     1807      1813      1856      1880      1947      1958      1962      1993 \n",
       "s3_7979_D s2_6339_D    AT4808 s1_8588_D \n",
       "     2073      2076      2082      2111 "
      ]
     },
     "metadata": {},
     "output_type": "display_data"
    },
    {
     "data": {
      "text/plain": [
       "\n",
       "    1     2     3     4     5     6 \n",
       "29690  3753   704   328   438  2025 "
      ]
     },
     "metadata": {},
     "output_type": "display_data"
    },
    {
     "name": "stderr",
     "output_type": "stream",
     "text": [
      "Warning message in gzfile(file, \"wb\"):\n",
      "“cannot open compressed file 'Analysis/vcf.rda', probable reason 'Permission denied'”\n"
     ]
    },
    {
     "ename": "ERROR",
     "evalue": "Error in gzfile(file, \"wb\"): cannot open the connection\n",
     "output_type": "error",
     "traceback": [
      "Error in gzfile(file, \"wb\"): cannot open the connection\nTraceback:\n",
      "1. save(vcf, file = \"Analysis/vcf.rda\")",
      "2. gzfile(file, \"wb\")"
     ]
    }
   ],
   "source": [
    "# SELECT CODING/SPLICING\n",
    "tmp <- unique(vcf$snpEff_func)\n",
    "tmp <- unique(unlist(sapply(tmp,function(x) unlist(strsplit(x,\",\")))))\n",
    "tmp <- unique(unlist(sapply(tmp,function(x) unlist(strsplit(x,\"&\")))))\n",
    "tmp <- tmp[!grepl(\"ENS\",tmp)]\n",
    "tmp <- tmp[!grepl(\"=\",tmp)]\n",
    "sort(tmp)\n",
    "sel <- c(\"5_prime_UTR_premature_start_codon_gain_variant\",\"5_prime_UTR_truncation\", #NEW\n",
    "         \"3_prime_UTR_variant\", \"5_prime_UTR_variant\", # Added\n",
    "         \"bidirectional_gene_fusion\",\"conservative_inframe_deletion\",\"conservative_inframe_insertion\",\n",
    "         \"disruptive_inframe_deletion\",\"disruptive_inframe_insertion\",\n",
    "         \"exon_loss_variant\",\"initiator_codon_variant\",\"gene_fusion\",\n",
    "         \"frameshift_variant\",\"missense_variant\",\"splice_acceptor_variant\",\n",
    "         \"splice_donor_variant\",\"splice_region_variant\",\"start_lost\",\"stop_gained\",\n",
    "         \"stop_lost\",\"stop_retained_variant\")\n",
    "setdiff(tmp,sel)\n",
    "setdiff(sel,tmp)\n",
    "sel <- sapply(sel,function(x) grep(x,vcf$snpEff_func))\n",
    "sel <- unique(unlist(sel))\n",
    "sel <- sort(sel)\n",
    "sum(is.na(sel))\n",
    "nrow(vcf) #227168\n",
    "rownames(vcf) <- NULL\n",
    "length(sel) #36938\n",
    "vcf <- vcf[sel,]\n",
    "sort(table(vcf$Tumor_ID))\n",
    "\n",
    "callerN <- sapply(vcf$caller,function(x) length(unlist(strsplit(x,\",\",fixed=TRUE))))\n",
    "callerN <- unname(callerN)\n",
    "vcf <- data.frame(vcf,callerN,stringsAsFactors = FALSE)\n",
    "table(vcf$callerN)\n",
    "#   1     2     3     4     5     6 \n",
    "# 29690  3753   704   328   438  2025  \n",
    "rownames(vcf) <- NULL\n",
    "#----------------------------------------------\n",
    "\n",
    "save(vcf,file = \"Analysis/vcf.rda\")"
   ]
  },
  {
   "cell_type": "code",
   "execution_count": null,
   "metadata": {},
   "outputs": [],
   "source": [
    "# COUNTS and ALLELE FREQUENCY -----------------\n",
    "\n",
    "countsVcf <- function(vcf,i){\n",
    "  Tmp <- rep(NA,4)\n",
    "  names(Tmp) <- c(\"t_ref_count\",\"t_alt_count\",\"n_ref_count\",\"n_alt_count\")\n",
    "  vcfLine <- as.character(vcf[i,])\n",
    "  names(vcfLine) <- colnames(vcf)\n",
    "  caller <- unlist(strsplit(vcfLine[\"caller\"],\",\",fixed=TRUE))[1]\n",
    "  if(caller==\"varscan\"){\n",
    "    tmp <- unlist(strsplit(vcfLine[\"Tumor\"],\":\"))\n",
    "    names(tmp) <- unlist(strsplit(vcfLine[\"FORMAT\"],\":\"))\n",
    "    Tmp[\"t_alt_count\"] <- as.numeric(tmp[\"AD\"])\n",
    "    Tmp[\"t_ref_count\"] <- as.numeric(tmp[\"RD\"])\n",
    "    tmp <- unlist(strsplit(vcfLine[\"Normal\"],\":\"))\n",
    "    names(tmp) <- unlist(strsplit(vcfLine[\"FORMAT\"],\":\"))\n",
    "    Tmp[\"n_alt_count\"] <- as.numeric(tmp[\"AD\"])\n",
    "    Tmp[\"n_ref_count\"] <- as.numeric(tmp[\"RD\"])\n",
    "  } else {\n",
    "    tmp <- unlist(strsplit(vcfLine[\"Tumor\"],\":\"))\n",
    "    names(tmp) <- unlist(strsplit(vcfLine[\"FORMAT\"],\":\"))\n",
    "    if(tmp[\"AD\"]!=\".\") Tmp[c(\"t_ref_count\",\"t_alt_count\")] <- as.numeric(unlist(strsplit(tmp[\"AD\"],\",\"))[1:2])\n",
    "    if(!is.na(vcfLine[\"Normal\"])) {\n",
    "      tmp <- unlist(strsplit(vcfLine[\"Normal\"],\":\"))\n",
    "      names(tmp) <- unlist(strsplit(vcfLine[\"FORMAT\"],\":\"))[1:length(tmp)]\n",
    "      if(tmp[\"AD\"]!=\".\") Tmp[c(\"n_ref_count\",\"n_alt_count\")] <- as.numeric(unlist(strsplit(tmp[\"AD\"],\",\"))[1:2])\n",
    "    }\n",
    "  }\n",
    "  return(Tmp)\n",
    "}\n",
    "\n",
    "cl <- makePSOCKcluster(60,outfile=\"\")\n",
    "registerDoParallel(cl)\n",
    "tmp <- foreach(i = 1:nrow(vcf)) %dopar% {\n",
    "  tmp <- countsVcf(vcf,i)\n",
    "  return(tmp)\n",
    "}\n",
    "stopCluster(cl)\n",
    "\n",
    "tmp <- do.call(rbind,tmp)\n",
    "dim(tmp) #36938     4\n",
    "\n",
    "counts <- cbind(tmp[,1:2],NA,NA,tmp[,3:4],NA,NA)\n",
    "colnames(counts) <- c(\"t_ref_count\",\"t_alt_count\",\"t_depth\",\"t_vaf\",\"n_ref_count\",\"n_alt_count\",\"n_depth\",\"n_vaf\")\n",
    "counts[,\"t_depth\"] <- counts[,\"t_alt_count\"] + counts[,\"t_ref_count\"]\n",
    "counts[,\"t_vaf\"] <- round(counts[,\"t_alt_count\"]/counts[,\"t_depth\"],2)\n",
    "counts[,\"n_depth\"] <- counts[,\"n_alt_count\"] + counts[,\"n_ref_count\"]\n",
    "counts[,\"n_vaf\"] <- round(counts[,\"n_alt_count\"]/counts[,\"n_depth\"],2)\n",
    "rownames(counts) <- NULL\n",
    "\n",
    "View(counts[sample(1:nrow(counts),100),])\n",
    "\n",
    "vcf <- data.frame(vcf, counts, stringsAsFactors = FALSE)\n",
    "\n",
    "table(cond <- is.na(vcf$n_depth)&!is.na(vcf$Normal))\n",
    "# FALSE  TRUE \n",
    "# 27894  9044 \n",
    "# table(cond <- is.na(vcf$n_depth))\n",
    "\n",
    "tmp <- vcf[cond,]\n",
    "\n",
    "# table(tmp$caller)\n",
    "# freebayes \n",
    "# 9044\n",
    "\n",
    "vcf <- vcf[!cond,]\n",
    "\n",
    "rownames(vcf) <- NULL\n",
    "nrow(vcf) #27894\n",
    "rm(counts)\n",
    "\n",
    "#----------------------------------------------\n",
    "# save(vcf,file = \"Analysis/vcf.rda\")"
   ]
  }
 ],
 "metadata": {
  "kernelspec": {
   "display_name": "R",
   "language": "R",
   "name": "ir"
  },
  "language_info": {
   "codemirror_mode": "r",
   "file_extension": ".r",
   "mimetype": "text/x-r-source",
   "name": "R",
   "pygments_lexer": "r",
   "version": "3.4.4"
  },
  "widgets": {
   "application/vnd.jupyter.widget-state+json": {
    "state": {},
    "version_major": 2,
    "version_minor": 0
   }
  }
 },
 "nbformat": 4,
 "nbformat_minor": 4
}
