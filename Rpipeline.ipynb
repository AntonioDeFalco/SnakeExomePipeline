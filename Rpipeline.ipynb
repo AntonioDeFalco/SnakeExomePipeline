{
 "cells": [
  {
   "cell_type": "code",
   "execution_count": 6,
   "metadata": {},
   "outputs": [
    {
     "name": "stdout",
     "output_type": "stream",
     "text": [
      "The rpy2.ipython extension is already loaded. To reload it, use:\n",
      "  %reload_ext rpy2.ipython\n"
     ]
    }
   ],
   "source": [
    "%load_ext rpy2.ipython"
   ]
  },
  {
   "cell_type": "code",
   "execution_count": 11,
   "metadata": {},
   "outputs": [],
   "source": [
    "import os\n",
    "homeDir = os.getcwd()+\"/\"\n",
    "fileDir = homeDir+\"Analysis/\"\n",
    "workDir = \"/storage/gluster/vol1/data/PUBLIC/SCAMBIO/ABT414_WES_Analysis/\""
   ]
  },
  {
   "cell_type": "code",
   "execution_count": 13,
   "metadata": {},
   "outputs": [
    {
     "name": "stderr",
     "output_type": "stream",
     "text": [
      "R[write to console]: \n",
      "   *****       ***   vcfR   ***       *****\n",
      "   This is vcfR 1.12.0 \n",
      "     browseVignettes('vcfR') # Documentation\n",
      "     citation('vcfR') # Citation\n",
      "   *****       *****      *****       *****\n",
      "\n",
      "\n",
      "R[write to console]: Loading required package: foreach\n",
      "\n",
      "R[write to console]: Loading required package: iterators\n",
      "\n",
      "R[write to console]: Loading required package: parallel\n",
      "\n"
     ]
    },
    {
     "name": "stdout",
     "output_type": "stream",
     "text": [
      "[1] 306237\n"
     ]
    }
   ],
   "source": [
    "%%R -i fileDir -i workDir \n",
    "#devtools::install_github(repo=\"knausb/vcfR\")\n",
    "#install.packages('doParallel')\n",
    "library(vcfR)\n",
    "library(doParallel)\n",
    "#setwd(\"/storage/gluster/vol1/data/PUBLIC/SCAMBIO/ABT414_WES_Analysis/\")\n",
    "dir.create(fileDir)\n",
    "setwd(workDir)\n",
    "\n",
    "# VCF-------------------\n",
    "vcfDir <- \"ensemble/vcf/\"\n",
    "filenames <- dir(vcfDir,\"ensemble.snpEff.vcf.gz\")\n",
    "#filenames <- filenames[!grepl(\".tbi\",filenames)]\n",
    "\n",
    "vcfRead <- function(filename,vcfDir){\n",
    "  tumorID <- sub(\"-ensemble.snpEff.vcf.gz\",\"\",filename)\n",
    "  tmp <- vcfR::read.vcfR(paste0(vcfDir,filename), verbose=FALSE)\n",
    "  tmpVcf <- tmp@fix\n",
    "  tmpGt <- tmp@gt\n",
    "  if(length(colnames(tmpGt))==3){\n",
    "    if(!grepl(\"_N\\\\b\",colnames(tmpGt)[3])){ #CHECK THE NAME OF TUMOR AND NORMAL SAMPLES IN VCF!\n",
    "      tmpGt <- tmpGt[,c(1,3,2)]\n",
    "    }\n",
    "  }\n",
    "  info <- tmpVcf[,\"INFO\"]\n",
    "  func <- sapply(info,function(x){\n",
    "    temp <- unlist(strsplit(x,\",\"))\n",
    "    paste0(unique(na.omit(unlist(sapply(temp,function(x) unlist(strsplit(x,\"|\",fixed=TRUE))[2])))),collapse=\",\")\n",
    "  })\n",
    "  func <- unname(func)\n",
    "  callers <- sapply(info,function(x){\n",
    "    temp <- unlist(strsplit(x,\";\"))\n",
    "    sub(\"CALLERS=\",\"\",temp[grepl(\"CALLERS=\",temp)])\n",
    "  })\n",
    "  callers <- unname(callers)\n",
    "  id <- paste0(tumorID,\"-\",tmpVcf[,1],\":\",tmpVcf[,2])\n",
    "  if(length(colnames(tmpGt))==3){\n",
    "    tmp <- data.frame(tmpVcf[,c(1,2,4,5,7)],tmpGt,tumorID,info,func,callers,id,stringsAsFactors=FALSE)\n",
    "  } else {\n",
    "    tmp <- data.frame(tmpVcf[,c(1,2,4,5,7)],tmpGt,normal=NA,tumorID,info,func,callers,id,stringsAsFactors=FALSE)\n",
    "  }\n",
    "  colnames(tmp) <- c(\"CHROM\",\"POS\",\"REF\",\"ALT\",\"FILTER\",\"FORMAT\",\"Tumor\",\"Normal\",\"Tumor_ID\",\"snpEff\",\"snpEff_func\",\"caller\",\"id\")\n",
    "  rownames(tmp) <- NULL\n",
    "  return(tmp)\n",
    "}\n",
    "\n",
    "vcf <- lapply(filenames,function(x) vcfRead(x,vcfDir))\n",
    "vcf <- do.call(rbind,vcf)\n",
    "nrow(vcf) #306237\n"
   ]
  },
  {
   "cell_type": "markdown",
   "metadata": {},
   "source": [
    "## CORRECT VCF"
   ]
  },
  {
   "cell_type": "code",
   "execution_count": 14,
   "metadata": {},
   "outputs": [],
   "source": [
    "%%R \n",
    "# CORRECT FOR NA ALT\n",
    "table(is.na(vcf$ALT))\n",
    "# vcf <- vcf[!is.na(vcf$ALT),]\n",
    "\n",
    "# CORRECT FOR MULTIPLE ALT\n",
    "table(grepl(\",\",vcf$ALT))\n",
    "tmp <- sapply(vcf$ALT,function(x) unlist(strsplit(x,\",\",fixed=TRUE))[1])\n",
    "vcf$ALT <- tmp\n",
    "\n",
    "# # CORRECT FOR NA LINES\n",
    "# sum(is.na(vcf))"
   ]
  },
  {
   "cell_type": "markdown",
   "metadata": {},
   "source": [
    "## SELECT CODING/SPLICING"
   ]
  },
  {
   "cell_type": "code",
   "execution_count": 15,
   "metadata": {},
   "outputs": [],
   "source": [
    "%%R \n",
    "# SELECT CODING/SPLICING\n",
    "tmp <- unique(vcf$snpEff_func)\n",
    "tmp <- unique(unlist(sapply(tmp,function(x) unlist(strsplit(x,\",\")))))\n",
    "tmp <- unique(unlist(sapply(tmp,function(x) unlist(strsplit(x,\"&\")))))\n",
    "tmp <- tmp[!grepl(\"ENS\",tmp)]\n",
    "tmp <- tmp[!grepl(\"=\",tmp)]\n",
    "sort(tmp)\n",
    "sel <- c(\"5_prime_UTR_premature_start_codon_gain_variant\",\"5_prime_UTR_truncation\", #NEW\n",
    "         \"3_prime_UTR_variant\", \"5_prime_UTR_variant\", # Added\n",
    "         \"bidirectional_gene_fusion\",\"conservative_inframe_deletion\",\"conservative_inframe_insertion\",\n",
    "         \"disruptive_inframe_deletion\",\"disruptive_inframe_insertion\",\n",
    "         \"exon_loss_variant\",\"initiator_codon_variant\",\"gene_fusion\",\n",
    "         \"frameshift_variant\",\"missense_variant\",\"splice_acceptor_variant\",\n",
    "         \"splice_donor_variant\",\"splice_region_variant\",\"start_lost\",\"stop_gained\",\n",
    "         \"stop_lost\",\"stop_retained_variant\")\n",
    "setdiff(tmp,sel)\n",
    "setdiff(sel,tmp)\n",
    "sel <- sapply(sel,function(x) grep(x,vcf$snpEff_func))\n",
    "sel <- unique(unlist(sel))\n",
    "sel <- sort(sel)\n",
    "sum(is.na(sel))\n",
    "nrow(vcf) #227168\n",
    "rownames(vcf) <- NULL\n",
    "length(sel) #36938\n",
    "vcf <- vcf[sel,]\n",
    "sort(table(vcf$Tumor_ID))\n",
    "\n",
    "callerN <- sapply(vcf$caller,function(x) length(unlist(strsplit(x,\",\",fixed=TRUE))))\n",
    "callerN <- unname(callerN)\n",
    "vcf <- data.frame(vcf,callerN,stringsAsFactors = FALSE)\n",
    "table(vcf$callerN)\n",
    "#   1     2     3     4     5     6 \n",
    "# 29690  3753   704   328   438  2025  \n",
    "rownames(vcf) <- NULL\n",
    "#----------------------------------------------\n",
    "\n",
    "save(vcf,file = paste(fileDir,\"vcf.rda\",sep=\"\"))"
   ]
  },
  {
   "cell_type": "markdown",
   "metadata": {},
   "source": [
    "## COUNTS and ALLELE FREQUENCY"
   ]
  },
  {
   "cell_type": "code",
   "execution_count": 18,
   "metadata": {},
   "outputs": [],
   "source": [
    "%%R \n",
    "# COUNTS and ALLELE FREQUENCY -----------------\n",
    "\n",
    "countsVcf <- function(vcf,i){\n",
    "  Tmp <- rep(NA,4)\n",
    "  names(Tmp) <- c(\"t_ref_count\",\"t_alt_count\",\"n_ref_count\",\"n_alt_count\")\n",
    "  vcfLine <- as.character(vcf[i,])\n",
    "  names(vcfLine) <- colnames(vcf)\n",
    "  caller <- unlist(strsplit(vcfLine[\"caller\"],\",\",fixed=TRUE))[1]\n",
    "  if(caller==\"varscan\"){\n",
    "    tmp <- unlist(strsplit(vcfLine[\"Tumor\"],\":\"))\n",
    "    names(tmp) <- unlist(strsplit(vcfLine[\"FORMAT\"],\":\"))\n",
    "    Tmp[\"t_alt_count\"] <- as.numeric(tmp[\"AD\"])\n",
    "    Tmp[\"t_ref_count\"] <- as.numeric(tmp[\"RD\"])\n",
    "    tmp <- unlist(strsplit(vcfLine[\"Normal\"],\":\"))\n",
    "    names(tmp) <- unlist(strsplit(vcfLine[\"FORMAT\"],\":\"))\n",
    "    Tmp[\"n_alt_count\"] <- as.numeric(tmp[\"AD\"])\n",
    "    Tmp[\"n_ref_count\"] <- as.numeric(tmp[\"RD\"])\n",
    "  } else {\n",
    "    tmp <- unlist(strsplit(vcfLine[\"Tumor\"],\":\"))\n",
    "    names(tmp) <- unlist(strsplit(vcfLine[\"FORMAT\"],\":\"))\n",
    "    if(tmp[\"AD\"]!=\".\") Tmp[c(\"t_ref_count\",\"t_alt_count\")] <- as.numeric(unlist(strsplit(tmp[\"AD\"],\",\"))[1:2])\n",
    "    if(!is.na(vcfLine[\"Normal\"])) {\n",
    "      tmp <- unlist(strsplit(vcfLine[\"Normal\"],\":\"))\n",
    "      names(tmp) <- unlist(strsplit(vcfLine[\"FORMAT\"],\":\"))[1:length(tmp)]\n",
    "      if(tmp[\"AD\"]!=\".\") Tmp[c(\"n_ref_count\",\"n_alt_count\")] <- as.numeric(unlist(strsplit(tmp[\"AD\"],\",\"))[1:2])\n",
    "    }\n",
    "  }\n",
    "  return(Tmp)\n",
    "}\n",
    "\n",
    "cl <- makePSOCKcluster(60,outfile=\"\")\n",
    "registerDoParallel(cl)\n",
    "tmp <- foreach(i = 1:nrow(vcf)) %dopar% {\n",
    "  tmp <- countsVcf(vcf,i)\n",
    "  return(tmp)\n",
    "}\n",
    "stopCluster(cl)\n",
    "\n",
    "tmp <- do.call(rbind,tmp)\n",
    "dim(tmp) #36938     4\n",
    "\n",
    "counts <- cbind(tmp[,1:2],NA,NA,tmp[,3:4],NA,NA)\n",
    "colnames(counts) <- c(\"t_ref_count\",\"t_alt_count\",\"t_depth\",\"t_vaf\",\"n_ref_count\",\"n_alt_count\",\"n_depth\",\"n_vaf\")\n",
    "counts[,\"t_depth\"] <- counts[,\"t_alt_count\"] + counts[,\"t_ref_count\"]\n",
    "counts[,\"t_vaf\"] <- round(counts[,\"t_alt_count\"]/counts[,\"t_depth\"],2)\n",
    "counts[,\"n_depth\"] <- counts[,\"n_alt_count\"] + counts[,\"n_ref_count\"]\n",
    "counts[,\"n_vaf\"] <- round(counts[,\"n_alt_count\"]/counts[,\"n_depth\"],2)\n",
    "rownames(counts) <- NULL\n",
    "\n",
    "#View(counts[sample(1:nrow(counts),100),])\n",
    "\n",
    "vcf <- data.frame(vcf, counts, stringsAsFactors = FALSE)\n",
    "\n",
    "table(cond <- is.na(vcf$n_depth)&!is.na(vcf$Normal))\n",
    "# FALSE  TRUE \n",
    "# 27894  9044 \n",
    "# table(cond <- is.na(vcf$n_depth))\n",
    "\n",
    "tmp <- vcf[cond,]\n",
    "\n",
    "# table(tmp$caller)\n",
    "# freebayes \n",
    "# 9044\n",
    "\n",
    "vcf <- vcf[!cond,]\n",
    "\n",
    "rownames(vcf) <- NULL\n",
    "nrow(vcf) #27894\n",
    "rm(counts)\n",
    "\n",
    "#----------------------------------------------\n",
    "# save(vcf,file = \"Analysis/vcf.rda\")"
   ]
  },
  {
   "cell_type": "markdown",
   "metadata": {},
   "source": [
    "## FP FILTER"
   ]
  },
  {
   "cell_type": "code",
   "execution_count": 19,
   "metadata": {},
   "outputs": [],
   "source": [
    "fpfilterDir = fileDir + \"fpfilter/\""
   ]
  },
  {
   "cell_type": "code",
   "execution_count": 20,
   "metadata": {},
   "outputs": [
    {
     "name": "stdout",
     "output_type": "stream",
     "text": [
      "[1] \"A1783\"\n",
      "[1] \"A9155\"\n",
      "[1] \"A9878\"\n",
      "[1] \"AT2550\"\n",
      "[1] \"AT2822\"\n",
      "[1] \"AT4415\"\n",
      "[1] \"AT4808\"\n",
      "[1] \"C0288\"\n",
      "[1] \"C0334\"\n",
      "[1] \"C1572\"\n",
      "[1] \"C8448\"\n",
      "[1] \"s1_3076_D\"\n",
      "[1] \"s1_3295_D\"\n",
      "[1] \"s1_8588_D\"\n",
      "[1] \"s2_6088_D\"\n",
      "[1] \"s2_6339_D\"\n",
      "[1] \"s2_8811_D\"\n",
      "[1] \"s3_5832_D\"\n",
      "[1] \"s3_7299_D\"\n",
      "[1] \"s3_7979_D\"\n",
      "[1] 1\n"
     ]
    },
    {
     "name": "stderr",
     "output_type": "stream",
     "text": [
      "R[write to console]: Error in file(con, \"r\") : cannot open the connection\n",
      "\n",
      "R[write to console]: In addition: \n",
      "R[write to console]: Warning message:\n",
      "\n",
      "R[write to console]: In file(con, \"r\") :\n",
      "R[write to console]:  cannot open file 'NA': No such file or directory\n",
      "\n"
     ]
    },
    {
     "name": "stdout",
     "output_type": "stream",
     "text": [
      "\n",
      "Error in file(con, \"r\") : cannot open the connection\n"
     ]
    }
   ],
   "source": [
    "%%R -i fpfilterDir\n",
    "# FP FILTER\n",
    "#system(\"mkdir Analysis/fpfilter\")\n",
    "#setwd(\"Analysis/fpfilter/\")\n",
    "dir.create(fpfilterDir)\n",
    "setwd(fpfilterDir)\n",
    "\n",
    "vcf <- data.frame(vcf,fpFid=\"\",stringsAsFactors=FALSE)\n",
    "patients <- unique(vcf$Tumor_ID)\n",
    "for(i in 1:length(patients)){\n",
    "  print(patients[i])\n",
    "  name <- patients[i]\n",
    "  var <- vcf[vcf$Tumor_ID==name,1:4]\n",
    "  var[nchar(var$ALT)>1,\"ALT\"] <- paste0(\"+\",substring(var[nchar(var$ALT)>1,\"ALT\"],2))\n",
    "  var[nchar(var$REF)>1,\"POS\"] <- as.numeric(var[nchar(var$REF)>1,\"POS\"])+1\n",
    "  var[nchar(var$REF)>1,\"ALT\"] <- paste0(\"-\",substring(var[nchar(var$REF)>1,\"REF\"],2))\n",
    "  var[nchar(var$REF)>1,\"REF\"] <- substring(var[nchar(var$REF)>1,\"REF\"],2,2)\n",
    "  vcf[vcf$Tumor_ID==name,\"fpFid\"] <- paste0(name,\"-\",var[,1],\":\",var[,2],\"-\",var[,4])\n",
    "  write.table(var,file=paste0(name,\".var\"),sep=\"\\t\",quote=FALSE,row.names=FALSE,col.names=FALSE)\n",
    "  # n <- ceiling(nrow(var)/60)\n",
    "  # system(paste0(\"split -l \",n,\" --additional-suffix .var \",paste0(name,\".var\")))\n",
    "  loc <- paste(var$CHROM,var$POS,var$POS)\n",
    "  write.table(loc,file=paste0(name,\".loc\"),quote=FALSE,row.names=FALSE,col.names=FALSE)\n",
    "  # system(paste0(\"split -l \",n,\" --additional-suffix .loc \",paste0(name,\".loc\")))\n",
    "}\n",
    "\n",
    "# UNIX \n",
    "# bamreadcount.sh\n",
    "# fpfilter.sh\n",
    "\n",
    "failfiles <- dir(path=\".\",pattern = \"fpfilter.fail\")\n",
    "FPfail <- NULL\n",
    "for(i in 1:length(failfiles)){\n",
    "  print(i)\n",
    "  patient <- unlist(strsplit(failfiles[i],\".\",fixed=TRUE))[1]\n",
    "  tmp <- readLines(failfiles[i])\n",
    "  tmp <- sapply(tmp,function(x){\n",
    "    Tmp <- unlist(strsplit(x,\"\\t\"))\n",
    "    length(Tmp) <- 9\n",
    "    Tmp\n",
    "  })\n",
    "  tmp <- t(tmp)\n",
    "  failID <- paste0(patient,\"-\",tmp[,1],\":\",tmp[,2],\"-\",tmp[,4])\n",
    "  tmp <- cbind(failID,tmp[,9])\n",
    "  rownames(tmp) <- failID\n",
    "  FPfail <- rbind(FPfail,tmp)\n",
    "}\n",
    "\n",
    "passfiles <- dir(path=\".\",pattern = \"fpfilter.pass\")\n",
    "FPpass <- NULL\n",
    "for(i in 1:length(passfiles)){\n",
    "  print(i)\n",
    "  patient <- unlist(strsplit(passfiles[i],\".\",fixed=TRUE))[1]\n",
    "  tmp <- read.delim(passfiles[i],header=FALSE,as.is=TRUE)\n",
    "  tmp <- paste0(patient,\"-\",tmp[,1],\":\",tmp[,2],\"-\",tmp[,4])\n",
    "  FPpass <- c(FPpass,tmp)\n",
    "}\n",
    "\n",
    "length(FPpass) #8967\n",
    "nrow(FPfail) #18886\n",
    "\n",
    "length(FPpass)+nrow(FPfail) #27853\n",
    "\n",
    "all <- c(FPpass,FPfail[,1])\n",
    "table(vcf$fpFid%in%all)\n",
    "View(vcf[!vcf$fpFid%in%all,])\n",
    "\n",
    "vcf <- data.frame(vcf,FPfilter=\".\",FPfail=\".\",stringsAsFactors=FALSE)\n",
    "vcf[vcf$fpFid%in%FPpass,\"FPfilter\"] <- \"PASS\"\n",
    "vcf[vcf$fpFid%in%rownames(FPfail),\"FPfilter\"] <- \"FAIL\"\n",
    "vcf[vcf$FPfilter==\"FAIL\",\"FPfail\"] <- FPfail[vcf[vcf$FPfilter==\"FAIL\",\"fpFid\"],2]\n",
    "\n",
    "vcf[is.na(vcf$FPfail),\"FPfail\"] <- \"\"\n",
    "vcf[vcf$FPfail==\"\",\"FPfilter\"] <- \"no_readcounts\" # alt absent in the bam readcount file\n",
    "vcf[vcf$FPfail==\"\",\"FPfail\"] <- \".\"\n",
    "vcf[vcf$FPfilter==\".\",\"FPfilter\"] <- \"no_readcounts\"# alt = 0 in the bam readcount file\n",
    "table(vcf$FPfilter)\n",
    "# FAIL no_readcounts          PASS \n",
    "# 15577          3350          8967  \n",
    "rm(FPpass,FPfail,all)"
   ]
  },
  {
   "cell_type": "code",
   "execution_count": null,
   "metadata": {},
   "outputs": [],
   "source": []
  }
 ],
 "metadata": {
  "kernelspec": {
   "display_name": "Python 3",
   "language": "python",
   "name": "python3"
  },
  "language_info": {
   "codemirror_mode": {
    "name": "ipython",
    "version": 3
   },
   "file_extension": ".py",
   "mimetype": "text/x-python",
   "name": "python",
   "nbconvert_exporter": "python",
   "pygments_lexer": "ipython3",
   "version": "3.6.3"
  },
  "widgets": {
   "application/vnd.jupyter.widget-state+json": {
    "state": {},
    "version_major": 2,
    "version_minor": 0
   }
  }
 },
 "nbformat": 4,
 "nbformat_minor": 4
}
